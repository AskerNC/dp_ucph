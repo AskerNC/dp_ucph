{
 "cells": [
  {
   "cell_type": "code",
   "execution_count": 2,
   "metadata": {},
   "outputs": [],
   "source": [
    "import numpy as np\n",
    "import matplotlib.pyplot as plt\n",
    "from matplotlib import cm # for colormaps\n",
    "import seaborn as sns"
   ]
  },
  {
   "cell_type": "code",
   "execution_count": 3,
   "metadata": {},
   "outputs": [],
   "source": [
    "%load_ext autoreload\n",
    "%autoreload 2\n",
    "\n",
    "import spp\n",
    "import solveDP"
   ]
  },
  {
   "cell_type": "code",
   "execution_count": 4,
   "metadata": {},
   "outputs": [],
   "source": [
    "ssp_dict = {'k0': 0,'k1':5,\n",
    "        'N':200,\n",
    "        'beta':0.99\n",
    "        }\n",
    "\n",
    "ap_dict = {\n",
    "        'printfxp'  :1,\n",
    "        'sa_max'    :1000\n",
    "        }"
   ]
  },
  {
   "cell_type": "code",
   "execution_count": 5,
   "metadata": {},
   "outputs": [],
   "source": [
    "mp = spp.Ssp_model(ssp_dict)\n",
    "ap = solveDP.Ap(ap_dict)"
   ]
  },
  {
   "cell_type": "code",
   "execution_count": 6,
   "metadata": {},
   "outputs": [],
   "source": [
    "# Solve social planners problem solved state recursion algorithm\n",
    "V, P = mp.state_recursion()"
   ]
  },
  {
   "cell_type": "code",
   "execution_count": 7,
   "metadata": {},
   "outputs": [
    {
     "data": {
      "text/plain": [
       "(200,)"
      ]
     },
     "execution_count": 7,
     "metadata": {},
     "output_type": "execute_result"
    }
   ],
   "source": [
    "mp.c.shape"
   ]
  },
  {
   "cell_type": "code",
   "execution_count": 8,
   "metadata": {},
   "outputs": [
    {
     "data": {
      "text/plain": [
       "array([192.33582984, 194.278616  , 196.24102626, ..., 497.48743719,\n",
       "       497.48743719, 500.        ])"
      ]
     },
     "execution_count": 8,
     "metadata": {},
     "output_type": "execute_result"
    }
   ],
   "source": [
    "V[np.triu_indices(V.shape[0])]"
   ]
  },
  {
   "cell_type": "code",
   "execution_count": 9,
   "metadata": {},
   "outputs": [
    {
     "data": {
      "text/plain": [
       "array([[192.33582984, 194.278616  , 196.24102626, ..., 485.26436008,\n",
       "        487.63511183, 490.        ],\n",
       "       [         nan, 194.49211239, 196.43129975, ..., 485.28948571,\n",
       "        487.66023746, 490.02512563],\n",
       "       [         nan,          nan, 196.64289522, ..., 485.31461133,\n",
       "        487.68536309, 490.05025126],\n",
       "       ...,\n",
       "       [         nan,          nan,          nan, ..., 494.97487437,\n",
       "        494.97487437, 494.97487437],\n",
       "       [         nan,          nan,          nan, ...,          nan,\n",
       "        497.48743719, 497.48743719],\n",
       "       [         nan,          nan,          nan, ...,          nan,\n",
       "                 nan, 500.        ]])"
      ]
     },
     "execution_count": 9,
     "metadata": {},
     "output_type": "execute_result"
    }
   ],
   "source": [
    "V"
   ]
  },
  {
   "cell_type": "code",
   "execution_count": 24,
   "metadata": {},
   "outputs": [
    {
     "data": {
      "text/plain": [
       "1.0"
      ]
     },
     "execution_count": 24,
     "metadata": {},
     "output_type": "execute_result"
    }
   ],
   "source": [
    "np.floor(1.5)"
   ]
  },
  {
   "cell_type": "code",
   "execution_count": 48,
   "metadata": {},
   "outputs": [],
   "source": [
    "def get_lower_tri_heatmap(df,):\n",
    "    mask = np.ones(df.shape, dtype=bool, )\n",
    "\n",
    "\n",
    "    mask[np.triu_indices_from(mask)] = False\n",
    "\n",
    "\n",
    "    # Set up the matplotlib figure\n",
    "    f, ax = plt.subplots(figsize=(11, 9))\n",
    "\n",
    "    \n",
    "\n",
    "    # Generate a custom diverging colormap\n",
    "    #cmap = sns.diverging_palette(np.min(df) ,np.max(df), as_cmap=True)\n",
    "\n",
    "    ticks = ['' for i in range(df.shape[0])]\n",
    "\n",
    "    for i in range(6):        \n",
    "        j = int(np.floor(i/5*(df.shape[0]-1)))\n",
    "\n",
    "        ticks[j] = i  \n",
    "\n",
    "    # Draw the heatmap with the mask and correct aspect ratio\n",
    "    sns_plot = sns.heatmap(df, mask=mask, cmap=cm.jet, center=0,\n",
    "            linewidths=.5, cbar_kws={\"shrink\": .5},xticklabels=ticks,yticklabels=ticks)\n",
    "    # save to file\n",
    "    #fig = sns_plot.get_figure()\n",
    "    "
   ]
  },
  {
   "cell_type": "code",
   "execution_count": 49,
   "metadata": {},
   "outputs": [
    {
     "data": {
      "image/png": "[encoded data removed]",
      "text/plain": [
       "<Figure size 792x648 with 2 Axes>"
      ]
     },
     "metadata": {
      "needs_background": "light"
     },
     "output_type": "display_data"
    }
   ],
   "source": [
    "get_lower_tri_heatmap(P)"
   ]
  },
  {
   "cell_type": "code",
   "execution_count": 50,
   "metadata": {},
   "outputs": [
    {
     "data": {
      "image/png": "[encoded data removed]",
      "text/plain": [
       "<Figure size 792x648 with 2 Axes>"
      ]
     },
     "metadata": {
      "needs_background": "light"
     },
     "output_type": "display_data"
    }
   ],
   "source": [
    "get_lower_tri_heatmap(V)"
   ]
  },
  {
   "cell_type": "code",
   "execution_count": null,
   "metadata": {},
   "outputs": [],
   "source": []
  }
 ],
 "metadata": {
  "interpreter": {
   "hash": "b3ba2566441a7c06988d0923437866b63cedc61552a5af99d1f4fb67d367b25f"
  },
  "kernelspec": {
   "display_name": "Python 3.8.11 ('base')",
   "language": "python",
   "name": "python3"
  },
  "language_info": {
   "codemirror_mode": {
    "name": "ipython",
    "version": 3
   },
   "file_extension": ".py",
   "mimetype": "text/x-python",
   "name": "python",
   "nbconvert_exporter": "python",
   "pygments_lexer": "ipython3",
   "version": "3.8.11"
  },
  "orig_nbformat": 4
 },
 "nbformat": 4,
 "nbformat_minor": 2
}
