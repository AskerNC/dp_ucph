{
 "cells": [
  {
   "cell_type": "code",
   "execution_count": 1,
   "metadata": {},
   "outputs": [],
   "source": [
    "import numpy as np\n",
    "import matplotlib.pyplot as plt\n",
    "from matplotlib import cm # for colormaps\n",
    "import seaborn as sns\n",
    "import copy\n",
    "import pandas as pd"
   ]
  },
  {
   "cell_type": "code",
   "execution_count": 2,
   "metadata": {},
   "outputs": [],
   "source": [
    "%load_ext autoreload\n",
    "%autoreload 2\n",
    "\n",
    "import spp\n",
    "import solveDP\n",
    "import lf\n",
    "import rls"
   ]
  },
  {
   "cell_type": "code",
   "execution_count": null,
   "metadata": {},
   "outputs": [],
   "source": []
  },
  {
   "cell_type": "markdown",
   "metadata": {},
   "source": [
    "## 1 Social planners problem\n",
    "### Exercise 1\n",
    "\n",
    "If there is no technological development nothing happens, and as costs is already as low as possible in the period, the investment does not change anything such that the state is still $s_{s}= \\left(c_1,c_1\\right)$\n",
    "\n",
    "Techonological development will move into $s_{2}= \\left(c_1,c_2\\right)$, the investment still does do anything to change the marginal cost of the firm\n",
    "\n",
    "From $s_{2}= \\left(c_1,c_2\\right)$ with investment and no techonological change we move into $s_{3}= \\left(c_2,c_2\\right)$\n",
    "\n",
    "From $s_{2}= \\left(c_1,c_2\\right)$ with investment and techonological change we move into $s_{3}= \\left(c_2,c_3\\right)$\n"
   ]
  },
  {
   "cell_type": "markdown",
   "metadata": {},
   "source": [
    "## 2 State recursion algorithm\n",
    "### Exercise 2\n",
    "\n",
    "$$\n",
    "u(s,a)=p-x-K(c)a\n",
    "$$\n",
    "\n",
    "$$\n",
    "x'=x(1-a)+ca\n",
    "$$\n",
    "$$\n",
    "V(s):= \\underset{a\\in{0,1}}{\\max} \\left\\{ u\\left(s,a\\right)+β \\mathbb{E}\\left[V(s')|s,a \\right] \\right\\}\n",
    "$$\n",
    "$$\n",
    "v_{I}(s):=  u\\left(s,1\\right)+β \\mathbb{E}\\left[V(s')|s,a=1\\right]\n",
    "$$\n",
    "$$\n",
    "v_{N}(s):=  u\\left(s,0\\right)+β \\mathbb{E}\\left[V(s')|s,a=0\\right]\n",
    "$$"
   ]
  },
  {
   "cell_type": "markdown",
   "metadata": {},
   "source": [
    "__step 2.1__\n",
    "\n",
    "\n",
    "For layer 4 there is no uncertanty such that $V(s_7)-V(s_{10})$ is known:\n",
    "\n",
    "$$\n",
    "V(c_4,c_4) = ∑^{\\infty}_{t=0}β^t u(s_4 ,0)=∑^{\\infty}_{t=0}β^t \\left(p-c_4 \\right)\n",
    "$$\n",
    "\n",
    "$$\n",
    "V(c_i-c_i,c_4) = \\max\\left\\{p-c_i -K(c_4)+ ∑^{\\infty}_{t=1}β^t \\left(p-c_4 \\right) ,∑^{\\infty}_{t=0}β^t \\left(p-c_i \\right)\\right\\}\n",
    "$$\n",
    "for $i\\in\\{ 1,2,3\\}$\n"
   ]
  },
  {
   "cell_type": "markdown",
   "metadata": {},
   "source": [
    "in layer 3 $V$ is then a propablity weighted average of the choice in layer 3 and the dependent state, given transition to layer 4.\n",
    "\n",
    "With layer 3 mapped out, layer 2, and 1 can thereafter be found."
   ]
  },
  {
   "cell_type": "markdown",
   "metadata": {},
   "source": [
    "__step 2.2__\n",
    "\n",
    "the value of investing will be the value in the current period (profits minus investment costs) + propablity weighted sum of value in the next period where the possibe states are no technoogical progress such that costs are lowest possible, and technological progress\n",
    "\n",
    "$$\n",
    "v_I(x,c) = p-x-K(c) +\\beta\\left[ π V(c,\\tilde{c})+(1-π) V(c,c) \\right]\n",
    "$$\n",
    "\n",
    "As argued above $V(c,\\tilde{c})$ and $V(c,c)$ can be known by backwards induction"
   ]
  },
  {
   "cell_type": "markdown",
   "metadata": {},
   "source": [
    "__step 2.3__\n",
    "\n",
    "\n",
    "$$\n",
    "v_N(x,c) = p-x +\\beta\\left[ π V(x,\\tilde{c})+(1-π) V(x,c) \\right]\n",
    "$$\n",
    "\n",
    "Given $V(x,c)=V_N(x,c) we have: \n",
    "$$\n",
    "v_N(x,c) = p-x +\\beta\\left[ π V(x,\\tilde{c})+(1-π) v_N(x,c) \\right]\n",
    "$$\n",
    "and we can isolate $v_N(x,c)$:"
   ]
  },
  {
   "cell_type": "markdown",
   "metadata": {},
   "source": [
    "$$\n",
    "(1-β(1-π)) v_N(x,c) = p-x +\\beta\\left[ π V(x,\\tilde{c}) \\right]\n",
    "$$\n",
    "$$\n",
    "⇔ v_N(x,c) = \\frac{p-x +\\beta π V(x,\\tilde{c})}{(1-β(1-π)) }\n",
    "$$"
   ]
  },
  {
   "cell_type": "markdown",
   "metadata": {},
   "source": [
    "__step 2.4__\n",
    "\n",
    "\n",
    "If $v_I(x,c)>v_n(x,c)$, then $V(x,c)=v_I(x,c)$. Giving eq 14:\n",
    "$$\n",
    "v_N(x,c) = p-x +\\beta\\left[ π V(x,\\tilde{c})+(1-π)v_I(x,c)\\right]\n",
    "$$"
   ]
  },
  {
   "cell_type": "markdown",
   "metadata": {},
   "source": [
    "Again due to $v_I(x,c)>v_n(x,c)$ we must have:\n",
    "$$\n",
    "v_N(x,c) > p-x +\\beta\\left[ π V(x,\\tilde{c})+(1-π)v_N(x,c)\\right]\n",
    "$$\n",
    "\n",
    "We can use the same derrivation as in step 2.3 to show: \n",
    "$$\n",
    "⇔ v_N(x,c) > \\frac{p-x +\\beta π V(x,\\tilde{c})}{(1-β(1-π)) }\n",
    "$$"
   ]
  },
  {
   "cell_type": "markdown",
   "metadata": {},
   "source": [
    "__code 2.4__"
   ]
  },
  {
   "cell_type": "code",
   "execution_count": 3,
   "metadata": {},
   "outputs": [],
   "source": [
    "ssp_dict = {'k1':8.3,\n",
    "        'N':4,\n",
    "        'beta':0.99,\n",
    "        'pf':1,\n",
    "        'maxc':5,\n",
    "        'p'   :5,\n",
    "        }"
   ]
  },
  {
   "cell_type": "code",
   "execution_count": 4,
   "metadata": {},
   "outputs": [],
   "source": [
    "mp = spp.Ssp_model(ssp_dict)\n",
    "V_save, P_save = mp.state_recursion()"
   ]
  },
  {
   "cell_type": "code",
   "execution_count": 5,
   "metadata": {},
   "outputs": [
    {
     "data": {
      "text/plain": [
       "array([[473.59895753, 478.38278538, 482.0205    , 486.7       ],\n",
       "       [         nan, 481.96483667, 485.14966667, 488.36666667],\n",
       "       [         nan,          nan, 488.46633333, 490.03333333],\n",
       "       [         nan,          nan,          nan, 500.        ]])"
      ]
     },
     "execution_count": 5,
     "metadata": {},
     "output_type": "execute_result"
    }
   ],
   "source": [
    "V_save"
   ]
  },
  {
   "cell_type": "code",
   "execution_count": 6,
   "metadata": {},
   "outputs": [
    {
     "data": {
      "text/plain": [
       "array([473.59895753, 478.38278538, 482.0205    , 486.7       ,\n",
       "       481.96483667, 485.14966667, 488.36666667, 488.46633333,\n",
       "       490.03333333, 500.        ])"
      ]
     },
     "execution_count": 6,
     "metadata": {},
     "output_type": "execute_result"
    }
   ],
   "source": [
    "I = np.triu_indices_from(V_save)\n",
    "V_save[I]"
   ]
  },
  {
   "cell_type": "code",
   "execution_count": 7,
   "metadata": {},
   "outputs": [
    {
     "data": {
      "image/png": "[encoded data removed]",
      "text/plain": [
       "<Figure size 792x648 with 2 Axes>"
      ]
     },
     "metadata": {
      "needs_background": "light"
     },
     "output_type": "display_data"
    },
    {
     "data": {
      "image/png": "[encoded data removed]",
      "text/plain": [
       "<Figure size 792x648 with 2 Axes>"
      ]
     },
     "metadata": {
      "needs_background": "light"
     },
     "output_type": "display_data"
    }
   ],
   "source": [
    "mp.plot_solution()"
   ]
  },
  {
   "cell_type": "markdown",
   "metadata": {},
   "source": [
    "__code 2.6__"
   ]
  },
  {
   "cell_type": "code",
   "execution_count": 8,
   "metadata": {},
   "outputs": [
    {
     "name": "stdout",
     "output_type": "stream",
     "text": [
      "Maximized at 494.99999999999955 with x = 5.000 and c = 0.000\n"
     ]
    }
   ],
   "source": [
    "grid = np.linspace(5,0,10)\n",
    "beta =0.99\n",
    "f = lambda x,c : beta/(1-beta) *(x-c)\n",
    "f_best = -np.inf\n",
    "xc_best = [0,0]\n",
    "\n",
    "for x in grid:\n",
    "    for c in grid:\n",
    "        f_cur = f(x,c)\n",
    "        if f_cur>f_best:\n",
    "            f_best =f_cur\n",
    "            xc_best = [x,c]\n",
    "\n",
    "ystar = f_best\n",
    "print(f'Maximized at {f_best} with x = {xc_best[0]:.3f} and c = {xc_best[1]:.3f}')"
   ]
  },
  {
   "cell_type": "code",
   "execution_count": 9,
   "metadata": {},
   "outputs": [],
   "source": [
    "ssp_dict = {'k1':ystar,\n",
    "        'N':10,\n",
    "        'beta':0.99,\n",
    "        'pf':1,\n",
    "        'maxc':5,\n",
    "        'p'   :5,\n",
    "        'Kform' : 'constant'\n",
    "        }\n",
    "mp = spp.Ssp_model(ssp_dict)\n",
    "V, P = mp.state_recursion()"
   ]
  },
  {
   "cell_type": "code",
   "execution_count": 10,
   "metadata": {},
   "outputs": [
    {
     "data": {
      "text/plain": [
       "array([[ 0.,  0.,  0.,  0.,  0.,  0.,  0.,  0.,  0.,  0.],\n",
       "       [nan,  0.,  0.,  0.,  0.,  0.,  0.,  0.,  0.,  0.],\n",
       "       [nan, nan,  0.,  0.,  0.,  0.,  0.,  0.,  0.,  0.],\n",
       "       [nan, nan, nan,  0.,  0.,  0.,  0.,  0.,  0.,  0.],\n",
       "       [nan, nan, nan, nan,  0.,  0.,  0.,  0.,  0.,  0.],\n",
       "       [nan, nan, nan, nan, nan,  0.,  0.,  0.,  0.,  0.],\n",
       "       [nan, nan, nan, nan, nan, nan,  0.,  0.,  0.,  0.],\n",
       "       [nan, nan, nan, nan, nan, nan, nan,  0.,  0.,  0.],\n",
       "       [nan, nan, nan, nan, nan, nan, nan, nan,  0.,  0.],\n",
       "       [nan, nan, nan, nan, nan, nan, nan, nan, nan,  0.]])"
      ]
     },
     "execution_count": 10,
     "metadata": {},
     "output_type": "execute_result"
    }
   ],
   "source": [
    "P"
   ]
  },
  {
   "cell_type": "code",
   "execution_count": 11,
   "metadata": {},
   "outputs": [
    {
     "data": {
      "image/png": "[encoded data removed]",
      "text/plain": [
       "<Figure size 792x648 with 2 Axes>"
      ]
     },
     "metadata": {
      "needs_background": "light"
     },
     "output_type": "display_data"
    },
    {
     "data": {
      "image/png": "[encoded data removed]",
      "text/plain": [
       "<Figure size 792x648 with 2 Axes>"
      ]
     },
     "metadata": {
      "needs_background": "light"
     },
     "output_type": "display_data"
    }
   ],
   "source": [
    "mp.plot_solution()"
   ]
  },
  {
   "cell_type": "markdown",
   "metadata": {},
   "source": [
    "There is no investment since investment costs is equal to infinite profits with a price of 5 and production cost of 0 (value function with state $s_{10}$) but when investing the soical planner incurs the cost in the current period and then receives the good profits in the next, because of discounting this is never optimal, even in $s_{7}$ which is the state most advantagous for investing as you go from production costs of 5 to 0. "
   ]
  },
  {
   "cell_type": "code",
   "execution_count": 12,
   "metadata": {},
   "outputs": [],
   "source": [
    "ssp_dict = {'k1':ystar,\n",
    "        'N':10,\n",
    "        'beta':0.99,\n",
    "        'pf':1,\n",
    "        'maxc':5,\n",
    "        'p'   :5,\n",
    "        'Kform' : 'smooth'\n",
    "        }\n",
    "mp = spp.Ssp_model(ssp_dict)\n",
    "V, P = mp.state_recursion()"
   ]
  },
  {
   "cell_type": "code",
   "execution_count": 13,
   "metadata": {},
   "outputs": [
    {
     "data": {
      "image/png": "[encoded data removed]",
      "text/plain": [
       "<Figure size 792x648 with 2 Axes>"
      ]
     },
     "metadata": {
      "needs_background": "light"
     },
     "output_type": "display_data"
    },
    {
     "data": {
      "image/png": "[encoded data removed]",
      "text/plain": [
       "<Figure size 792x648 with 2 Axes>"
      ]
     },
     "metadata": {
      "needs_background": "light"
     },
     "output_type": "display_data"
    }
   ],
   "source": [
    "mp.plot_solution()"
   ]
  },
  {
   "cell_type": "markdown",
   "metadata": {},
   "source": [
    "Now with $K(c) = \\frac{k1}{1+c}$ we have investment, as the costs are decreasing with higher c, so it can be optimal to invest.\n",
    "\n",
    "it is however still never optimal to invest in layer 4 when $c=0$ as we come back to the case $K=k1$"
   ]
  },
  {
   "cell_type": "code",
   "execution_count": null,
   "metadata": {},
   "outputs": [],
   "source": []
  },
  {
   "cell_type": "markdown",
   "metadata": {},
   "source": [
    "## 3 The leapfrogging game"
   ]
  },
  {
   "cell_type": "markdown",
   "metadata": {},
   "source": [
    "### Exercise 4"
   ]
  },
  {
   "cell_type": "code",
   "execution_count": 3,
   "metadata": {},
   "outputs": [],
   "source": [
    "self = lf.Lf_model()\n"
   ]
  },
  {
   "cell_type": "code",
   "execution_count": 22,
   "metadata": {},
   "outputs": [
    {
     "data": {
      "text/plain": [
       "10"
      ]
     },
     "execution_count": 22,
     "metadata": {},
     "output_type": "execute_result"
    }
   ],
   "source": [
    "self.T"
   ]
  },
  {
   "cell_type": "code",
   "execution_count": 6,
   "metadata": {},
   "outputs": [
    {
     "data": {
      "text/plain": [
       "array([ 1.,  7., 16., 17., 21., 25., 26., 28., 29., 30.])"
      ]
     },
     "execution_count": 6,
     "metadata": {},
     "output_type": "execute_result"
    }
   ],
   "source": [
    "self.stage_index"
   ]
  },
  {
   "cell_type": "code",
   "execution_count": 23,
   "metadata": {},
   "outputs": [
    {
     "data": {
      "text/plain": [
       "array([0, 0, 0, 0, 0, 0, 0, 0, 0, 0, 0, 0, 0, 0, 0, 0, 0, 0, 0, 0, 0, 0,\n",
       "       0, 0, 0, 0, 0, 0, 0, 0])"
      ]
     },
     "execution_count": 23,
     "metadata": {},
     "output_type": "execute_result"
    }
   ],
   "source": [
    "self.ess.esr"
   ]
  },
  {
   "cell_type": "code",
   "execution_count": 25,
   "metadata": {},
   "outputs": [
    {
     "data": {
      "text/plain": [
       "array([[[30, nan, nan, nan],\n",
       "        [nan, nan, nan, nan],\n",
       "        [nan, nan, nan, nan],\n",
       "        [nan, nan, nan, nan]],\n",
       "\n",
       "       [[29, 27, nan, nan],\n",
       "        [28, 26, nan, nan],\n",
       "        [nan, nan, nan, nan],\n",
       "        [nan, nan, nan, nan]],\n",
       "\n",
       "       [[22, 24, 18, nan],\n",
       "        [23, 25, 19, nan],\n",
       "        [20, 21, 17, nan],\n",
       "        [nan, nan, nan, nan]],\n",
       "\n",
       "       [[8, 11, 14, 2],\n",
       "        [9, 12, 15, 3],\n",
       "        [10, 13, 16, 4],\n",
       "        [5, 6, 7, 1]]], dtype=object)"
      ]
     },
     "execution_count": 25,
     "metadata": {},
     "output_type": "execute_result"
    }
   ],
   "source": [
    "self.ess.index"
   ]
  },
  {
   "cell_type": "code",
   "execution_count": 9,
   "metadata": {},
   "outputs": [
    {
     "data": {
      "text/plain": [
       "namespace(index=array([[[30, nan, nan, nan],\n",
       "                        [nan, nan, nan, nan],\n",
       "                        [nan, nan, nan, nan],\n",
       "                        [nan, nan, nan, nan]],\n",
       "                \n",
       "                       [[29, 27, nan, nan],\n",
       "                        [28, 26, nan, nan],\n",
       "                        [nan, nan, nan, nan],\n",
       "                        [nan, nan, nan, nan]],\n",
       "                \n",
       "                       [[22, 24, 18, nan],\n",
       "                        [23, 25, 19, nan],\n",
       "                        [20, 21, 17, nan],\n",
       "                        [nan, nan, nan, nan]],\n",
       "                \n",
       "                       [[8, 11, 14, 2],\n",
       "                        [9, 12, 15, 3],\n",
       "                        [10, 13, 16, 4],\n",
       "                        [5, 6, 7, 1]]], dtype=object),\n",
       "          esr=array([0, 0, 0, 0, 0, 0, 0, 0, 0, 0, 0, 0, 0, 0, 0, 0, 0, 0, 0, 0, 0, 0,\n",
       "                     0, 0, 0, 0, 0, 0, 0, 0]),\n",
       "          bases=array([1, 1, 1, 1, 1, 1, 1, 3, 3, 3, 3, 3, 3, 3, 3, 3, 1, 1, 1, 1, 1, 1,\n",
       "                       1, 1, 1, 1, 1, 1, 1, 1]))"
      ]
     },
     "execution_count": 9,
     "metadata": {},
     "output_type": "execute_result"
    }
   ],
   "source": [
    "self.ess"
   ]
  },
  {
   "cell_type": "code",
   "execution_count": 10,
   "metadata": {},
   "outputs": [],
   "source": [
    "self.state_recursion(self.T)"
   ]
  },
  {
   "cell_type": "code",
   "execution_count": 17,
   "metadata": {},
   "outputs": [
    {
     "data": {
      "text/plain": [
       "array([[3, 3, 3, 1],\n",
       "       [3, 3, 3, 1],\n",
       "       [3, 3, 3, 1],\n",
       "       [1, 1, 1, 1]])"
      ]
     },
     "execution_count": 17,
     "metadata": {},
     "output_type": "execute_result"
    }
   ],
   "source": [
    "self.ss[3].nEQ"
   ]
  },
  {
   "cell_type": "code",
   "execution_count": 19,
   "metadata": {},
   "outputs": [
    {
     "data": {
      "text/plain": [
       "array([1, 1, 1, 1, 1, 1, 1, 3, 3, 3, 3, 3, 3, 3, 3, 3, 1, 1, 1, 1, 1, 3,\n",
       "       1, 1, 1, 1, 1, 1, 3, 1])"
      ]
     },
     "execution_count": 19,
     "metadata": {},
     "output_type": "execute_result"
    }
   ],
   "source": [
    "self.ess.bases"
   ]
  },
  {
   "cell_type": "code",
   "execution_count": 20,
   "metadata": {},
   "outputs": [
    {
     "data": {
      "text/plain": [
       "8"
      ]
     },
     "execution_count": 20,
     "metadata": {},
     "output_type": "execute_result"
    }
   ],
   "source": [
    "self.ess.index[3,0,0]"
   ]
  },
  {
   "cell_type": "code",
   "execution_count": 21,
   "metadata": {},
   "outputs": [
    {
     "data": {
      "text/plain": [
       "3"
      ]
     },
     "execution_count": 21,
     "metadata": {},
     "output_type": "execute_result"
    }
   ],
   "source": [
    "self.ess.bases[7]"
   ]
  },
  {
   "cell_type": "markdown",
   "metadata": {},
   "source": [
    "### Exercise 6\n"
   ]
  },
  {
   "cell_type": "code",
   "execution_count": null,
   "metadata": {},
   "outputs": [],
   "source": [
    "self = lf.Lf_model()\n"
   ]
  },
  {
   "cell_type": "code",
   "execution_count": 8,
   "metadata": {},
   "outputs": [],
   "source": [
    "self.solve_last_corner()\n",
    "self.solve_last_edge()\n",
    "self.solve_last_interior()"
   ]
  },
  {
   "cell_type": "code",
   "execution_count": 16,
   "metadata": {},
   "outputs": [
    {
     "data": {
      "text/plain": [
       "array([[3, 3, 3, 1],\n",
       "       [3, 3, 3, 1],\n",
       "       [3, 3, 3, 1],\n",
       "       [1, 1, 1, 1]])"
      ]
     },
     "execution_count": 16,
     "metadata": {},
     "output_type": "execute_result"
    }
   ],
   "source": [
    "self.ss[3].nEQ"
   ]
  },
  {
   "cell_type": "code",
   "execution_count": 17,
   "metadata": {},
   "outputs": [
    {
     "name": "stdout",
     "output_type": "stream",
     "text": [
      "\n",
      "P1:\n",
      "[[0. 0. 0. 0.]\n",
      " [0. 0. 0. 0.]\n",
      " [0. 0. 0. 0.]\n",
      " [0. 0. 0. 0.]]\n",
      "\n",
      "vN1:\n",
      "[[  0.           0.           0.           0.        ]\n",
      " [  1.66666667   0.           0.           0.        ]\n",
      " [  3.33333333   1.66666667   0.           0.        ]\n",
      " [102.52083247  68.34722164  34.17361082   0.        ]]\n",
      "\n",
      "vI1:\n",
      "[[-8.3        -8.3        -8.3        -8.3       ]\n",
      " [-6.63333333 -8.3        -8.3        -8.3       ]\n",
      " [-4.96666667 -6.63333333 -8.3        -8.3       ]\n",
      " [94.22083247 60.04722164 25.87361082 -8.3       ]]\n",
      "\n",
      "P2:\n",
      "[[1. 1. 1. 0.]\n",
      " [1. 1. 1. 0.]\n",
      " [1. 1. 1. 0.]\n",
      " [0. 0. 0. 0.]]\n",
      "\n",
      "vN2:\n",
      "[[ 84.86948112  88.12153016  91.3735792  102.52083247]\n",
      " [ 53.94791934  53.94791934  57.19996838  68.34722164]\n",
      " [ 23.02635756  23.02635756  23.02635756  34.17361082]\n",
      " [  0.           0.           0.           0.        ]]\n",
      "\n",
      "vI2:\n",
      "[[89.22083247 90.88749913 92.5541658  94.22083247]\n",
      " [56.71388831 56.71388831 58.38055498 60.04722164]\n",
      " [24.20694416 24.20694416 24.20694416 25.87361082]\n",
      " [-8.3        -8.3        -8.3        -8.3       ]]\n"
     ]
    }
   ],
   "source": [
    "self.print_eq(n_eq=1)"
   ]
  },
  {
   "cell_type": "code",
   "execution_count": 18,
   "metadata": {},
   "outputs": [
    {
     "name": "stdout",
     "output_type": "stream",
     "text": [
      "\n",
      "P1:\n",
      "[[ 1.  1.  1. nan]\n",
      " [ 1.  1.  1. nan]\n",
      " [ 1.  1.  1. nan]\n",
      " [nan nan nan nan]]\n",
      "\n",
      "vN1:\n",
      "[[84.86948112 53.94791934 23.02635756         nan]\n",
      " [88.12153016 53.94791934 23.02635756         nan]\n",
      " [91.3735792  57.19996838 23.02635756         nan]\n",
      " [        nan         nan         nan         nan]]\n",
      "\n",
      "vI1:\n",
      "[[89.22083247 56.71388831 24.20694416         nan]\n",
      " [90.88749913 56.71388831 24.20694416         nan]\n",
      " [92.5541658  58.38055498 24.20694416         nan]\n",
      " [        nan         nan         nan         nan]]\n",
      "\n",
      "P2:\n",
      "[[ 0.  0.  0. nan]\n",
      " [ 0.  0.  0. nan]\n",
      " [ 0.  0.  0. nan]\n",
      " [nan nan nan nan]]\n",
      "\n",
      "vN2:\n",
      "[[0.         1.66666667 3.33333333        nan]\n",
      " [0.         0.         1.66666667        nan]\n",
      " [0.         0.         0.                nan]\n",
      " [       nan        nan        nan        nan]]\n",
      "\n",
      "vI2:\n",
      "[[-8.3        -6.63333333 -4.96666667         nan]\n",
      " [-8.3        -8.3        -6.63333333         nan]\n",
      " [-8.3        -8.3        -8.3                nan]\n",
      " [        nan         nan         nan         nan]]\n"
     ]
    }
   ],
   "source": [
    "self.print_eq(n_eq=2)"
   ]
  },
  {
   "cell_type": "code",
   "execution_count": 19,
   "metadata": {},
   "outputs": [],
   "source": [
    "#self.ss[3].EQs[0,:,:]"
   ]
  },
  {
   "cell_type": "code",
   "execution_count": 20,
   "metadata": {},
   "outputs": [
    {
     "data": {
      "text/plain": [
       "array([0, 0, 0, 0, 0, 0, 0, 0, 0, 0, 0, 0, 0, 0, 0, 0, 0, 0, 0, 0, 0, 0,\n",
       "       0, 0, 0, 0, 0, 0, 0, 0])"
      ]
     },
     "execution_count": 20,
     "metadata": {},
     "output_type": "execute_result"
    }
   ],
   "source": [
    "self.ess.esr"
   ]
  },
  {
   "cell_type": "code",
   "execution_count": 21,
   "metadata": {},
   "outputs": [
    {
     "data": {
      "text/plain": [
       "array([1, 1, 1, 1, 1, 1, 1, 3, 3, 3, 3, 3, 3, 3, 3, 3, 1, 1, 1, 1, 1, 1,\n",
       "       1, 1, 1, 1, 1, 1, 1, 1])"
      ]
     },
     "execution_count": 21,
     "metadata": {},
     "output_type": "execute_result"
    }
   ],
   "source": [
    "self.ess.bases"
   ]
  },
  {
   "cell_type": "code",
   "execution_count": 22,
   "metadata": {},
   "outputs": [
    {
     "data": {
      "text/plain": [
       "(30,)"
      ]
     },
     "execution_count": 22,
     "metadata": {},
     "output_type": "execute_result"
    }
   ],
   "source": [
    "self.ess.bases.shape"
   ]
  },
  {
   "cell_type": "markdown",
   "metadata": {},
   "source": [
    "### Exercise 6"
   ]
  },
  {
   "cell_type": "code",
   "execution_count": 23,
   "metadata": {},
   "outputs": [],
   "source": [
    "self.solve_corner(2)\n",
    "self.solve_edge(2)\n",
    "self.solve_interior(2)"
   ]
  },
  {
   "cell_type": "code",
   "execution_count": 24,
   "metadata": {},
   "outputs": [
    {
     "data": {
      "text/plain": [
       "array([[3, 1, 1],\n",
       "       [1, 1, 1],\n",
       "       [1, 1, 1]])"
      ]
     },
     "execution_count": 24,
     "metadata": {},
     "output_type": "execute_result"
    }
   ],
   "source": [
    "self.ss[2].nEQ"
   ]
  },
  {
   "cell_type": "code",
   "execution_count": 25,
   "metadata": {},
   "outputs": [
    {
     "name": "stdout",
     "output_type": "stream",
     "text": [
      "\n",
      "P1:\n",
      "[[0. 0. 0.]\n",
      " [0. 0. 0.]\n",
      " [0. 0. 0.]]\n",
      "\n",
      "vN1:\n",
      "[[0.         0.         0.        ]\n",
      " [3.25204904 0.         0.        ]\n",
      " [6.50409808 3.25204904 0.        ]]\n",
      "\n",
      "vI1:\n",
      "[[-3.1125     -1.52711763 -3.1125    ]\n",
      " [ 1.72493142 -1.52711763 -3.1125    ]\n",
      " [ 3.39159808  0.13954904 -3.1125    ]]\n",
      "\n",
      "P2:\n",
      "[[1. 0. 0.]\n",
      " [0. 0. 0.]\n",
      " [0. 0. 0.]]\n",
      "\n",
      "vN2:\n",
      "[[84.86948112 88.12153016 91.3735792 ]\n",
      " [53.94791934 53.94791934 57.19996838]\n",
      " [23.02635756 23.02635756 23.02635756]]\n",
      "\n",
      "vI2:\n",
      "[[84.92774587 86.59441253 88.2610792 ]\n",
      " [52.42080171 52.42080171 54.08746838]\n",
      " [19.91385756 19.91385756 19.91385756]]\n"
     ]
    }
   ],
   "source": [
    "self.print_eq(layer=3,n_eq=1)"
   ]
  },
  {
   "cell_type": "code",
   "execution_count": 26,
   "metadata": {},
   "outputs": [
    {
     "name": "stdout",
     "output_type": "stream",
     "text": [
      "\n",
      "P1:\n",
      "[[ 1. nan nan]\n",
      " [nan nan nan]\n",
      " [nan nan nan]]\n",
      "\n",
      "vN1:\n",
      "[[ 0. nan nan]\n",
      " [nan nan nan]\n",
      " [nan nan nan]]\n",
      "\n",
      "vI1:\n",
      "[[0.05826475        nan        nan]\n",
      " [       nan        nan        nan]\n",
      " [       nan        nan        nan]]\n",
      "\n",
      "P2:\n",
      "[[ 0. nan nan]\n",
      " [nan nan nan]\n",
      " [nan nan nan]]\n",
      "\n",
      "vN2:\n",
      "[[23.02635756         nan         nan]\n",
      " [        nan         nan         nan]\n",
      " [        nan         nan         nan]]\n",
      "\n",
      "vI2:\n",
      "[[19.91385756         nan         nan]\n",
      " [        nan         nan         nan]\n",
      " [        nan         nan         nan]]\n"
     ]
    }
   ],
   "source": [
    "self.print_eq(layer=3,n_eq=2)"
   ]
  },
  {
   "cell_type": "code",
   "execution_count": 27,
   "metadata": {},
   "outputs": [],
   "source": [
    "self.solve_corner(1)\n",
    "self.solve_edge(1)\n",
    "self.solve_interior(1)\n",
    "self.solve_corner(0)"
   ]
  },
  {
   "cell_type": "code",
   "execution_count": 28,
   "metadata": {},
   "outputs": [
    {
     "name": "stdout",
     "output_type": "stream",
     "text": [
      "[[1]]\n",
      "[[3 1]\n",
      " [1 1]]\n",
      "[[3 1 1]\n",
      " [1 1 1]\n",
      " [1 1 1]]\n",
      "[[3 3 3 1]\n",
      " [3 3 3 1]\n",
      " [3 3 3 1]\n",
      " [1 1 1 1]]\n"
     ]
    }
   ],
   "source": [
    "for i in range(4):\n",
    "    print(self.ss[i].nEQ)"
   ]
  },
  {
   "cell_type": "code",
   "execution_count": 29,
   "metadata": {},
   "outputs": [
    {
     "data": {
      "text/plain": [
       "array([1, 1, 1, 1, 1, 1, 1, 3, 3, 3, 3, 3, 3, 3, 3, 3, 1, 1, 1, 1, 1, 3,\n",
       "       1, 1, 1, 1, 1, 1, 3, 1])"
      ]
     },
     "execution_count": 29,
     "metadata": {},
     "output_type": "execute_result"
    }
   ],
   "source": [
    "self.ess.bases"
   ]
  },
  {
   "cell_type": "code",
   "execution_count": 30,
   "metadata": {},
   "outputs": [
    {
     "data": {
      "text/plain": [
       "array([0, 0, 0, 0, 0, 0, 0, 0, 0, 0, 0, 0, 0, 0, 0, 0, 0, 0, 0, 0, 0, 0,\n",
       "       0, 0, 0, 0, 0, 0, 0, 0])"
      ]
     },
     "execution_count": 30,
     "metadata": {},
     "output_type": "execute_result"
    }
   ],
   "source": [
    "self.ess.esr"
   ]
  },
  {
   "cell_type": "markdown",
   "metadata": {},
   "source": [
    "### Exercise 8"
   ]
  },
  {
   "cell_type": "code",
   "execution_count": 31,
   "metadata": {},
   "outputs": [],
   "source": [
    "self.state_recursion(self.T)"
   ]
  },
  {
   "cell_type": "code",
   "execution_count": 32,
   "metadata": {},
   "outputs": [
    {
     "name": "stdout",
     "output_type": "stream",
     "text": [
      "\n",
      "Layer 1\n",
      "\n",
      "P1:\n",
      "[[0.]]\n",
      "\n",
      "vN1:\n",
      "[[0.]]\n",
      "\n",
      "vI1:\n",
      "[[-1.38333333]]\n",
      "\n",
      "P2:\n",
      "[[0.]]\n",
      "\n",
      "vN2:\n",
      "[[77.91368762]]\n",
      "\n",
      "vI2:\n",
      "[[76.53035428]]\n",
      "\n",
      "Layer 2\n",
      "\n",
      "P1:\n",
      "[[0. 0.]\n",
      " [0. 0.]]\n",
      "\n",
      "vN1:\n",
      "[[0.        0.       ]\n",
      " [4.7601114 0.       ]]\n",
      "\n",
      "vI1:\n",
      "[[-1.91538462 -1.91538462]\n",
      " [ 2.84472679 -1.91538462]]\n",
      "\n",
      "P2:\n",
      "[[1. 0.]\n",
      " [0. 0.]]\n",
      "\n",
      "vN2:\n",
      "[[80.78577083 85.49045909]\n",
      " [51.31684827 51.31684827]]\n",
      "\n",
      "vI2:\n",
      "[[81.90840781 83.57507447]\n",
      " [49.40146365 49.40146365]]\n",
      "\n",
      "Layer 3\n",
      "\n",
      "P1:\n",
      "[[0. 0. 0.]\n",
      " [0. 0. 0.]\n",
      " [0. 0. 0.]]\n",
      "\n",
      "vN1:\n",
      "[[0.         0.         0.        ]\n",
      " [3.25204904 0.         0.        ]\n",
      " [6.50409808 3.25204904 0.        ]]\n",
      "\n",
      "vI1:\n",
      "[[-3.1125     -1.52711763 -3.1125    ]\n",
      " [ 1.72493142 -1.52711763 -3.1125    ]\n",
      " [ 3.39159808  0.13954904 -3.1125    ]]\n",
      "\n",
      "P2:\n",
      "[[1. 0. 0.]\n",
      " [0. 0. 0.]\n",
      " [0. 0. 0.]]\n",
      "\n",
      "vN2:\n",
      "[[84.86948112 88.12153016 91.3735792 ]\n",
      " [53.94791934 53.94791934 57.19996838]\n",
      " [23.02635756 23.02635756 23.02635756]]\n",
      "\n",
      "vI2:\n",
      "[[84.92774587 86.59441253 88.2610792 ]\n",
      " [52.42080171 52.42080171 54.08746838]\n",
      " [19.91385756 19.91385756 19.91385756]]\n",
      "\n",
      "Layer 4\n",
      "\n",
      "P1:\n",
      "[[0. 0. 0. 0.]\n",
      " [0. 0. 0. 0.]\n",
      " [0. 0. 0. 0.]\n",
      " [0. 0. 0. 0.]]\n",
      "\n",
      "vN1:\n",
      "[[  0.           0.           0.           0.        ]\n",
      " [  1.66666667   0.           0.           0.        ]\n",
      " [  3.33333333   1.66666667   0.           0.        ]\n",
      " [102.52083247  68.34722164  34.17361082   0.        ]]\n",
      "\n",
      "vI1:\n",
      "[[-8.3        -8.3        -8.3        -8.3       ]\n",
      " [-6.63333333 -8.3        -8.3        -8.3       ]\n",
      " [-4.96666667 -6.63333333 -8.3        -8.3       ]\n",
      " [94.22083247 60.04722164 25.87361082 -8.3       ]]\n",
      "\n",
      "P2:\n",
      "[[1. 1. 1. 0.]\n",
      " [1. 1. 1. 0.]\n",
      " [1. 1. 1. 0.]\n",
      " [0. 0. 0. 0.]]\n",
      "\n",
      "vN2:\n",
      "[[ 84.86948112  88.12153016  91.3735792  102.52083247]\n",
      " [ 53.94791934  53.94791934  57.19996838  68.34722164]\n",
      " [ 23.02635756  23.02635756  23.02635756  34.17361082]\n",
      " [  0.           0.           0.           0.        ]]\n",
      "\n",
      "vI2:\n",
      "[[89.22083247 90.88749913 92.5541658  94.22083247]\n",
      " [56.71388831 56.71388831 58.38055498 60.04722164]\n",
      " [24.20694416 24.20694416 24.20694416 25.87361082]\n",
      " [-8.3        -8.3        -8.3        -8.3       ]]\n"
     ]
    }
   ],
   "source": [
    "for i in range(4):\n",
    "    print(f'\\nLayer {i+1}')\n",
    "    self.print_eq(layer=i+1,n_eq=1)"
   ]
  },
  {
   "cell_type": "code",
   "execution_count": 33,
   "metadata": {},
   "outputs": [
    {
     "data": {
      "text/plain": [
       "array([ 1.,  7., 16., 17., 21., 25., 26., 28., 29., 30.])"
      ]
     },
     "execution_count": 33,
     "metadata": {},
     "output_type": "execute_result"
    }
   ],
   "source": [
    "self.stage_index"
   ]
  },
  {
   "cell_type": "code",
   "execution_count": 34,
   "metadata": {},
   "outputs": [
    {
     "data": {
      "text/plain": [
       "namespace(index=array([[[30, nan, nan, nan],\n",
       "                        [nan, nan, nan, nan],\n",
       "                        [nan, nan, nan, nan],\n",
       "                        [nan, nan, nan, nan]],\n",
       "                \n",
       "                       [[29, 27, nan, nan],\n",
       "                        [28, 26, nan, nan],\n",
       "                        [nan, nan, nan, nan],\n",
       "                        [nan, nan, nan, nan]],\n",
       "                \n",
       "                       [[22, 24, 18, nan],\n",
       "                        [23, 25, 19, nan],\n",
       "                        [20, 21, 17, nan],\n",
       "                        [nan, nan, nan, nan]],\n",
       "                \n",
       "                       [[8, 11, 14, 2],\n",
       "                        [9, 12, 15, 3],\n",
       "                        [10, 13, 16, 4],\n",
       "                        [5, 6, 7, 1]]], dtype=object),\n",
       "          esr=array([0, 0, 0, 0, 0, 0, 0, 0, 0, 0, 0, 0, 0, 0, 0, 0, 0, 0, 0, 0, 0, 0,\n",
       "                     0, 0, 0, 0, 0, 0, 0, 0]),\n",
       "          bases=array([1, 1, 1, 1, 1, 1, 1, 3, 3, 3, 3, 3, 3, 3, 3, 3, 1, 1, 1, 1, 1, 3,\n",
       "                       1, 1, 1, 1, 1, 1, 3, 1]))"
      ]
     },
     "execution_count": 34,
     "metadata": {},
     "output_type": "execute_result"
    }
   ],
   "source": [
    "self.ess"
   ]
  },
  {
   "cell_type": "markdown",
   "metadata": {},
   "source": [
    "### RLS"
   ]
  },
  {
   "cell_type": "code",
   "execution_count": 26,
   "metadata": {},
   "outputs": [],
   "source": [
    "self = lf.Lf_model()\n",
    "self.state_recursion(self.T)"
   ]
  },
  {
   "cell_type": "code",
   "execution_count": null,
   "metadata": {},
   "outputs": [],
   "source": []
  },
  {
   "cell_type": "code",
   "execution_count": 32,
   "metadata": {},
   "outputs": [
    {
     "data": {
      "text/plain": [
       "array([1, 1, 1, 1, 1, 1, 1, 3, 3, 3, 3, 3, 3, 3, 3, 3, 1, 1, 1, 1, 1, 3,\n",
       "       1, 1, 1, 1, 1, 1, 3, 1])"
      ]
     },
     "execution_count": 32,
     "metadata": {},
     "output_type": "execute_result"
    }
   ],
   "source": [
    "self.ess.bases"
   ]
  },
  {
   "cell_type": "code",
   "execution_count": 33,
   "metadata": {},
   "outputs": [
    {
     "data": {
      "text/plain": [
       "array([0, 0, 0, 0, 0, 0, 0, 0, 0, 0, 0, 0, 0, 0, 0, 0, 0, 0, 0, 0, 0, 0,\n",
       "       0, 0, 0, 0, 0, 0, 0, 0])"
      ]
     },
     "execution_count": 33,
     "metadata": {},
     "output_type": "execute_result"
    }
   ],
   "source": [
    "self.ess.esr"
   ]
  },
  {
   "cell_type": "code",
   "execution_count": 31,
   "metadata": {},
   "outputs": [
    {
     "data": {
      "text/plain": [
       "array([[3, 1, 1],\n",
       "       [1, 1, 1],\n",
       "       [1, 1, 1]])"
      ]
     },
     "execution_count": 31,
     "metadata": {},
     "output_type": "execute_result"
    }
   ],
   "source": [
    "self.ss[2].nEQ"
   ]
  },
  {
   "cell_type": "code",
   "execution_count": 36,
   "metadata": {},
   "outputs": [],
   "source": [
    "def Gtau(lf,ess, tau):\n",
    "    lf.ess = ess\n",
    "    lf.state_recursion(tau)\n",
    "    return copy.copy(lf.ess)"
   ]
  },
  {
   "cell_type": "code",
   "execution_count": 37,
   "metadata": {},
   "outputs": [],
   "source": [
    "ess0 = copy.copy(self.ess)\n",
    "stage_index = self.stage_index"
   ]
  },
  {
   "cell_type": "code",
   "execution_count": 38,
   "metadata": {},
   "outputs": [],
   "source": [
    "#eq,eq_p, iC,index,iC1,iC2"
   ]
  },
  {
   "cell_type": "code",
   "execution_count": 39,
   "metadata": {},
   "outputs": [
    {
     "data": {
      "text/plain": [
       "array([0, 0, 0, 0, 0, 0, 0, 0, 0, 0, 0, 0, 0, 0, 0, 0, 0, 0, 0, 0, 0, 0,\n",
       "       0, 0, 0, 0, 0, 0, 0, 0])"
      ]
     },
     "execution_count": 39,
     "metadata": {},
     "output_type": "execute_result"
    }
   ],
   "source": [
    "self.ess.esr"
   ]
  },
  {
   "cell_type": "code",
   "execution_count": 40,
   "metadata": {},
   "outputs": [
    {
     "data": {
      "text/plain": [
       "array([[0, 0, 0],\n",
       "       [0, 0, 0],\n",
       "       [0, 0, 0]])"
      ]
     },
     "execution_count": 40,
     "metadata": {},
     "output_type": "execute_result"
    }
   ],
   "source": [
    "self.ss[2].nEQ"
   ]
  },
  {
   "cell_type": "code",
   "execution_count": 41,
   "metadata": {},
   "outputs": [
    {
     "name": "stdout",
     "output_type": "stream",
     "text": [
      "ESR(500).esr      : [\n",
      "[0 0 0 0 0 0 0 0 0 0 0 2 0 1 0 0 0 0 0 0 0 0 0 0 0 0 0 0 0 0]\n",
      "]\n",
      "ESR(500).bases    : [\n",
      "[1 1 1 1 1 1 1 3 3 3 3 3 3 3 3 3 1 1 1 1 1 1 1 1 1 1 1 1 3 1]\n",
      "]\n",
      "ESR(1000).esr      : [\n",
      "[0 0 0 0 0 0 0 0 0 0 1 1 2 0 2 2 0 0 0 0 0 1 0 0 0 0 0 0 0 0]\n",
      "]\n",
      "ESR(1000).bases    : [\n",
      "[1 1 1 1 1 1 1 3 3 3 3 3 3 3 3 3 1 1 1 1 1 3 1 1 1 1 1 1 1 1]\n",
      "]\n",
      "ESR(1500).esr      : [\n",
      "[0 0 0 0 0 0 0 0 0 0 2 1 2 0 1 2 0 0 0 0 0 1 0 0 0 0 0 0 0 0]\n",
      "]\n",
      "ESR(1500).bases    : [\n",
      "[1 1 1 1 1 1 1 3 3 3 3 3 3 3 3 3 1 1 1 1 1 3 1 1 1 1 1 1 1 1]\n",
      "]\n",
      "ESR(2000).esr      : [\n",
      "[0 0 0 0 0 0 0 0 0 1 0 2 1 1 0 2 0 0 0 0 0 0 0 0 2 0 0 0 0 0]\n",
      "]\n",
      "ESR(2000).bases    : [\n",
      "[1 1 1 1 1 1 1 3 3 3 3 3 3 3 3 3 1 1 1 1 1 1 1 1 3 1 1 1 1 1]\n",
      "]\n",
      "ESR(2500).esr      : [\n",
      "[0 0 0 0 0 0 0 0 0 1 2 1 0 0 0 2 0 0 0 0 0 1 0 0 0 0 0 0 0 0]\n",
      "]\n",
      "ESR(2500).bases    : [\n",
      "[1 1 1 1 1 1 1 3 3 3 3 3 3 3 3 3 1 1 1 1 1 3 1 1 1 1 1 1 1 1]\n",
      "]\n",
      "ESR(3000).esr      : [\n",
      "[0 0 0 0 0 0 0 0 0 2 0 1 0 0 0 2 0 0 0 0 0 0 0 0 0 0 0 0 2 0]\n",
      "]\n",
      "ESR(3000).bases    : [\n",
      "[1 1 1 1 1 1 1 3 3 3 3 3 3 3 3 3 1 1 1 1 1 3 1 1 1 1 1 1 3 1]\n",
      "]\n",
      "ESR(3500).esr      : [\n",
      "[0 0 0 0 0 0 0 0 0 2 1 0 2 0 0 2 0 0 0 0 0 0 0 0 0 0 0 0 0 0]\n",
      "]\n",
      "ESR(3500).bases    : [\n",
      "[1 1 1 1 1 1 1 3 3 3 3 3 3 3 3 3 1 1 1 1 1 3 1 1 1 1 1 1 1 1]\n",
      "]\n",
      "ESR(4000).esr      : [\n",
      "[0 0 0 0 0 0 0 0 0 2 2 0 0 0 1 2 0 0 0 0 0 2 0 0 0 0 0 0 2 0]\n",
      "]\n",
      "ESR(4000).bases    : [\n",
      "[1 1 1 1 1 1 1 3 3 3 3 3 3 3 3 3 1 1 1 1 1 3 1 1 1 1 1 1 3 1]\n",
      "]\n",
      "ESR(4500).esr      : [\n",
      "[0 0 0 0 0 0 0 0 0 2 2 2 2 1 0 2 0 0 0 0 0 0 0 0 0 0 0 0 2 0]\n",
      "]\n",
      "ESR(4500).bases    : [\n",
      "[1 1 1 1 1 1 1 3 3 3 3 3 3 3 3 3 1 1 1 1 1 1 1 1 1 1 1 1 3 1]\n",
      "]\n",
      "ESR(5000).esr      : [\n",
      "[0 0 0 0 0 0 0 0 1 0 0 2 2 2 1 1 0 0 0 0 0 0 0 0 0 0 0 0 0 0]\n",
      "]\n",
      "ESR(5000).bases    : [\n",
      "[1 1 1 1 1 1 1 3 3 3 3 3 3 3 3 3 1 1 1 1 1 1 1 1 1 1 1 1 3 1]\n",
      "]\n",
      "ESR(5500).esr      : [\n",
      "[0 0 0 0 0 0 0 0 1 0 2 0 2 0 0 0 0 0 0 0 0 0 0 0 0 0 0 0 0 0]\n",
      "]\n",
      "ESR(5500).bases    : [\n",
      "[1 1 1 1 1 1 1 3 3 3 3 3 3 3 3 3 1 1 1 1 1 3 1 1 1 1 1 1 1 1]\n",
      "]\n",
      "ESR(6000).esr      : [\n",
      "[0 0 0 0 0 0 0 0 1 1 0 1 1 0 1 2 0 0 0 0 0 2 0 0 0 0 0 0 0 0]\n",
      "]\n",
      "ESR(6000).bases    : [\n",
      "[1 1 1 1 1 1 1 3 3 3 3 3 3 3 3 3 1 1 1 1 1 3 1 1 1 1 1 1 1 1]\n",
      "]\n",
      "ESR(6500).esr      : [\n",
      "[0 0 0 0 0 0 0 0 1 1 1 1 2 2 0 1 0 0 0 0 0 0 0 0 0 0 0 0 0 0]\n",
      "]\n",
      "ESR(6500).bases    : [\n",
      "[1 1 1 1 1 1 1 3 3 3 3 3 3 3 3 3 1 1 1 1 1 1 1 1 1 1 1 1 1 1]\n",
      "]\n",
      "ESR(7000).esr      : [\n",
      "[0 0 0 0 0 0 0 0 1 1 2 2 1 0 0 2 0 0 0 0 0 1 0 0 1 0 0 0 0 0]\n",
      "]\n",
      "ESR(7000).bases    : [\n",
      "[1 1 1 1 1 1 1 3 3 3 3 3 3 3 3 3 1 1 1 1 1 3 1 3 3 1 1 1 1 1]\n",
      "]\n",
      "ESR(7500).esr      : [\n",
      "[0 0 0 0 0 0 0 0 1 2 0 2 2 2 0 2 0 0 0 0 0 0 0 0 0 0 0 0 0 0]\n",
      "]\n",
      "ESR(7500).bases    : [\n",
      "[1 1 1 1 1 1 1 3 3 3 3 3 3 3 3 3 1 1 1 1 1 1 1 1 1 1 1 1 1 1]\n",
      "]\n",
      "ESR(8000).esr      : [\n",
      "[0 0 0 0 0 0 0 0 1 2 2 0 0 1 2 1 0 0 0 0 0 0 0 0 0 0 0 0 0 0]\n",
      "]\n",
      "ESR(8000).bases    : [\n",
      "[1 1 1 1 1 1 1 3 3 3 3 3 3 3 3 3 1 1 1 1 1 1 1 1 1 1 1 1 1 1]\n",
      "]\n",
      "ESR(8500).esr      : [\n",
      "[0 0 0 0 0 0 0 0 2 0 0 0 2 0 2 0 0 0 0 0 0 1 0 0 0 0 0 0 0 0]\n",
      "]\n",
      "ESR(8500).bases    : [\n",
      "[1 1 1 1 1 1 1 3 3 3 3 3 3 3 3 3 1 1 1 1 1 3 1 1 1 1 1 1 1 1]\n",
      "]\n",
      "ESR(9000).esr      : [\n",
      "[0 0 0 0 0 0 0 0 2 0 1 0 2 2 2 0 0 0 0 0 0 0 0 0 0 0 0 0 0 0]\n",
      "]\n",
      "ESR(9000).bases    : [\n",
      "[1 1 1 1 1 1 1 3 3 3 3 3 3 3 3 3 1 1 1 1 1 1 1 1 1 1 1 1 1 1]\n",
      "]\n",
      "ESR(9500).esr      : [\n",
      "[0 0 0 0 0 0 0 0 2 0 2 1 1 2 1 0 0 0 0 0 0 0 0 0 0 0 0 0 0 0]\n",
      "]\n",
      "ESR(9500).bases    : [\n",
      "[1 1 1 1 1 1 1 3 3 3 3 3 3 3 3 3 1 1 1 1 1 1 1 1 1 1 1 1 1 1]\n",
      "]\n",
      "ESR(10000).esr      : [\n",
      "[0 0 0 0 0 0 0 0 2 1 0 2 0 0 1 0 0 0 0 0 0 0 0 0 0 0 0 0 1 0]\n",
      "]\n",
      "ESR(10000).bases    : [\n",
      "[1 1 1 1 1 1 1 3 3 3 3 3 3 3 3 3 1 1 1 1 1 1 1 1 1 1 1 1 3 1]\n",
      "]\n",
      "ESR(10500).esr      : [\n",
      "[0 0 0 0 0 0 0 0 2 1 1 2 1 0 0 2 0 0 0 0 0 2 1 0 1 0 0 0 0 0]\n",
      "]\n",
      "ESR(10500).bases    : [\n",
      "[1 1 1 1 1 1 1 3 3 3 3 3 3 3 3 3 1 1 1 1 1 3 3 1 3 1 1 1 1 1]\n",
      "]\n",
      "ESR(11000).esr      : [\n",
      "[0 0 0 0 0 0 0 0 2 1 2 2 1 0 0 2 0 0 0 0 0 1 0 2 2 0 0 0 0 0]\n",
      "]\n",
      "ESR(11000).bases    : [\n",
      "[1 1 1 1 1 1 1 3 3 3 3 3 3 3 3 3 1 1 1 1 1 3 3 3 3 1 1 1 1 1]\n",
      "]\n",
      "ESR(11500).esr      : [\n",
      "[0 0 0 0 0 0 0 0 2 2 0 2 2 0 2 2 0 0 0 0 0 1 0 0 0 0 0 0 0 0]\n",
      "]\n",
      "ESR(11500).bases    : [\n",
      "[1 1 1 1 1 1 1 3 3 3 3 3 3 3 3 3 1 1 1 1 1 3 1 1 1 1 1 1 3 1]\n",
      "]\n",
      "ESR(12000).esr      : [\n",
      "[0 0 0 0 0 0 0 0 2 2 1 2 2 2 1 1 0 0 0 0 0 0 0 0 0 0 0 0 2 0]\n",
      "]\n",
      "ESR(12000).bases    : [\n",
      "[1 1 1 1 1 1 1 3 3 3 3 3 3 3 3 3 1 1 1 1 1 1 1 1 1 1 1 1 3 1]\n",
      "]\n",
      "ESR(12500).esr      : [\n",
      "[0 0 0 0 0 0 0 1 0 0 0 0 1 1 0 0 0 0 0 0 0 0 0 0 0 0 0 0 0 0]\n",
      "]\n",
      "ESR(12500).bases    : [\n",
      "[1 1 1 1 1 1 1 3 3 3 3 3 3 3 3 3 1 1 1 1 1 1 1 1 1 1 1 1 1 1]\n",
      "]\n",
      "ESR(13000).esr      : [\n",
      "[0 0 0 0 0 0 0 1 0 0 1 1 1 2 2 0 0 0 0 0 0 0 0 0 0 0 0 0 1 0]\n",
      "]\n",
      "ESR(13000).bases    : [\n",
      "[1 1 1 1 1 1 1 3 3 3 3 3 3 3 3 3 1 1 1 1 1 1 1 1 1 1 1 1 3 1]\n",
      "]\n",
      "ESR(13500).esr      : [\n",
      "[0 0 0 0 0 0 0 1 0 0 2 2 2 2 1 2 0 0 0 0 0 0 0 0 0 0 0 0 1 0]\n",
      "]\n",
      "ESR(13500).bases    : [\n",
      "[1 1 1 1 1 1 1 3 3 3 3 3 3 3 3 3 1 1 1 1 1 1 1 1 1 1 1 1 3 1]\n",
      "]\n",
      "ESR(14000).esr      : [\n",
      "[0 0 0 0 0 0 0 1 0 1 0 2 2 1 0 2 0 0 0 0 0 0 0 0 0 0 0 0 0 0]\n",
      "]\n",
      "ESR(14000).bases    : [\n",
      "[1 1 1 1 1 1 1 3 3 3 3 3 3 3 3 3 1 1 1 1 1 3 1 1 1 1 1 1 1 1]\n",
      "]\n",
      "ESR(14500).esr      : [\n",
      "[0 0 0 0 0 0 0 1 0 1 1 2 0 1 1 2 0 0 0 0 0 0 0 0 0 0 0 0 0 0]\n",
      "]\n",
      "ESR(14500).bases    : [\n",
      "[1 1 1 1 1 1 1 3 3 3 3 3 3 3 3 3 1 1 1 1 1 3 1 1 1 1 1 1 3 1]\n",
      "]\n",
      "ESR(15000).esr      : [\n",
      "[0 0 0 0 0 0 0 1 0 1 2 1 1 1 1 2 0 0 0 0 0 1 0 0 0 0 0 0 0 0]\n",
      "]\n",
      "ESR(15000).bases    : [\n",
      "[1 1 1 1 1 1 1 3 3 3 3 3 3 3 3 3 1 1 1 1 1 3 1 1 1 1 1 1 1 1]\n",
      "]\n",
      "ESR(15500).esr      : [\n",
      "[0 0 0 0 0 0 0 1 0 2 0 1 0 2 2 1 0 0 0 0 0 0 0 0 0 0 0 0 0 0]\n",
      "]\n",
      "ESR(15500).bases    : [\n",
      "[1 1 1 1 1 1 1 3 3 3 3 3 3 3 3 3 1 1 1 1 1 1 1 1 1 1 1 1 1 1]\n",
      "]\n",
      "ESR(16000).esr      : [\n",
      "[0 0 0 0 0 0 0 1 0 2 1 2 1 2 0 0 0 0 0 0 0 0 0 0 0 0 0 0 0 0]\n",
      "]\n",
      "ESR(16000).bases    : [\n",
      "[1 1 1 1 1 1 1 3 3 3 3 3 3 3 3 3 1 1 1 1 1 1 1 1 1 1 1 1 3 1]\n",
      "]\n",
      "ESR(16500).esr      : [\n",
      "[0 0 0 0 0 0 0 1 1 0 0 1 0 1 2 1 0 0 0 0 0 0 0 0 0 0 0 0 0 0]\n",
      "]\n",
      "ESR(16500).bases    : [\n",
      "[1 1 1 1 1 1 1 3 3 3 3 3 3 3 3 3 1 1 1 1 1 1 1 1 1 1 1 1 1 1]\n",
      "]\n",
      "ESR(17000).esr      : [\n",
      "[0 0 0 0 0 0 0 1 1 0 1 2 0 1 1 2 0 0 0 0 0 0 0 0 0 0 0 0 2 0]\n",
      "]\n",
      "ESR(17000).bases    : [\n",
      "[1 1 1 1 1 1 1 3 3 3 3 3 3 3 3 3 1 1 1 1 1 1 1 1 1 1 1 1 3 1]\n",
      "]\n",
      "ESR(17500).esr      : [\n",
      "[0 0 0 0 0 0 0 1 1 1 0 0 0 2 0 0 0 0 0 0 0 0 0 0 0 0 0 0 0 0]\n",
      "]\n",
      "ESR(17500).bases    : [\n",
      "[1 1 1 1 1 1 1 3 3 3 3 3 3 3 3 3 1 1 1 1 1 1 1 1 1 1 1 1 1 1]\n",
      "]\n",
      "ESR(18000).esr      : [\n",
      "[0 0 0 0 0 0 0 1 1 1 0 2 2 1 0 1 0 0 0 0 0 0 0 0 0 0 0 0 0 0]\n",
      "]\n",
      "ESR(18000).bases    : [\n",
      "[1 1 1 1 1 1 1 3 3 3 3 3 3 3 3 3 1 1 1 1 1 3 1 1 1 1 1 1 3 1]\n",
      "]\n",
      "ESR(18500).esr      : [\n",
      "[0 0 0 0 0 0 0 1 1 1 1 1 2 1 0 1 0 0 0 0 0 2 0 0 0 0 0 0 0 0]\n",
      "]\n",
      "ESR(18500).bases    : [\n",
      "[1 1 1 1 1 1 1 3 3 3 3 3 3 3 3 3 1 1 1 1 1 3 1 1 1 1 1 1 1 1]\n",
      "]\n",
      "ESR(19000).esr      : [\n",
      "[0 0 0 0 0 0 0 1 1 1 2 0 1 0 2 2 0 0 0 0 0 1 0 2 0 0 0 0 0 0]\n",
      "]\n",
      "ESR(19000).bases    : [\n",
      "[1 1 1 1 1 1 1 3 3 3 3 3 3 3 3 3 1 1 1 1 1 3 1 3 1 1 1 1 1 1]\n",
      "]\n",
      "ESR(19500).esr      : [\n",
      "[0 0 0 0 0 0 0 1 1 1 2 2 2 0 2 2 0 0 0 0 0 2 0 0 0 0 0 0 2 0]\n",
      "]\n",
      "ESR(19500).bases    : [\n",
      "[1 1 1 1 1 1 1 3 3 3 3 3 3 3 3 3 1 1 1 1 1 3 1 1 1 1 1 1 3 1]\n",
      "]\n",
      "ESR(20000).esr      : [\n",
      "[0 0 0 0 0 0 0 1 1 2 1 0 2 1 2 1 0 0 0 0 0 0 0 0 0 0 0 0 0 0]\n",
      "]\n",
      "ESR(20000).bases    : [\n",
      "[1 1 1 1 1 1 1 3 3 3 3 3 3 3 3 3 1 1 1 1 1 1 1 1 1 1 1 1 1 1]\n",
      "]\n",
      "ESR(20500).esr      : [\n",
      "[0 0 0 0 0 0 0 1 1 2 2 1 2 2 2 2 0 0 0 0 0 0 0 0 0 0 0 0 0 0]\n",
      "]\n",
      "ESR(20500).bases    : [\n",
      "[1 1 1 1 1 1 1 3 3 3 3 3 3 3 3 3 1 1 1 1 1 1 1 1 1 1 1 1 1 1]\n",
      "]\n",
      "ESR(21000).esr      : [\n",
      "[0 0 0 0 0 0 0 1 2 0 1 0 2 0 1 0 0 0 0 0 0 0 0 0 0 0 0 0 0 0]\n",
      "]\n",
      "ESR(21000).bases    : [\n",
      "[1 1 1 1 1 1 1 3 3 3 3 3 3 3 3 3 1 1 1 1 1 1 1 1 1 1 1 1 1 1]\n",
      "]\n",
      "ESR(21500).esr      : [\n",
      "[0 0 0 0 0 0 0 1 2 0 2 2 2 0 2 0 0 0 0 0 0 0 0 0 0 0 0 0 0 0]\n",
      "]\n",
      "ESR(21500).bases    : [\n",
      "[1 1 1 1 1 1 1 3 3 3 3 3 3 3 3 3 1 1 1 1 1 1 1 1 1 1 1 1 1 1]\n",
      "]\n",
      "ESR(22000).esr      : [\n",
      "[0 0 0 0 0 0 0 1 2 1 0 2 0 1 2 0 0 0 0 0 0 0 0 0 0 0 0 0 0 0]\n",
      "]\n",
      "ESR(22000).bases    : [\n",
      "[1 1 1 1 1 1 1 3 3 3 3 3 3 3 3 3 1 1 1 1 1 1 1 1 1 1 1 1 1 1]\n",
      "]\n",
      "ESR(22500).esr      : [\n",
      "[0 0 0 0 0 0 0 1 2 1 1 0 2 2 1 1 0 0 0 0 0 0 0 0 0 0 0 0 0 0]\n",
      "]\n",
      "ESR(22500).bases    : [\n",
      "[1 1 1 1 1 1 1 3 3 3 3 3 3 3 3 3 1 1 1 1 1 1 1 1 1 1 1 1 1 1]\n",
      "]\n",
      "ESR(23000).esr      : [\n",
      "[0 0 0 0 0 0 0 1 2 1 1 2 1 2 0 2 0 0 0 0 0 0 1 0 2 0 0 0 0 0]\n",
      "]\n",
      "ESR(23000).bases    : [\n",
      "[1 1 1 1 1 1 1 3 3 3 3 3 3 3 3 3 1 1 1 1 1 3 3 1 3 1 1 1 3 1]\n",
      "]\n",
      "ESR(23500).esr      : [\n",
      "[0 0 0 0 0 0 0 1 2 1 2 1 1 0 2 2 0 0 0 0 0 1 0 2 0 0 0 0 0 0]\n",
      "]\n",
      "ESR(23500).bases    : [\n",
      "[1 1 1 1 1 1 1 3 3 3 3 3 3 3 3 3 1 1 1 1 1 3 1 3 1 1 1 1 1 1]\n",
      "]\n",
      "ESR(24000).esr      : [\n",
      "[0 0 0 0 0 0 0 1 2 1 2 2 2 2 2 2 0 0 0 0 0 0 0 0 0 0 0 0 1 0]\n",
      "]\n",
      "ESR(24000).bases    : [\n",
      "[1 1 1 1 1 1 1 3 3 3 3 3 3 3 3 3 1 1 1 1 1 3 1 1 1 1 1 1 3 1]\n",
      "]\n",
      "ESR(24500).esr      : [\n",
      "[0 0 0 0 0 0 0 1 2 2 1 2 0 2 1 0 0 0 0 0 0 0 0 0 0 0 0 0 0 0]\n",
      "]\n",
      "ESR(24500).bases    : [\n",
      "[1 1 1 1 1 1 1 3 3 3 3 3 3 3 3 3 1 1 1 1 1 1 1 1 1 1 1 1 3 1]\n",
      "]\n",
      "ESR(25000).esr      : [\n",
      "[0 0 0 0 0 0 0 2 0 0 0 0 0 1 2 2 0 0 0 0 0 1 0 0 0 0 0 0 1 0]\n",
      "]\n",
      "ESR(25000).bases    : [\n",
      "[1 1 1 1 1 1 1 3 3 3 3 3 3 3 3 3 1 1 1 1 1 3 1 1 1 1 1 1 3 1]\n",
      "]\n",
      "ESR(25500).esr      : [\n",
      "[0 0 0 0 0 0 0 2 0 0 0 1 1 1 2 2 0 0 0 0 0 0 0 0 0 0 0 0 0 0]\n",
      "]\n",
      "ESR(25500).bases    : [\n",
      "[1 1 1 1 1 1 1 3 3 3 3 3 3 3 3 3 1 1 1 1 1 3 1 1 1 1 1 1 1 1]\n",
      "]\n",
      "ESR(26000).esr      : [\n",
      "[0 0 0 0 0 0 0 2 0 0 0 2 2 1 0 1 0 0 0 0 0 1 0 0 0 0 0 0 2 0]\n",
      "]\n",
      "ESR(26000).bases    : [\n",
      "[1 1 1 1 1 1 1 3 3 3 3 3 3 3 3 3 1 1 1 1 1 3 1 1 1 1 1 1 3 1]\n",
      "]\n",
      "ESR(26500).esr      : [\n",
      "[0 0 0 0 0 0 0 2 0 0 1 1 0 0 0 2 0 0 0 0 0 2 0 0 0 0 0 0 1 0]\n",
      "]\n",
      "ESR(26500).bases    : [\n",
      "[1 1 1 1 1 1 1 3 3 3 3 3 3 3 3 3 1 1 1 1 1 3 1 1 1 1 1 1 3 1]\n",
      "]\n",
      "ESR(27000).esr      : [\n",
      "[0 0 0 0 0 0 0 2 0 0 1 2 1 1 0 0 0 0 0 0 0 2 0 0 0 0 0 0 0 0]\n",
      "]\n",
      "ESR(27000).bases    : [\n",
      "[1 1 1 1 1 1 1 3 3 3 3 3 3 3 3 3 1 1 1 1 1 3 1 1 1 1 1 1 3 1]\n",
      "]\n",
      "ESR(27500).esr      : [\n",
      "[0 0 0 0 0 0 0 2 0 0 2 0 2 0 2 0 0 0 0 0 0 1 0 0 0 0 0 0 0 0]\n",
      "]\n",
      "ESR(27500).bases    : [\n",
      "[1 1 1 1 1 1 1 3 3 3 3 3 3 3 3 3 1 1 1 1 1 3 1 1 1 1 1 1 3 1]\n",
      "]\n",
      "ESR(28000).esr      : [\n",
      "[0 0 0 0 0 0 0 2 0 0 2 2 1 0 0 0 0 0 0 0 0 0 0 0 0 0 0 0 0 0]\n",
      "]\n",
      "ESR(28000).bases    : [\n",
      "[1 1 1 1 1 1 1 3 3 3 3 3 3 3 3 3 1 1 1 1 1 3 1 1 1 1 1 1 1 1]\n",
      "]\n",
      "ESR(28500).esr      : [\n",
      "[0 0 0 0 0 0 0 2 0 1 0 1 1 1 1 1 0 0 0 0 0 1 0 0 0 0 0 0 0 0]\n",
      "]\n",
      "ESR(28500).bases    : [\n",
      "[1 1 1 1 1 1 1 3 3 3 3 3 3 3 3 3 1 1 1 1 1 3 1 1 1 1 1 1 1 1]\n",
      "]\n",
      "ESR(29000).esr      : [\n",
      "[0 0 0 0 0 0 0 2 0 1 1 0 2 1 2 2 0 0 0 0 0 2 0 0 0 0 0 0 0 0]\n",
      "]\n",
      "ESR(29000).bases    : [\n",
      "[1 1 1 1 1 1 1 3 3 3 3 3 3 3 3 3 1 1 1 1 1 3 1 1 1 1 1 1 1 1]\n",
      "]\n",
      "ESR(29500).esr      : [\n",
      "[0 0 0 0 0 0 0 2 0 1 1 2 2 1 2 1 0 0 0 0 0 0 0 0 0 0 0 0 1 0]\n",
      "]\n",
      "ESR(29500).bases    : [\n",
      "[1 1 1 1 1 1 1 3 3 3 3 3 3 3 3 3 1 1 1 1 1 3 1 1 1 1 1 1 3 1]\n",
      "]\n",
      "ESR(30000).esr      : [\n",
      "[0 0 0 0 0 0 0 2 0 1 2 2 1 0 1 2 0 0 0 0 0 2 0 0 0 0 0 0 0 0]\n",
      "]\n",
      "ESR(30000).bases    : [\n",
      "[1 1 1 1 1 1 1 3 3 3 3 3 3 3 3 3 1 1 1 1 1 3 1 3 1 1 1 1 1 1]\n",
      "]\n",
      "ESR(30500).esr      : [\n",
      "[0 0 0 0 0 0 0 2 0 2 0 1 0 1 1 2 0 0 0 0 0 2 0 0 0 0 0 0 0 0]\n",
      "]\n",
      "ESR(30500).bases    : [\n",
      "[1 1 1 1 1 1 1 3 3 3 3 3 3 3 3 3 1 1 1 1 1 3 1 1 1 1 1 1 1 1]\n",
      "]\n",
      "ESR(31000).esr      : [\n",
      "[0 0 0 0 0 0 0 2 0 2 1 0 0 0 1 1 0 0 0 0 0 0 0 0 0 0 0 0 2 0]\n",
      "]\n",
      "ESR(31000).bases    : [\n",
      "[1 1 1 1 1 1 1 3 3 3 3 3 3 3 3 3 1 1 1 1 1 1 1 1 1 1 1 1 3 1]\n",
      "]\n",
      "ESR(31500).esr      : [\n",
      "[0 0 0 0 0 0 0 2 0 2 1 1 1 2 1 2 0 0 0 0 0 1 0 0 0 0 0 0 0 0]\n",
      "]\n",
      "ESR(31500).bases    : [\n",
      "[1 1 1 1 1 1 1 3 3 3 3 3 3 3 3 3 1 1 1 1 1 3 1 1 1 1 1 1 3 1]\n",
      "]\n",
      "ESR(32000).esr      : [\n",
      "[0 0 0 0 0 0 0 2 0 2 2 0 0 0 0 1 0 0 0 0 0 0 0 0 0 0 0 0 2 0]\n",
      "]\n",
      "ESR(32000).bases    : [\n",
      "[1 1 1 1 1 1 1 3 3 3 3 3 3 3 3 3 1 1 1 1 1 1 1 1 1 1 1 1 3 1]\n",
      "]\n",
      "ESR(32500).esr      : [\n",
      "[0 0 0 0 0 0 0 2 0 2 2 1 2 2 1 2 0 0 0 0 0 1 0 0 0 0 0 0 0 0]\n",
      "]\n",
      "ESR(32500).bases    : [\n",
      "[1 1 1 1 1 1 1 3 3 3 3 3 3 3 3 3 1 1 1 1 1 3 1 1 1 1 1 1 1 1]\n",
      "]\n",
      "ESR(33000).esr      : [\n",
      "[0 0 0 0 0 0 0 2 1 0 0 0 2 0 2 0 0 0 0 0 0 2 0 0 0 0 0 0 0 0]\n",
      "]\n",
      "ESR(33000).bases    : [\n",
      "[1 1 1 1 1 1 1 3 3 3 3 3 3 3 3 3 1 1 1 1 1 3 1 1 1 1 1 1 1 1]\n",
      "]\n",
      "ESR(33500).esr      : [\n",
      "[0 0 0 0 0 0 0 2 1 0 0 2 1 1 2 2 0 0 0 0 0 2 0 0 0 0 0 0 0 0]\n",
      "]\n",
      "ESR(33500).bases    : [\n",
      "[1 1 1 1 1 1 1 3 3 3 3 3 3 3 3 3 1 1 1 1 1 3 1 1 1 1 1 1 1 1]\n",
      "]\n",
      "ESR(34000).esr      : [\n",
      "[0 0 0 0 0 0 0 2 1 0 1 1 0 1 2 1 0 0 0 0 0 2 0 0 0 0 0 0 2 0]\n",
      "]\n",
      "ESR(34000).bases    : [\n",
      "[1 1 1 1 1 1 1 3 3 3 3 3 3 3 3 3 1 1 1 1 1 3 1 1 1 1 1 1 3 1]\n",
      "]\n",
      "ESR(34500).esr      : [\n",
      "[0 0 0 0 0 0 0 2 1 0 1 2 1 2 2 2 0 0 0 0 0 0 0 0 0 0 0 0 0 0]\n",
      "]\n",
      "ESR(34500).bases    : [\n",
      "[1 1 1 1 1 1 1 3 3 3 3 3 3 3 3 3 1 1 1 1 1 3 1 1 1 1 1 1 3 1]\n",
      "]\n",
      "ESR(35000).esr      : [\n",
      "[0 0 0 0 0 0 0 2 1 0 2 1 1 2 1 1 0 0 0 0 0 0 0 0 0 0 0 0 0 0]\n",
      "]\n",
      "ESR(35000).bases    : [\n",
      "[1 1 1 1 1 1 1 3 3 3 3 3 3 3 3 3 1 1 1 1 1 1 1 1 1 1 1 1 1 1]\n",
      "]\n",
      "ESR(35500).esr      : [\n",
      "[0 0 0 0 0 0 0 2 1 1 0 0 0 2 1 2 0 0 0 0 0 0 0 0 0 0 0 0 0 0]\n",
      "]\n",
      "ESR(35500).bases    : [\n",
      "[1 1 1 1 1 1 1 3 3 3 3 3 3 3 3 3 1 1 1 1 1 3 1 1 1 1 1 1 1 1]\n",
      "]\n",
      "ESR(36000).esr      : [\n",
      "[0 0 0 0 0 0 0 2 1 1 0 2 2 1 0 2 0 0 0 0 0 0 0 0 0 0 0 0 0 0]\n",
      "]\n",
      "ESR(36000).bases    : [\n",
      "[1 1 1 1 1 1 1 3 3 3 3 3 3 3 3 3 1 1 1 1 1 3 1 1 1 1 1 1 1 1]\n",
      "]\n",
      "ESR(36500).esr      : [\n",
      "[0 0 0 0 0 0 0 2 1 1 1 1 2 1 0 1 0 0 0 0 0 2 0 0 0 0 0 0 1 0]\n",
      "]\n",
      "ESR(36500).bases    : [\n",
      "[1 1 1 1 1 1 1 3 3 3 3 3 3 3 3 3 1 1 1 1 1 3 1 1 1 1 1 1 3 1]\n",
      "]\n",
      "ESR(37000).esr      : [\n",
      "[0 0 0 0 0 0 0 2 1 1 2 0 1 0 2 2 0 0 0 0 0 0 0 0 0 0 0 0 0 0]\n",
      "]\n",
      "ESR(37000).bases    : [\n",
      "[1 1 1 1 1 1 1 3 3 3 3 3 3 3 3 3 1 1 1 1 1 3 1 3 1 1 1 1 1 1]\n",
      "]\n",
      "ESR(37500).esr      : [\n",
      "[0 0 0 0 0 0 0 2 1 1 2 2 2 0 2 2 0 0 0 0 0 1 0 0 0 0 0 0 0 0]\n",
      "]\n",
      "ESR(37500).bases    : [\n",
      "[1 1 1 1 1 1 1 3 3 3 3 3 3 3 3 3 1 1 1 1 1 3 1 1 1 1 1 1 3 1]\n",
      "]\n",
      "ESR(38000).esr      : [\n",
      "[0 0 0 0 0 0 0 2 1 2 0 2 0 2 1 2 0 0 0 0 0 1 0 0 0 0 0 0 2 0]\n",
      "]\n",
      "ESR(38000).bases    : [\n",
      "[1 1 1 1 1 1 1 3 3 3 3 3 3 3 3 3 1 1 1 1 1 3 1 1 1 1 1 1 3 1]\n",
      "]\n",
      "ESR(38500).esr      : [\n",
      "[0 0 0 0 0 0 0 2 1 2 1 1 0 2 1 2 0 0 0 0 0 1 0 0 0 0 0 0 2 0]\n",
      "]\n",
      "ESR(38500).bases    : [\n",
      "[1 1 1 1 1 1 1 3 3 3 3 3 3 3 3 3 1 1 1 1 1 3 1 1 1 1 1 1 3 1]\n",
      "]\n",
      "ESR(39000).esr      : [\n",
      "[0 0 0 0 0 0 0 2 1 2 1 2 2 1 1 1 0 0 0 0 0 0 0 0 0 0 0 0 0 0]\n",
      "]\n",
      "ESR(39000).bases    : [\n",
      "[1 1 1 1 1 1 1 3 3 3 3 3 3 3 3 3 1 1 1 1 1 3 1 1 1 1 1 1 3 1]\n",
      "]\n",
      "ESR(39500).esr      : [\n",
      "[0 0 0 0 0 0 0 2 1 2 2 2 0 2 1 0 0 0 0 0 0 0 0 0 0 0 0 0 1 0]\n",
      "]\n",
      "ESR(39500).bases    : [\n",
      "[1 1 1 1 1 1 1 3 3 3 3 3 3 3 3 3 1 1 1 1 1 1 1 1 1 1 1 1 3 1]\n",
      "]\n",
      "ESR(40000).esr      : [\n",
      "[0 0 0 0 0 0 0 2 2 0 0 1 0 1 2 2 0 0 0 0 0 1 0 0 0 0 0 0 0 0]\n",
      "]\n",
      "ESR(40000).bases    : [\n",
      "[1 1 1 1 1 1 1 3 3 3 3 3 3 3 3 3 1 1 1 1 1 3 1 1 1 1 1 1 1 1]\n",
      "]\n",
      "ESR(40500).esr      : [\n",
      "[0 0 0 0 0 0 0 2 2 0 0 2 2 1 1 2 0 0 0 0 0 2 0 0 0 0 0 0 1 0]\n",
      "]\n",
      "ESR(40500).bases    : [\n",
      "[1 1 1 1 1 1 1 3 3 3 3 3 3 3 3 3 1 1 1 1 1 3 1 1 1 1 1 1 3 1]\n",
      "]\n",
      "ESR(41000).esr      : [\n",
      "[0 0 0 0 0 0 0 2 2 0 1 1 2 0 1 2 0 0 0 0 0 0 0 0 0 0 0 0 0 0]\n",
      "]\n",
      "ESR(41000).bases    : [\n",
      "[1 1 1 1 1 1 1 3 3 3 3 3 3 3 3 3 1 1 1 1 1 3 1 1 1 1 1 1 1 1]\n",
      "]\n",
      "ESR(41500).esr      : [\n",
      "[0 0 0 0 0 0 0 2 2 0 2 0 1 0 0 2 0 0 0 0 0 1 0 1 0 0 0 0 0 0]\n",
      "]\n",
      "ESR(41500).bases    : [\n",
      "[1 1 1 1 1 1 1 3 3 3 3 3 3 3 3 3 1 1 1 1 1 3 1 3 1 1 1 1 1 1]\n",
      "]\n",
      "ESR(42000).esr      : [\n",
      "[0 0 0 0 0 0 0 2 2 0 2 2 1 0 0 2 0 0 0 0 0 1 0 1 0 0 0 0 0 0]\n",
      "]\n",
      "ESR(42000).bases    : [\n",
      "[1 1 1 1 1 1 1 3 3 3 3 3 3 3 3 3 1 1 1 1 1 3 1 3 3 1 1 1 1 1]\n",
      "]\n",
      "ESR(42500).esr      : [\n",
      "[0 0 0 0 0 0 0 2 2 1 0 1 1 0 0 2 0 0 0 0 0 0 0 0 0 0 0 0 0 0]\n",
      "]\n",
      "ESR(42500).bases    : [\n",
      "[1 1 1 1 1 1 1 3 3 3 3 3 3 3 3 3 1 1 1 1 1 3 3 1 1 1 1 1 1 1]\n",
      "]\n",
      "ESR(43000).esr      : [\n",
      "[0 0 0 0 0 0 0 2 2 1 1 0 0 1 0 2 0 0 0 0 0 0 2 0 0 0 0 0 0 0]\n",
      "]\n",
      "ESR(43000).bases    : [\n",
      "[1 1 1 1 1 1 1 3 3 3 3 3 3 3 3 3 1 1 1 1 1 3 3 1 1 1 1 1 1 1]\n",
      "]\n",
      "ESR(43500).esr      : [\n",
      "[0 0 0 0 0 0 0 2 2 1 1 1 2 2 2 0 0 0 0 0 0 0 0 0 0 0 0 0 0 0]\n",
      "]\n",
      "ESR(43500).bases    : [\n",
      "[1 1 1 1 1 1 1 3 3 3 3 3 3 3 3 3 1 1 1 1 1 1 1 1 1 1 1 1 1 1]\n",
      "]\n",
      "ESR(44000).esr      : [\n",
      "[0 0 0 0 0 0 0 2 2 1 2 0 1 0 2 2 0 0 0 0 0 2 0 1 0 0 0 0 0 0]\n",
      "]\n",
      "ESR(44000).bases    : [\n",
      "[1 1 1 1 1 1 1 3 3 3 3 3 3 3 3 3 1 1 1 1 1 3 1 3 1 1 1 1 1 1]\n",
      "]\n",
      "ESR(44500).esr      : [\n",
      "[0 0 0 0 0 0 0 2 2 1 2 2 1 0 0 2 0 0 0 0 0 1 1 2 1 0 0 0 0 0]\n",
      "]\n",
      "ESR(44500).bases    : [\n",
      "[1 1 1 1 1 1 1 3 3 3 3 3 3 3 3 3 1 1 1 1 1 3 3 3 3 1 1 1 1 1]\n",
      "]\n",
      "ESR(45000).esr      : [\n",
      "[0 0 0 0 0 0 0 2 2 2 0 1 1 2 2 1 0 0 0 0 0 0 0 0 0 0 0 0 0 0]\n",
      "]\n",
      "ESR(45000).bases    : [\n",
      "[1 1 1 1 1 1 1 3 3 3 3 3 3 3 3 3 1 1 1 1 1 1 1 1 1 1 1 1 1 1]\n",
      "]\n",
      "ESR(45500).esr      : [\n",
      "[0 0 0 0 0 0 0 2 2 2 1 0 2 1 1 2 0 0 0 0 0 2 0 0 0 0 0 0 0 0]\n",
      "]\n",
      "ESR(45500).bases    : [\n",
      "[1 1 1 1 1 1 1 3 3 3 3 3 3 3 3 3 1 1 1 1 1 3 1 1 1 1 1 1 1 1]\n",
      "]\n",
      "ESR(46000).esr      : [\n",
      "[0 0 0 0 0 0 0 2 2 2 1 2 2 0 2 2 0 0 0 0 0 2 0 0 0 0 0 0 0 0]\n",
      "]\n",
      "ESR(46000).bases    : [\n",
      "[1 1 1 1 1 1 1 3 3 3 3 3 3 3 3 3 1 1 1 1 1 3 1 1 1 1 1 1 3 1]\n",
      "]\n",
      "ESR(46500).esr      : [\n",
      "[0 0 0 0 0 0 0 2 2 2 2 2 0 2 2 1 0 0 0 0 0 0 0 0 0 0 0 0 0 0]\n",
      "]\n",
      "ESR(46500).bases    : [\n",
      "[1 1 1 1 1 1 1 3 3 3 3 3 3 3 3 3 1 1 1 1 1 1 1 1 1 1 1 1 3 1]\n",
      "]\n"
     ]
    }
   ],
   "source": [
    "ESS, TAU, out = rls.solve(Gtau,self,ess0,stage_index,maxEQ=50000) "
   ]
  },
  {
   "cell_type": "code",
   "execution_count": 42,
   "metadata": {},
   "outputs": [
    {
     "data": {
      "text/plain": [
       "(46708,)"
      ]
     },
     "execution_count": 42,
     "metadata": {},
     "output_type": "execute_result"
    }
   ],
   "source": [
    "ESS.shape"
   ]
  },
  {
   "cell_type": "code",
   "execution_count": 43,
   "metadata": {},
   "outputs": [
    {
     "data": {
      "text/plain": [
       "(46707,)"
      ]
     },
     "execution_count": 43,
     "metadata": {},
     "output_type": "execute_result"
    }
   ],
   "source": [
    "TAU.shape"
   ]
  },
  {
   "cell_type": "code",
   "execution_count": 44,
   "metadata": {},
   "outputs": [
    {
     "data": {
      "text/plain": [
       "(46707,)"
      ]
     },
     "execution_count": 44,
     "metadata": {},
     "output_type": "execute_result"
    }
   ],
   "source": [
    "TAU[0:46707].shape"
   ]
  },
  {
   "cell_type": "code",
   "execution_count": 45,
   "metadata": {},
   "outputs": [
    {
     "data": {
      "text/plain": [
       "array([namespace(MPEesr=array([0, 0, 0, 0, 0, 0, 0, 0, 0, 0, 0, 0, 0, 0, 0, 0, 0, 0, 0, 0, 0, 0,\n",
       "              0, 0, 0, 0, 0, 0, 0, 0]), V1=array([0.]), V2=array([77.91368762]))                ,\n",
       "       namespace(MPEesr=array([0, 0, 0, 0, 0, 0, 0, 0, 0, 0, 0, 0, 0, 0, 0, 0, 0, 0, 0, 0, 0, 0,\n",
       "              0, 0, 0, 0, 0, 0, 1, 0]), V1=array([1.12060545]), V2=array([48.81409604]))        ,\n",
       "       namespace(MPEesr=array([0, 0, 0, 0, 0, 0, 0, 0, 0, 0, 0, 0, 0, 0, 0, 0, 0, 0, 0, 0, 0, 0,\n",
       "              0, 0, 0, 0, 0, 0, 2, 0]), V1=array([0.]), V2=array([66.48727486]))                ],\n",
       "      dtype=object)"
      ]
     },
     "execution_count": 45,
     "metadata": {},
     "output_type": "execute_result"
    }
   ],
   "source": [
    "out[:3]"
   ]
  },
  {
   "cell_type": "code",
   "execution_count": 46,
   "metadata": {},
   "outputs": [
    {
     "data": {
      "text/plain": [
       "(30,)"
      ]
     },
     "execution_count": 46,
     "metadata": {},
     "output_type": "execute_result"
    }
   ],
   "source": [
    "out[0].MPEesr.shape"
   ]
  },
  {
   "cell_type": "code",
   "execution_count": 47,
   "metadata": {},
   "outputs": [
    {
     "data": {
      "text/plain": [
       "30"
      ]
     },
     "execution_count": 47,
     "metadata": {},
     "output_type": "execute_result"
    }
   ],
   "source": [
    "self.stage_index[-1].astype(int)"
   ]
  },
  {
   "cell_type": "code",
   "execution_count": 48,
   "metadata": {},
   "outputs": [
    {
     "name": "stdout",
     "output_type": "stream",
     "text": [
      "\n",
      "\n",
      "46707 equilibria found.\n"
     ]
    },
    {
     "data": {
      "image/png": "[encoded data removed]",
      "text/plain": [
       "<Figure size 432x288 with 1 Axes>"
      ]
     },
     "metadata": {
      "needs_background": "light"
     },
     "output_type": "display_data"
    },
    {
     "name": "stdout",
     "output_type": "stream",
     "text": [
      "STAGE       Recursion_started_in_stage :\n",
      "\n",
      " 1                 11604\n",
      " 2                     0\n",
      " 3                     0\n",
      " 4                 15420\n",
      " 5                     0\n",
      " 6                     0\n",
      " 7                 19682\n",
      " 8                     0\n",
      " 9                     0\n",
      "10                     1\n"
     ]
    },
    {
     "data": {
      "image/png": "[encoded data removed]",
      "text/plain": [
       "<Figure size 576x576 with 1 Axes>"
      ]
     },
     "metadata": {
      "needs_background": "light"
     },
     "output_type": "display_data"
    }
   ],
   "source": [
    "self.print_equilibria(ESS,TAU,out)"
   ]
  },
  {
   "cell_type": "markdown",
   "metadata": {},
   "source": [
    "### Change parameters"
   ]
  },
  {
   "cell_type": "code",
   "execution_count": 49,
   "metadata": {},
   "outputs": [],
   "source": [
    "options = {'maxc':10, 'nC':4}\n",
    "mp = lf.Lf_model(options)\n",
    "\n",
    "\n",
    "ess0 = copy.copy(mp.ess)\n",
    "stage_index=  copy.copy(mp.stage_index)"
   ]
  },
  {
   "cell_type": "code",
   "execution_count": 50,
   "metadata": {},
   "outputs": [
    {
     "name": "stdout",
     "output_type": "stream",
     "text": [
      "ESR(100000).esr      : [\n",
      "[0 0 0 0 0 0 0 1 1 2 0 2 2 1 2 2 0 0 0 0 0 0 0 0 0 0 0 0 0 0]\n",
      "]\n",
      "ESR(100000).bases    : [\n",
      "[1 1 1 1 1 1 1 3 3 3 3 3 3 3 3 3 1 1 1 1 1 1 1 1 3 1 1 1 1 1]\n",
      "]\n",
      "ESR(200000).esr      : [\n",
      "[0 0 0 0 0 0 0 2 2 0 1 2 0 0 2 0 0 0 0 0 0 2 1 0 2 0 0 0 1 0]\n",
      "]\n",
      "ESR(200000).bases    : [\n",
      "[1 1 1 1 1 1 1 3 3 3 3 3 3 3 3 3 1 1 1 1 1 3 3 1 3 1 1 1 3 1]\n",
      "]\n"
     ]
    }
   ],
   "source": [
    "ESS, TAU, out = rls.solve(Gtau,mp,ess0,stage_index,maxEQ=10000000, printev=100000) "
   ]
  },
  {
   "cell_type": "code",
   "execution_count": 51,
   "metadata": {},
   "outputs": [
    {
     "name": "stdout",
     "output_type": "stream",
     "text": [
      "\n",
      "\n",
      "243975 equilibria found.\n"
     ]
    },
    {
     "data": {
      "image/png": "[encoded data removed]",
      "text/plain": [
       "<Figure size 432x288 with 1 Axes>"
      ]
     },
     "metadata": {
      "needs_background": "light"
     },
     "output_type": "display_data"
    },
    {
     "name": "stdout",
     "output_type": "stream",
     "text": [
      "STAGE       Recursion_started_in_stage :\n",
      "\n",
      " 1                 55732\n",
      " 2                     0\n",
      " 3                     0\n",
      " 4                168560\n",
      " 5                     0\n",
      " 6                     0\n",
      " 7                 19682\n",
      " 8                     0\n",
      " 9                     0\n",
      "10                     1\n"
     ]
    },
    {
     "data": {
      "image/png": "[encoded data removed]",
      "text/plain": [
       "<Figure size 576x576 with 1 Axes>"
      ]
     },
     "metadata": {
      "needs_background": "light"
     },
     "output_type": "display_data"
    }
   ],
   "source": [
    "mp.print_equilibria(ESS, TAU, out )"
   ]
  },
  {
   "cell_type": "code",
   "execution_count": 52,
   "metadata": {},
   "outputs": [
    {
     "name": "stdout",
     "output_type": "stream",
     "text": [
      "ESR(100000).esr      : [\n",
      "[0 0 0 0 0 0 0 2 1 0 0 2 2 1 2 1 0 0 0 0 0 2 0 0 0 0 0 0 0 0]\n",
      "]\n",
      "ESR(100000).bases    : [\n",
      "[1 1 1 1 1 1 1 3 3 3 3 3 3 3 3 3 1 1 1 1 1 3 1 1 1 1 1 1 1 1]\n",
      "]\n"
     ]
    }
   ],
   "source": [
    "options = {'maxc':5, 'nC':4 ,'pf':0.5}\n",
    "mp = lf.Lf_model(options)\n",
    "\n",
    "\n",
    "ess0 = copy.copy(mp.ess)\n",
    "stage_index=  copy.copy(mp.stage_index)\n",
    "\n",
    "ESS, TAU, out = rls.solve(Gtau,mp,ess0,stage_index,maxEQ=10000000, printev=100000) \n"
   ]
  },
  {
   "cell_type": "code",
   "execution_count": 53,
   "metadata": {},
   "outputs": [
    {
     "name": "stdout",
     "output_type": "stream",
     "text": [
      "\n",
      "\n",
      "142885 equilibria found.\n"
     ]
    },
    {
     "data": {
      "image/png": "[encoded data removed]",
      "text/plain": [
       "<Figure size 432x288 with 1 Axes>"
      ]
     },
     "metadata": {
      "needs_background": "light"
     },
     "output_type": "display_data"
    },
    {
     "name": "stdout",
     "output_type": "stream",
     "text": [
      "STAGE       Recursion_started_in_stage :\n",
      "\n",
      " 1                 54624\n",
      " 2                     0\n",
      " 3                     0\n",
      " 4                 68578\n",
      " 5                     0\n",
      " 6                     0\n",
      " 7                 19682\n",
      " 8                     0\n",
      " 9                     0\n",
      "10                     1\n"
     ]
    },
    {
     "data": {
      "image/png": "[encoded data removed]",
      "text/plain": [
       "<Figure size 576x576 with 1 Axes>"
      ]
     },
     "metadata": {
      "needs_background": "light"
     },
     "output_type": "display_data"
    }
   ],
   "source": [
    "\n",
    "mp.print_equilibria(ESS, TAU, out )"
   ]
  },
  {
   "cell_type": "code",
   "execution_count": 54,
   "metadata": {},
   "outputs": [
    {
     "name": "stdout",
     "output_type": "stream",
     "text": [
      "ESR(100000).esr      : [\n",
      "[0 0 0 0 0 0 0 0 0 0 0 0 0 0 0 2 1 2 1 0 0 1 0 0 0 0 0 0 0 0 0 0 0 0 0 0 0\n",
      " 0 0 0 0 0 0 0 0 0 0 0 0 0 0 0 0 0 0]\n",
      "]\n",
      "ESR(100000).bases    : [\n",
      "[1 1 1 1 1 1 1 1 1 3 3 3 3 3 3 3 3 3 3 3 3 3 3 3 3 1 1 1 1 1 1 1 1 1 1 1 1\n",
      " 1 1 1 1 1 1 1 1 1 1 1 1 1 1 1 1 1 1]\n",
      "]\n",
      "ESR(200000).esr      : [\n",
      "[0 0 0 0 0 0 0 0 0 0 0 0 0 0 1 2 1 0 1 2 0 2 1 1 0 0 0 0 0 0 0 0 0 0 0 0 0\n",
      " 0 0 0 0 0 0 0 0 0 0 0 0 0 0 0 0 0 0]\n",
      "]\n",
      "ESR(200000).bases    : [\n",
      "[1 1 1 1 1 1 1 1 1 3 3 3 3 3 3 3 3 3 3 3 3 3 3 3 3 1 1 1 1 1 1 1 1 1 1 1 1\n",
      " 1 1 1 1 1 1 1 1 1 3 1 3 1 1 1 1 1 1]\n",
      "]\n",
      "ESR(300000).esr      : [\n",
      "[0 0 0 0 0 0 0 0 0 0 0 0 0 0 2 1 2 0 0 2 0 0 1 2 2 0 0 0 0 0 0 0 0 0 0 0 0\n",
      " 0 0 0 0 0 0 0 0 0 1 0 0 2 0 0 0 0 0]\n",
      "]\n",
      "ESR(300000).bases    : [\n",
      "[1 1 1 1 1 1 1 1 1 3 3 3 3 3 3 3 3 3 3 3 3 3 3 3 3 1 1 1 1 1 1 1 1 1 1 1 1\n",
      " 1 1 1 1 1 1 1 1 1 3 1 1 3 1 1 1 1 1]\n",
      "]\n",
      "ESR(400000).esr      : [\n",
      "[0 0 0 0 0 0 0 0 0 0 0 0 0 1 0 1 0 1 0 2 1 1 2 0 0 0 0 0 0 0 0 0 0 0 0 0 0\n",
      " 0 0 0 0 0 0 0 0 0 0 0 0 0 0 0 0 0 0]\n",
      "]\n",
      "ESR(400000).bases    : [\n",
      "[1 1 1 1 1 1 1 1 1 3 3 3 3 3 3 3 3 3 3 3 3 3 3 3 3 1 1 1 1 1 1 1 1 1 1 1 1\n",
      " 1 1 1 1 1 1 1 1 1 1 1 1 1 1 1 1 1 1]\n",
      "]\n",
      "ESR(500000).esr      : [\n",
      "[0 0 0 0 0 0 0 0 0 0 0 0 0 1 1 0 2 1 1 2 0 0 0 1 2 0 0 0 0 0 0 0 0 0 0 0 0\n",
      " 0 0 0 0 0 0 0 0 0 0 0 0 0 0 0 0 0 0]\n",
      "]\n",
      "ESR(500000).bases    : [\n",
      "[1 1 1 1 1 1 1 1 1 3 3 3 3 3 3 3 3 3 3 3 3 3 3 3 3 1 1 1 1 1 1 1 1 1 1 1 1\n",
      " 1 1 1 1 1 1 1 1 1 1 1 1 1 1 1 1 1 1]\n",
      "]\n",
      "ESR(600000).esr      : [\n",
      "[0 0 0 0 0 0 0 0 0 0 0 0 0 1 2 0 1 0 2 2 2 1 2 0 1 0 0 0 0 0 0 0 0 0 0 0 0\n",
      " 0 0 0 0 0 0 0 0 0 1 0 0 0 0 0 0 0 0]\n",
      "]\n",
      "ESR(600000).bases    : [\n",
      "[1 1 1 1 1 1 1 1 1 3 3 3 3 3 3 3 3 3 3 3 3 3 3 3 3 1 1 1 1 1 1 1 1 1 1 1 1\n",
      " 1 1 1 1 1 1 1 1 1 3 1 1 1 1 1 1 1 1]\n",
      "]\n",
      "ESR(700000).esr      : [\n",
      "[0 0 0 0 0 0 0 0 0 0 0 0 0 1 2 2 1 2 0 1 2 2 2 0 0 0 0 0 0 0 0 0 0 0 0 0 0\n",
      " 0 0 0 0 0 0 0 0 0 0 0 0 0 0 0 0 0 0]\n",
      "]\n",
      "ESR(700000).bases    : [\n",
      "[1 1 1 1 1 1 1 1 1 3 3 3 3 3 3 3 3 3 3 3 3 3 3 3 3 1 1 1 1 1 1 1 1 1 1 1 1\n",
      " 1 1 1 1 1 1 1 1 1 1 1 1 1 1 1 1 1 1]\n",
      "]\n",
      "ESR(800000).esr      : [\n",
      "[0 0 0 0 0 0 0 0 0 0 0 0 0 2 0 1 2 0 1 0 1 0 0 2 2 0 0 0 0 0 0 0 0 0 0 0 0\n",
      " 0 0 0 0 0 0 0 0 0 0 0 0 0 0 0 0 0 0]\n",
      "]\n",
      "ESR(800000).bases    : [\n",
      "[1 1 1 1 1 1 1 1 1 3 3 3 3 3 3 3 3 3 3 3 3 3 3 3 3 1 1 1 1 1 1 1 1 1 1 1 1\n",
      " 1 1 1 1 1 1 1 1 1 1 1 1 1 1 1 1 1 1]\n",
      "]\n",
      "ESR(900000).esr      : [\n",
      "[0 0 0 0 0 0 0 0 0 0 0 0 0 2 1 1 0 0 0 2 2 1 2 2 1 0 0 0 0 0 0 0 0 0 0 0 0\n",
      " 0 0 0 0 0 0 0 0 0 2 0 1 0 0 0 0 0 0]\n",
      "]\n",
      "ESR(900000).bases    : [\n",
      "[1 1 1 1 1 1 1 1 1 3 3 3 3 3 3 3 3 3 3 3 3 3 3 3 3 1 1 1 1 1 1 1 1 1 1 1 1\n",
      " 1 1 1 1 1 1 1 1 1 3 1 3 1 1 1 1 1 1]\n",
      "]\n",
      "ESR(1000000).esr      : [\n",
      "[0 0 0 0 0 0 0 0 0 0 0 0 0 2 2 0 0 0 2 0 0 1 2 0 1 0 0 0 0 0 0 0 0 0 0 0 0\n",
      " 0 0 0 0 0 0 0 0 0 1 0 0 0 0 0 0 0 0]\n",
      "]\n",
      "ESR(1000000).bases    : [\n",
      "[1 1 1 1 1 1 1 1 1 3 3 3 3 3 3 3 3 3 3 3 3 3 3 3 3 1 1 1 1 1 1 1 1 1 1 1 1\n",
      " 1 1 1 1 1 1 1 1 1 3 1 1 1 1 1 1 1 1]\n",
      "]\n",
      "ESR(1100000).esr      : [\n",
      "[0 0 0 0 0 0 0 0 0 0 0 0 0 2 2 1 2 0 0 2 2 1 0 2 0 0 0 0 0 0 0 0 0 0 0 0 0\n",
      " 0 0 0 0 0 0 0 0 0 1 0 1 1 0 0 0 0 0]\n",
      "]\n",
      "ESR(1100000).bases    : [\n",
      "[1 1 1 1 1 1 1 1 1 3 3 3 3 3 3 3 3 3 3 3 3 3 3 3 3 1 1 1 1 1 1 1 1 1 1 1 1\n",
      " 1 1 1 1 1 1 1 1 1 3 1 3 3 1 1 1 1 1]\n",
      "]\n",
      "ESR(1200000).esr      : [\n",
      "[0 0 0 0 0 0 0 0 0 0 0 0 1 0 0 0 1 0 0 0 1 1 2 0 1 0 0 0 0 0 0 0 0 0 0 0 0\n",
      " 0 0 0 0 0 0 0 0 0 0 0 0 0 0 0 0 2 0]\n",
      "]\n",
      "ESR(1200000).bases    : [\n",
      "[1 1 1 1 1 1 1 1 1 3 3 3 3 3 3 3 3 3 3 3 3 3 3 3 3 1 1 1 1 1 1 1 1 1 1 1 1\n",
      " 1 1 1 1 1 1 1 1 1 3 1 1 1 1 1 1 3 1]\n",
      "]\n",
      "ESR(1300000).esr      : [\n",
      "[0 0 0 0 0 0 0 0 0 0 0 0 1 0 0 2 0 1 2 0 1 2 0 2 0 0 0 0 0 0 0 0 0 0 0 0 0\n",
      " 0 0 0 0 0 0 0 0 0 0 0 0 0 0 0 0 0 0]\n",
      "]\n",
      "ESR(1300000).bases    : [\n",
      "[1 1 1 1 1 1 1 1 1 3 3 3 3 3 3 3 3 3 3 3 3 3 3 3 3 1 1 1 1 1 1 1 1 1 1 1 1\n",
      " 1 1 1 1 1 1 1 1 1 1 1 1 1 1 1 1 1 1]\n",
      "]\n",
      "ESR(1400000).esr      : [\n",
      "[0 0 0 0 0 0 0 0 0 0 0 0 1 0 1 1 0 1 2 0 2 2 2 0 1 0 0 0 0 0 0 0 0 0 0 0 0\n",
      " 0 0 0 0 0 0 0 0 0 0 0 0 0 0 0 0 0 0]\n",
      "]\n",
      "ESR(1400000).bases    : [\n",
      "[1 1 1 1 1 1 1 1 1 3 3 3 3 3 3 3 3 3 3 3 3 3 3 3 3 1 1 1 1 1 1 1 1 1 1 1 1\n",
      " 1 1 1 1 1 1 1 1 1 1 1 1 1 1 1 1 1 1]\n",
      "]\n",
      "ESR(1500000).esr      : [\n",
      "[0 0 0 0 0 0 0 0 0 0 0 0 1 0 2 0 0 0 1 2 1 2 2 1 1 0 0 0 0 0 0 0 0 0 0 0 0\n",
      " 0 0 0 0 0 0 0 0 0 0 0 0 0 0 0 0 0 0]\n",
      "]\n",
      "ESR(1500000).bases    : [\n",
      "[1 1 1 1 1 1 1 1 1 3 3 3 3 3 3 3 3 3 3 3 3 3 3 3 3 1 1 1 1 1 1 1 1 1 1 1 1\n",
      " 1 1 1 1 1 1 1 1 1 3 1 1 1 1 1 1 3 1]\n",
      "]\n",
      "ESR(1600000).esr      : [\n",
      "[0 0 0 0 0 0 0 0 0 0 0 0 1 0 2 1 1 0 2 2 2 0 1 2 0 0 0 0 0 0 0 0 0 0 0 0 0\n",
      " 0 0 0 0 0 0 0 0 0 0 0 1 2 0 0 0 0 0]\n",
      "]\n",
      "ESR(1600000).bases    : [\n",
      "[1 1 1 1 1 1 1 1 1 3 3 3 3 3 3 3 3 3 3 3 3 3 3 3 3 1 1 1 1 1 1 1 1 1 1 1 1\n",
      " 1 1 1 1 1 1 1 1 1 3 1 3 3 1 1 1 1 1]\n",
      "]\n",
      "ESR(1700000).esr      : [\n",
      "[0 0 0 0 0 0 0 0 0 0 0 0 1 0 2 2 1 2 2 0 1 1 0 0 1 0 0 0 0 0 0 0 0 0 0 0 0\n",
      " 0 0 0 0 0 0 0 0 0 0 0 0 0 0 0 0 2 0]\n",
      "]\n",
      "ESR(1700000).bases    : [\n",
      "[1 1 1 1 1 1 1 1 1 3 3 3 3 3 3 3 3 3 3 3 3 3 3 3 3 1 1 1 1 1 1 1 1 1 1 1 1\n",
      " 1 1 1 1 1 1 1 1 1 3 1 1 1 1 1 1 3 1]\n",
      "]\n",
      "ESR(1800000).esr      : [\n",
      "[0 0 0 0 0 0 0 0 0 0 0 0 1 1 0 1 1 1 1 1 2 2 2 0 2 0 0 0 0 0 0 0 0 0 0 0 0\n",
      " 0 0 0 0 0 0 0 0 0 0 0 0 0 0 0 0 0 0]\n",
      "]\n",
      "ESR(1800000).bases    : [\n",
      "[1 1 1 1 1 1 1 1 1 3 3 3 3 3 3 3 3 3 3 3 3 3 3 3 3 1 1 1 1 1 1 1 1 1 1 1 1\n",
      " 1 1 1 1 1 1 1 1 1 1 1 1 1 1 1 1 1 1]\n",
      "]\n",
      "ESR(1900000).esr      : [\n",
      "[0 0 0 0 0 0 0 0 0 0 0 0 1 1 1 0 0 1 2 1 0 2 0 1 1 0 0 0 0 0 0 0 0 0 0 0 0\n",
      " 0 0 0 0 0 0 0 0 0 0 0 0 0 0 0 0 0 0]\n",
      "]\n",
      "ESR(1900000).bases    : [\n",
      "[1 1 1 1 1 1 1 1 1 3 3 3 3 3 3 3 3 3 3 3 3 3 3 3 3 1 1 1 1 1 1 1 1 1 1 1 1\n",
      " 1 1 1 1 1 1 1 1 1 3 1 1 1 1 1 1 1 1]\n",
      "]\n",
      "ESR(2000000).esr      : [\n",
      "[0 0 0 0 0 0 0 0 0 0 0 0 1 1 1 1 2 2 1 2 1 1 2 1 1 0 0 0 0 0 0 0 0 0 0 0 0\n",
      " 0 0 0 0 0 0 0 0 0 0 0 0 0 0 0 0 2 0]\n",
      "]\n",
      "ESR(2000000).bases    : [\n",
      "[1 1 1 1 1 1 1 1 1 3 3 3 3 3 3 3 3 3 3 3 3 3 3 3 3 1 1 1 1 1 1 1 1 1 1 1 1\n",
      " 1 1 1 1 1 1 1 1 1 3 1 1 1 1 1 1 3 1]\n",
      "]\n",
      "ESR(2100000).esr      : [\n",
      "[0 0 0 0 0 0 0 0 0 0 0 0 1 1 2 0 1 1 2 1 2 0 1 2 1 0 0 0 0 0 0 0 0 0 0 0 0\n",
      " 0 0 0 0 0 0 0 0 0 0 0 0 0 0 0 0 0 0]\n",
      "]\n",
      "ESR(2100000).bases    : [\n",
      "[1 1 1 1 1 1 1 1 1 3 3 3 3 3 3 3 3 3 3 3 3 3 3 3 3 1 1 1 1 1 1 1 1 1 1 1 1\n",
      " 1 1 1 1 1 1 1 1 1 1 1 1 1 1 1 1 1 1]\n",
      "]\n",
      "ESR(2200000).esr      : [\n",
      "[0 0 0 0 0 0 0 0 0 0 0 0 1 1 2 1 2 1 2 1 1 2 1 1 1 0 0 0 0 0 0 0 0 0 0 0 0\n",
      " 0 0 0 0 0 0 0 0 0 1 0 0 0 0 0 0 1 0]\n",
      "]\n",
      "ESR(2200000).bases    : [\n",
      "[1 1 1 1 1 1 1 1 1 3 3 3 3 3 3 3 3 3 3 3 3 3 3 3 3 1 1 1 1 1 1 1 1 1 1 1 1\n",
      " 1 1 1 1 1 1 1 1 1 3 1 1 1 1 1 1 3 1]\n",
      "]\n",
      "ESR(2300000).esr      : [\n",
      "[0 0 0 0 0 0 0 0 0 0 0 0 1 2 0 0 0 1 0 2 0 1 1 2 2 0 0 0 0 0 0 0 0 0 0 0 0\n",
      " 0 0 0 0 0 0 0 0 0 1 0 0 0 0 0 0 0 0]\n",
      "]\n",
      "ESR(2300000).bases    : [\n",
      "[1 1 1 1 1 1 1 1 1 3 3 3 3 3 3 3 3 3 3 3 3 3 3 3 3 1 1 1 1 1 1 1 1 1 1 1 1\n",
      " 1 1 1 1 1 1 1 1 1 3 1 1 1 1 1 1 1 1]\n",
      "]\n",
      "ESR(2400000).esr      : [\n",
      "[0 0 0 0 0 0 0 0 0 0 0 0 1 2 0 1 1 2 2 2 2 0 1 1 2 0 0 0 0 0 0 0 0 0 0 0 0\n",
      " 0 0 0 0 0 0 0 0 0 1 0 0 1 0 0 0 0 0]\n",
      "]\n",
      "ESR(2400000).bases    : [\n",
      "[1 1 1 1 1 1 1 1 1 3 3 3 3 3 3 3 3 3 3 3 3 3 3 3 3 1 1 1 1 1 1 1 1 1 1 3 1\n",
      " 1 1 1 1 1 1 1 1 1 3 1 1 3 1 1 1 1 1]\n",
      "]\n",
      "ESR(2500000).esr      : [\n",
      "[0 0 0 0 0 0 0 0 0 0 0 0 1 2 1 0 1 0 0 2 2 0 2 1 0 0 0 0 0 0 0 0 0 0 0 0 0\n",
      " 0 0 0 0 0 0 0 0 0 0 1 0 0 0 0 0 0 0]\n",
      "]\n",
      "ESR(2500000).bases    : [\n",
      "[1 1 1 1 1 1 1 1 1 3 3 3 3 3 3 3 3 3 3 3 3 3 3 3 3 1 1 1 1 1 1 1 1 1 1 1 1\n",
      " 1 1 1 1 1 1 1 1 1 3 3 3 1 1 1 1 1 1]\n",
      "]\n",
      "ESR(2600000).esr      : [\n",
      "[0 0 0 0 0 0 0 0 0 0 0 0 1 2 1 2 0 0 0 1 1 1 0 0 2 0 0 0 0 0 0 0 0 0 0 0 0\n",
      " 0 0 0 0 0 0 0 0 0 0 0 0 0 0 0 0 0 0]\n",
      "]\n",
      "ESR(2600000).bases    : [\n",
      "[1 1 1 1 1 1 1 1 1 3 3 3 3 3 3 3 3 3 3 3 3 3 3 3 3 1 1 1 1 1 1 1 1 1 1 1 1\n",
      " 1 1 1 1 1 1 1 1 1 1 1 1 1 1 1 1 1 1]\n",
      "]\n",
      "ESR(2700000).esr      : [\n",
      "[0 0 0 0 0 0 0 0 0 0 0 0 1 2 2 0 1 1 0 1 0 2 2 1 2 0 0 0 0 0 0 0 0 0 0 0 0\n",
      " 0 0 0 0 0 0 0 0 0 0 0 0 0 0 0 0 0 0]\n",
      "]\n",
      "ESR(2700000).bases    : [\n",
      "[1 1 1 1 1 1 1 1 1 3 3 3 3 3 3 3 3 3 3 3 3 3 3 3 3 1 1 1 1 1 1 1 1 1 1 1 1\n",
      " 1 1 1 1 1 1 1 1 1 3 1 1 1 1 1 1 1 1]\n",
      "]\n",
      "ESR(2800000).esr      : [\n",
      "[0 0 0 0 0 0 0 0 0 0 0 0 1 2 2 1 1 1 2 1 1 1 0 2 2 0 0 0 0 0 0 0 0 0 0 0 0\n",
      " 0 0 0 0 0 0 0 0 0 0 0 2 0 0 0 0 0 0]\n",
      "]\n",
      "ESR(2800000).bases    : [\n",
      "[1 1 1 1 1 1 1 1 1 3 3 3 3 3 3 3 3 3 3 3 3 3 3 3 3 1 1 1 1 1 1 1 1 1 1 1 3\n",
      " 1 1 3 1 1 1 1 1 1 3 1 3 1 1 1 1 1 1]\n",
      "]\n",
      "ESR(2900000).esr      : [\n",
      "[0 0 0 0 0 0 0 0 0 0 0 0 1 2 2 2 1 1 1 2 2 0 0 0 1 0 0 0 0 0 0 0 0 0 0 0 0\n",
      " 0 0 0 0 0 0 0 0 0 0 0 0 0 0 0 0 0 0]\n",
      "]\n",
      "ESR(2900000).bases    : [\n",
      "[1 1 1 1 1 1 1 1 1 3 3 3 3 3 3 3 3 3 3 3 3 3 3 3 3 1 1 1 1 1 1 1 1 1 1 1 1\n",
      " 1 1 1 1 1 1 1 1 1 3 1 1 1 1 1 1 3 1]\n",
      "]\n",
      "ESR(3000000).esr      : [\n",
      "[0 0 0 0 0 0 0 0 0 0 0 0 2 0 0 0 2 0 0 0 0 2 1 2 2 0 0 0 0 0 0 0 0 0 0 0 0\n",
      " 0 0 0 0 0 0 0 0 0 2 0 0 0 0 0 0 0 0]\n",
      "]\n",
      "ESR(3000000).bases    : [\n",
      "[1 1 1 1 1 1 1 1 1 3 3 3 3 3 3 3 3 3 3 3 3 3 3 3 3 1 1 1 1 1 1 1 1 1 1 1 1\n",
      " 1 1 1 1 1 1 1 1 1 3 1 1 1 1 1 1 3 1]\n",
      "]\n",
      "ESR(3100000).esr      : [\n",
      "[0 0 0 0 0 0 0 0 0 0 0 0 2 0 0 1 2 2 2 0 2 0 1 2 1 0 0 0 0 0 0 0 0 0 0 0 0\n",
      " 0 0 0 0 0 0 0 0 0 0 0 0 0 0 0 0 0 0]\n",
      "]\n",
      "ESR(3100000).bases    : [\n",
      "[1 1 1 1 1 1 1 1 1 3 3 3 3 3 3 3 3 3 3 3 3 3 3 3 3 1 1 1 1 1 1 1 1 1 1 1 1\n",
      " 1 1 1 1 1 1 1 1 1 3 1 1 1 1 1 1 3 1]\n",
      "]\n",
      "ESR(3200000).esr      : [\n",
      "[0 0 0 0 0 0 0 0 0 0 0 0 2 0 1 0 1 0 2 0 0 0 0 0 1 0 0 0 0 0 0 0 0 0 0 0 0\n",
      " 0 0 0 0 0 0 0 0 0 2 0 0 0 0 0 0 0 0]\n",
      "]\n",
      "ESR(3200000).bases    : [\n",
      "[1 1 1 1 1 1 1 1 1 3 3 3 3 3 3 3 3 3 3 3 3 3 3 3 3 1 1 1 1 1 1 1 1 1 1 1 1\n",
      " 1 1 1 1 1 1 1 1 1 3 1 1 1 1 1 1 3 1]\n",
      "]\n",
      "ESR(3300000).esr      : [\n",
      "[0 0 0 0 0 0 0 0 0 0 0 0 2 0 1 1 2 2 0 0 0 2 2 0 2 0 0 0 0 0 0 0 0 0 0 0 0\n",
      " 0 0 0 0 0 0 0 0 0 1 0 0 0 0 0 0 0 0]\n",
      "]\n",
      "ESR(3300000).bases    : [\n",
      "[1 1 1 1 1 1 1 1 1 3 3 3 3 3 3 3 3 3 3 3 3 3 3 3 3 1 1 1 1 1 1 1 1 1 1 1 1\n",
      " 1 1 1 1 1 1 1 1 1 3 1 1 1 1 1 1 1 1]\n",
      "]\n",
      "ESR(3400000).esr      : [\n",
      "[0 0 0 0 0 0 0 0 0 0 0 0 2 0 2 0 1 0 0 0 0 2 1 1 0 0 0 0 0 0 0 0 0 0 0 0 0\n",
      " 0 0 0 0 0 0 0 0 0 0 0 0 0 0 0 0 0 0]\n",
      "]\n",
      "ESR(3400000).bases    : [\n",
      "[1 1 1 1 1 1 1 1 1 3 3 3 3 3 3 3 3 3 3 3 3 3 3 3 3 1 1 1 1 1 1 1 1 1 1 1 1\n",
      " 1 1 1 1 1 1 1 1 1 3 1 1 1 1 1 1 1 1]\n",
      "]\n",
      "ESR(3500000).esr      : [\n",
      "[0 0 0 0 0 0 0 0 0 0 0 0 2 0 2 1 1 1 1 0 2 2 1 0 1 0 0 0 0 0 0 0 0 0 0 0 0\n",
      " 0 0 0 0 0 0 0 0 0 1 0 0 0 0 0 0 0 0]\n",
      "]\n",
      "ESR(3500000).bases    : [\n",
      "[1 1 1 1 1 1 1 1 1 3 3 3 3 3 3 3 3 3 3 3 3 3 3 3 3 1 1 1 1 1 1 1 1 1 1 1 1\n",
      " 1 1 1 1 1 1 1 1 1 3 1 1 1 1 1 1 1 1]\n",
      "]\n",
      "ESR(3600000).esr      : [\n",
      "[0 0 0 0 0 0 0 0 0 0 0 0 2 0 2 2 1 1 2 2 2 0 2 1 0 0 0 0 0 0 0 0 0 0 0 0 0\n",
      " 0 0 0 0 0 0 0 0 0 0 0 2 0 0 0 0 0 0]\n",
      "]\n",
      "ESR(3600000).bases    : [\n",
      "[1 1 1 1 1 1 1 1 1 3 3 3 3 3 3 3 3 3 3 3 3 3 3 3 3 1 1 1 1 1 1 1 1 1 1 1 1\n",
      " 1 1 1 1 1 1 1 1 1 3 1 3 3 1 1 1 1 1]\n",
      "]\n",
      "ESR(3700000).esr      : [\n",
      "[0 0 0 0 0 0 0 0 0 0 0 0 2 1 0 0 2 2 1 2 0 0 2 2 2 0 0 0 0 0 0 0 0 0 0 0 0\n",
      " 0 0 0 0 0 0 0 0 0 0 0 0 0 0 0 0 1 0]\n",
      "]\n",
      "ESR(3700000).bases    : [\n",
      "[1 1 1 1 1 1 1 1 1 3 3 3 3 3 3 3 3 3 3 3 3 3 3 3 3 1 1 1 1 1 1 1 1 1 1 1 1\n",
      " 1 1 1 1 1 1 1 1 1 3 1 1 1 1 1 1 3 1]\n",
      "]\n",
      "ESR(3800000).esr      : [\n",
      "[0 0 0 0 0 0 0 0 0 0 0 0 2 1 0 2 1 0 2 2 1 1 0 0 2 0 0 0 0 0 0 0 0 0 0 0 0\n",
      " 1 0 1 1 0 0 0 0 0 0 0 0 0 0 0 0 0 0]\n",
      "]\n",
      "ESR(3800000).bases    : [\n",
      "[1 1 1 1 1 1 1 1 1 3 3 3 3 3 3 3 3 3 3 3 3 3 3 3 3 1 1 1 1 1 1 1 1 1 1 1 1\n",
      " 3 1 3 3 1 1 1 1 1 3 1 1 1 1 1 1 1 1]\n",
      "]\n",
      "ESR(3900000).esr      : [\n",
      "[0 0 0 0 0 0 0 0 0 0 0 0 2 1 1 0 2 2 2 1 1 0 1 0 2 0 0 0 0 0 0 0 0 0 0 0 0\n",
      " 0 2 0 0 0 0 0 0 0 0 0 0 0 0 0 0 0 0]\n",
      "]\n",
      "ESR(3900000).bases    : [\n",
      "[1 1 1 1 1 1 1 1 1 3 3 3 3 3 3 3 3 3 3 3 3 3 3 3 3 1 1 1 1 1 1 1 1 1 1 1 1\n",
      " 1 3 1 1 1 1 1 1 1 3 1 1 1 1 1 1 1 1]\n",
      "]\n",
      "ESR(4000000).esr      : [\n",
      "[0 0 0 0 0 0 0 0 0 0 0 0 2 1 1 2 1 1 1 0 2 2 0 2 1 0 0 0 0 0 0 0 0 0 0 0 0\n",
      " 0 0 0 0 0 0 0 0 0 1 0 0 0 0 0 0 0 0]\n",
      "]\n",
      "ESR(4000000).bases    : [\n",
      "[1 1 1 1 1 1 1 1 1 3 3 3 3 3 3 3 3 3 3 3 3 3 3 3 3 1 1 1 1 1 1 1 1 1 1 1 1\n",
      " 1 1 1 1 1 1 1 1 1 3 1 1 1 1 1 1 1 1]\n",
      "]\n",
      "ESR(4100000).esr      : [\n",
      "[0 0 0 0 0 0 0 0 0 0 0 0 2 1 2 0 2 2 0 0 1 0 0 0 1 0 0 0 0 0 0 0 0 0 0 0 0\n",
      " 0 0 0 0 0 0 0 0 0 0 0 0 0 0 0 0 0 0]\n",
      "]\n",
      "ESR(4100000).bases    : [\n",
      "[1 1 1 1 1 1 1 1 1 3 3 3 3 3 3 3 3 3 3 3 3 3 3 3 3 1 1 1 1 1 1 1 1 1 1 1 1\n",
      " 1 1 1 1 1 1 1 1 1 3 1 1 1 1 1 1 1 1]\n",
      "]\n",
      "ESR(4200000).esr      : [\n",
      "[0 0 0 0 0 0 0 0 0 0 0 0 2 1 2 2 0 0 2 2 0 0 1 1 0 0 0 0 0 0 0 0 0 0 0 0 0\n",
      " 0 0 0 0 0 0 0 0 0 1 0 2 1 0 0 0 0 0]\n",
      "]\n",
      "ESR(4200000).bases    : [\n",
      "[1 1 1 1 1 1 1 1 1 3 3 3 3 3 3 3 3 3 3 3 3 3 3 3 3 1 1 1 1 1 1 1 1 1 1 1 1\n",
      " 1 1 1 1 1 1 1 1 1 3 1 3 3 1 1 1 1 1]\n",
      "]\n",
      "ESR(4300000).esr      : [\n",
      "[0 0 0 0 0 0 0 0 0 0 0 0 2 2 0 0 0 1 2 2 1 0 1 2 0 0 0 0 0 0 0 0 0 0 0 0 0\n",
      " 0 0 0 0 0 0 0 0 0 0 0 0 0 0 0 0 2 0]\n",
      "]\n",
      "ESR(4300000).bases    : [\n",
      "[1 1 1 1 1 1 1 1 1 3 3 3 3 3 3 3 3 3 3 3 3 3 3 3 3 1 1 1 1 1 1 1 1 1 1 1 1\n",
      " 1 1 1 1 1 1 1 1 1 3 1 1 1 1 1 1 3 1]\n",
      "]\n",
      "ESR(4400000).esr      : [\n",
      "[0 0 0 0 0 0 0 0 0 0 0 0 2 2 0 1 1 1 0 2 0 1 1 2 2 0 0 0 0 0 0 0 0 0 0 0 0\n",
      " 0 0 0 0 0 0 0 0 0 0 0 0 0 0 0 0 0 0]\n",
      "]\n",
      "ESR(4400000).bases    : [\n",
      "[1 1 1 1 1 1 1 1 1 3 3 3 3 3 3 3 3 3 3 3 3 3 3 3 3 1 1 1 1 1 1 1 1 1 1 1 1\n",
      " 1 1 1 1 1 1 1 1 1 3 1 3 3 1 1 1 1 1]\n",
      "]\n",
      "ESR(4500000).esr      : [\n",
      "[0 0 0 0 0 0 0 0 0 0 0 0 2 2 0 2 1 2 0 0 2 1 0 0 2 0 0 0 0 0 0 0 0 0 0 0 0\n",
      " 1 0 0 0 0 0 0 0 0 2 0 0 0 0 0 0 0 0]\n",
      "]\n",
      "ESR(4500000).bases    : [\n",
      "[1 1 1 1 1 1 1 1 1 3 3 3 3 3 3 3 3 3 3 3 3 3 3 3 3 1 1 1 1 1 1 1 1 1 1 1 1\n",
      " 3 1 1 1 1 1 1 1 1 3 1 1 1 1 1 1 1 1]\n",
      "]\n",
      "ESR(4600000).esr      : [\n",
      "[0 0 0 0 0 0 0 0 0 0 0 0 2 2 1 0 2 2 0 0 1 0 2 2 2 0 0 0 0 0 0 0 0 0 0 0 0\n",
      " 0 1 0 0 0 0 0 0 0 2 0 0 0 0 0 0 0 0]\n",
      "]\n",
      "ESR(4600000).bases    : [\n",
      "[1 1 1 1 1 1 1 1 1 3 3 3 3 3 3 3 3 3 3 3 3 3 3 3 3 1 1 1 1 1 1 1 1 1 1 1 1\n",
      " 1 3 1 1 1 1 1 1 1 3 1 1 1 1 1 1 1 1]\n",
      "]\n",
      "ESR(4700000).esr      : [\n",
      "[0 0 0 0 0 0 0 0 0 0 0 0 2 2 1 2 0 0 2 2 1 0 0 0 2 0 0 0 0 0 0 0 0 0 0 0 0\n",
      " 0 0 1 1 0 0 0 0 0 1 0 0 0 0 0 0 0 0]\n",
      "]\n",
      "ESR(4700000).bases    : [\n",
      "[1 1 1 1 1 1 1 1 1 3 3 3 3 3 3 3 3 3 3 3 3 3 3 3 3 1 1 1 1 1 1 1 1 1 1 1 1\n",
      " 1 1 3 3 1 1 1 1 1 3 1 1 1 1 1 1 1 1]\n",
      "]\n",
      "ESR(4800000).esr      : [\n",
      "[0 0 0 0 0 0 0 0 0 0 0 0 2 2 2 0 0 2 2 0 1 2 0 2 2 0 0 0 0 0 0 0 0 0 0 0 0\n",
      " 0 0 1 0 0 0 0 0 0 1 0 0 0 0 0 0 0 0]\n",
      "]\n",
      "ESR(4800000).bases    : [\n",
      "[1 1 1 1 1 1 1 1 1 3 3 3 3 3 3 3 3 3 3 3 3 3 3 3 3 1 1 1 1 1 1 1 1 1 1 1 1\n",
      " 1 1 3 1 1 1 1 1 1 3 1 1 1 1 1 1 1 1]\n",
      "]\n",
      "ESR(4900000).esr      : [\n",
      "[0 0 0 0 0 0 0 0 0 0 0 0 2 2 2 1 1 0 0 1 2 0 0 0 2 0 0 0 0 0 0 0 0 0 0 2 0\n",
      " 0 0 0 0 0 0 0 0 0 2 0 0 0 0 0 0 2 0]\n",
      "]\n",
      "ESR(4900000).bases    : [\n",
      "[1 1 1 1 1 1 1 1 1 3 3 3 3 3 3 3 3 3 3 3 3 3 3 3 3 1 1 1 1 1 1 1 1 1 1 3 3\n",
      " 1 1 1 1 1 1 1 1 1 3 1 1 1 1 1 1 3 1]\n",
      "]\n",
      "ESR(5000000).esr      : [\n",
      "[0 0 0 0 0 0 0 0 0 0 0 0 2 2 2 2 0 0 0 2 2 2 2 1 2 0 0 0 0 0 0 0 0 0 0 0 0\n",
      " 0 0 0 0 0 0 0 0 0 2 0 2 0 0 0 0 0 0]\n",
      "]\n",
      "ESR(5000000).bases    : [\n",
      "[1 1 1 1 1 1 1 1 1 3 3 3 3 3 3 3 3 3 3 3 3 3 3 3 3 1 1 1 1 1 1 1 1 1 1 1 1\n",
      " 1 1 1 1 1 1 1 1 1 3 1 3 3 1 1 1 1 1]\n",
      "]\n",
      "ESR(5100000).esr      : [\n",
      "[0 0 0 0 0 0 0 0 0 0 0 0 2 2 2 2 2 0 1 0 2 1 0 2 2 0 0 0 0 0 0 0 0 0 0 0 0\n",
      " 0 0 0 0 0 0 0 0 0 2 0 0 0 0 0 0 1 0]\n",
      "]\n",
      "ESR(5100000).bases    : [\n",
      "[1 1 1 1 1 1 1 1 1 3 3 3 3 3 3 3 3 3 3 3 3 3 3 3 3 1 1 1 1 1 1 1 1 1 1 1 1\n",
      " 1 1 1 1 1 1 1 1 1 3 1 1 1 1 1 1 3 1]\n",
      "]\n",
      "ESR(5200000).esr      : [\n",
      "[0 0 0 0 0 0 0 0 0 0 0 1 0 0 0 1 2 1 2 2 1 1 2 0 0 0 0 0 0 0 0 0 0 0 0 0 0\n",
      " 0 0 0 0 0 0 0 0 0 0 0 0 0 0 0 0 2 0]\n",
      "]\n",
      "ESR(5200000).bases    : [\n",
      "[1 1 1 1 1 1 1 1 1 3 3 3 3 3 3 3 3 3 3 3 3 3 3 3 3 1 1 1 1 1 1 1 1 1 1 1 1\n",
      " 1 1 1 1 1 1 1 1 1 1 1 1 1 1 1 1 3 1]\n",
      "]\n",
      "ESR(5300000).esr      : [\n",
      "[0 0 0 0 0 0 0 0 0 0 0 1 0 0 1 1 1 2 1 2 2 1 2 1 2 0 0 0 0 0 0 0 0 0 0 0 0\n",
      " 0 0 0 0 0 0 0 0 0 0 0 0 0 0 0 0 0 0]\n",
      "]\n",
      "ESR(5300000).bases    : [\n",
      "[1 1 1 1 1 1 1 1 1 3 3 3 3 3 3 3 3 3 3 3 3 3 3 3 3 1 1 1 1 1 1 1 1 1 1 1 1\n",
      " 1 1 1 1 1 1 1 1 1 1 1 3 1 1 1 1 1 1]\n",
      "]\n",
      "ESR(5400000).esr      : [\n",
      "[0 0 0 0 0 0 0 0 0 0 0 1 0 0 2 1 0 2 0 1 0 2 1 0 1 0 0 0 0 0 0 0 0 0 0 0 0\n",
      " 0 0 0 0 0 0 0 0 0 0 0 0 0 0 0 0 0 0]\n",
      "]\n",
      "ESR(5400000).bases    : [\n",
      "[1 1 1 1 1 1 1 1 1 3 3 3 3 3 3 3 3 3 3 3 3 3 3 3 3 1 1 1 1 1 1 1 1 1 1 1 1\n",
      " 1 1 1 1 1 1 1 1 1 1 1 1 1 1 1 1 1 1]\n",
      "]\n",
      "ESR(5500000).esr      : [\n",
      "[0 0 0 0 0 0 0 0 0 0 0 1 0 1 0 0 0 1 2 2 2 0 2 0 2 0 0 0 0 0 0 0 0 0 0 0 0\n",
      " 0 0 0 0 0 0 0 0 0 0 0 0 0 0 0 0 2 0]\n",
      "]\n",
      "ESR(5500000).bases    : [\n",
      "[1 1 1 1 1 1 1 1 1 3 3 3 3 3 3 3 3 3 3 3 3 3 3 3 3 1 1 1 1 1 1 1 1 1 1 1 1\n",
      " 1 1 1 1 1 1 1 1 1 1 1 1 1 1 1 1 3 1]\n",
      "]\n",
      "ESR(5600000).esr      : [\n",
      "[0 0 0 0 0 0 0 0 0 0 0 1 0 1 1 0 0 0 1 2 0 2 0 0 1 0 0 0 0 0 0 0 0 0 0 0 0\n",
      " 0 0 0 0 0 0 0 0 0 0 0 0 0 0 0 0 0 0]\n",
      "]\n",
      "ESR(5600000).bases    : [\n",
      "[1 1 1 1 1 1 1 1 1 3 3 3 3 3 3 3 3 3 3 3 3 3 3 3 3 1 1 1 1 1 1 1 1 1 1 1 1\n",
      " 1 1 1 1 1 1 1 1 1 3 1 1 1 1 1 1 1 1]\n",
      "]\n",
      "ESR(5700000).esr      : [\n",
      "[0 0 0 0 0 0 0 0 0 0 0 1 0 1 2 0 0 0 0 1 2 2 2 0 0 0 0 0 0 0 0 0 0 0 0 0 0\n",
      " 0 0 0 0 0 0 0 0 0 1 0 0 0 0 0 0 1 0]\n",
      "]\n",
      "ESR(5700000).bases    : [\n",
      "[1 1 1 1 1 1 1 1 1 3 3 3 3 3 3 3 3 3 3 3 3 3 3 3 3 1 1 1 1 1 1 1 1 1 1 1 1\n",
      " 1 1 1 1 1 1 1 1 1 3 1 1 1 1 1 1 3 1]\n",
      "]\n",
      "ESR(5800000).esr      : [\n",
      "[0 0 0 0 0 0 0 0 0 0 0 1 0 1 2 2 1 0 0 2 1 0 0 2 1 0 0 0 0 0 0 0 0 0 0 0 0\n",
      " 0 0 0 0 0 0 0 0 0 0 0 0 0 0 0 0 0 0]\n",
      "]\n",
      "ESR(5800000).bases    : [\n",
      "[1 1 1 1 1 1 1 1 1 3 3 3 3 3 3 3 3 3 3 3 3 3 3 3 3 1 1 1 1 1 1 1 1 1 1 1 1\n",
      " 1 1 1 1 1 1 1 1 1 1 1 1 1 1 1 1 1 1]\n",
      "]\n",
      "ESR(5900000).esr      : [\n",
      "[0 0 0 0 0 0 0 0 0 0 0 1 0 2 0 1 1 1 2 1 2 1 2 1 0 0 0 0 0 0 0 0 0 0 0 0 0\n",
      " 0 0 0 0 0 0 0 0 0 0 0 0 0 0 0 0 0 0]\n",
      "]\n",
      "ESR(5900000).bases    : [\n",
      "[1 1 1 1 1 1 1 1 1 3 3 3 3 3 3 3 3 3 3 3 3 3 3 3 3 1 1 1 1 1 1 1 1 1 1 1 1\n",
      " 1 1 1 1 1 1 1 1 1 1 1 1 1 1 1 1 1 1]\n",
      "]\n",
      "ESR(6000000).esr      : [\n",
      "[0 0 0 0 0 0 0 0 0 0 0 1 0 2 1 0 2 1 2 2 1 2 0 1 2 0 0 0 0 0 0 0 0 0 0 0 0\n",
      " 0 0 0 0 0 0 0 0 0 0 0 0 0 0 0 0 0 0]\n",
      "]\n",
      "ESR(6000000).bases    : [\n",
      "[1 1 1 1 1 1 1 1 1 3 3 3 3 3 3 3 3 3 3 3 3 3 3 3 3 1 1 1 1 1 1 1 1 1 1 1 1\n",
      " 1 1 3 1 1 1 1 1 1 1 1 1 1 1 1 1 1 1]\n",
      "]\n",
      "ESR(6100000).esr      : [\n",
      "[0 0 0 0 0 0 0 0 0 0 0 1 0 2 2 0 0 0 1 0 0 0 1 2 0 0 0 0 0 0 0 0 0 0 0 0 0\n",
      " 0 0 0 0 0 0 0 0 0 0 0 0 0 0 0 0 0 0]\n",
      "]\n",
      "ESR(6100000).bases    : [\n",
      "[1 1 1 1 1 1 1 1 1 3 3 3 3 3 3 3 3 3 3 3 3 3 3 3 3 1 1 1 1 1 1 1 1 1 1 1 1\n",
      " 1 1 1 1 1 1 1 1 1 1 1 1 1 1 1 1 1 1]\n",
      "]\n",
      "ESR(6200000).esr      : [\n",
      "[0 0 0 0 0 0 0 0 0 0 0 1 0 2 2 1 2 0 0 2 2 2 1 2 0 0 0 0 0 0 0 0 0 0 0 0 0\n",
      " 0 0 0 0 0 0 0 0 0 1 0 1 0 0 0 0 0 0]\n",
      "]\n",
      "ESR(6200000).bases    : [\n",
      "[1 1 1 1 1 1 1 1 1 3 3 3 3 3 3 3 3 3 3 3 3 3 3 3 3 1 1 1 1 1 1 1 1 1 1 1 1\n",
      " 1 1 1 1 1 1 1 1 1 3 1 3 3 1 1 1 1 1]\n",
      "]\n",
      "ESR(6300000).esr      : [\n",
      "[0 0 0 0 0 0 0 0 0 0 0 1 1 0 0 0 0 2 1 0 0 0 0 2 0 0 0 0 0 0 0 0 0 0 0 0 0\n",
      " 0 0 0 0 0 0 0 0 0 0 0 0 0 0 0 0 0 0]\n",
      "]\n",
      "ESR(6300000).bases    : [\n",
      "[1 1 1 1 1 1 1 1 1 3 3 3 3 3 3 3 3 3 3 3 3 3 3 3 3 1 1 1 1 1 1 1 1 1 1 1 1\n",
      " 1 1 1 1 1 1 1 1 1 1 1 1 1 1 1 1 1 1]\n",
      "]\n",
      "ESR(6400000).esr      : [\n",
      "[0 0 0 0 0 0 0 0 0 0 0 1 1 0 0 1 1 2 0 2 0 1 0 1 1 0 0 0 0 0 0 0 0 0 0 0 0\n",
      " 0 0 0 0 0 0 0 0 0 0 2 0 2 0 0 0 0 0]\n",
      "]\n",
      "ESR(6400000).bases    : [\n",
      "[1 1 1 1 1 1 1 1 1 3 3 3 3 3 3 3 3 3 3 3 3 3 3 3 3 1 1 1 1 1 1 1 1 1 1 1 1\n",
      " 1 1 1 1 1 1 1 1 1 3 3 3 3 1 1 1 1 1]\n",
      "]\n",
      "ESR(6500000).esr      : [\n",
      "[0 0 0 0 0 0 0 0 0 0 0 1 1 0 1 0 0 2 1 2 0 1 0 2 2 0 0 0 0 0 0 0 0 0 0 0 0\n",
      " 0 0 0 0 0 0 0 0 0 1 1 0 0 0 0 0 0 0]\n",
      "]\n",
      "ESR(6500000).bases    : [\n",
      "[1 1 1 1 1 1 1 1 1 3 3 3 3 3 3 3 3 3 3 3 3 3 3 3 3 1 1 1 1 1 1 1 1 1 1 1 1\n",
      " 1 1 1 1 1 1 1 1 1 3 3 1 1 1 1 1 1 1]\n",
      "]\n",
      "ESR(6600000).esr      : [\n",
      "[0 0 0 0 0 0 0 0 0 0 0 1 1 0 1 1 2 0 2 2 0 0 0 2 2 0 0 0 0 0 0 0 0 0 0 0 0\n",
      " 0 0 0 0 0 0 0 0 0 2 1 0 0 0 0 0 0 0]\n",
      "]\n",
      "ESR(6600000).bases    : [\n",
      "[1 1 1 1 1 1 1 1 1 3 3 3 3 3 3 3 3 3 3 3 3 3 3 3 3 1 1 1 1 1 1 1 1 1 1 1 1\n",
      " 1 1 1 1 1 1 1 1 1 3 3 1 1 1 1 1 1 1]\n",
      "]\n",
      "ESR(6700000).esr      : [\n",
      "[0 0 0 0 0 0 0 0 0 0 0 1 1 0 2 0 1 0 2 1 1 0 1 0 1 0 0 0 0 0 0 0 0 0 0 0 0\n",
      " 0 0 0 0 0 0 0 0 0 0 0 0 0 0 0 0 0 0]\n",
      "]\n",
      "ESR(6700000).bases    : [\n",
      "[1 1 1 1 1 1 1 1 1 3 3 3 3 3 3 3 3 3 3 3 3 3 3 3 3 1 1 1 1 1 1 1 1 1 1 1 1\n",
      " 1 1 1 1 1 1 1 1 1 1 1 1 1 1 1 1 3 1]\n",
      "]\n",
      "ESR(6800000).esr      : [\n",
      "[0 0 0 0 0 0 0 0 0 0 0 1 1 0 2 1 1 1 0 2 0 1 0 2 2 0 0 0 0 0 0 0 0 0 0 0 1\n",
      " 0 0 0 0 0 0 0 0 0 2 2 0 2 0 0 0 0 0]\n",
      "]\n",
      "ESR(6800000).bases    : [\n",
      "[1 1 1 1 1 1 1 1 1 3 3 3 3 3 3 3 3 3 3 3 3 3 3 3 3 1 1 1 1 1 1 1 1 1 1 1 3\n",
      " 1 1 1 1 1 1 1 1 1 3 3 3 3 1 1 1 1 1]\n",
      "]\n",
      "ESR(6900000).esr      : [\n",
      "[0 0 0 0 0 0 0 0 0 0 0 1 1 0 2 2 1 0 0 0 2 2 0 2 2 0 0 0 0 0 0 0 0 0 0 0 2\n",
      " 0 0 0 0 0 0 0 0 0 0 0 0 0 0 0 0 0 0]\n",
      "]\n",
      "ESR(6900000).bases    : [\n",
      "[1 1 1 1 1 1 1 1 1 3 3 3 3 3 3 3 3 3 3 3 3 3 3 3 3 1 1 1 1 1 1 1 1 1 1 1 3\n",
      " 1 1 1 1 1 1 1 1 1 1 1 1 1 1 1 1 1 1]\n",
      "]\n",
      "ESR(7000000).esr      : [\n",
      "[0 0 0 0 0 0 0 0 0 0 0 1 1 1 0 0 2 0 1 1 2 1 0 1 2 0 0 0 0 0 0 0 0 0 0 0 0\n",
      " 0 0 0 0 0 0 0 0 0 0 0 0 0 0 0 0 0 0]\n",
      "]\n",
      "ESR(7000000).bases    : [\n",
      "[1 1 1 1 1 1 1 1 1 3 3 3 3 3 3 3 3 3 3 3 3 3 3 3 3 1 1 1 1 1 1 1 1 1 1 1 1\n",
      " 1 1 1 1 1 1 1 1 1 1 1 1 1 1 1 1 1 1]\n",
      "]\n",
      "ESR(7100000).esr      : [\n",
      "[0 0 0 0 0 0 0 0 0 0 0 1 1 1 0 2 0 2 0 0 0 1 2 0 1 0 0 0 0 0 0 0 0 0 0 0 0\n",
      " 0 0 0 0 0 0 0 0 0 0 0 0 0 0 0 0 0 0]\n",
      "]\n",
      "ESR(7100000).bases    : [\n",
      "[1 1 1 1 1 1 1 1 1 3 3 3 3 3 3 3 3 3 3 3 3 3 3 3 3 1 1 1 1 1 1 1 1 1 1 1 1\n",
      " 1 1 1 1 1 1 1 1 1 1 1 1 1 1 1 1 1 1]\n",
      "]\n",
      "ESR(7200000).esr      : [\n",
      "[0 0 0 0 0 0 0 0 0 0 0 1 1 1 1 0 2 1 1 1 0 1 1 1 1 0 0 0 0 0 0 0 0 0 0 0 0\n",
      " 0 0 0 0 0 0 0 0 0 2 0 0 0 0 0 0 0 0]\n",
      "]\n",
      "ESR(7200000).bases    : [\n",
      "[1 1 1 1 1 1 1 1 1 3 3 3 3 3 3 3 3 3 3 3 3 3 3 3 3 1 1 1 1 1 1 1 1 1 1 1 1\n",
      " 1 1 1 1 1 1 1 1 1 3 1 1 1 1 1 1 3 1]\n",
      "]\n",
      "ESR(7300000).esr      : [\n",
      "[0 0 0 0 0 0 0 0 0 0 0 1 1 1 1 2 1 0 0 0 1 2 1 0 2 0 0 0 0 0 0 0 0 0 0 0 0\n",
      " 0 0 0 0 0 0 0 0 0 0 0 0 0 0 0 0 2 0]\n",
      "]\n",
      "ESR(7300000).bases    : [\n",
      "[1 1 1 1 1 1 1 1 1 3 3 3 3 3 3 3 3 3 3 3 3 3 3 3 3 1 1 1 1 1 1 1 1 1 1 1 1\n",
      " 3 1 1 1 1 1 1 1 1 1 1 1 1 1 1 1 3 1]\n",
      "]\n",
      "ESR(7400000).esr      : [\n",
      "[0 0 0 0 0 0 0 0 0 0 0 1 1 1 2 0 2 0 1 1 2 2 0 0 2 0 0 0 0 0 0 0 0 0 0 0 0\n",
      " 0 0 0 0 0 0 0 0 0 0 0 0 0 0 0 0 0 0]\n",
      "]\n",
      "ESR(7400000).bases    : [\n",
      "[1 1 1 1 1 1 1 1 1 3 3 3 3 3 3 3 3 3 3 3 3 3 3 3 3 1 1 1 1 1 1 1 1 1 1 1 1\n",
      " 1 1 1 1 1 1 1 1 1 1 1 1 1 1 1 1 1 1]\n",
      "]\n",
      "ESR(7500000).esr      : [\n",
      "[0 0 0 0 0 0 0 0 0 0 0 1 1 1 2 1 2 0 1 1 0 2 2 2 1 0 0 0 0 0 0 0 0 0 0 0 0\n",
      " 0 0 0 0 0 0 0 0 0 0 0 0 0 0 0 0 0 0]\n",
      "]\n",
      "ESR(7500000).bases    : [\n",
      "[1 1 1 1 1 1 1 1 1 3 3 3 3 3 3 3 3 3 3 3 3 3 3 3 3 1 1 1 1 1 1 1 1 1 1 1 1\n",
      " 1 1 1 1 1 1 1 1 1 1 1 1 1 1 1 1 1 1]\n",
      "]\n",
      "ESR(7600000).esr      : [\n",
      "[0 0 0 0 0 0 0 0 0 0 0 1 1 1 2 2 2 0 0 2 0 2 0 2 0 0 0 0 0 0 0 0 0 0 0 0 0\n",
      " 0 0 0 0 0 0 0 0 0 0 2 0 2 0 0 0 0 0]\n",
      "]\n",
      "ESR(7600000).bases    : [\n",
      "[1 1 1 1 1 1 1 1 1 3 3 3 3 3 3 3 3 3 3 3 3 3 3 3 3 1 1 1 1 1 1 1 1 1 1 1 1\n",
      " 1 1 1 1 1 1 1 1 1 3 3 1 3 1 1 1 1 1]\n",
      "]\n",
      "ESR(7700000).esr      : [\n",
      "[0 0 0 0 0 0 0 0 0 0 0 1 1 2 0 1 0 1 1 1 0 1 1 1 2 0 0 0 0 0 0 0 0 0 0 0 0\n",
      " 0 0 0 0 0 0 0 0 0 2 0 0 0 0 0 0 0 0]\n",
      "]\n",
      "ESR(7700000).bases    : [\n",
      "[1 1 1 1 1 1 1 1 1 3 3 3 3 3 3 3 3 3 3 3 3 3 3 3 3 1 1 1 1 1 1 1 1 1 1 1 1\n",
      " 1 1 1 1 1 1 1 1 1 3 1 1 1 1 1 1 1 1]\n",
      "]\n",
      "ESR(7800000).esr      : [\n",
      "[0 0 0 0 0 0 0 0 0 0 0 1 1 2 0 1 2 2 0 1 1 1 0 1 2 0 0 0 0 0 0 0 0 0 0 0 0\n",
      " 0 0 0 0 0 0 0 0 0 0 0 0 0 0 0 0 0 0]\n",
      "]\n",
      "ESR(7800000).bases    : [\n",
      "[1 1 1 1 1 1 1 1 1 3 3 3 3 3 3 3 3 3 3 3 3 3 3 3 3 1 1 1 1 1 1 1 1 1 1 1 1\n",
      " 1 1 1 1 1 1 1 1 1 1 1 1 1 1 1 1 1 1]\n",
      "]\n",
      "ESR(7900000).esr      : [\n",
      "[0 0 0 0 0 0 0 0 0 0 0 1 1 2 1 0 0 2 0 2 1 0 0 0 2 0 0 0 0 0 0 0 0 0 0 0 0\n",
      " 0 2 0 1 0 0 0 0 0 0 0 0 0 0 0 0 0 0]\n",
      "]\n",
      "ESR(7900000).bases    : [\n",
      "[1 1 1 1 1 1 1 1 1 3 3 3 3 3 3 3 3 3 3 3 3 3 3 3 3 1 1 1 1 1 1 1 1 1 1 1 1\n",
      " 1 3 1 3 1 1 1 1 1 1 1 1 1 1 1 1 1 1]\n",
      "]\n",
      "ESR(8000000).esr      : [\n",
      "[0 0 0 0 0 0 0 0 0 0 0 1 1 2 1 1 1 1 1 2 1 1 2 0 2 0 0 0 0 0 0 0 0 0 0 0 0\n",
      " 0 0 0 0 0 0 0 0 0 0 0 0 0 0 0 0 0 0]\n",
      "]\n",
      "ESR(8000000).bases    : [\n",
      "[1 1 1 1 1 1 1 1 1 3 3 3 3 3 3 3 3 3 3 3 3 3 3 3 3 1 1 1 1 1 1 1 1 1 1 1 1\n",
      " 1 1 1 3 1 1 1 1 1 1 1 1 1 1 1 1 1 1]\n",
      "]\n",
      "ESR(8100000).esr      : [\n",
      "[0 0 0 0 0 0 0 0 0 0 0 1 1 2 1 2 1 2 0 2 2 0 0 2 2 0 0 0 0 0 0 0 0 0 0 2 0\n",
      " 0 0 0 0 0 0 0 0 0 0 0 2 1 0 0 0 0 0]\n",
      "]\n",
      "ESR(8100000).bases    : [\n",
      "[1 1 1 1 1 1 1 1 1 3 3 3 3 3 3 3 3 3 3 3 3 3 3 3 3 1 1 1 1 1 1 1 1 1 1 3 1\n",
      " 1 1 1 1 1 1 1 1 1 3 3 3 3 1 1 1 1 1]\n",
      "]\n",
      "ESR(8200000).esr      : [\n",
      "[0 0 0 0 0 0 0 0 0 0 0 1 1 2 2 0 2 0 0 1 2 2 0 0 0 0 0 0 0 0 0 0 0 0 0 0 0\n",
      " 0 0 0 0 0 0 0 0 0 0 0 0 0 0 0 0 0 0]\n",
      "]\n",
      "ESR(8200000).bases    : [\n",
      "[1 1 1 1 1 1 1 1 1 3 3 3 3 3 3 3 3 3 3 3 3 3 3 3 3 1 1 1 1 1 1 1 1 1 1 1 1\n",
      " 1 1 1 1 1 1 1 1 1 3 1 1 1 1 1 1 1 1]\n",
      "]\n",
      "ESR(8300000).esr      : [\n",
      "[0 0 0 0 0 0 0 0 0 0 0 1 1 2 2 1 1 1 0 1 2 2 0 2 2 0 0 0 0 0 0 0 0 0 0 0 1\n",
      " 0 0 0 0 0 0 0 0 0 0 0 2 0 0 0 0 0 0]\n",
      "]\n",
      "ESR(8300000).bases    : [\n",
      "[1 1 1 1 1 1 1 1 1 3 3 3 3 3 3 3 3 3 3 3 3 3 3 3 3 1 1 1 1 1 1 1 1 1 1 1 3\n",
      " 1 1 1 1 1 1 1 1 1 3 1 3 1 1 1 1 1 1]\n",
      "]\n",
      "ESR(8400000).esr      : [\n",
      "[0 0 0 0 0 0 0 0 0 0 0 1 1 2 2 1 2 2 1 1 0 1 0 1 0 0 0 0 0 0 0 0 0 0 0 0 0\n",
      " 0 0 0 0 0 0 0 0 0 0 0 0 0 0 0 0 0 0]\n",
      "]\n",
      "ESR(8400000).bases    : [\n",
      "[1 1 1 1 1 1 1 1 1 3 3 3 3 3 3 3 3 3 3 3 3 3 3 3 3 1 1 1 1 1 1 1 1 1 1 1 1\n",
      " 1 1 1 1 1 1 1 1 1 1 1 1 1 1 1 1 1 1]\n",
      "]\n",
      "ESR(8500000).esr      : [\n",
      "[0 0 0 0 0 0 0 0 0 0 0 1 1 2 2 2 1 2 2 0 1 0 2 2 2 0 0 0 0 0 0 0 0 0 0 2 0\n",
      " 0 1 0 0 0 0 0 0 0 0 0 0 0 0 0 0 0 0]\n",
      "]\n",
      "ESR(8500000).bases    : [\n",
      "[1 1 1 1 1 1 1 1 1 3 3 3 3 3 3 3 3 3 3 3 3 3 3 3 3 1 1 1 1 1 1 1 1 1 1 3 1\n",
      " 1 3 1 1 1 1 1 1 1 3 1 1 1 1 1 1 1 1]\n",
      "]\n",
      "ESR(8600000).esr      : [\n",
      "[0 0 0 0 0 0 0 0 0 0 0 1 2 0 0 0 2 2 2 1 1 0 0 0 1 0 0 0 0 0 0 0 0 0 0 0 0\n",
      " 0 0 0 0 0 0 0 0 0 1 0 0 0 0 0 0 0 0]\n",
      "]\n",
      "ESR(8600000).bases    : [\n",
      "[1 1 1 1 1 1 1 1 1 3 3 3 3 3 3 3 3 3 3 3 3 3 3 3 3 1 1 1 1 1 1 1 1 1 1 1 1\n",
      " 1 1 1 1 1 1 1 1 1 3 1 1 1 1 1 1 1 1]\n",
      "]\n",
      "ESR(8700000).esr      : [\n",
      "[0 0 0 0 0 0 0 0 0 0 0 1 2 0 0 2 2 0 2 2 2 1 0 0 1 0 0 0 0 0 0 0 0 0 0 0 0\n",
      " 0 0 0 0 0 0 0 0 0 2 0 0 0 0 0 0 0 0]\n",
      "]\n",
      "ESR(8700000).bases    : [\n",
      "[1 1 1 1 1 1 1 1 1 3 3 3 3 3 3 3 3 3 3 3 3 3 3 3 3 1 1 1 1 1 1 1 1 1 1 1 1\n",
      " 1 1 1 1 1 1 1 1 1 3 1 1 1 1 1 1 1 1]\n",
      "]\n",
      "ESR(8800000).esr      : [\n",
      "[0 0 0 0 0 0 0 0 0 0 0 1 2 0 1 1 2 1 1 2 0 2 0 2 1 0 0 0 0 0 0 0 0 0 0 0 0\n",
      " 0 0 0 0 0 0 0 0 0 1 0 0 0 0 0 0 0 0]\n",
      "]\n",
      "ESR(8800000).bases    : [\n",
      "[1 1 1 1 1 1 1 1 1 3 3 3 3 3 3 3 3 3 3 3 3 3 3 3 3 1 1 1 1 1 1 1 1 1 1 1 1\n",
      " 1 1 1 1 1 1 1 1 1 3 1 1 3 1 1 1 1 1]\n",
      "]\n",
      "ESR(8900000).esr      : [\n",
      "[0 0 0 0 0 0 0 0 0 0 0 1 2 0 2 0 2 0 2 2 0 2 1 2 1 0 0 0 0 0 0 0 0 0 0 0 0\n",
      " 0 0 0 0 0 0 0 0 0 2 0 0 0 0 0 0 2 0]\n",
      "]\n",
      "ESR(8900000).bases    : [\n",
      "[1 1 1 1 1 1 1 1 1 3 3 3 3 3 3 3 3 3 3 3 3 3 3 3 3 1 1 1 1 1 1 1 1 1 1 1 1\n",
      " 1 1 1 1 1 1 1 1 1 3 1 1 1 1 1 1 3 1]\n",
      "]\n",
      "ESR(9000000).esr      : [\n",
      "[0 0 0 0 0 0 0 0 0 0 0 1 2 0 2 2 0 1 1 2 2 0 2 2 2 0 0 0 0 0 0 0 0 0 0 0 0\n",
      " 0 0 0 0 0 0 0 0 0 2 0 0 0 0 0 0 0 0]\n",
      "]\n",
      "ESR(9000000).bases    : [\n",
      "[1 1 1 1 1 1 1 1 1 3 3 3 3 3 3 3 3 3 3 3 3 3 3 3 3 1 1 1 1 1 1 1 1 1 1 1 1\n",
      " 1 1 1 1 1 1 1 1 1 3 1 1 1 1 1 1 1 1]\n",
      "]\n",
      "ESR(9100000).esr      : [\n",
      "[0 0 0 0 0 0 0 0 0 0 0 1 2 1 0 1 0 0 1 2 2 0 1 1 0 0 0 0 0 0 0 0 0 0 0 0 0\n",
      " 0 0 0 0 0 0 0 0 0 1 0 2 0 0 0 0 0 0]\n",
      "]\n",
      "ESR(9100000).bases    : [\n",
      "[1 1 1 1 1 1 1 1 1 3 3 3 3 3 3 3 3 3 3 3 3 3 3 3 3 1 1 1 1 1 1 1 1 1 1 1 1\n",
      " 1 1 1 1 1 1 1 1 1 3 1 3 1 1 1 1 1 1]\n",
      "]\n",
      "ESR(9200000).esr      : [\n",
      "[0 0 0 0 0 0 0 0 0 0 0 1 2 1 0 2 2 1 2 2 1 0 0 0 2 0 0 0 0 0 0 0 0 0 0 0 0\n",
      " 0 0 0 1 0 0 0 0 0 0 0 0 0 0 0 0 2 0]\n",
      "]\n",
      "ESR(9200000).bases    : [\n",
      "[1 1 1 1 1 1 1 1 1 3 3 3 3 3 3 3 3 3 3 3 3 3 3 3 3 1 1 1 1 1 1 1 1 1 1 1 1\n",
      " 1 1 3 3 1 1 1 1 1 1 1 1 1 1 1 1 3 1]\n",
      "]\n",
      "ESR(9300000).esr      : [\n",
      "[0 0 0 0 0 0 0 0 0 0 0 1 2 1 1 1 2 1 2 2 2 2 2 2 0 0 0 0 0 0 0 0 0 0 0 0 0\n",
      " 0 0 0 0 0 0 0 0 0 0 0 0 0 0 0 0 0 0]\n",
      "]\n",
      "ESR(9300000).bases    : [\n",
      "[1 1 1 1 1 1 1 1 1 3 3 3 3 3 3 3 3 3 3 3 3 3 3 3 3 1 1 1 1 1 1 1 1 1 1 1 1\n",
      " 1 1 1 1 1 1 1 1 1 1 1 1 1 1 1 1 1 1]\n",
      "]\n",
      "ESR(9400000).esr      : [\n",
      "[0 0 0 0 0 0 0 0 0 0 0 1 2 1 2 0 2 0 1 2 0 0 1 1 1 0 0 0 0 0 0 0 0 0 0 0 0\n",
      " 0 0 0 0 0 0 0 0 0 1 0 0 0 0 0 0 0 0]\n",
      "]\n",
      "ESR(9400000).bases    : [\n",
      "[1 1 1 1 1 1 1 1 1 3 3 3 3 3 3 3 3 3 3 3 3 3 3 3 3 1 1 1 1 1 1 1 1 1 1 1 1\n",
      " 1 1 1 1 1 1 1 1 1 3 1 1 1 1 1 1 1 1]\n",
      "]\n",
      "ESR(9500000).esr      : [\n",
      "[0 0 0 0 0 0 0 0 0 0 0 1 2 1 2 2 0 1 2 0 2 2 1 1 2 0 0 0 0 0 0 0 0 0 0 0 0\n",
      " 0 0 0 0 0 0 0 0 0 0 0 0 0 0 0 0 0 0]\n",
      "]\n",
      "ESR(9500000).bases    : [\n",
      "[1 1 1 1 1 1 1 1 1 3 3 3 3 3 3 3 3 3 3 3 3 3 3 3 3 1 1 1 1 1 1 1 1 1 1 1 1\n",
      " 1 1 1 1 1 1 1 1 1 1 1 1 1 1 1 1 1 1]\n",
      "]\n",
      "ESR(9600000).esr      : [\n",
      "[0 0 0 0 0 0 0 0 0 0 0 1 2 2 0 0 2 1 1 1 2 2 2 0 1 0 0 0 0 0 0 0 0 0 0 0 0\n",
      " 0 0 0 0 0 0 0 0 0 2 0 0 0 0 0 0 0 0]\n",
      "]\n",
      "ESR(9600000).bases    : [\n",
      "[1 1 1 1 1 1 1 1 1 3 3 3 3 3 3 3 3 3 3 3 3 3 3 3 3 1 1 1 1 1 1 1 1 1 1 1 1\n",
      " 1 1 1 1 1 1 1 1 1 3 1 1 1 1 1 1 1 1]\n",
      "]\n",
      "ESR(9700000).esr      : [\n",
      "[0 0 0 0 0 0 0 0 0 0 0 1 2 2 0 2 1 0 1 1 0 2 2 2 1 0 0 0 0 0 0 0 0 0 0 0 0\n",
      " 0 0 0 0 0 0 0 0 0 0 0 0 0 0 0 0 0 0]\n",
      "]\n",
      "ESR(9700000).bases    : [\n",
      "[1 1 1 1 1 1 1 1 1 3 3 3 3 3 3 3 3 3 3 3 3 3 3 3 3 1 1 1 1 1 1 1 1 1 1 1 1\n",
      " 1 1 1 1 1 1 1 1 1 1 1 1 1 1 1 1 1 1]\n",
      "]\n",
      "ESR(9800000).esr      : [\n",
      "[0 0 0 0 0 0 0 0 0 0 0 1 2 2 1 1 0 2 0 2 0 1 1 1 2 0 0 0 0 0 0 0 0 0 0 0 0\n",
      " 0 0 0 0 0 0 0 0 0 0 0 1 0 0 0 0 0 0]\n",
      "]\n",
      "ESR(9800000).bases    : [\n",
      "[1 1 1 1 1 1 1 1 1 3 3 3 3 3 3 3 3 3 3 3 3 3 3 3 3 1 1 1 1 1 1 1 1 1 1 1 1\n",
      " 1 1 1 1 1 1 1 1 1 3 1 3 1 1 1 1 1 1]\n",
      "]\n",
      "ESR(9900000).esr      : [\n",
      "[0 0 0 0 0 0 0 0 0 0 0 1 2 2 1 2 2 0 2 1 0 1 2 2 1 0 0 0 0 0 0 0 0 0 0 0 0\n",
      " 0 0 0 0 0 0 0 0 0 0 0 0 0 0 0 0 0 0]\n",
      "]\n",
      "ESR(9900000).bases    : [\n",
      "[1 1 1 1 1 1 1 1 1 3 3 3 3 3 3 3 3 3 3 3 3 3 3 3 3 1 1 1 1 1 1 1 1 1 1 1 1\n",
      " 1 1 1 1 1 1 1 1 1 1 1 1 1 1 1 1 1 1]\n",
      "]\n",
      "ESR(10000000).esr      : [\n",
      "[0 0 0 0 0 0 0 0 0 0 0 1 2 2 2 1 0 2 2 2 2 0 1 0 0 0 0 0 0 0 0 0 0 0 0 0 0\n",
      " 0 0 0 0 0 0 0 0 0 0 0 0 0 0 0 0 0 0]\n",
      "]\n",
      "ESR(10000000).bases    : [\n",
      "[1 1 1 1 1 1 1 1 1 3 3 3 3 3 3 3 3 3 3 3 3 3 3 3 3 1 1 1 1 1 1 1 1 1 1 1 1\n",
      " 1 1 1 1 1 1 1 1 1 3 1 1 1 1 1 1 3 1]\n",
      "]\n",
      "\n",
      "\n",
      "10000000 equilibria found.\n"
     ]
    },
    {
     "data": {
      "image/png": "[encoded data removed]",
      "text/plain": [
       "<Figure size 432x288 with 1 Axes>"
      ]
     },
     "metadata": {
      "needs_background": "light"
     },
     "output_type": "display_data"
    },
    {
     "name": "stdout",
     "output_type": "stream",
     "text": [
      "STAGE       Recursion_started_in_stage :\n",
      "\n",
      " 1               1619212\n",
      " 2                     0\n",
      " 3                     0\n",
      " 4               4498322\n",
      " 5                     0\n",
      " 6                     0\n",
      " 7                726696\n",
      " 8                     0\n",
      " 9                     0\n",
      "10               3155769\n",
      "11                     0\n",
      "12                     0\n",
      "13                     1\n"
     ]
    },
    {
     "data": {
      "image/png": "[encoded data removed]",
      "text/plain": [
       "<Figure size 576x576 with 1 Axes>"
      ]
     },
     "metadata": {
      "needs_background": "light"
     },
     "output_type": "display_data"
    }
   ],
   "source": [
    "options = {'maxc':5, 'nC':5}\n",
    "mp = lf.Lf_model(options)\n",
    "\n",
    "\n",
    "ess0 = copy.copy(mp.ess)\n",
    "stage_index=  copy.copy(mp.stage_index)\n",
    "\n",
    "ESS, TAU, out = rls.solve(Gtau,mp,ess0,stage_index,maxEQ=10000000, printev=100000) \n",
    "\n",
    "mp.print_equilibria(ESS, TAU, out )"
   ]
  },
  {
   "cell_type": "code",
   "execution_count": null,
   "metadata": {},
   "outputs": [],
   "source": []
  }
 ],
 "metadata": {
  "interpreter": {
   "hash": "b3ba2566441a7c06988d0923437866b63cedc61552a5af99d1f4fb67d367b25f"
  },
  "kernelspec": {
   "display_name": "Python 3.8.11 ('base')",
   "language": "python",
   "name": "python3"
  },
  "language_info": {
   "codemirror_mode": {
    "name": "ipython",
    "version": 3
   },
   "file_extension": ".py",
   "mimetype": "text/x-python",
   "name": "python",
   "nbconvert_exporter": "python",
   "pygments_lexer": "ipython3",
   "version": "3.8.11"
  },
  "orig_nbformat": 4
 },
 "nbformat": 4,
 "nbformat_minor": 2
}
