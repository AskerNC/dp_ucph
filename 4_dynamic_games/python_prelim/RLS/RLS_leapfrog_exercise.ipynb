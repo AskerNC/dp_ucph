{
 "cells": [
  {
   "cell_type": "code",
   "execution_count": 3,
   "metadata": {},
   "outputs": [],
   "source": [
    "import numpy as np\n",
    "import matplotlib.pyplot as plt\n",
    "from matplotlib import cm # for colormaps\n",
    "import seaborn as sns"
   ]
  },
  {
   "cell_type": "code",
   "execution_count": 4,
   "metadata": {},
   "outputs": [],
   "source": [
    "%load_ext autoreload\n",
    "%autoreload 2\n",
    "\n",
    "import spp\n",
    "import solveDP\n",
    "import lf"
   ]
  },
  {
   "cell_type": "code",
   "execution_count": null,
   "metadata": {},
   "outputs": [],
   "source": [
    " "
   ]
  },
  {
   "cell_type": "code",
   "execution_count": null,
   "metadata": {},
   "outputs": [],
   "source": []
  },
  {
   "cell_type": "markdown",
   "metadata": {},
   "source": [
    "## 1 Social planners problem\n",
    "### Exercise 1\n",
    "\n",
    "If there is no technological development nothing happens, and as costs is already as low as possible in the period, the investment does not change anything such that the state is still $s_{s}= \\left(c_1,c_1\\right)$\n",
    "\n",
    "Techonological development will move into $s_{2}= \\left(c_1,c_2\\right)$, the investment still does do anything to change the marginal cost of the firm\n",
    "\n",
    "From $s_{2}= \\left(c_1,c_2\\right)$ with investment and no techonological change we move into $s_{3}= \\left(c_2,c_2\\right)$\n",
    "\n",
    "From $s_{2}= \\left(c_1,c_2\\right)$ with investment and techonological change we move into $s_{3}= \\left(c_2,c_3\\right)$\n"
   ]
  },
  {
   "cell_type": "markdown",
   "metadata": {},
   "source": [
    "## 2 State recursion algorithm\n",
    "### Exercise 2\n",
    "\n",
    "$$\n",
    "u(s,a)=p-x-K(c)a\n",
    "$$\n",
    "\n",
    "$$\n",
    "x'=x(1-a)+ca\n",
    "$$\n",
    "$$\n",
    "V(s):= \\underset{a\\in{0,1}}{\\max} \\left\\{ u\\left(s,a\\right)+β \\mathbb{E}\\left[V(s')|s,a \\right] \\right\\}\n",
    "$$\n",
    "$$\n",
    "v_{I}(s):=  u\\left(s,1\\right)+β \\mathbb{E}\\left[V(s')|s,a=1\\right]\n",
    "$$\n",
    "$$\n",
    "v_{N}(s):=  u\\left(s,0\\right)+β \\mathbb{E}\\left[V(s')|s,a=0\\right]\n",
    "$$"
   ]
  },
  {
   "cell_type": "markdown",
   "metadata": {},
   "source": [
    "__step 2.1__\n",
    "\n",
    "\n",
    "For layer 4 there is no uncertanty such that $V(s_7)-V(s_{10})$ is known:\n",
    "\n",
    "$$\n",
    "V(c_4,c_4) = ∑^{\\infty}_{t=0}β^t u(s_4 ,0)=∑^{\\infty}_{t=0}β^t \\left(p-c_4 \\right)\n",
    "$$\n",
    "\n",
    "$$\n",
    "V(c_i-c_i,c_4) = \\max\\left\\{p-c_i -K(c_4)+ ∑^{\\infty}_{t=1}β^t \\left(p-c_4 \\right) ,∑^{\\infty}_{t=0}β^t \\left(p-c_i \\right)\\right\\}\n",
    "$$\n",
    "for $i\\in\\{ 1,2,3\\}$\n"
   ]
  },
  {
   "cell_type": "markdown",
   "metadata": {},
   "source": [
    "in layer 3 $V$ is then a propablity weighted average of the choice in layer 3 and the dependent state, given transition to layer 4.\n",
    "\n",
    "With layer 3 mapped out, layer 2, and 1 can thereafter be found."
   ]
  },
  {
   "cell_type": "markdown",
   "metadata": {},
   "source": [
    "__step 2.2__\n",
    "\n",
    "the value of investing will be the value in the current period (profits minus investment costs) + propablity weighted sum of value in the next period where the possibe states are no technoogical progress such that costs are lowest possible, and technological progress\n",
    "\n",
    "$$\n",
    "v_I(x,c) = p-x-K(c) +\\beta\\left[ π V(c,\\tilde{c})+(1-π) V(c,c) \\right]\n",
    "$$\n",
    "\n",
    "As argued above $V(c,\\tilde{c})$ and $V(c,c)$ can be known by backwards induction"
   ]
  },
  {
   "cell_type": "markdown",
   "metadata": {},
   "source": [
    "__step 2.3__\n",
    "\n",
    "\n",
    "$$\n",
    "v_N(x,c) = p-x +\\beta\\left[ π V(x,\\tilde{c})+(1-π) V(x,c) \\right]\n",
    "$$\n",
    "\n",
    "Given $V(x,c)=V_N(x,c) we have: \n",
    "$$\n",
    "v_N(x,c) = p-x +\\beta\\left[ π V(x,\\tilde{c})+(1-π) v_N(x,c) \\right]\n",
    "$$\n",
    "and we can isolate $v_N(x,c)$:"
   ]
  },
  {
   "cell_type": "markdown",
   "metadata": {},
   "source": [
    "$$\n",
    "(1-β(1-π)) v_N(x,c) = p-x +\\beta\\left[ π V(x,\\tilde{c}) \\right]\n",
    "$$\n",
    "$$\n",
    "⇔ v_N(x,c) = \\frac{p-x +\\beta π V(x,\\tilde{c})}{(1-β(1-π)) }\n",
    "$$"
   ]
  },
  {
   "cell_type": "markdown",
   "metadata": {},
   "source": [
    "__step 2.4__\n",
    "\n",
    "\n",
    "If $v_I(x,c)>v_n(x,c)$, then $V(x,c)=v_I(x,c)$. Giving eq 14:\n",
    "$$\n",
    "v_N(x,c) = p-x +\\beta\\left[ π V(x,\\tilde{c})+(1-π)v_I(x,c)\\right]\n",
    "$$"
   ]
  },
  {
   "cell_type": "markdown",
   "metadata": {},
   "source": [
    "Again due to $v_I(x,c)>v_n(x,c)$ we must have:\n",
    "$$\n",
    "v_N(x,c) > p-x +\\beta\\left[ π V(x,\\tilde{c})+(1-π)v_N(x,c)\\right]\n",
    "$$\n",
    "\n",
    "We can use the same derrivation as in step 2.3 to show: \n",
    "$$\n",
    "⇔ v_N(x,c) > \\frac{p-x +\\beta π V(x,\\tilde{c})}{(1-β(1-π)) }\n",
    "$$"
   ]
  },
  {
   "cell_type": "markdown",
   "metadata": {},
   "source": [
    "__code 2.4__"
   ]
  },
  {
   "cell_type": "code",
   "execution_count": 38,
   "metadata": {},
   "outputs": [],
   "source": [
    "ssp_dict = {'k1':8.3,\n",
    "        'N':4,\n",
    "        'beta':0.99,\n",
    "        'pf':1,\n",
    "        'maxc':5,\n",
    "        'p'   :5,\n",
    "        }"
   ]
  },
  {
   "cell_type": "code",
   "execution_count": 39,
   "metadata": {},
   "outputs": [],
   "source": [
    "mp = spp.Ssp_model(ssp_dict)\n",
    "V_save, P_save = mp.state_recursion()"
   ]
  },
  {
   "cell_type": "code",
   "execution_count": 40,
   "metadata": {},
   "outputs": [
    {
     "data": {
      "text/plain": [
       "array([[473.59895753, 478.38278538, 482.0205    , 486.7       ],\n",
       "       [         nan, 481.96483667, 485.14966667, 488.36666667],\n",
       "       [         nan,          nan, 488.46633333, 490.03333333],\n",
       "       [         nan,          nan,          nan, 500.        ]])"
      ]
     },
     "execution_count": 40,
     "metadata": {},
     "output_type": "execute_result"
    }
   ],
   "source": [
    "V_save"
   ]
  },
  {
   "cell_type": "code",
   "execution_count": 41,
   "metadata": {},
   "outputs": [
    {
     "data": {
      "text/plain": [
       "array([473.59895753, 478.38278538, 482.0205    , 486.7       ,\n",
       "       481.96483667, 485.14966667, 488.36666667, 488.46633333,\n",
       "       490.03333333, 500.        ])"
      ]
     },
     "execution_count": 41,
     "metadata": {},
     "output_type": "execute_result"
    }
   ],
   "source": [
    "I = np.triu_indices_from(V_save)\n",
    "V_save[I]"
   ]
  },
  {
   "cell_type": "code",
   "execution_count": 42,
   "metadata": {},
   "outputs": [
    {
     "data": {
      "image/png": "[encoded data removed]",
      "text/plain": [
       "<Figure size 792x648 with 2 Axes>"
      ]
     },
     "metadata": {
      "needs_background": "light"
     },
     "output_type": "display_data"
    },
    {
     "data": {
      "image/png": "[encoded data removed]",
      "text/plain": [
       "<Figure size 792x648 with 2 Axes>"
      ]
     },
     "metadata": {
      "needs_background": "light"
     },
     "output_type": "display_data"
    }
   ],
   "source": [
    "mp.plot_solution()"
   ]
  },
  {
   "cell_type": "markdown",
   "metadata": {},
   "source": [
    "__code 2.6__"
   ]
  },
  {
   "cell_type": "code",
   "execution_count": 43,
   "metadata": {},
   "outputs": [
    {
     "name": "stdout",
     "output_type": "stream",
     "text": [
      "Maximized at 494.99999999999955 with x = 5.000 and c = 0.000\n"
     ]
    }
   ],
   "source": [
    "grid = np.linspace(5,0,10)\n",
    "beta =0.99\n",
    "f = lambda x,c : beta/(1-beta) *(x-c)\n",
    "f_best = -np.inf\n",
    "xc_best = [0,0]\n",
    "\n",
    "for x in grid:\n",
    "    for c in grid:\n",
    "        f_cur = f(x,c)\n",
    "        if f_cur>f_best:\n",
    "            f_best =f_cur\n",
    "            xc_best = [x,c]\n",
    "\n",
    "ystar = f_best\n",
    "print(f'Maximized at {f_best} with x = {xc_best[0]:.3f} and c = {xc_best[1]:.3f}')"
   ]
  },
  {
   "cell_type": "code",
   "execution_count": 49,
   "metadata": {},
   "outputs": [],
   "source": [
    "ssp_dict = {'k1':ystar,\n",
    "        'N':10,\n",
    "        'beta':0.99,\n",
    "        'pf':1,\n",
    "        'maxc':5,\n",
    "        'p'   :5,\n",
    "        'Kform' : 'constant'\n",
    "        }\n",
    "mp = spp.Ssp_model(ssp_dict)\n",
    "V, P = mp.state_recursion()"
   ]
  },
  {
   "cell_type": "code",
   "execution_count": 50,
   "metadata": {},
   "outputs": [
    {
     "data": {
      "text/plain": [
       "array([[ 0.,  0.,  0.,  0.,  0.,  0.,  0.,  0.,  0.,  0.],\n",
       "       [nan,  0.,  0.,  0.,  0.,  0.,  0.,  0.,  0.,  0.],\n",
       "       [nan, nan,  0.,  0.,  0.,  0.,  0.,  0.,  0.,  0.],\n",
       "       [nan, nan, nan,  0.,  0.,  0.,  0.,  0.,  0.,  0.],\n",
       "       [nan, nan, nan, nan,  0.,  0.,  0.,  0.,  0.,  0.],\n",
       "       [nan, nan, nan, nan, nan,  0.,  0.,  0.,  0.,  0.],\n",
       "       [nan, nan, nan, nan, nan, nan,  0.,  0.,  0.,  0.],\n",
       "       [nan, nan, nan, nan, nan, nan, nan,  0.,  0.,  0.],\n",
       "       [nan, nan, nan, nan, nan, nan, nan, nan,  0.,  0.],\n",
       "       [nan, nan, nan, nan, nan, nan, nan, nan, nan,  0.]])"
      ]
     },
     "execution_count": 50,
     "metadata": {},
     "output_type": "execute_result"
    }
   ],
   "source": [
    "P"
   ]
  },
  {
   "cell_type": "code",
   "execution_count": 51,
   "metadata": {},
   "outputs": [
    {
     "data": {
      "image/png": "[encoded data removed]",
      "text/plain": [
       "<Figure size 792x648 with 2 Axes>"
      ]
     },
     "metadata": {
      "needs_background": "light"
     },
     "output_type": "display_data"
    },
    {
     "data": {
      "image/png": "[encoded data removed]",
      "text/plain": [
       "<Figure size 792x648 with 2 Axes>"
      ]
     },
     "metadata": {
      "needs_background": "light"
     },
     "output_type": "display_data"
    }
   ],
   "source": [
    "mp.plot_solution()"
   ]
  },
  {
   "cell_type": "markdown",
   "metadata": {},
   "source": [
    "There is no investment since investment costs is equal to infinite profits with a price of 5 and production cost of 0 (value function with state $s_{10}$) but when investing the soical planner incurs the cost in the current period and then receives the good profits in the next, because of discounting this is never optimal, even in $s_{7}$ which is the state most advantagous for investing as you go from production costs of 5 to 0. "
   ]
  },
  {
   "cell_type": "code",
   "execution_count": 46,
   "metadata": {},
   "outputs": [],
   "source": [
    "ssp_dict = {'k1':ystar,\n",
    "        'N':10,\n",
    "        'beta':0.99,\n",
    "        'pf':1,\n",
    "        'maxc':5,\n",
    "        'p'   :5,\n",
    "        'Kform' : 'smooth'\n",
    "        }\n",
    "mp = spp.Ssp_model(ssp_dict)\n",
    "V, P = mp.state_recursion()"
   ]
  },
  {
   "cell_type": "code",
   "execution_count": 47,
   "metadata": {},
   "outputs": [
    {
     "data": {
      "image/png": "[encoded data removed]",
      "text/plain": [
       "<Figure size 792x648 with 2 Axes>"
      ]
     },
     "metadata": {
      "needs_background": "light"
     },
     "output_type": "display_data"
    },
    {
     "data": {
      "image/png": "[encoded data removed]",
      "text/plain": [
       "<Figure size 792x648 with 2 Axes>"
      ]
     },
     "metadata": {
      "needs_background": "light"
     },
     "output_type": "display_data"
    }
   ],
   "source": [
    "mp.plot_solution()"
   ]
  },
  {
   "cell_type": "markdown",
   "metadata": {},
   "source": [
    "Now with $K(c) = \\frac{k1}{1+c}$ we have investment, as the costs are decreasing with higher c, so it can be optimal to invest.\n",
    "\n",
    "it is however still never optimal to invest in layer 4 when $c=0$ as we come back to the case $K=k1$"
   ]
  },
  {
   "cell_type": "code",
   "execution_count": null,
   "metadata": {},
   "outputs": [],
   "source": []
  },
  {
   "cell_type": "markdown",
   "metadata": {},
   "source": [
    "## 3 The leapfrogging game"
   ]
  },
  {
   "cell_type": "markdown",
   "metadata": {},
   "source": [
    "### Exercise 4"
   ]
  },
  {
   "cell_type": "code",
   "execution_count": 237,
   "metadata": {},
   "outputs": [],
   "source": [
    "self = lf.Lf_model()\n"
   ]
  },
  {
   "cell_type": "markdown",
   "metadata": {},
   "source": [
    "### Exercise 6\n"
   ]
  },
  {
   "cell_type": "code",
   "execution_count": 242,
   "metadata": {},
   "outputs": [],
   "source": [
    "self.solve_last_corner()\n",
    "self.solve_last_edge()\n",
    "self.solve_last_interior()"
   ]
  },
  {
   "cell_type": "code",
   "execution_count": 243,
   "metadata": {},
   "outputs": [
    {
     "data": {
      "text/plain": [
       "array([[3, 3, 3, 1],\n",
       "       [3, 3, 3, 1],\n",
       "       [3, 3, 3, 1],\n",
       "       [1, 1, 1, 1]])"
      ]
     },
     "execution_count": 243,
     "metadata": {},
     "output_type": "execute_result"
    }
   ],
   "source": [
    "self.ss[3].nEQ"
   ]
  },
  {
   "cell_type": "code",
   "execution_count": 244,
   "metadata": {},
   "outputs": [
    {
     "name": "stdout",
     "output_type": "stream",
     "text": [
      "\n",
      "P1:\n",
      "[[0. 0. 0. 0.]\n",
      " [0. 0. 0. 0.]\n",
      " [0. 0. 0. 0.]\n",
      " [0. 0. 0. 0.]]\n",
      "\n",
      "vN1:\n",
      "[[  0.           0.           0.           0.        ]\n",
      " [  1.66666667   0.           0.           0.        ]\n",
      " [  3.33333333   1.66666667   0.           0.        ]\n",
      " [102.52083247  68.34722164  34.17361082   0.        ]]\n",
      "\n",
      "vI1:\n",
      "[[-8.3        -8.3        -8.3        -8.3       ]\n",
      " [-6.63333333 -8.3        -8.3        -8.3       ]\n",
      " [-4.96666667 -6.63333333 -8.3        -8.3       ]\n",
      " [94.22083247 60.04722164 25.87361082 -8.3       ]]\n",
      "\n",
      "P2:\n",
      "[[1. 1. 1. 0.]\n",
      " [1. 1. 1. 0.]\n",
      " [1. 1. 1. 0.]\n",
      " [0. 0. 0. 0.]]\n",
      "\n",
      "vN2:\n",
      "[[ 84.86948112  88.12153016  91.3735792  102.52083247]\n",
      " [ 53.94791934  53.94791934  57.19996838  68.34722164]\n",
      " [ 23.02635756  23.02635756  23.02635756  34.17361082]\n",
      " [  0.           0.           0.           0.        ]]\n",
      "\n",
      "vI2:\n",
      "[[89.22083247 90.88749913 92.5541658  94.22083247]\n",
      " [56.71388831 56.71388831 58.38055498 60.04722164]\n",
      " [24.20694416 24.20694416 24.20694416 25.87361082]\n",
      " [-8.3        -8.3        -8.3        -8.3       ]]\n"
     ]
    }
   ],
   "source": [
    "self.print_eq()"
   ]
  },
  {
   "cell_type": "code",
   "execution_count": 247,
   "metadata": {},
   "outputs": [
    {
     "name": "stdout",
     "output_type": "stream",
     "text": [
      "\n",
      "P1:\n",
      "[[ 1.  1.  1. nan]\n",
      " [ 1.  1.  1. nan]\n",
      " [ 1.  1.  1. nan]\n",
      " [nan nan nan nan]]\n",
      "\n",
      "vN1:\n",
      "[[84.86948112 53.94791934 23.02635756         nan]\n",
      " [88.12153016 53.94791934 23.02635756         nan]\n",
      " [91.3735792  57.19996838 23.02635756         nan]\n",
      " [        nan         nan         nan         nan]]\n",
      "\n",
      "vI1:\n",
      "[[89.22083247 56.71388831 24.20694416         nan]\n",
      " [90.88749913 56.71388831 24.20694416         nan]\n",
      " [92.5541658  58.38055498 24.20694416         nan]\n",
      " [        nan         nan         nan         nan]]\n",
      "\n",
      "P2:\n",
      "[[ 0.  0.  0. nan]\n",
      " [ 0.  0.  0. nan]\n",
      " [ 0.  0.  0. nan]\n",
      " [nan nan nan nan]]\n",
      "\n",
      "vN2:\n",
      "[[0.         1.66666667 3.33333333        nan]\n",
      " [0.         0.         1.66666667        nan]\n",
      " [0.         0.         0.                nan]\n",
      " [       nan        nan        nan        nan]]\n",
      "\n",
      "vI2:\n",
      "[[-8.3        -6.63333333 -4.96666667         nan]\n",
      " [-8.3        -8.3        -6.63333333         nan]\n",
      " [-8.3        -8.3        -8.3                nan]\n",
      " [        nan         nan         nan         nan]]\n"
     ]
    }
   ],
   "source": [
    "self.print_eq(n_eq=2)"
   ]
  },
  {
   "cell_type": "code",
   "execution_count": 85,
   "metadata": {},
   "outputs": [
    {
     "data": {
      "text/plain": [
       "array([[None, None, None,\n",
       "        namespace(P1=array([False]), P2=array([False]), vI1=-8.3, vI2=array([94.22083247]), vN1=array([0.]), vN2=array([102.52083247]))],\n",
       "       [None, None, None,\n",
       "        namespace(P1=array([False]), P2=array([False]), vI1=-8.3, vI2=array([60.04722164]), vN1=array([0.]), vN2=array([68.34722164]))],\n",
       "       [None, None, None, None],\n",
       "       [namespace(P1=array([False]), P2=array([False]), vI1=-8.3, vI2=array([-8.3]), vN1=array([102.52083247]), vN2=array([0.])),\n",
       "        namespace(P1=array([False]), P2=array([False]), vI1=-8.3, vI2=array([-8.3]), vN1=array([68.34722164]), vN2=array([0.])),\n",
       "        None,\n",
       "        namespace(P1=False, P2=False, vI1=-8.3, vI2=-8.3, vN1=0.0, vN2=0.0)]],\n",
       "      dtype=object)"
      ]
     },
     "execution_count": 85,
     "metadata": {},
     "output_type": "execute_result"
    }
   ],
   "source": [
    "self.ss[3].EQs[0,:,:]"
   ]
  },
  {
   "cell_type": "markdown",
   "metadata": {},
   "source": [
    "### Exercise 6"
   ]
  },
  {
   "cell_type": "code",
   "execution_count": null,
   "metadata": {},
   "outputs": [],
   "source": []
  }
 ],
 "metadata": {
  "interpreter": {
   "hash": "b3ba2566441a7c06988d0923437866b63cedc61552a5af99d1f4fb67d367b25f"
  },
  "kernelspec": {
   "display_name": "Python 3.8.11 ('base')",
   "language": "python",
   "name": "python3"
  },
  "language_info": {
   "codemirror_mode": {
    "name": "ipython",
    "version": 3
   },
   "file_extension": ".py",
   "mimetype": "text/x-python",
   "name": "python",
   "nbconvert_exporter": "python",
   "pygments_lexer": "ipython3",
   "version": "3.8.11"
  },
  "orig_nbformat": 4
 },
 "nbformat": 4,
 "nbformat_minor": 2
}
