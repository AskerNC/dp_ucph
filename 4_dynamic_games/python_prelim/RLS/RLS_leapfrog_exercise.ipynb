{
 "cells": [
  {
   "cell_type": "code",
   "execution_count": 59,
   "metadata": {},
   "outputs": [],
   "source": [
    "import numpy as np\n",
    "import matplotlib.pyplot as plt\n",
    "from matplotlib import cm # for colormaps\n",
    "import seaborn as sns\n",
    "import copy"
   ]
  },
  {
   "cell_type": "code",
   "execution_count": 60,
   "metadata": {},
   "outputs": [
    {
     "name": "stdout",
     "output_type": "stream",
     "text": [
      "The autoreload extension is already loaded. To reload it, use:\n",
      "  %reload_ext autoreload\n"
     ]
    }
   ],
   "source": [
    "%load_ext autoreload\n",
    "%autoreload 2\n",
    "\n",
    "import spp\n",
    "import solveDP\n",
    "import lf\n",
    "import rls"
   ]
  },
  {
   "cell_type": "code",
   "execution_count": null,
   "metadata": {},
   "outputs": [],
   "source": []
  },
  {
   "cell_type": "markdown",
   "metadata": {},
   "source": [
    "## 1 Social planners problem\n",
    "### Exercise 1\n",
    "\n",
    "If there is no technological development nothing happens, and as costs is already as low as possible in the period, the investment does not change anything such that the state is still $s_{s}= \\left(c_1,c_1\\right)$\n",
    "\n",
    "Techonological development will move into $s_{2}= \\left(c_1,c_2\\right)$, the investment still does do anything to change the marginal cost of the firm\n",
    "\n",
    "From $s_{2}= \\left(c_1,c_2\\right)$ with investment and no techonological change we move into $s_{3}= \\left(c_2,c_2\\right)$\n",
    "\n",
    "From $s_{2}= \\left(c_1,c_2\\right)$ with investment and techonological change we move into $s_{3}= \\left(c_2,c_3\\right)$\n"
   ]
  },
  {
   "cell_type": "markdown",
   "metadata": {},
   "source": [
    "## 2 State recursion algorithm\n",
    "### Exercise 2\n",
    "\n",
    "$$\n",
    "u(s,a)=p-x-K(c)a\n",
    "$$\n",
    "\n",
    "$$\n",
    "x'=x(1-a)+ca\n",
    "$$\n",
    "$$\n",
    "V(s):= \\underset{a\\in{0,1}}{\\max} \\left\\{ u\\left(s,a\\right)+β \\mathbb{E}\\left[V(s')|s,a \\right] \\right\\}\n",
    "$$\n",
    "$$\n",
    "v_{I}(s):=  u\\left(s,1\\right)+β \\mathbb{E}\\left[V(s')|s,a=1\\right]\n",
    "$$\n",
    "$$\n",
    "v_{N}(s):=  u\\left(s,0\\right)+β \\mathbb{E}\\left[V(s')|s,a=0\\right]\n",
    "$$"
   ]
  },
  {
   "cell_type": "markdown",
   "metadata": {},
   "source": [
    "__step 2.1__\n",
    "\n",
    "\n",
    "For layer 4 there is no uncertanty such that $V(s_7)-V(s_{10})$ is known:\n",
    "\n",
    "$$\n",
    "V(c_4,c_4) = ∑^{\\infty}_{t=0}β^t u(s_4 ,0)=∑^{\\infty}_{t=0}β^t \\left(p-c_4 \\right)\n",
    "$$\n",
    "\n",
    "$$\n",
    "V(c_i-c_i,c_4) = \\max\\left\\{p-c_i -K(c_4)+ ∑^{\\infty}_{t=1}β^t \\left(p-c_4 \\right) ,∑^{\\infty}_{t=0}β^t \\left(p-c_i \\right)\\right\\}\n",
    "$$\n",
    "for $i\\in\\{ 1,2,3\\}$\n"
   ]
  },
  {
   "cell_type": "markdown",
   "metadata": {},
   "source": [
    "in layer 3 $V$ is then a propablity weighted average of the choice in layer 3 and the dependent state, given transition to layer 4.\n",
    "\n",
    "With layer 3 mapped out, layer 2, and 1 can thereafter be found."
   ]
  },
  {
   "cell_type": "markdown",
   "metadata": {},
   "source": [
    "__step 2.2__\n",
    "\n",
    "the value of investing will be the value in the current period (profits minus investment costs) + propablity weighted sum of value in the next period where the possibe states are no technoogical progress such that costs are lowest possible, and technological progress\n",
    "\n",
    "$$\n",
    "v_I(x,c) = p-x-K(c) +\\beta\\left[ π V(c,\\tilde{c})+(1-π) V(c,c) \\right]\n",
    "$$\n",
    "\n",
    "As argued above $V(c,\\tilde{c})$ and $V(c,c)$ can be known by backwards induction"
   ]
  },
  {
   "cell_type": "markdown",
   "metadata": {},
   "source": [
    "__step 2.3__\n",
    "\n",
    "\n",
    "$$\n",
    "v_N(x,c) = p-x +\\beta\\left[ π V(x,\\tilde{c})+(1-π) V(x,c) \\right]\n",
    "$$\n",
    "\n",
    "Given $V(x,c)=V_N(x,c) we have: \n",
    "$$\n",
    "v_N(x,c) = p-x +\\beta\\left[ π V(x,\\tilde{c})+(1-π) v_N(x,c) \\right]\n",
    "$$\n",
    "and we can isolate $v_N(x,c)$:"
   ]
  },
  {
   "cell_type": "markdown",
   "metadata": {},
   "source": [
    "$$\n",
    "(1-β(1-π)) v_N(x,c) = p-x +\\beta\\left[ π V(x,\\tilde{c}) \\right]\n",
    "$$\n",
    "$$\n",
    "⇔ v_N(x,c) = \\frac{p-x +\\beta π V(x,\\tilde{c})}{(1-β(1-π)) }\n",
    "$$"
   ]
  },
  {
   "cell_type": "markdown",
   "metadata": {},
   "source": [
    "__step 2.4__\n",
    "\n",
    "\n",
    "If $v_I(x,c)>v_n(x,c)$, then $V(x,c)=v_I(x,c)$. Giving eq 14:\n",
    "$$\n",
    "v_N(x,c) = p-x +\\beta\\left[ π V(x,\\tilde{c})+(1-π)v_I(x,c)\\right]\n",
    "$$"
   ]
  },
  {
   "cell_type": "markdown",
   "metadata": {},
   "source": [
    "Again due to $v_I(x,c)>v_n(x,c)$ we must have:\n",
    "$$\n",
    "v_N(x,c) > p-x +\\beta\\left[ π V(x,\\tilde{c})+(1-π)v_N(x,c)\\right]\n",
    "$$\n",
    "\n",
    "We can use the same derrivation as in step 2.3 to show: \n",
    "$$\n",
    "⇔ v_N(x,c) > \\frac{p-x +\\beta π V(x,\\tilde{c})}{(1-β(1-π)) }\n",
    "$$"
   ]
  },
  {
   "cell_type": "markdown",
   "metadata": {},
   "source": [
    "__code 2.4__"
   ]
  },
  {
   "cell_type": "code",
   "execution_count": 61,
   "metadata": {},
   "outputs": [],
   "source": [
    "ssp_dict = {'k1':8.3,\n",
    "        'N':4,\n",
    "        'beta':0.99,\n",
    "        'pf':1,\n",
    "        'maxc':5,\n",
    "        'p'   :5,\n",
    "        }"
   ]
  },
  {
   "cell_type": "code",
   "execution_count": 62,
   "metadata": {},
   "outputs": [],
   "source": [
    "mp = spp.Ssp_model(ssp_dict)\n",
    "V_save, P_save = mp.state_recursion()"
   ]
  },
  {
   "cell_type": "code",
   "execution_count": 63,
   "metadata": {},
   "outputs": [
    {
     "data": {
      "text/plain": [
       "array([[473.59895753, 478.38278538, 482.0205    , 486.7       ],\n",
       "       [         nan, 481.96483667, 485.14966667, 488.36666667],\n",
       "       [         nan,          nan, 488.46633333, 490.03333333],\n",
       "       [         nan,          nan,          nan, 500.        ]])"
      ]
     },
     "execution_count": 63,
     "metadata": {},
     "output_type": "execute_result"
    }
   ],
   "source": [
    "V_save"
   ]
  },
  {
   "cell_type": "code",
   "execution_count": 64,
   "metadata": {},
   "outputs": [
    {
     "data": {
      "text/plain": [
       "array([473.59895753, 478.38278538, 482.0205    , 486.7       ,\n",
       "       481.96483667, 485.14966667, 488.36666667, 488.46633333,\n",
       "       490.03333333, 500.        ])"
      ]
     },
     "execution_count": 64,
     "metadata": {},
     "output_type": "execute_result"
    }
   ],
   "source": [
    "I = np.triu_indices_from(V_save)\n",
    "V_save[I]"
   ]
  },
  {
   "cell_type": "code",
   "execution_count": 65,
   "metadata": {},
   "outputs": [
    {
     "data": {
      "image/png": "[encoded data removed]",
      "text/plain": [
       "<Figure size 792x648 with 2 Axes>"
      ]
     },
     "metadata": {
      "needs_background": "light"
     },
     "output_type": "display_data"
    },
    {
     "data": {
      "image/png": "[encoded data removed]",
      "text/plain": [
       "<Figure size 792x648 with 2 Axes>"
      ]
     },
     "metadata": {
      "needs_background": "light"
     },
     "output_type": "display_data"
    }
   ],
   "source": [
    "mp.plot_solution()"
   ]
  },
  {
   "cell_type": "markdown",
   "metadata": {},
   "source": [
    "__code 2.6__"
   ]
  },
  {
   "cell_type": "code",
   "execution_count": 66,
   "metadata": {},
   "outputs": [
    {
     "name": "stdout",
     "output_type": "stream",
     "text": [
      "Maximized at 494.99999999999955 with x = 5.000 and c = 0.000\n"
     ]
    }
   ],
   "source": [
    "grid = np.linspace(5,0,10)\n",
    "beta =0.99\n",
    "f = lambda x,c : beta/(1-beta) *(x-c)\n",
    "f_best = -np.inf\n",
    "xc_best = [0,0]\n",
    "\n",
    "for x in grid:\n",
    "    for c in grid:\n",
    "        f_cur = f(x,c)\n",
    "        if f_cur>f_best:\n",
    "            f_best =f_cur\n",
    "            xc_best = [x,c]\n",
    "\n",
    "ystar = f_best\n",
    "print(f'Maximized at {f_best} with x = {xc_best[0]:.3f} and c = {xc_best[1]:.3f}')"
   ]
  },
  {
   "cell_type": "code",
   "execution_count": 67,
   "metadata": {},
   "outputs": [],
   "source": [
    "ssp_dict = {'k1':ystar,\n",
    "        'N':10,\n",
    "        'beta':0.99,\n",
    "        'pf':1,\n",
    "        'maxc':5,\n",
    "        'p'   :5,\n",
    "        'Kform' : 'constant'\n",
    "        }\n",
    "mp = spp.Ssp_model(ssp_dict)\n",
    "V, P = mp.state_recursion()"
   ]
  },
  {
   "cell_type": "code",
   "execution_count": 68,
   "metadata": {},
   "outputs": [
    {
     "data": {
      "text/plain": [
       "array([[ 0.,  0.,  0.,  0.,  0.,  0.,  0.,  0.,  0.,  0.],\n",
       "       [nan,  0.,  0.,  0.,  0.,  0.,  0.,  0.,  0.,  0.],\n",
       "       [nan, nan,  0.,  0.,  0.,  0.,  0.,  0.,  0.,  0.],\n",
       "       [nan, nan, nan,  0.,  0.,  0.,  0.,  0.,  0.,  0.],\n",
       "       [nan, nan, nan, nan,  0.,  0.,  0.,  0.,  0.,  0.],\n",
       "       [nan, nan, nan, nan, nan,  0.,  0.,  0.,  0.,  0.],\n",
       "       [nan, nan, nan, nan, nan, nan,  0.,  0.,  0.,  0.],\n",
       "       [nan, nan, nan, nan, nan, nan, nan,  0.,  0.,  0.],\n",
       "       [nan, nan, nan, nan, nan, nan, nan, nan,  0.,  0.],\n",
       "       [nan, nan, nan, nan, nan, nan, nan, nan, nan,  0.]])"
      ]
     },
     "execution_count": 68,
     "metadata": {},
     "output_type": "execute_result"
    }
   ],
   "source": [
    "P"
   ]
  },
  {
   "cell_type": "code",
   "execution_count": 69,
   "metadata": {},
   "outputs": [
    {
     "data": {
      "image/png": "[encoded data removed]",
      "text/plain": [
       "<Figure size 792x648 with 2 Axes>"
      ]
     },
     "metadata": {
      "needs_background": "light"
     },
     "output_type": "display_data"
    },
    {
     "data": {
      "image/png": "[encoded data removed]",
      "text/plain": [
       "<Figure size 792x648 with 2 Axes>"
      ]
     },
     "metadata": {
      "needs_background": "light"
     },
     "output_type": "display_data"
    }
   ],
   "source": [
    "mp.plot_solution()"
   ]
  },
  {
   "cell_type": "markdown",
   "metadata": {},
   "source": [
    "There is no investment since investment costs is equal to infinite profits with a price of 5 and production cost of 0 (value function with state $s_{10}$) but when investing the soical planner incurs the cost in the current period and then receives the good profits in the next, because of discounting this is never optimal, even in $s_{7}$ which is the state most advantagous for investing as you go from production costs of 5 to 0. "
   ]
  },
  {
   "cell_type": "code",
   "execution_count": 70,
   "metadata": {},
   "outputs": [],
   "source": [
    "ssp_dict = {'k1':ystar,\n",
    "        'N':10,\n",
    "        'beta':0.99,\n",
    "        'pf':1,\n",
    "        'maxc':5,\n",
    "        'p'   :5,\n",
    "        'Kform' : 'smooth'\n",
    "        }\n",
    "mp = spp.Ssp_model(ssp_dict)\n",
    "V, P = mp.state_recursion()"
   ]
  },
  {
   "cell_type": "code",
   "execution_count": 71,
   "metadata": {},
   "outputs": [
    {
     "data": {
      "image/png": "[encoded data removed]",
      "text/plain": [
       "<Figure size 792x648 with 2 Axes>"
      ]
     },
     "metadata": {
      "needs_background": "light"
     },
     "output_type": "display_data"
    },
    {
     "data": {
      "image/png": "[encoded data removed]",
      "text/plain": [
       "<Figure size 792x648 with 2 Axes>"
      ]
     },
     "metadata": {
      "needs_background": "light"
     },
     "output_type": "display_data"
    }
   ],
   "source": [
    "mp.plot_solution()"
   ]
  },
  {
   "cell_type": "markdown",
   "metadata": {},
   "source": [
    "Now with $K(c) = \\frac{k1}{1+c}$ we have investment, as the costs are decreasing with higher c, so it can be optimal to invest.\n",
    "\n",
    "it is however still never optimal to invest in layer 4 when $c=0$ as we come back to the case $K=k1$"
   ]
  },
  {
   "cell_type": "code",
   "execution_count": null,
   "metadata": {},
   "outputs": [],
   "source": []
  },
  {
   "cell_type": "markdown",
   "metadata": {},
   "source": [
    "## 3 The leapfrogging game"
   ]
  },
  {
   "cell_type": "markdown",
   "metadata": {},
   "source": [
    "### Exercise 4"
   ]
  },
  {
   "cell_type": "code",
   "execution_count": 72,
   "metadata": {},
   "outputs": [],
   "source": [
    "self = lf.Lf_model()\n"
   ]
  },
  {
   "cell_type": "markdown",
   "metadata": {},
   "source": [
    "### Exercise 6\n"
   ]
  },
  {
   "cell_type": "code",
   "execution_count": 73,
   "metadata": {},
   "outputs": [],
   "source": [
    "self.solve_last_corner()\n",
    "self.solve_last_edge()\n",
    "self.solve_last_interior()"
   ]
  },
  {
   "cell_type": "code",
   "execution_count": 74,
   "metadata": {},
   "outputs": [
    {
     "data": {
      "text/plain": [
       "array([[3, 3, 3, 1],\n",
       "       [3, 3, 3, 1],\n",
       "       [3, 3, 3, 1],\n",
       "       [1, 1, 1, 1]])"
      ]
     },
     "execution_count": 74,
     "metadata": {},
     "output_type": "execute_result"
    }
   ],
   "source": [
    "self.ss[3].nEQ"
   ]
  },
  {
   "cell_type": "code",
   "execution_count": 75,
   "metadata": {},
   "outputs": [
    {
     "name": "stdout",
     "output_type": "stream",
     "text": [
      "\n",
      "P1:\n",
      "[[0. 0. 0. 0.]\n",
      " [0. 0. 0. 0.]\n",
      " [0. 0. 0. 0.]\n",
      " [0. 0. 0. 0.]]\n",
      "\n",
      "vN1:\n",
      "[[  0.           0.           0.           0.        ]\n",
      " [  1.66666667   0.           0.           0.        ]\n",
      " [  3.33333333   1.66666667   0.           0.        ]\n",
      " [102.52083247  68.34722164  34.17361082   0.        ]]\n",
      "\n",
      "vI1:\n",
      "[[-8.3        -8.3        -8.3        -8.3       ]\n",
      " [-6.63333333 -8.3        -8.3        -8.3       ]\n",
      " [-4.96666667 -6.63333333 -8.3        -8.3       ]\n",
      " [94.22083247 60.04722164 25.87361082 -8.3       ]]\n",
      "\n",
      "P2:\n",
      "[[1. 1. 1. 0.]\n",
      " [1. 1. 1. 0.]\n",
      " [1. 1. 1. 0.]\n",
      " [0. 0. 0. 0.]]\n",
      "\n",
      "vN2:\n",
      "[[ 84.86948112  88.12153016  91.3735792  102.52083247]\n",
      " [ 53.94791934  53.94791934  57.19996838  68.34722164]\n",
      " [ 23.02635756  23.02635756  23.02635756  34.17361082]\n",
      " [  0.           0.           0.           0.        ]]\n",
      "\n",
      "vI2:\n",
      "[[89.22083247 90.88749913 92.5541658  94.22083247]\n",
      " [56.71388831 56.71388831 58.38055498 60.04722164]\n",
      " [24.20694416 24.20694416 24.20694416 25.87361082]\n",
      " [-8.3        -8.3        -8.3        -8.3       ]]\n"
     ]
    }
   ],
   "source": [
    "self.print_eq(n_eq=1)"
   ]
  },
  {
   "cell_type": "code",
   "execution_count": 76,
   "metadata": {},
   "outputs": [
    {
     "name": "stdout",
     "output_type": "stream",
     "text": [
      "\n",
      "P1:\n",
      "[[ 1.  1.  1. nan]\n",
      " [ 1.  1.  1. nan]\n",
      " [ 1.  1.  1. nan]\n",
      " [nan nan nan nan]]\n",
      "\n",
      "vN1:\n",
      "[[84.86948112 53.94791934 23.02635756         nan]\n",
      " [88.12153016 53.94791934 23.02635756         nan]\n",
      " [91.3735792  57.19996838 23.02635756         nan]\n",
      " [        nan         nan         nan         nan]]\n",
      "\n",
      "vI1:\n",
      "[[89.22083247 56.71388831 24.20694416         nan]\n",
      " [90.88749913 56.71388831 24.20694416         nan]\n",
      " [92.5541658  58.38055498 24.20694416         nan]\n",
      " [        nan         nan         nan         nan]]\n",
      "\n",
      "P2:\n",
      "[[ 0.  0.  0. nan]\n",
      " [ 0.  0.  0. nan]\n",
      " [ 0.  0.  0. nan]\n",
      " [nan nan nan nan]]\n",
      "\n",
      "vN2:\n",
      "[[0.         1.66666667 3.33333333        nan]\n",
      " [0.         0.         1.66666667        nan]\n",
      " [0.         0.         0.                nan]\n",
      " [       nan        nan        nan        nan]]\n",
      "\n",
      "vI2:\n",
      "[[-8.3        -6.63333333 -4.96666667         nan]\n",
      " [-8.3        -8.3        -6.63333333         nan]\n",
      " [-8.3        -8.3        -8.3                nan]\n",
      " [        nan         nan         nan         nan]]\n"
     ]
    }
   ],
   "source": [
    "self.print_eq(n_eq=2)"
   ]
  },
  {
   "cell_type": "code",
   "execution_count": 77,
   "metadata": {},
   "outputs": [],
   "source": [
    "#self.ss[3].EQs[0,:,:]"
   ]
  },
  {
   "cell_type": "code",
   "execution_count": 78,
   "metadata": {},
   "outputs": [
    {
     "data": {
      "text/plain": [
       "array([0, 0, 0, 0, 0, 0, 0, 0, 0, 0, 0, 0, 0, 0, 0, 0, 0, 0, 0, 0, 0, 0,\n",
       "       0, 0, 0, 0, 0, 0, 0, 0])"
      ]
     },
     "execution_count": 78,
     "metadata": {},
     "output_type": "execute_result"
    }
   ],
   "source": [
    "self.ess.esr"
   ]
  },
  {
   "cell_type": "code",
   "execution_count": 79,
   "metadata": {},
   "outputs": [
    {
     "data": {
      "text/plain": [
       "array([1, 1, 1, 1, 1, 1, 1, 3, 3, 3, 3, 3, 3, 3, 3, 3, 1, 1, 1, 1, 1, 1,\n",
       "       1, 1, 1, 1, 1, 1, 1, 1])"
      ]
     },
     "execution_count": 79,
     "metadata": {},
     "output_type": "execute_result"
    }
   ],
   "source": [
    "self.ess.bases"
   ]
  },
  {
   "cell_type": "code",
   "execution_count": 80,
   "metadata": {},
   "outputs": [
    {
     "data": {
      "text/plain": [
       "(30,)"
      ]
     },
     "execution_count": 80,
     "metadata": {},
     "output_type": "execute_result"
    }
   ],
   "source": [
    "self.ess.bases.shape"
   ]
  },
  {
   "cell_type": "markdown",
   "metadata": {},
   "source": [
    "### Exercise 6"
   ]
  },
  {
   "cell_type": "code",
   "execution_count": 81,
   "metadata": {},
   "outputs": [],
   "source": [
    "self.solve_corner(2)\n",
    "self.solve_edge(2)\n",
    "self.solve_interior(2)"
   ]
  },
  {
   "cell_type": "code",
   "execution_count": 82,
   "metadata": {},
   "outputs": [
    {
     "data": {
      "text/plain": [
       "array([[3, 1, 1],\n",
       "       [1, 1, 1],\n",
       "       [1, 1, 1]])"
      ]
     },
     "execution_count": 82,
     "metadata": {},
     "output_type": "execute_result"
    }
   ],
   "source": [
    "self.ss[2].nEQ"
   ]
  },
  {
   "cell_type": "code",
   "execution_count": 83,
   "metadata": {},
   "outputs": [
    {
     "name": "stdout",
     "output_type": "stream",
     "text": [
      "\n",
      "P1:\n",
      "[[0. 0. 0.]\n",
      " [0. 0. 0.]\n",
      " [0. 0. 0.]]\n",
      "\n",
      "vN1:\n",
      "[[0.         0.         0.        ]\n",
      " [3.25204904 0.         0.        ]\n",
      " [6.50409808 3.25204904 0.        ]]\n",
      "\n",
      "vI1:\n",
      "[[-3.1125     -1.52711763 -3.1125    ]\n",
      " [ 1.72493142 -1.52711763 -3.1125    ]\n",
      " [ 3.39159808  0.13954904 -3.1125    ]]\n",
      "\n",
      "P2:\n",
      "[[1. 0. 0.]\n",
      " [0. 0. 0.]\n",
      " [0. 0. 0.]]\n",
      "\n",
      "vN2:\n",
      "[[84.86948112 88.12153016 91.3735792 ]\n",
      " [53.94791934 53.94791934 57.19996838]\n",
      " [23.02635756 23.02635756 23.02635756]]\n",
      "\n",
      "vI2:\n",
      "[[84.92774587 86.59441253 88.2610792 ]\n",
      " [52.42080171 52.42080171 54.08746838]\n",
      " [19.91385756 19.91385756 19.91385756]]\n"
     ]
    }
   ],
   "source": [
    "self.print_eq(layer=3,n_eq=1)"
   ]
  },
  {
   "cell_type": "code",
   "execution_count": 84,
   "metadata": {},
   "outputs": [
    {
     "name": "stdout",
     "output_type": "stream",
     "text": [
      "\n",
      "P1:\n",
      "[[ 1. nan nan]\n",
      " [nan nan nan]\n",
      " [nan nan nan]]\n",
      "\n",
      "vN1:\n",
      "[[ 0. nan nan]\n",
      " [nan nan nan]\n",
      " [nan nan nan]]\n",
      "\n",
      "vI1:\n",
      "[[0.05826475        nan        nan]\n",
      " [       nan        nan        nan]\n",
      " [       nan        nan        nan]]\n",
      "\n",
      "P2:\n",
      "[[ 0. nan nan]\n",
      " [nan nan nan]\n",
      " [nan nan nan]]\n",
      "\n",
      "vN2:\n",
      "[[23.02635756         nan         nan]\n",
      " [        nan         nan         nan]\n",
      " [        nan         nan         nan]]\n",
      "\n",
      "vI2:\n",
      "[[19.91385756         nan         nan]\n",
      " [        nan         nan         nan]\n",
      " [        nan         nan         nan]]\n"
     ]
    }
   ],
   "source": [
    "self.print_eq(layer=3,n_eq=2)"
   ]
  },
  {
   "cell_type": "code",
   "execution_count": 85,
   "metadata": {},
   "outputs": [],
   "source": [
    "self.solve_corner(1)\n",
    "self.solve_edge(1)\n",
    "self.solve_interior(1)\n",
    "self.solve_corner(0)"
   ]
  },
  {
   "cell_type": "code",
   "execution_count": 86,
   "metadata": {},
   "outputs": [
    {
     "name": "stdout",
     "output_type": "stream",
     "text": [
      "[[1]]\n",
      "[[3 1]\n",
      " [1 1]]\n",
      "[[3 1 1]\n",
      " [1 1 1]\n",
      " [1 1 1]]\n",
      "[[3 3 3 1]\n",
      " [3 3 3 1]\n",
      " [3 3 3 1]\n",
      " [1 1 1 1]]\n"
     ]
    }
   ],
   "source": [
    "for i in range(4):\n",
    "    print(self.ss[i].nEQ)"
   ]
  },
  {
   "cell_type": "code",
   "execution_count": 87,
   "metadata": {},
   "outputs": [
    {
     "data": {
      "text/plain": [
       "array([1, 1, 1, 1, 1, 1, 1, 3, 3, 3, 3, 3, 3, 3, 3, 3, 1, 1, 1, 1, 1, 3,\n",
       "       1, 1, 1, 1, 1, 1, 3, 1])"
      ]
     },
     "execution_count": 87,
     "metadata": {},
     "output_type": "execute_result"
    }
   ],
   "source": [
    "self.ess.bases"
   ]
  },
  {
   "cell_type": "code",
   "execution_count": 88,
   "metadata": {},
   "outputs": [
    {
     "data": {
      "text/plain": [
       "array([0, 0, 0, 0, 0, 0, 0, 0, 0, 0, 0, 0, 0, 0, 0, 0, 0, 0, 0, 0, 0, 0,\n",
       "       0, 0, 0, 0, 0, 0, 0, 0])"
      ]
     },
     "execution_count": 88,
     "metadata": {},
     "output_type": "execute_result"
    }
   ],
   "source": [
    "self.ess.esr"
   ]
  },
  {
   "cell_type": "markdown",
   "metadata": {},
   "source": [
    "### Exercise 8"
   ]
  },
  {
   "cell_type": "code",
   "execution_count": 89,
   "metadata": {},
   "outputs": [],
   "source": [
    "self.state_recursion(self.T)"
   ]
  },
  {
   "cell_type": "code",
   "execution_count": 90,
   "metadata": {},
   "outputs": [
    {
     "name": "stdout",
     "output_type": "stream",
     "text": [
      "\n",
      "Layer 1\n",
      "\n",
      "P1:\n",
      "[[0.]]\n",
      "\n",
      "vN1:\n",
      "[[0.]]\n",
      "\n",
      "vI1:\n",
      "[[-1.38333333]]\n",
      "\n",
      "P2:\n",
      "[[0.]]\n",
      "\n",
      "vN2:\n",
      "[[77.91368762]]\n",
      "\n",
      "vI2:\n",
      "[[76.53035428]]\n",
      "\n",
      "Layer 2\n",
      "\n",
      "P1:\n",
      "[[0. 0.]\n",
      " [0. 0.]]\n",
      "\n",
      "vN1:\n",
      "[[0.        0.       ]\n",
      " [4.7601114 0.       ]]\n",
      "\n",
      "vI1:\n",
      "[[-1.91538462 -1.91538462]\n",
      " [ 2.84472679 -1.91538462]]\n",
      "\n",
      "P2:\n",
      "[[1. 0.]\n",
      " [0. 0.]]\n",
      "\n",
      "vN2:\n",
      "[[80.78577083 85.49045909]\n",
      " [51.31684827 51.31684827]]\n",
      "\n",
      "vI2:\n",
      "[[81.90840781 83.57507447]\n",
      " [49.40146365 49.40146365]]\n",
      "\n",
      "Layer 3\n",
      "\n",
      "P1:\n",
      "[[0. 0. 0.]\n",
      " [0. 0. 0.]\n",
      " [0. 0. 0.]]\n",
      "\n",
      "vN1:\n",
      "[[0.         0.         0.        ]\n",
      " [3.25204904 0.         0.        ]\n",
      " [6.50409808 3.25204904 0.        ]]\n",
      "\n",
      "vI1:\n",
      "[[-3.1125     -1.52711763 -3.1125    ]\n",
      " [ 1.72493142 -1.52711763 -3.1125    ]\n",
      " [ 3.39159808  0.13954904 -3.1125    ]]\n",
      "\n",
      "P2:\n",
      "[[1. 0. 0.]\n",
      " [0. 0. 0.]\n",
      " [0. 0. 0.]]\n",
      "\n",
      "vN2:\n",
      "[[84.86948112 88.12153016 91.3735792 ]\n",
      " [53.94791934 53.94791934 57.19996838]\n",
      " [23.02635756 23.02635756 23.02635756]]\n",
      "\n",
      "vI2:\n",
      "[[84.92774587 86.59441253 88.2610792 ]\n",
      " [52.42080171 52.42080171 54.08746838]\n",
      " [19.91385756 19.91385756 19.91385756]]\n",
      "\n",
      "Layer 4\n",
      "\n",
      "P1:\n",
      "[[0. 0. 0. 0.]\n",
      " [0. 0. 0. 0.]\n",
      " [0. 0. 0. 0.]\n",
      " [0. 0. 0. 0.]]\n",
      "\n",
      "vN1:\n",
      "[[  0.           0.           0.           0.        ]\n",
      " [  1.66666667   0.           0.           0.        ]\n",
      " [  3.33333333   1.66666667   0.           0.        ]\n",
      " [102.52083247  68.34722164  34.17361082   0.        ]]\n",
      "\n",
      "vI1:\n",
      "[[-8.3        -8.3        -8.3        -8.3       ]\n",
      " [-6.63333333 -8.3        -8.3        -8.3       ]\n",
      " [-4.96666667 -6.63333333 -8.3        -8.3       ]\n",
      " [94.22083247 60.04722164 25.87361082 -8.3       ]]\n",
      "\n",
      "P2:\n",
      "[[1. 1. 1. 0.]\n",
      " [1. 1. 1. 0.]\n",
      " [1. 1. 1. 0.]\n",
      " [0. 0. 0. 0.]]\n",
      "\n",
      "vN2:\n",
      "[[ 84.86948112  88.12153016  91.3735792  102.52083247]\n",
      " [ 53.94791934  53.94791934  57.19996838  68.34722164]\n",
      " [ 23.02635756  23.02635756  23.02635756  34.17361082]\n",
      " [  0.           0.           0.           0.        ]]\n",
      "\n",
      "vI2:\n",
      "[[89.22083247 90.88749913 92.5541658  94.22083247]\n",
      " [56.71388831 56.71388831 58.38055498 60.04722164]\n",
      " [24.20694416 24.20694416 24.20694416 25.87361082]\n",
      " [-8.3        -8.3        -8.3        -8.3       ]]\n"
     ]
    }
   ],
   "source": [
    "for i in range(4):\n",
    "    print(f'\\nLayer {i+1}')\n",
    "    self.print_eq(layer=i+1,n_eq=1)"
   ]
  },
  {
   "cell_type": "code",
   "execution_count": 91,
   "metadata": {},
   "outputs": [
    {
     "data": {
      "text/plain": [
       "array([ 1.,  7., 16., 17., 21., 25., 26., 28., 29., 30.])"
      ]
     },
     "execution_count": 91,
     "metadata": {},
     "output_type": "execute_result"
    }
   ],
   "source": [
    "self.stage_index"
   ]
  },
  {
   "cell_type": "code",
   "execution_count": 92,
   "metadata": {},
   "outputs": [
    {
     "data": {
      "text/plain": [
       "namespace(index=array([[[30, nan, nan, nan],\n",
       "                        [nan, nan, nan, nan],\n",
       "                        [nan, nan, nan, nan],\n",
       "                        [nan, nan, nan, nan]],\n",
       "                \n",
       "                       [[29, 27, nan, nan],\n",
       "                        [28, 26, nan, nan],\n",
       "                        [nan, nan, nan, nan],\n",
       "                        [nan, nan, nan, nan]],\n",
       "                \n",
       "                       [[22, 24, 18, nan],\n",
       "                        [23, 25, 19, nan],\n",
       "                        [20, 21, 17, nan],\n",
       "                        [nan, nan, nan, nan]],\n",
       "                \n",
       "                       [[8, 11, 14, 2],\n",
       "                        [9, 12, 15, 3],\n",
       "                        [10, 13, 16, 4],\n",
       "                        [5, 6, 7, 1]]], dtype=object),\n",
       "          esr=array([0, 0, 0, 0, 0, 0, 0, 0, 0, 0, 0, 0, 0, 0, 0, 0, 0, 0, 0, 0, 0, 0,\n",
       "                     0, 0, 0, 0, 0, 0, 0, 0]),\n",
       "          bases=array([1, 1, 1, 1, 1, 1, 1, 3, 3, 3, 3, 3, 3, 3, 3, 3, 1, 1, 1, 1, 1, 3,\n",
       "                       1, 1, 1, 1, 1, 1, 3, 1]))"
      ]
     },
     "execution_count": 92,
     "metadata": {},
     "output_type": "execute_result"
    }
   ],
   "source": [
    "self.ess"
   ]
  },
  {
   "cell_type": "markdown",
   "metadata": {},
   "source": [
    "### RLS"
   ]
  },
  {
   "cell_type": "code",
   "execution_count": 93,
   "metadata": {},
   "outputs": [],
   "source": [
    "self = lf.Lf_model()\n",
    "self.state_recursion(self.T)"
   ]
  },
  {
   "cell_type": "code",
   "execution_count": 94,
   "metadata": {},
   "outputs": [],
   "source": [
    "def Gtau(lf,ess, tau):\n",
    "    lf.ess = ess\n",
    "    lf.state_recursion(tau)\n",
    "    return copy.copy(lf.ess)"
   ]
  },
  {
   "cell_type": "code",
   "execution_count": 95,
   "metadata": {},
   "outputs": [],
   "source": [
    "ess0 = copy.copy(self.ess)\n",
    "stage_index = self.stage_index"
   ]
  },
  {
   "cell_type": "code",
   "execution_count": 96,
   "metadata": {},
   "outputs": [],
   "source": [
    "#eq,eq_p, iC,index,iC1,iC2"
   ]
  },
  {
   "cell_type": "code",
   "execution_count": 97,
   "metadata": {},
   "outputs": [
    {
     "data": {
      "text/plain": [
       "array([0, 0, 0, 0, 0, 0, 0, 0, 0, 0, 0, 0, 0, 0, 0, 0, 0, 0, 0, 0, 0, 0,\n",
       "       0, 0, 0, 0, 0, 0, 0, 0])"
      ]
     },
     "execution_count": 97,
     "metadata": {},
     "output_type": "execute_result"
    }
   ],
   "source": [
    "self.ess.esr"
   ]
  },
  {
   "cell_type": "code",
   "execution_count": 98,
   "metadata": {},
   "outputs": [
    {
     "data": {
      "text/plain": [
       "array([[3, 1, 1],\n",
       "       [1, 1, 1],\n",
       "       [1, 1, 1]])"
      ]
     },
     "execution_count": 98,
     "metadata": {},
     "output_type": "execute_result"
    }
   ],
   "source": [
    "self.ss[2].nEQ"
   ]
  },
  {
   "cell_type": "code",
   "execution_count": 99,
   "metadata": {},
   "outputs": [
    {
     "name": "stdout",
     "output_type": "stream",
     "text": [
      "ESR(500).esr      : [\n",
      "[0 0 0 0 0 0 0 0 0 0 0 2 0 1 0 0 0 0 0 0 0 0 0 0 0 0 0 0 0 0]\n",
      "]\n",
      "ESR(500).bases    : [\n",
      "[1 1 1 1 1 1 1 3 3 3 3 3 3 3 3 3 1 1 1 1 1 1 1 1 1 1 1 1 3 1]\n",
      "]\n",
      "ESR(1000).esr      : [\n",
      "[0 0 0 0 0 0 0 0 0 0 1 1 2 0 2 2 0 0 0 0 0 1 0 0 0 0 0 0 0 0]\n",
      "]\n",
      "ESR(1000).bases    : [\n",
      "[1 1 1 1 1 1 1 3 3 3 3 3 3 3 3 3 1 1 1 1 1 3 1 1 1 1 1 1 1 1]\n",
      "]\n",
      "ESR(1500).esr      : [\n",
      "[0 0 0 0 0 0 0 0 0 0 2 1 2 0 1 2 0 0 0 0 0 1 0 0 0 0 0 0 0 0]\n",
      "]\n",
      "ESR(1500).bases    : [\n",
      "[1 1 1 1 1 1 1 3 3 3 3 3 3 3 3 3 1 1 1 1 1 3 1 1 1 1 1 1 1 1]\n",
      "]\n",
      "ESR(2000).esr      : [\n",
      "[0 0 0 0 0 0 0 0 0 1 0 2 1 1 0 2 0 0 0 0 0 0 0 0 2 0 0 0 0 0]\n",
      "]\n",
      "ESR(2000).bases    : [\n",
      "[1 1 1 1 1 1 1 3 3 3 3 3 3 3 3 3 1 1 1 1 1 1 1 1 3 1 1 1 1 1]\n",
      "]\n",
      "ESR(2500).esr      : [\n",
      "[0 0 0 0 0 0 0 0 0 1 2 1 0 0 0 2 0 0 0 0 0 1 0 0 0 0 0 0 0 0]\n",
      "]\n",
      "ESR(2500).bases    : [\n",
      "[1 1 1 1 1 1 1 3 3 3 3 3 3 3 3 3 1 1 1 1 1 3 1 1 1 1 1 1 1 1]\n",
      "]\n",
      "ESR(3000).esr      : [\n",
      "[0 0 0 0 0 0 0 0 0 2 0 1 0 0 0 2 0 0 0 0 0 0 0 0 0 0 0 0 2 0]\n",
      "]\n",
      "ESR(3000).bases    : [\n",
      "[1 1 1 1 1 1 1 3 3 3 3 3 3 3 3 3 1 1 1 1 1 3 1 1 1 1 1 1 3 1]\n",
      "]\n",
      "ESR(3500).esr      : [\n",
      "[0 0 0 0 0 0 0 0 0 2 1 0 2 0 0 2 0 0 0 0 0 0 0 0 0 0 0 0 0 0]\n",
      "]\n",
      "ESR(3500).bases    : [\n",
      "[1 1 1 1 1 1 1 3 3 3 3 3 3 3 3 3 1 1 1 1 1 3 1 1 1 1 1 1 1 1]\n",
      "]\n",
      "ESR(4000).esr      : [\n",
      "[0 0 0 0 0 0 0 0 0 2 2 0 0 0 1 2 0 0 0 0 0 2 0 0 0 0 0 0 2 0]\n",
      "]\n",
      "ESR(4000).bases    : [\n",
      "[1 1 1 1 1 1 1 3 3 3 3 3 3 3 3 3 1 1 1 1 1 3 1 1 1 1 1 1 3 1]\n",
      "]\n",
      "ESR(4500).esr      : [\n",
      "[0 0 0 0 0 0 0 0 0 2 2 2 2 1 0 2 0 0 0 0 0 0 0 0 0 0 0 0 2 0]\n",
      "]\n",
      "ESR(4500).bases    : [\n",
      "[1 1 1 1 1 1 1 3 3 3 3 3 3 3 3 3 1 1 1 1 1 1 1 1 1 1 1 1 3 1]\n",
      "]\n",
      "ESR(5000).esr      : [\n",
      "[0 0 0 0 0 0 0 0 1 0 0 2 2 2 1 1 0 0 0 0 0 0 0 0 0 0 0 0 0 0]\n",
      "]\n",
      "ESR(5000).bases    : [\n",
      "[1 1 1 1 1 1 1 3 3 3 3 3 3 3 3 3 1 1 1 1 1 1 1 1 1 1 1 1 3 1]\n",
      "]\n",
      "ESR(5500).esr      : [\n",
      "[0 0 0 0 0 0 0 0 1 0 2 0 2 0 0 0 0 0 0 0 0 0 0 0 0 0 0 0 0 0]\n",
      "]\n",
      "ESR(5500).bases    : [\n",
      "[1 1 1 1 1 1 1 3 3 3 3 3 3 3 3 3 1 1 1 1 1 3 1 1 1 1 1 1 1 1]\n",
      "]\n",
      "ESR(6000).esr      : [\n",
      "[0 0 0 0 0 0 0 0 1 1 0 1 1 0 1 2 0 0 0 0 0 2 0 0 0 0 0 0 0 0]\n",
      "]\n",
      "ESR(6000).bases    : [\n",
      "[1 1 1 1 1 1 1 3 3 3 3 3 3 3 3 3 1 1 1 1 1 3 1 1 1 1 1 1 1 1]\n",
      "]\n",
      "ESR(6500).esr      : [\n",
      "[0 0 0 0 0 0 0 0 1 1 1 1 2 2 0 1 0 0 0 0 0 0 0 0 0 0 0 0 0 0]\n",
      "]\n",
      "ESR(6500).bases    : [\n",
      "[1 1 1 1 1 1 1 3 3 3 3 3 3 3 3 3 1 1 1 1 1 1 1 1 1 1 1 1 1 1]\n",
      "]\n",
      "ESR(7000).esr      : [\n",
      "[0 0 0 0 0 0 0 0 1 1 2 2 1 0 0 2 0 0 0 0 0 1 0 0 1 0 0 0 0 0]\n",
      "]\n",
      "ESR(7000).bases    : [\n",
      "[1 1 1 1 1 1 1 3 3 3 3 3 3 3 3 3 1 1 1 1 1 3 1 3 3 1 1 1 1 1]\n",
      "]\n",
      "ESR(7500).esr      : [\n",
      "[0 0 0 0 0 0 0 0 1 2 0 2 2 2 0 2 0 0 0 0 0 0 0 0 0 0 0 0 0 0]\n",
      "]\n",
      "ESR(7500).bases    : [\n",
      "[1 1 1 1 1 1 1 3 3 3 3 3 3 3 3 3 1 1 1 1 1 1 1 1 1 1 1 1 1 1]\n",
      "]\n",
      "ESR(8000).esr      : [\n",
      "[0 0 0 0 0 0 0 0 1 2 2 0 0 1 2 1 0 0 0 0 0 0 0 0 0 0 0 0 0 0]\n",
      "]\n",
      "ESR(8000).bases    : [\n",
      "[1 1 1 1 1 1 1 3 3 3 3 3 3 3 3 3 1 1 1 1 1 1 1 1 1 1 1 1 1 1]\n",
      "]\n",
      "ESR(8500).esr      : [\n",
      "[0 0 0 0 0 0 0 0 2 0 0 0 2 0 2 0 0 0 0 0 0 1 0 0 0 0 0 0 0 0]\n",
      "]\n",
      "ESR(8500).bases    : [\n",
      "[1 1 1 1 1 1 1 3 3 3 3 3 3 3 3 3 1 1 1 1 1 3 1 1 1 1 1 1 1 1]\n",
      "]\n",
      "ESR(9000).esr      : [\n",
      "[0 0 0 0 0 0 0 0 2 0 1 0 2 2 2 0 0 0 0 0 0 0 0 0 0 0 0 0 0 0]\n",
      "]\n",
      "ESR(9000).bases    : [\n",
      "[1 1 1 1 1 1 1 3 3 3 3 3 3 3 3 3 1 1 1 1 1 1 1 1 1 1 1 1 1 1]\n",
      "]\n",
      "ESR(9500).esr      : [\n",
      "[0 0 0 0 0 0 0 0 2 0 2 1 1 2 1 0 0 0 0 0 0 0 0 0 0 0 0 0 0 0]\n",
      "]\n",
      "ESR(9500).bases    : [\n",
      "[1 1 1 1 1 1 1 3 3 3 3 3 3 3 3 3 1 1 1 1 1 1 1 1 1 1 1 1 1 1]\n",
      "]\n",
      "ESR(10000).esr      : [\n",
      "[0 0 0 0 0 0 0 0 2 1 0 2 0 0 1 0 0 0 0 0 0 0 0 0 0 0 0 0 1 0]\n",
      "]\n",
      "ESR(10000).bases    : [\n",
      "[1 1 1 1 1 1 1 3 3 3 3 3 3 3 3 3 1 1 1 1 1 1 1 1 1 1 1 1 3 1]\n",
      "]\n",
      "ESR(10500).esr      : [\n",
      "[0 0 0 0 0 0 0 0 2 1 1 2 1 0 0 2 0 0 0 0 0 2 1 0 1 0 0 0 0 0]\n",
      "]\n",
      "ESR(10500).bases    : [\n",
      "[1 1 1 1 1 1 1 3 3 3 3 3 3 3 3 3 1 1 1 1 1 3 3 1 3 1 1 1 1 1]\n",
      "]\n",
      "ESR(11000).esr      : [\n",
      "[0 0 0 0 0 0 0 0 2 1 2 2 1 0 0 2 0 0 0 0 0 1 0 2 2 0 0 0 0 0]\n",
      "]\n",
      "ESR(11000).bases    : [\n",
      "[1 1 1 1 1 1 1 3 3 3 3 3 3 3 3 3 1 1 1 1 1 3 3 3 3 1 1 1 1 1]\n",
      "]\n",
      "ESR(11500).esr      : [\n",
      "[0 0 0 0 0 0 0 0 2 2 0 2 2 0 2 2 0 0 0 0 0 1 0 0 0 0 0 0 0 0]\n",
      "]\n",
      "ESR(11500).bases    : [\n",
      "[1 1 1 1 1 1 1 3 3 3 3 3 3 3 3 3 1 1 1 1 1 3 1 1 1 1 1 1 3 1]\n",
      "]\n",
      "ESR(12000).esr      : [\n",
      "[0 0 0 0 0 0 0 0 2 2 1 2 2 2 1 1 0 0 0 0 0 0 0 0 0 0 0 0 2 0]\n",
      "]\n",
      "ESR(12000).bases    : [\n",
      "[1 1 1 1 1 1 1 3 3 3 3 3 3 3 3 3 1 1 1 1 1 1 1 1 1 1 1 1 3 1]\n",
      "]\n",
      "ESR(12500).esr      : [\n",
      "[0 0 0 0 0 0 0 1 0 0 0 0 1 1 0 0 0 0 0 0 0 0 0 0 0 0 0 0 0 0]\n",
      "]\n",
      "ESR(12500).bases    : [\n",
      "[1 1 1 1 1 1 1 3 3 3 3 3 3 3 3 3 1 1 1 1 1 1 1 1 1 1 1 1 1 1]\n",
      "]\n",
      "ESR(13000).esr      : [\n",
      "[0 0 0 0 0 0 0 1 0 0 1 1 1 2 2 0 0 0 0 0 0 0 0 0 0 0 0 0 1 0]\n",
      "]\n",
      "ESR(13000).bases    : [\n",
      "[1 1 1 1 1 1 1 3 3 3 3 3 3 3 3 3 1 1 1 1 1 1 1 1 1 1 1 1 3 1]\n",
      "]\n",
      "ESR(13500).esr      : [\n",
      "[0 0 0 0 0 0 0 1 0 0 2 2 2 2 1 2 0 0 0 0 0 0 0 0 0 0 0 0 1 0]\n",
      "]\n",
      "ESR(13500).bases    : [\n",
      "[1 1 1 1 1 1 1 3 3 3 3 3 3 3 3 3 1 1 1 1 1 1 1 1 1 1 1 1 3 1]\n",
      "]\n",
      "ESR(14000).esr      : [\n",
      "[0 0 0 0 0 0 0 1 0 1 0 2 2 1 0 2 0 0 0 0 0 0 0 0 0 0 0 0 0 0]\n",
      "]\n",
      "ESR(14000).bases    : [\n",
      "[1 1 1 1 1 1 1 3 3 3 3 3 3 3 3 3 1 1 1 1 1 3 1 1 1 1 1 1 1 1]\n",
      "]\n",
      "ESR(14500).esr      : [\n",
      "[0 0 0 0 0 0 0 1 0 1 1 2 0 1 1 2 0 0 0 0 0 0 0 0 0 0 0 0 0 0]\n",
      "]\n",
      "ESR(14500).bases    : [\n",
      "[1 1 1 1 1 1 1 3 3 3 3 3 3 3 3 3 1 1 1 1 1 3 1 1 1 1 1 1 3 1]\n",
      "]\n",
      "ESR(15000).esr      : [\n",
      "[0 0 0 0 0 0 0 1 0 1 2 1 1 1 1 2 0 0 0 0 0 1 0 0 0 0 0 0 0 0]\n",
      "]\n",
      "ESR(15000).bases    : [\n",
      "[1 1 1 1 1 1 1 3 3 3 3 3 3 3 3 3 1 1 1 1 1 3 1 1 1 1 1 1 1 1]\n",
      "]\n",
      "ESR(15500).esr      : [\n",
      "[0 0 0 0 0 0 0 1 0 2 0 1 0 2 2 1 0 0 0 0 0 0 0 0 0 0 0 0 0 0]\n",
      "]\n",
      "ESR(15500).bases    : [\n",
      "[1 1 1 1 1 1 1 3 3 3 3 3 3 3 3 3 1 1 1 1 1 1 1 1 1 1 1 1 1 1]\n",
      "]\n",
      "ESR(16000).esr      : [\n",
      "[0 0 0 0 0 0 0 1 0 2 1 2 1 2 0 0 0 0 0 0 0 0 0 0 0 0 0 0 0 0]\n",
      "]\n",
      "ESR(16000).bases    : [\n",
      "[1 1 1 1 1 1 1 3 3 3 3 3 3 3 3 3 1 1 1 1 1 1 1 1 1 1 1 1 3 1]\n",
      "]\n",
      "ESR(16500).esr      : [\n",
      "[0 0 0 0 0 0 0 1 1 0 0 1 0 1 2 1 0 0 0 0 0 0 0 0 0 0 0 0 0 0]\n",
      "]\n",
      "ESR(16500).bases    : [\n",
      "[1 1 1 1 1 1 1 3 3 3 3 3 3 3 3 3 1 1 1 1 1 1 1 1 1 1 1 1 1 1]\n",
      "]\n",
      "ESR(17000).esr      : [\n",
      "[0 0 0 0 0 0 0 1 1 0 1 2 0 1 1 2 0 0 0 0 0 0 0 0 0 0 0 0 2 0]\n",
      "]\n",
      "ESR(17000).bases    : [\n",
      "[1 1 1 1 1 1 1 3 3 3 3 3 3 3 3 3 1 1 1 1 1 1 1 1 1 1 1 1 3 1]\n",
      "]\n",
      "ESR(17500).esr      : [\n",
      "[0 0 0 0 0 0 0 1 1 1 0 0 0 2 0 0 0 0 0 0 0 0 0 0 0 0 0 0 0 0]\n",
      "]\n",
      "ESR(17500).bases    : [\n",
      "[1 1 1 1 1 1 1 3 3 3 3 3 3 3 3 3 1 1 1 1 1 1 1 1 1 1 1 1 1 1]\n",
      "]\n",
      "ESR(18000).esr      : [\n",
      "[0 0 0 0 0 0 0 1 1 1 0 2 2 1 0 1 0 0 0 0 0 0 0 0 0 0 0 0 0 0]\n",
      "]\n",
      "ESR(18000).bases    : [\n",
      "[1 1 1 1 1 1 1 3 3 3 3 3 3 3 3 3 1 1 1 1 1 3 1 1 1 1 1 1 3 1]\n",
      "]\n",
      "ESR(18500).esr      : [\n",
      "[0 0 0 0 0 0 0 1 1 1 1 1 2 1 0 1 0 0 0 0 0 2 0 0 0 0 0 0 0 0]\n",
      "]\n",
      "ESR(18500).bases    : [\n",
      "[1 1 1 1 1 1 1 3 3 3 3 3 3 3 3 3 1 1 1 1 1 3 1 1 1 1 1 1 1 1]\n",
      "]\n",
      "ESR(19000).esr      : [\n",
      "[0 0 0 0 0 0 0 1 1 1 2 0 1 0 2 2 0 0 0 0 0 1 0 2 0 0 0 0 0 0]\n",
      "]\n",
      "ESR(19000).bases    : [\n",
      "[1 1 1 1 1 1 1 3 3 3 3 3 3 3 3 3 1 1 1 1 1 3 1 3 1 1 1 1 1 1]\n",
      "]\n",
      "ESR(19500).esr      : [\n",
      "[0 0 0 0 0 0 0 1 1 1 2 2 2 0 2 2 0 0 0 0 0 2 0 0 0 0 0 0 2 0]\n",
      "]\n",
      "ESR(19500).bases    : [\n",
      "[1 1 1 1 1 1 1 3 3 3 3 3 3 3 3 3 1 1 1 1 1 3 1 1 1 1 1 1 3 1]\n",
      "]\n",
      "ESR(20000).esr      : [\n",
      "[0 0 0 0 0 0 0 1 1 2 1 0 2 1 2 1 0 0 0 0 0 0 0 0 0 0 0 0 0 0]\n",
      "]\n",
      "ESR(20000).bases    : [\n",
      "[1 1 1 1 1 1 1 3 3 3 3 3 3 3 3 3 1 1 1 1 1 1 1 1 1 1 1 1 1 1]\n",
      "]\n",
      "ESR(20500).esr      : [\n",
      "[0 0 0 0 0 0 0 1 1 2 2 1 2 2 2 2 0 0 0 0 0 0 0 0 0 0 0 0 0 0]\n",
      "]\n",
      "ESR(20500).bases    : [\n",
      "[1 1 1 1 1 1 1 3 3 3 3 3 3 3 3 3 1 1 1 1 1 1 1 1 1 1 1 1 1 1]\n",
      "]\n",
      "ESR(21000).esr      : [\n",
      "[0 0 0 0 0 0 0 1 2 0 1 0 2 0 1 0 0 0 0 0 0 0 0 0 0 0 0 0 0 0]\n",
      "]\n",
      "ESR(21000).bases    : [\n",
      "[1 1 1 1 1 1 1 3 3 3 3 3 3 3 3 3 1 1 1 1 1 1 1 1 1 1 1 1 1 1]\n",
      "]\n",
      "ESR(21500).esr      : [\n",
      "[0 0 0 0 0 0 0 1 2 0 2 2 2 0 2 0 0 0 0 0 0 0 0 0 0 0 0 0 0 0]\n",
      "]\n",
      "ESR(21500).bases    : [\n",
      "[1 1 1 1 1 1 1 3 3 3 3 3 3 3 3 3 1 1 1 1 1 1 1 1 1 1 1 1 1 1]\n",
      "]\n",
      "ESR(22000).esr      : [\n",
      "[0 0 0 0 0 0 0 1 2 1 0 2 0 1 2 0 0 0 0 0 0 0 0 0 0 0 0 0 0 0]\n",
      "]\n",
      "ESR(22000).bases    : [\n",
      "[1 1 1 1 1 1 1 3 3 3 3 3 3 3 3 3 1 1 1 1 1 1 1 1 1 1 1 1 1 1]\n",
      "]\n",
      "ESR(22500).esr      : [\n",
      "[0 0 0 0 0 0 0 1 2 1 1 0 2 2 1 1 0 0 0 0 0 0 0 0 0 0 0 0 0 0]\n",
      "]\n",
      "ESR(22500).bases    : [\n",
      "[1 1 1 1 1 1 1 3 3 3 3 3 3 3 3 3 1 1 1 1 1 1 1 1 1 1 1 1 1 1]\n",
      "]\n",
      "ESR(23000).esr      : [\n",
      "[0 0 0 0 0 0 0 1 2 1 1 2 1 2 0 2 0 0 0 0 0 0 1 0 2 0 0 0 0 0]\n",
      "]\n",
      "ESR(23000).bases    : [\n",
      "[1 1 1 1 1 1 1 3 3 3 3 3 3 3 3 3 1 1 1 1 1 3 3 1 3 1 1 1 3 1]\n",
      "]\n",
      "ESR(23500).esr      : [\n",
      "[0 0 0 0 0 0 0 1 2 1 2 1 1 0 2 2 0 0 0 0 0 1 0 2 0 0 0 0 0 0]\n",
      "]\n",
      "ESR(23500).bases    : [\n",
      "[1 1 1 1 1 1 1 3 3 3 3 3 3 3 3 3 1 1 1 1 1 3 1 3 1 1 1 1 1 1]\n",
      "]\n",
      "ESR(24000).esr      : [\n",
      "[0 0 0 0 0 0 0 1 2 1 2 2 2 2 2 2 0 0 0 0 0 0 0 0 0 0 0 0 1 0]\n",
      "]\n",
      "ESR(24000).bases    : [\n",
      "[1 1 1 1 1 1 1 3 3 3 3 3 3 3 3 3 1 1 1 1 1 3 1 1 1 1 1 1 3 1]\n",
      "]\n",
      "ESR(24500).esr      : [\n",
      "[0 0 0 0 0 0 0 1 2 2 1 2 0 2 1 0 0 0 0 0 0 0 0 0 0 0 0 0 0 0]\n",
      "]\n",
      "ESR(24500).bases    : [\n",
      "[1 1 1 1 1 1 1 3 3 3 3 3 3 3 3 3 1 1 1 1 1 1 1 1 1 1 1 1 3 1]\n",
      "]\n",
      "ESR(25000).esr      : [\n",
      "[0 0 0 0 0 0 0 2 0 0 0 0 0 1 2 2 0 0 0 0 0 1 0 0 0 0 0 0 1 0]\n",
      "]\n",
      "ESR(25000).bases    : [\n",
      "[1 1 1 1 1 1 1 3 3 3 3 3 3 3 3 3 1 1 1 1 1 3 1 1 1 1 1 1 3 1]\n",
      "]\n",
      "ESR(25500).esr      : [\n",
      "[0 0 0 0 0 0 0 2 0 0 0 1 1 1 2 2 0 0 0 0 0 0 0 0 0 0 0 0 0 0]\n",
      "]\n",
      "ESR(25500).bases    : [\n",
      "[1 1 1 1 1 1 1 3 3 3 3 3 3 3 3 3 1 1 1 1 1 3 1 1 1 1 1 1 1 1]\n",
      "]\n",
      "ESR(26000).esr      : [\n",
      "[0 0 0 0 0 0 0 2 0 0 0 2 2 1 0 1 0 0 0 0 0 1 0 0 0 0 0 0 2 0]\n",
      "]\n",
      "ESR(26000).bases    : [\n",
      "[1 1 1 1 1 1 1 3 3 3 3 3 3 3 3 3 1 1 1 1 1 3 1 1 1 1 1 1 3 1]\n",
      "]\n",
      "ESR(26500).esr      : [\n",
      "[0 0 0 0 0 0 0 2 0 0 1 1 0 0 0 2 0 0 0 0 0 2 0 0 0 0 0 0 1 0]\n",
      "]\n",
      "ESR(26500).bases    : [\n",
      "[1 1 1 1 1 1 1 3 3 3 3 3 3 3 3 3 1 1 1 1 1 3 1 1 1 1 1 1 3 1]\n",
      "]\n",
      "ESR(27000).esr      : [\n",
      "[0 0 0 0 0 0 0 2 0 0 1 2 1 1 0 0 0 0 0 0 0 2 0 0 0 0 0 0 0 0]\n",
      "]\n",
      "ESR(27000).bases    : [\n",
      "[1 1 1 1 1 1 1 3 3 3 3 3 3 3 3 3 1 1 1 1 1 3 1 1 1 1 1 1 3 1]\n",
      "]\n",
      "ESR(27500).esr      : [\n",
      "[0 0 0 0 0 0 0 2 0 0 2 0 2 0 2 0 0 0 0 0 0 1 0 0 0 0 0 0 0 0]\n",
      "]\n",
      "ESR(27500).bases    : [\n",
      "[1 1 1 1 1 1 1 3 3 3 3 3 3 3 3 3 1 1 1 1 1 3 1 1 1 1 1 1 3 1]\n",
      "]\n",
      "ESR(28000).esr      : [\n",
      "[0 0 0 0 0 0 0 2 0 0 2 2 1 0 0 0 0 0 0 0 0 0 0 0 0 0 0 0 0 0]\n",
      "]\n",
      "ESR(28000).bases    : [\n",
      "[1 1 1 1 1 1 1 3 3 3 3 3 3 3 3 3 1 1 1 1 1 3 1 1 1 1 1 1 1 1]\n",
      "]\n",
      "ESR(28500).esr      : [\n",
      "[0 0 0 0 0 0 0 2 0 1 0 1 1 1 1 1 0 0 0 0 0 1 0 0 0 0 0 0 0 0]\n",
      "]\n",
      "ESR(28500).bases    : [\n",
      "[1 1 1 1 1 1 1 3 3 3 3 3 3 3 3 3 1 1 1 1 1 3 1 1 1 1 1 1 1 1]\n",
      "]\n",
      "ESR(29000).esr      : [\n",
      "[0 0 0 0 0 0 0 2 0 1 1 0 2 1 2 2 0 0 0 0 0 2 0 0 0 0 0 0 0 0]\n",
      "]\n",
      "ESR(29000).bases    : [\n",
      "[1 1 1 1 1 1 1 3 3 3 3 3 3 3 3 3 1 1 1 1 1 3 1 1 1 1 1 1 1 1]\n",
      "]\n",
      "ESR(29500).esr      : [\n",
      "[0 0 0 0 0 0 0 2 0 1 1 2 2 1 2 1 0 0 0 0 0 0 0 0 0 0 0 0 1 0]\n",
      "]\n",
      "ESR(29500).bases    : [\n",
      "[1 1 1 1 1 1 1 3 3 3 3 3 3 3 3 3 1 1 1 1 1 3 1 1 1 1 1 1 3 1]\n",
      "]\n",
      "ESR(30000).esr      : [\n",
      "[0 0 0 0 0 0 0 2 0 1 2 2 1 0 1 2 0 0 0 0 0 2 0 0 0 0 0 0 0 0]\n",
      "]\n",
      "ESR(30000).bases    : [\n",
      "[1 1 1 1 1 1 1 3 3 3 3 3 3 3 3 3 1 1 1 1 1 3 1 3 1 1 1 1 1 1]\n",
      "]\n",
      "ESR(30500).esr      : [\n",
      "[0 0 0 0 0 0 0 2 0 2 0 1 0 1 1 2 0 0 0 0 0 2 0 0 0 0 0 0 0 0]\n",
      "]\n",
      "ESR(30500).bases    : [\n",
      "[1 1 1 1 1 1 1 3 3 3 3 3 3 3 3 3 1 1 1 1 1 3 1 1 1 1 1 1 1 1]\n",
      "]\n",
      "ESR(31000).esr      : [\n",
      "[0 0 0 0 0 0 0 2 0 2 1 0 0 0 1 1 0 0 0 0 0 0 0 0 0 0 0 0 2 0]\n",
      "]\n",
      "ESR(31000).bases    : [\n",
      "[1 1 1 1 1 1 1 3 3 3 3 3 3 3 3 3 1 1 1 1 1 1 1 1 1 1 1 1 3 1]\n",
      "]\n",
      "ESR(31500).esr      : [\n",
      "[0 0 0 0 0 0 0 2 0 2 1 1 1 2 1 2 0 0 0 0 0 1 0 0 0 0 0 0 0 0]\n",
      "]\n",
      "ESR(31500).bases    : [\n",
      "[1 1 1 1 1 1 1 3 3 3 3 3 3 3 3 3 1 1 1 1 1 3 1 1 1 1 1 1 3 1]\n",
      "]\n",
      "ESR(32000).esr      : [\n",
      "[0 0 0 0 0 0 0 2 0 2 2 0 0 0 0 1 0 0 0 0 0 0 0 0 0 0 0 0 2 0]\n",
      "]\n",
      "ESR(32000).bases    : [\n",
      "[1 1 1 1 1 1 1 3 3 3 3 3 3 3 3 3 1 1 1 1 1 1 1 1 1 1 1 1 3 1]\n",
      "]\n",
      "ESR(32500).esr      : [\n",
      "[0 0 0 0 0 0 0 2 0 2 2 1 2 2 1 2 0 0 0 0 0 1 0 0 0 0 0 0 0 0]\n",
      "]\n",
      "ESR(32500).bases    : [\n",
      "[1 1 1 1 1 1 1 3 3 3 3 3 3 3 3 3 1 1 1 1 1 3 1 1 1 1 1 1 1 1]\n",
      "]\n",
      "ESR(33000).esr      : [\n",
      "[0 0 0 0 0 0 0 2 1 0 0 0 2 0 2 0 0 0 0 0 0 2 0 0 0 0 0 0 0 0]\n",
      "]\n",
      "ESR(33000).bases    : [\n",
      "[1 1 1 1 1 1 1 3 3 3 3 3 3 3 3 3 1 1 1 1 1 3 1 1 1 1 1 1 1 1]\n",
      "]\n",
      "ESR(33500).esr      : [\n",
      "[0 0 0 0 0 0 0 2 1 0 0 2 1 1 2 2 0 0 0 0 0 2 0 0 0 0 0 0 0 0]\n",
      "]\n",
      "ESR(33500).bases    : [\n",
      "[1 1 1 1 1 1 1 3 3 3 3 3 3 3 3 3 1 1 1 1 1 3 1 1 1 1 1 1 1 1]\n",
      "]\n",
      "ESR(34000).esr      : [\n",
      "[0 0 0 0 0 0 0 2 1 0 1 1 0 1 2 1 0 0 0 0 0 2 0 0 0 0 0 0 2 0]\n",
      "]\n",
      "ESR(34000).bases    : [\n",
      "[1 1 1 1 1 1 1 3 3 3 3 3 3 3 3 3 1 1 1 1 1 3 1 1 1 1 1 1 3 1]\n",
      "]\n",
      "ESR(34500).esr      : [\n",
      "[0 0 0 0 0 0 0 2 1 0 1 2 1 2 2 2 0 0 0 0 0 0 0 0 0 0 0 0 0 0]\n",
      "]\n",
      "ESR(34500).bases    : [\n",
      "[1 1 1 1 1 1 1 3 3 3 3 3 3 3 3 3 1 1 1 1 1 3 1 1 1 1 1 1 3 1]\n",
      "]\n",
      "ESR(35000).esr      : [\n",
      "[0 0 0 0 0 0 0 2 1 0 2 1 1 2 1 1 0 0 0 0 0 0 0 0 0 0 0 0 0 0]\n",
      "]\n",
      "ESR(35000).bases    : [\n",
      "[1 1 1 1 1 1 1 3 3 3 3 3 3 3 3 3 1 1 1 1 1 1 1 1 1 1 1 1 1 1]\n",
      "]\n",
      "ESR(35500).esr      : [\n",
      "[0 0 0 0 0 0 0 2 1 1 0 0 0 2 1 2 0 0 0 0 0 0 0 0 0 0 0 0 0 0]\n",
      "]\n",
      "ESR(35500).bases    : [\n",
      "[1 1 1 1 1 1 1 3 3 3 3 3 3 3 3 3 1 1 1 1 1 3 1 1 1 1 1 1 1 1]\n",
      "]\n",
      "ESR(36000).esr      : [\n",
      "[0 0 0 0 0 0 0 2 1 1 0 2 2 1 0 2 0 0 0 0 0 0 0 0 0 0 0 0 0 0]\n",
      "]\n",
      "ESR(36000).bases    : [\n",
      "[1 1 1 1 1 1 1 3 3 3 3 3 3 3 3 3 1 1 1 1 1 3 1 1 1 1 1 1 1 1]\n",
      "]\n",
      "ESR(36500).esr      : [\n",
      "[0 0 0 0 0 0 0 2 1 1 1 1 2 1 0 1 0 0 0 0 0 2 0 0 0 0 0 0 1 0]\n",
      "]\n",
      "ESR(36500).bases    : [\n",
      "[1 1 1 1 1 1 1 3 3 3 3 3 3 3 3 3 1 1 1 1 1 3 1 1 1 1 1 1 3 1]\n",
      "]\n",
      "ESR(37000).esr      : [\n",
      "[0 0 0 0 0 0 0 2 1 1 2 0 1 0 2 2 0 0 0 0 0 0 0 0 0 0 0 0 0 0]\n",
      "]\n",
      "ESR(37000).bases    : [\n",
      "[1 1 1 1 1 1 1 3 3 3 3 3 3 3 3 3 1 1 1 1 1 3 1 3 1 1 1 1 1 1]\n",
      "]\n",
      "ESR(37500).esr      : [\n",
      "[0 0 0 0 0 0 0 2 1 1 2 2 2 0 2 2 0 0 0 0 0 1 0 0 0 0 0 0 0 0]\n",
      "]\n",
      "ESR(37500).bases    : [\n",
      "[1 1 1 1 1 1 1 3 3 3 3 3 3 3 3 3 1 1 1 1 1 3 1 1 1 1 1 1 3 1]\n",
      "]\n",
      "ESR(38000).esr      : [\n",
      "[0 0 0 0 0 0 0 2 1 2 0 2 0 2 1 2 0 0 0 0 0 1 0 0 0 0 0 0 2 0]\n",
      "]\n",
      "ESR(38000).bases    : [\n",
      "[1 1 1 1 1 1 1 3 3 3 3 3 3 3 3 3 1 1 1 1 1 3 1 1 1 1 1 1 3 1]\n",
      "]\n",
      "ESR(38500).esr      : [\n",
      "[0 0 0 0 0 0 0 2 1 2 1 1 0 2 1 2 0 0 0 0 0 1 0 0 0 0 0 0 2 0]\n",
      "]\n",
      "ESR(38500).bases    : [\n",
      "[1 1 1 1 1 1 1 3 3 3 3 3 3 3 3 3 1 1 1 1 1 3 1 1 1 1 1 1 3 1]\n",
      "]\n",
      "ESR(39000).esr      : [\n",
      "[0 0 0 0 0 0 0 2 1 2 1 2 2 1 1 1 0 0 0 0 0 0 0 0 0 0 0 0 0 0]\n",
      "]\n",
      "ESR(39000).bases    : [\n",
      "[1 1 1 1 1 1 1 3 3 3 3 3 3 3 3 3 1 1 1 1 1 3 1 1 1 1 1 1 3 1]\n",
      "]\n",
      "ESR(39500).esr      : [\n",
      "[0 0 0 0 0 0 0 2 1 2 2 2 0 2 1 0 0 0 0 0 0 0 0 0 0 0 0 0 1 0]\n",
      "]\n",
      "ESR(39500).bases    : [\n",
      "[1 1 1 1 1 1 1 3 3 3 3 3 3 3 3 3 1 1 1 1 1 1 1 1 1 1 1 1 3 1]\n",
      "]\n",
      "ESR(40000).esr      : [\n",
      "[0 0 0 0 0 0 0 2 2 0 0 1 0 1 2 2 0 0 0 0 0 1 0 0 0 0 0 0 0 0]\n",
      "]\n",
      "ESR(40000).bases    : [\n",
      "[1 1 1 1 1 1 1 3 3 3 3 3 3 3 3 3 1 1 1 1 1 3 1 1 1 1 1 1 1 1]\n",
      "]\n",
      "ESR(40500).esr      : [\n",
      "[0 0 0 0 0 0 0 2 2 0 0 2 2 1 1 2 0 0 0 0 0 2 0 0 0 0 0 0 1 0]\n",
      "]\n",
      "ESR(40500).bases    : [\n",
      "[1 1 1 1 1 1 1 3 3 3 3 3 3 3 3 3 1 1 1 1 1 3 1 1 1 1 1 1 3 1]\n",
      "]\n",
      "ESR(41000).esr      : [\n",
      "[0 0 0 0 0 0 0 2 2 0 1 1 2 0 1 2 0 0 0 0 0 0 0 0 0 0 0 0 0 0]\n",
      "]\n",
      "ESR(41000).bases    : [\n",
      "[1 1 1 1 1 1 1 3 3 3 3 3 3 3 3 3 1 1 1 1 1 3 1 1 1 1 1 1 1 1]\n",
      "]\n",
      "ESR(41500).esr      : [\n",
      "[0 0 0 0 0 0 0 2 2 0 2 0 1 0 0 2 0 0 0 0 0 1 0 1 0 0 0 0 0 0]\n",
      "]\n",
      "ESR(41500).bases    : [\n",
      "[1 1 1 1 1 1 1 3 3 3 3 3 3 3 3 3 1 1 1 1 1 3 1 3 1 1 1 1 1 1]\n",
      "]\n",
      "ESR(42000).esr      : [\n",
      "[0 0 0 0 0 0 0 2 2 0 2 2 1 0 0 2 0 0 0 0 0 1 0 1 0 0 0 0 0 0]\n",
      "]\n",
      "ESR(42000).bases    : [\n",
      "[1 1 1 1 1 1 1 3 3 3 3 3 3 3 3 3 1 1 1 1 1 3 1 3 3 1 1 1 1 1]\n",
      "]\n",
      "ESR(42500).esr      : [\n",
      "[0 0 0 0 0 0 0 2 2 1 0 1 1 0 0 2 0 0 0 0 0 0 0 0 0 0 0 0 0 0]\n",
      "]\n",
      "ESR(42500).bases    : [\n",
      "[1 1 1 1 1 1 1 3 3 3 3 3 3 3 3 3 1 1 1 1 1 3 3 1 1 1 1 1 1 1]\n",
      "]\n",
      "ESR(43000).esr      : [\n",
      "[0 0 0 0 0 0 0 2 2 1 1 0 0 1 0 2 0 0 0 0 0 0 2 0 0 0 0 0 0 0]\n",
      "]\n",
      "ESR(43000).bases    : [\n",
      "[1 1 1 1 1 1 1 3 3 3 3 3 3 3 3 3 1 1 1 1 1 3 3 1 1 1 1 1 1 1]\n",
      "]\n",
      "ESR(43500).esr      : [\n",
      "[0 0 0 0 0 0 0 2 2 1 1 1 2 2 2 0 0 0 0 0 0 0 0 0 0 0 0 0 0 0]\n",
      "]\n",
      "ESR(43500).bases    : [\n",
      "[1 1 1 1 1 1 1 3 3 3 3 3 3 3 3 3 1 1 1 1 1 1 1 1 1 1 1 1 1 1]\n",
      "]\n",
      "ESR(44000).esr      : [\n",
      "[0 0 0 0 0 0 0 2 2 1 2 0 1 0 2 2 0 0 0 0 0 2 0 1 0 0 0 0 0 0]\n",
      "]\n",
      "ESR(44000).bases    : [\n",
      "[1 1 1 1 1 1 1 3 3 3 3 3 3 3 3 3 1 1 1 1 1 3 1 3 1 1 1 1 1 1]\n",
      "]\n",
      "ESR(44500).esr      : [\n",
      "[0 0 0 0 0 0 0 2 2 1 2 2 1 0 0 2 0 0 0 0 0 1 1 2 1 0 0 0 0 0]\n",
      "]\n",
      "ESR(44500).bases    : [\n",
      "[1 1 1 1 1 1 1 3 3 3 3 3 3 3 3 3 1 1 1 1 1 3 3 3 3 1 1 1 1 1]\n",
      "]\n",
      "ESR(45000).esr      : [\n",
      "[0 0 0 0 0 0 0 2 2 2 0 1 1 2 2 1 0 0 0 0 0 0 0 0 0 0 0 0 0 0]\n",
      "]\n",
      "ESR(45000).bases    : [\n",
      "[1 1 1 1 1 1 1 3 3 3 3 3 3 3 3 3 1 1 1 1 1 1 1 1 1 1 1 1 1 1]\n",
      "]\n",
      "ESR(45500).esr      : [\n",
      "[0 0 0 0 0 0 0 2 2 2 1 0 2 1 1 2 0 0 0 0 0 2 0 0 0 0 0 0 0 0]\n",
      "]\n",
      "ESR(45500).bases    : [\n",
      "[1 1 1 1 1 1 1 3 3 3 3 3 3 3 3 3 1 1 1 1 1 3 1 1 1 1 1 1 1 1]\n",
      "]\n",
      "ESR(46000).esr      : [\n",
      "[0 0 0 0 0 0 0 2 2 2 1 2 2 0 2 2 0 0 0 0 0 2 0 0 0 0 0 0 0 0]\n",
      "]\n",
      "ESR(46000).bases    : [\n",
      "[1 1 1 1 1 1 1 3 3 3 3 3 3 3 3 3 1 1 1 1 1 3 1 1 1 1 1 1 3 1]\n",
      "]\n",
      "ESR(46500).esr      : [\n",
      "[0 0 0 0 0 0 0 2 2 2 2 2 0 2 2 1 0 0 0 0 0 0 0 0 0 0 0 0 0 0]\n",
      "]\n",
      "ESR(46500).bases    : [\n",
      "[1 1 1 1 1 1 1 3 3 3 3 3 3 3 3 3 1 1 1 1 1 1 1 1 1 1 1 1 3 1]\n",
      "]\n"
     ]
    }
   ],
   "source": [
    "ESS, TAU, out = rls.solve(Gtau,self,ess0,stage_index,maxEQ=50000) "
   ]
  },
  {
   "cell_type": "code",
   "execution_count": 100,
   "metadata": {},
   "outputs": [
    {
     "data": {
      "text/plain": [
       "(46708,)"
      ]
     },
     "execution_count": 100,
     "metadata": {},
     "output_type": "execute_result"
    }
   ],
   "source": [
    "ESS.shape"
   ]
  },
  {
   "cell_type": "code",
   "execution_count": 101,
   "metadata": {},
   "outputs": [
    {
     "data": {
      "text/plain": [
       "(46707,)"
      ]
     },
     "execution_count": 101,
     "metadata": {},
     "output_type": "execute_result"
    }
   ],
   "source": [
    "TAU.shape"
   ]
  },
  {
   "cell_type": "code",
   "execution_count": 102,
   "metadata": {},
   "outputs": [
    {
     "data": {
      "text/plain": [
       "(46707,)"
      ]
     },
     "execution_count": 102,
     "metadata": {},
     "output_type": "execute_result"
    }
   ],
   "source": [
    "TAU[0:46707].shape"
   ]
  },
  {
   "cell_type": "code",
   "execution_count": 103,
   "metadata": {},
   "outputs": [
    {
     "data": {
      "text/plain": [
       "array([namespace(MPEesr=array([0, 0, 0, 0, 0, 0, 0, 0, 0, 0, 0, 0, 0, 0, 0, 0, 0, 0, 0, 0, 0, 0,\n",
       "              0, 0, 0, 0, 0, 0, 0, 0]), V1=array([0.]), V2=array([77.91368762]))                ,\n",
       "       namespace(MPEesr=array([0, 0, 0, 0, 0, 0, 0, 0, 0, 0, 0, 0, 0, 0, 0, 0, 0, 0, 0, 0, 0, 0,\n",
       "              0, 0, 0, 0, 0, 0, 1, 0]), V1=array([1.12060545]), V2=array([48.81409604]))        ,\n",
       "       namespace(MPEesr=array([0, 0, 0, 0, 0, 0, 0, 0, 0, 0, 0, 0, 0, 0, 0, 0, 0, 0, 0, 0, 0, 0,\n",
       "              0, 0, 0, 0, 0, 0, 2, 0]), V1=array([0.]), V2=array([66.48727486]))                ],\n",
       "      dtype=object)"
      ]
     },
     "execution_count": 103,
     "metadata": {},
     "output_type": "execute_result"
    }
   ],
   "source": [
    "out[:3]"
   ]
  },
  {
   "cell_type": "code",
   "execution_count": 104,
   "metadata": {},
   "outputs": [
    {
     "data": {
      "text/plain": [
       "(30,)"
      ]
     },
     "execution_count": 104,
     "metadata": {},
     "output_type": "execute_result"
    }
   ],
   "source": [
    "out[0].MPEesr.shape"
   ]
  },
  {
   "cell_type": "code",
   "execution_count": 105,
   "metadata": {},
   "outputs": [
    {
     "data": {
      "text/plain": [
       "30"
      ]
     },
     "execution_count": 105,
     "metadata": {},
     "output_type": "execute_result"
    }
   ],
   "source": [
    "self.stage_index[-1].astype(int)"
   ]
  },
  {
   "cell_type": "code",
   "execution_count": 106,
   "metadata": {},
   "outputs": [],
   "source": [
    "number_of_equilibria=np.size(TAU)\n",
    "\n",
    "T = np.size(self.stage_index)\n",
    "\n",
    "y = np.zeros((T,),dtype=int);\n",
    "\n",
    "for i in range(T):\n",
    "    y[i] = np.sum( TAU==i+1)\n",
    "\n",
    "\n",
    "V = np.empty((number_of_equilibria,2))\n",
    "MPEesr  = np.empty((number_of_equilibria,self.stage_index[-1].astype(int)))\n",
    "\n",
    "for iEQ in range(number_of_equilibria):\n",
    "    V[iEQ,0]=out[iEQ].V1;\n",
    "    V[iEQ,1]=out[iEQ].V2;\n",
    "    MPEesr[iEQ,:]=out[iEQ].MPEesr; \n"
   ]
  },
  {
   "cell_type": "code",
   "execution_count": 107,
   "metadata": {},
   "outputs": [],
   "source": [
    "import matplotlib.pyplot as plt"
   ]
  },
  {
   "cell_type": "code",
   "execution_count": 120,
   "metadata": {},
   "outputs": [
    {
     "data": {
      "text/plain": [
       "array([24.64863717, 24.64863717])"
      ]
     },
     "execution_count": 120,
     "metadata": {},
     "output_type": "execute_result"
    }
   ],
   "source": [
    "np.mean(V,axis=0)"
   ]
  },
  {
   "cell_type": "code",
   "execution_count": 108,
   "metadata": {},
   "outputs": [
    {
     "data": {
      "image/png": "[encoded data removed]",
      "text/plain": [
       "<Figure size 432x288 with 1 Axes>"
      ]
     },
     "metadata": {
      "needs_background": "light"
     },
     "output_type": "display_data"
    }
   ],
   "source": [
    "plt.bar(np.array((range(len(y))) ) +1,y);"
   ]
  },
  {
   "cell_type": "code",
   "execution_count": 109,
   "metadata": {},
   "outputs": [
    {
     "name": "stdout",
     "output_type": "stream",
     "text": [
      "STAGE       Recursion_started_in_stage :\n",
      "\n",
      " 1                 11604\n",
      " 2                     0\n",
      " 3                     0\n",
      " 4                 15420\n",
      " 5                     0\n",
      " 6                     0\n",
      " 7                 19682\n",
      " 8                     0\n",
      " 9                     0\n",
      "10                     1\n"
     ]
    }
   ],
   "source": [
    "print('STAGE       Recursion_started_in_stage :\\n')\n",
    "for i, x in enumerate(y):\n",
    "    print(f'{i+1:2}            {x:10}')"
   ]
  },
  {
   "cell_type": "code",
   "execution_count": 110,
   "metadata": {},
   "outputs": [
    {
     "data": {
      "text/plain": [
       "46707"
      ]
     },
     "execution_count": 110,
     "metadata": {},
     "output_type": "execute_result"
    }
   ],
   "source": [
    "number_of_equilibria"
   ]
  },
  {
   "cell_type": "code",
   "execution_count": 111,
   "metadata": {},
   "outputs": [],
   "source": [
    "a = 5\n",
    "d = 0.005"
   ]
  },
  {
   "cell_type": "code",
   "execution_count": 112,
   "metadata": {},
   "outputs": [],
   "source": [
    "Vu, Vx , Vz  = np.unique(np.around(V+0.000001, decimals=3),axis=0, return_index=True, return_inverse=True)"
   ]
  },
  {
   "cell_type": "code",
   "execution_count": 113,
   "metadata": {},
   "outputs": [],
   "source": [
    "N = Vu.shape[0]"
   ]
  },
  {
   "cell_type": "code",
   "execution_count": 122,
   "metadata": {},
   "outputs": [
    {
     "data": {
      "text/plain": [
       "720"
      ]
     },
     "execution_count": 122,
     "metadata": {},
     "output_type": "execute_result"
    }
   ],
   "source": [
    "N"
   ]
  },
  {
   "cell_type": "code",
   "execution_count": 114,
   "metadata": {},
   "outputs": [],
   "source": [
    "weights = np.ones((N,))\n",
    "for i in range(N):\n",
    "    weights[i] = np.sum(Vz==i+1)\n",
    "weights = a+ weights/(d*np.max(weights))"
   ]
  },
  {
   "cell_type": "code",
   "execution_count": 115,
   "metadata": {},
   "outputs": [
    {
     "data": {
      "text/plain": [
       "(720,)"
      ]
     },
     "execution_count": 115,
     "metadata": {},
     "output_type": "execute_result"
    }
   ],
   "source": [
    "weights.shape"
   ]
  },
  {
   "cell_type": "code",
   "execution_count": 116,
   "metadata": {},
   "outputs": [
    {
     "data": {
      "text/plain": [
       "<matplotlib.collections.PathCollection at 0x20be9d0bf10>"
      ]
     },
     "execution_count": 116,
     "metadata": {},
     "output_type": "execute_result"
    },
    {
     "data": {
      "image/png": "[encoded data removed]",
      "text/plain": [
       "<Figure size 432x288 with 1 Axes>"
      ]
     },
     "metadata": {
      "needs_background": "light"
     },
     "output_type": "display_data"
    }
   ],
   "source": [
    "plt.scatter(Vu[:,0],Vu[:,1],s=weights)"
   ]
  },
  {
   "cell_type": "code",
   "execution_count": 121,
   "metadata": {},
   "outputs": [
    {
     "data": {
      "text/plain": [
       "<matplotlib.collections.PathCollection at 0x20be9c2be20>"
      ]
     },
     "execution_count": 121,
     "metadata": {},
     "output_type": "execute_result"
    },
    {
     "data": {
      "image/png": "[encoded data removed]",
      "text/plain": [
       "<Figure size 432x288 with 1 Axes>"
      ]
     },
     "metadata": {
      "needs_background": "light"
     },
     "output_type": "display_data"
    }
   ],
   "source": [
    "plt.scatter(Vu[:,0],Vu[:,1])"
   ]
  },
  {
   "cell_type": "code",
   "execution_count": null,
   "metadata": {},
   "outputs": [],
   "source": []
  }
 ],
 "metadata": {
  "interpreter": {
   "hash": "b3ba2566441a7c06988d0923437866b63cedc61552a5af99d1f4fb67d367b25f"
  },
  "kernelspec": {
   "display_name": "Python 3.8.11 ('base')",
   "language": "python",
   "name": "python3"
  },
  "language_info": {
   "codemirror_mode": {
    "name": "ipython",
    "version": 3
   },
   "file_extension": ".py",
   "mimetype": "text/x-python",
   "name": "python",
   "nbconvert_exporter": "python",
   "pygments_lexer": "ipython3",
   "version": "3.8.11"
  },
  "orig_nbformat": 4
 },
 "nbformat": 4,
 "nbformat_minor": 2
}
