{
 "cells": [
  {
   "cell_type": "code",
   "execution_count": 5,
   "metadata": {},
   "outputs": [],
   "source": [
    "# Load package \n"
   ]
  },
  {
   "cell_type": "markdown",
   "metadata": {},
   "source": [
    "<h1> Exercise 1: The Simplest Consumption Model (Cake Eating Problem)"
   ]
  },
  {
   "cell_type": "markdown",
   "metadata": {},
   "source": [
    "Consider the simplest consumption-saving model:\n",
    "\n",
    "$$\\begin{aligned}\n",
    "    V_1^*(W) &= \\max_{c_1,c_2,\\dots,c_T} \\{ \\sqrt{c_1} +\\beta \\sqrt{c_2}+\\beta^2\\sqrt{c_3}+\\cdots+\\beta^T\\sqrt{c_T} \\} \\\\\n",
    "    & \\text{s.t.} \\\\\n",
    "    W &= c_1 + c_1+\\cdots+c_T \\\\\n",
    "    c_t &\\in \\mathbb{N}, \\, \\forall t\n",
    "\\end{aligned}$$\n",
    "for $T=3$, $\\beta =0.9$ and $W=5$."
   ]
  },
  {
   "cell_type": "markdown",
   "metadata": {},
   "source": [
    "### 1. Solve the model using backwards induction: "
   ]
  },
  {
   "cell_type": "code",
   "execution_count": 1,
   "metadata": {},
   "outputs": [],
   "source": [
    "beta = 0.9\n",
    "W = 5\n",
    "T = 3\n",
    "\n",
    "Vstar_bi = Array{Float64}(undef, W+1,T)\n",
    "Cstar_bi = Array{Int64}(undef, W+1,T)\n",
    "\n",
    "Cstar_bi[:,T] = Array(0:W);\n",
    "\n",
    "Vstar_bi[:,T] = sqrt.(Cstar_bi[:,T] );"
   ]
  },
  {
   "cell_type": "code",
   "execution_count": 3,
   "metadata": {},
   "outputs": [
    {
     "data": {
      "text/plain": [
       "6×3 Matrix{Int64}:\n",
       "  1   7  0\n",
       "  2  -1  1\n",
       " -1   9  2\n",
       "  4  -1  3\n",
       "  5  11  4\n",
       " -1  12  5"
      ]
     },
     "execution_count": 3,
     "metadata": {},
     "output_type": "execute_result"
    }
   ],
   "source": [
    "Cstar_bi"
   ]
  },
  {
   "cell_type": "code",
   "execution_count": 78,
   "metadata": {},
   "outputs": [
    {
     "data": {
      "text/plain": [
       "6-element Vector{Float64}:\n",
       " 0.0\n",
       " 1.0\n",
       " 1.4142135623730951\n",
       " 1.7320508075688772\n",
       " 2.0\n",
       " 2.23606797749979"
      ]
     },
     "execution_count": 78,
     "metadata": {},
     "output_type": "execute_result"
    }
   ],
   "source": [
    "Vstar_bi[:,T]"
   ]
  },
  {
   "cell_type": "code",
   "execution_count": 81,
   "metadata": {},
   "outputs": [],
   "source": [
    "for t = T-1:-1:1\n",
    "    for w = 0:W\n",
    "        c = Array(0:w)\n",
    "        V_next = Vstar_bi[w.-c.+1,t+1]\n",
    "        v_guess = sqrt.(c)+beta.*V_next    \n",
    "        \n",
    "        star = findmax(v_guess)\n",
    "        #println(v_guess)\n",
    "        #println(star)\n",
    "        Vstar_bi[w+1,t] = star[1] \n",
    "        Cstar_bi[w+1,t] = star[2]-1\n",
    "        \n",
    "        \n",
    "    end\n",
    "end"
   ]
  },
  {
   "cell_type": "code",
   "execution_count": 82,
   "metadata": {},
   "outputs": [
    {
     "data": {
      "text/plain": [
       "6×3 Matrix{Int64}:\n",
       " 0  0  0\n",
       " 1  1  1\n",
       " 1  1  2\n",
       " 1  2  3\n",
       " 2  2  4\n",
       " 2  3  5"
      ]
     },
     "execution_count": 82,
     "metadata": {},
     "output_type": "execute_result"
    }
   ],
   "source": [
    "Cstar_bi"
   ]
  },
  {
   "cell_type": "markdown",
   "metadata": {},
   "source": [
    "### 2. Create a function with $\\beta$, $W$ and $T$ as inputs. "
   ]
  },
  {
   "cell_type": "code",
   "execution_count": 83,
   "metadata": {},
   "outputs": [
    {
     "data": {
      "text/plain": [
       "Dict{String, Real} with 3 entries:\n",
       "  \"W\"    => 5\n",
       "  \"T\"    => 3\n",
       "  \"beta\" => 0.9"
      ]
     },
     "execution_count": 83,
     "metadata": {},
     "output_type": "execute_result"
    }
   ],
   "source": [
    "par = Dict(\"beta\" => 0.9,\"W\" => 5, \"T\" => 3) \n"
   ]
  },
  {
   "cell_type": "code",
   "execution_count": 87,
   "metadata": {},
   "outputs": [
    {
     "data": {
      "text/plain": [
       "Dict{Real, Real} with 3 entries:\n",
       "  5   => 5\n",
       "  0.9 => 0.9\n",
       "  3   => 3"
      ]
     },
     "execution_count": 87,
     "metadata": {},
     "output_type": "execute_result"
    }
   ],
   "source": [
    "par = Dict(beta => 0.9,W => 5, T => 3) "
   ]
  },
  {
   "cell_type": "code",
   "execution_count": 100,
   "metadata": {},
   "outputs": [
    {
     "data": {
      "text/plain": [
       "Par(0.9, 5, 3)"
      ]
     },
     "execution_count": 100,
     "metadata": {},
     "output_type": "execute_result"
    }
   ],
   "source": [
    "struct Par\n",
    "    beta::Float64\n",
    "    W::Int64\n",
    "    T::Int64\n",
    "end\n",
    "par = Par(0.9,5,3)"
   ]
  },
  {
   "cell_type": "code",
   "execution_count": 107,
   "metadata": {},
   "outputs": [
    {
     "data": {
      "text/plain": [
       "solve_backwards (generic function with 1 method)"
      ]
     },
     "execution_count": 107,
     "metadata": {},
     "output_type": "execute_result"
    }
   ],
   "source": [
    "function solve_backwards(par)\n",
    "    \n",
    "    Vstar_bi = Array{Float64}(undef, par.W+1,par.T)\n",
    "    Cstar_bi = Array{Int64}(undef, par.W+1,par.T)\n",
    "    \n",
    "    # Initialize last period\n",
    "    Cstar_bi[:,par.T] = Array(0:par.W);\n",
    "    Vstar_bi[:,par.T] = sqrt.(Cstar_bi[:,par.T] )\n",
    "    \n",
    "    # Recursively solve earlier periods: \n",
    "    for t = par.T-1:-1:1\n",
    "        for w = 0:par.W\n",
    "            c = Array(0:w)\n",
    "            V_next = Vstar_bi[w.-c.+1,t+1]\n",
    "            v_guess = sqrt.(c)+par.beta.*V_next    \n",
    "\n",
    "            star = findmax(v_guess)\n",
    "            Vstar_bi[w+1,t] = star[1] \n",
    "            Cstar_bi[w+1,t] = star[2]-1\n",
    "\n",
    "        end\n",
    "    end\n",
    "    return Cstar_bi,Cstar_bi\n",
    "end\n",
    "    "
   ]
  },
  {
   "cell_type": "markdown",
   "metadata": {},
   "source": [
    "### 3. Check that your function works \n",
    "\n",
    "Notice, C is our policy function. The policy function tells us the optimal way of spending our resources in a given period. "
   ]
  },
  {
   "cell_type": "code",
   "execution_count": 117,
   "metadata": {},
   "outputs": [
    {
     "data": {
      "text/plain": [
       "6×3 Matrix{Int64}:\n",
       " 0  0  0\n",
       " 1  1  1\n",
       " 1  1  2\n",
       " 1  2  3\n",
       " 2  2  4\n",
       " 2  3  5"
      ]
     },
     "execution_count": 117,
     "metadata": {},
     "output_type": "execute_result"
    }
   ],
   "source": [
    "par = Par(0.9,5,3)\n",
    "C, V = solve_backwards(par)\n",
    "C"
   ]
  },
  {
   "cell_type": "code",
   "execution_count": 116,
   "metadata": {},
   "outputs": [
    {
     "data": {
      "text/plain": [
       "7×5 Matrix{Int64}:\n",
       " 0  0  0  0  0\n",
       " 1  1  1  1  1\n",
       " 1  1  1  1  2\n",
       " 1  1  1  2  3\n",
       " 1  1  2  2  4\n",
       " 1  2  2  3  5\n",
       " 2  2  2  3  6"
      ]
     },
     "execution_count": 116,
     "metadata": {},
     "output_type": "execute_result"
    }
   ],
   "source": [
    "par2 = Par(0.9,6,5)\n",
    "C2, V2 = solve_backwards(par2)\n",
    "C2"
   ]
  },
  {
   "cell_type": "markdown",
   "metadata": {},
   "source": [
    "### 4. Use the policy function to simulate how 5 resources now can be spend optimally over 3 periods.    "
   ]
  },
  {
   "cell_type": "code",
   "execution_count": 131,
   "metadata": {},
   "outputs": [
    {
     "data": {
      "text/plain": [
       "simulate (generic function with 2 methods)"
      ]
     },
     "execution_count": 131,
     "metadata": {},
     "output_type": "execute_result"
    }
   ],
   "source": [
    "function simulate(Cstar,par)\n",
    "\n",
    "    C_backwards = Array{Int64}(undef,par.T)\n",
    "    W_now = par.W\n",
    "    for t = 1:par.T\n",
    "        C_now = Cstar[W_now+1,t]\n",
    "        C_backwards[t] = C_now\n",
    "        W_now = W_now-C_now  \n",
    "    end\n",
    "    return C_backwards\n",
    "    \n",
    "end "
   ]
  },
  {
   "cell_type": "code",
   "execution_count": 132,
   "metadata": {},
   "outputs": [
    {
     "data": {
      "text/plain": [
       "3-element Vector{Int64}:\n",
       " 2\n",
       " 2\n",
       " 1"
      ]
     },
     "execution_count": 132,
     "metadata": {},
     "output_type": "execute_result"
    }
   ],
   "source": [
    "C_backwards = simulate(C,par);\n",
    "C_backwards"
   ]
  },
  {
   "cell_type": "markdown",
   "metadata": {},
   "source": [
    "<h3> 5. Solve the model for $T = 10$."
   ]
  },
  {
   "cell_type": "code",
   "execution_count": 133,
   "metadata": {},
   "outputs": [],
   "source": [
    "# 1. Setup \n",
    "\n",
    "par10 = Par(0.9,5,10)\n",
    "\n",
    "# 2. - 3. Solve \n",
    "C10, V10 = solve_backwards(par10);  # call function"
   ]
  },
  {
   "cell_type": "markdown",
   "metadata": {},
   "source": [
    "<h3> Simulate $C_1$, $C_2$,...,$C_{10}$ using the policy function found in 5) and W=5"
   ]
  },
  {
   "cell_type": "code",
   "execution_count": 134,
   "metadata": {},
   "outputs": [
    {
     "name": "stdout",
     "output_type": "stream",
     "text": [
      "Solution for C with T =3and W =5: C =[1, 1, 1, 1, 1, 0, 0, 0, 0, 0]"
     ]
    }
   ],
   "source": [
    "# define function\n",
    "\n",
    "\n",
    "\n",
    "# 4. Simulate\n",
    "C_sim = simulate(C10,par10)  # Call function\n",
    "        \n",
    "print(\"Solution for C with T =\",T,\"and W =\", W , \": C =\",C_sim)"
   ]
  },
  {
   "cell_type": "markdown",
   "metadata": {},
   "source": [
    "<h3> Play around with W, $\\beta$ and see the results. Are the results inline with your intuition?"
   ]
  },
  {
   "cell_type": "code",
   "execution_count": 136,
   "metadata": {},
   "outputs": [
    {
     "data": {
      "text/plain": [
       "5-element LinRange{Float64}:\n",
       " 0.5,0.6225,0.745,0.8675,0.99"
      ]
     },
     "execution_count": 136,
     "metadata": {},
     "output_type": "execute_result"
    }
   ],
   "source": [
    "LinRange(0.5,0.99,5)"
   ]
  },
  {
   "cell_type": "code",
   "execution_count": 145,
   "metadata": {},
   "outputs": [
    {
     "name": "stdout",
     "output_type": "stream",
     "text": [
      "Beta: 0.5\n",
      "  W: 5\n",
      "    V: 4\n",
      "    C: [4, 1, 0, 0, 0]\n",
      "  W: 8\n",
      "    V: 6\n",
      "    C: [6, 1, 1, 0, 0]\n",
      "  W: 11\n",
      "    V: 8\n",
      "    C: [8, 2, 1, 0, 0]\n",
      "  W: 14\n",
      "    V: 10\n",
      "    C: [10, 3, 1, 0, 0]\n",
      "Beta: 0.6225\n",
      "  W: 5\n",
      "    V: 3\n",
      "    C: [3, 1, 1, 0, 0]\n",
      "  W: 8\n",
      "    V: 4\n",
      "    C: [4, 2, 1, 1, 0]\n",
      "  W: 11\n",
      "    V: 6\n",
      "    C: [6, 3, 1, 1, 0]\n",
      "  W: 14\n",
      "    V: 9\n",
      "    C: [9, 3, 1, 1, 0]\n",
      "Beta: 0.745\n",
      "  W: 5\n",
      "    V: 2\n",
      "    C: [2, 1, 1, 1, 0]\n",
      "  W: 8\n",
      "    V: 3\n",
      "    C: [3, 2, 1, 1, 1]\n",
      "  W: 11\n",
      "    V: 5\n",
      "    C: [5, 3, 1, 1, 1]\n",
      "  W: 14\n",
      "    V: 6\n",
      "    C: [6, 4, 2, 1, 1]\n",
      "Beta: 0.8674999999999999\n",
      "  W: 5\n",
      "    V: 1\n",
      "    C: [1, 1, 1, 1, 1]\n",
      "  W: 8\n",
      "    V: 3\n",
      "    C: [3, 2, 1, 1, 1]\n",
      "  W: 11\n",
      "    V: 3\n",
      "    C: [3, 3, 2, 2, 1]\n",
      "  W: 14\n",
      "    V: 5\n",
      "    C: [5, 3, 3, 2, 1]\n",
      "Beta: 0.99\n",
      "  W: 5\n",
      "    V: 1\n",
      "    C: [1, 1, 1, 1, 1]\n",
      "  W: 8\n",
      "    V: 2\n",
      "    C: [2, 2, 2, 1, 1]\n",
      "  W: 11\n",
      "    V: 3\n",
      "    C: [3, 2, 2, 2, 2]\n",
      "  W: 14\n",
      "    V: 3\n",
      "    C: [3, 3, 3, 3, 2]\n"
     ]
    }
   ],
   "source": [
    "for beta in LinRange(0.5,0.99,5)\n",
    "    println(\"Beta: \",beta)\n",
    "    \n",
    "    for W = 5:3:15\n",
    "        println(\"  W: \", W)\n",
    "        parnow = Par(beta,W,5)\n",
    "        C_now, V_now = solve_backwards(parnow)\n",
    "        C_sim = simulate(C_now,parnow)\n",
    "        \n",
    "        println(\"    V: \",V_now[W+1,1])\n",
    "        println(\"    C: \",C_sim)\n",
    "    end\n",
    "end \n",
    "        \n",
    "        \n",
    "        "
   ]
  },
  {
   "cell_type": "code",
   "execution_count": null,
   "metadata": {},
   "outputs": [],
   "source": []
  }
 ],
 "metadata": {
  "kernelspec": {
   "display_name": "Julia 1.6.4",
   "language": "julia",
   "name": "julia-1.6"
  },
  "language_info": {
   "file_extension": ".jl",
   "mimetype": "application/julia",
   "name": "julia",
   "version": "1.6.4"
  }
 },
 "nbformat": 4,
 "nbformat_minor": 4
}
