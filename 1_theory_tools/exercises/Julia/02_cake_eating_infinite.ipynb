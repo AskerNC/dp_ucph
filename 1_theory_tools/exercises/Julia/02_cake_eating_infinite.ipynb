{
 "cells": [
  {
   "cell_type": "code",
   "execution_count": 1,
   "metadata": {},
   "outputs": [],
   "source": [
    "# revise: ensures that any changes to the modules loaded below will be re-loaded automatically\n",
    "using Revise\n",
    "\n",
    "\n",
    "# Load package \n",
    "# Includet instead of include from Revise\n",
    "#include(\"backward_induction.jl\")"
   ]
  },
  {
   "cell_type": "code",
   "execution_count": 2,
   "metadata": {},
   "outputs": [],
   "source": [
    "includet(\"backward_induction.jl\")"
   ]
  },
  {
   "cell_type": "code",
   "execution_count": 3,
   "metadata": {},
   "outputs": [],
   "source": [
    "using .vfi"
   ]
  },
  {
   "cell_type": "markdown",
   "metadata": {},
   "source": [
    "<h1> Exercise 2: The Infinite Horizon Consumption Model"
   ]
  },
  {
   "cell_type": "markdown",
   "metadata": {},
   "source": [
    "Consider again the simplest consumption-saving model but with an infinite time horizon:\n",
    "\n",
    "$$\\begin{aligned}\n",
    "    V_1^*(W_1) &= \\max_{c_1,c_2,\\dots} \\{ \\sqrt{c_1} +\\beta \\sqrt{c_2}+\\beta^2\\sqrt{c_3}+\\cdots \\} \\\\\n",
    "    & \\text{s.t.} \\\\\n",
    "    W_{t+1} & = W_{t}-c_{t} \\\\\n",
    "    c_{t} & \\leq  W_{t} , \\,\\forall t\\\\\n",
    "    c_{t} & \\in  \\mathbb{R}_+, \\,\\forall t\n",
    "\\end{aligned}$$\n",
    "for $\\beta =0.9$ and $W_1=5$.\n",
    "\n",
    "\n",
    "\n",
    "Notice, we can rewrite the first equation as a Bellman equation:\n",
    "\n",
    "$$\\begin{aligned}\n",
    "    V^*(W_t) &=\\sqrt{c_t} + V^*(\\underbrace{W_{t}-c_t}_{W_{t+1}}), \\forall t\n",
    "\\end{aligned}$$\n"
   ]
  },
  {
   "cell_type": "markdown",
   "metadata": {},
   "source": [
    "### 1. Solve the model using value function iteration (VFI): "
   ]
  },
  {
   "cell_type": "code",
   "execution_count": 38,
   "metadata": {},
   "outputs": [
    {
     "data": {
      "text/plain": [
       "(beta = 0.9, W = 5, tol = 0.01, max_iter = 1000)"
      ]
     },
     "execution_count": 38,
     "metadata": {},
     "output_type": "execute_result"
    }
   ],
   "source": [
    "par = (beta=0.9,W=5,tol=10e-3,max_iter =1000)\n"
   ]
  },
  {
   "cell_type": "code",
   "execution_count": 40,
   "metadata": {},
   "outputs": [
    {
     "data": {
      "text/plain": [
       "Main.vfi.Sol([0, 1, 2, 3, 4, 5], [0, 1, 1, 1, 1, 1], [0.0, 1.0, 1.9, 2.71, 3.439, 4.0951], 0.0)"
      ]
     },
     "execution_count": 40,
     "metadata": {},
     "output_type": "execute_result"
    }
   ],
   "source": [
    "sol = vfi.solve(par)"
   ]
  },
  {
   "cell_type": "code",
   "execution_count": 51,
   "metadata": {},
   "outputs": [
    {
     "data": {
      "text/plain": [
       "(:grid_w, :C_star, :V_star, :delta)"
      ]
     },
     "execution_count": 51,
     "metadata": {},
     "output_type": "execute_result"
    }
   ],
   "source": [
    "# Print possible references\n",
    "fieldnames(typeof(sol))"
   ]
  },
  {
   "cell_type": "code",
   "execution_count": 52,
   "metadata": {},
   "outputs": [
    {
     "name": "stdout",
     "output_type": "stream",
     "text": [
      "[0.0, 1.0, 1.9, 2.71, 3.439, 4.0951]"
     ]
    }
   ],
   "source": [
    "print(sol.V_star)"
   ]
  },
  {
   "cell_type": "markdown",
   "metadata": {},
   "source": [
    "### 2. Create a function with $\\beta$ and $W$ as inputs. Solve the model for $\\beta=0.9$ and $W=20$."
   ]
  },
  {
   "cell_type": "code",
   "execution_count": 54,
   "metadata": {},
   "outputs": [
    {
     "name": "stdout",
     "output_type": "stream",
     "text": [
      "[0, 1, 1, 1, 1, 1, 1, 1, 1, 1, 2, 2, 2, 2, 2, 3, 3, 3, 3, 3, 3]"
     ]
    }
   ],
   "source": [
    "# Define a function\n",
    "par = (beta=0.9,W=20,tol=10e-3,max_iter =1000)\n",
    "\n",
    "sol= vfi.solve(par)\n",
    "\n",
    "print(sol.C_star)"
   ]
  },
  {
   "cell_type": "markdown",
   "metadata": {},
   "source": [
    "### 3. Plot the converged value function and make sure the value function is increasing in $W$."
   ]
  },
  {
   "cell_type": "code",
   "execution_count": null,
   "metadata": {},
   "outputs": [],
   "source": [
    "fig = plt.figure(figsize=(20,5))# figsize is in inches...\n",
    "\n",
    "ax = fig.add_subplot(1,2,1)\n",
    "ax.plot(np.arange(W+1),Vstar)\n",
    "ax.set_xlabel(f\"$W$\")\n",
    "ax.set_ylabel(f\"$V^\\star$\")\n",
    "ax.set_title(f'Value function')\n",
    "\n",
    "plt.show()"
   ]
  },
  {
   "cell_type": "markdown",
   "metadata": {},
   "source": [
    "### 4. For $T=10$, $\\beta=0.9$  and $W=20$ compare your solution using backward induction from exercise 1 with VFI. *How do the solutions differ?* "
   ]
  },
  {
   "cell_type": "code",
   "execution_count": null,
   "metadata": {},
   "outputs": [],
   "source": [
    "T = 10\n",
    "beta = 0.9\n",
    "W = 20\n",
    "\n",
    "_,Vstar_bi = ex1.solve_backwards(beta=beta,W=W,T=T)\n",
    "\n",
    "fig = plt.figure(figsize=(10,5))# figsize is in inches...\n",
    "ax = fig.add_subplot(1,1,1)\n",
    "ax.plot(np.arange(W+1),Vstar, label = f'Value function iteration', linestyle = 'dashed', linewidth=4)\n",
    "for t in [0]+list(range(1,T,2)):\n",
    "    ax.plot(np.arange(W+1),Vstar_bi[:,t], label = f'Backward induction, $t = {t+1}$')\n",
    "ax.legend()\n",
    "ax.set_xlabel(f\"$W$\")\n",
    "ax.set_ylabel(f\"$V^\\star$\")\n",
    "plt.show()"
   ]
  },
  {
   "cell_type": "markdown",
   "metadata": {},
   "source": [
    "### 5. Vary $\\beta$ and check that the number of periods until convergence is increasing in $\\beta$. *What is the reason for this lower convergence?*"
   ]
  },
  {
   "cell_type": "code",
   "execution_count": null,
   "metadata": {},
   "outputs": [],
   "source": [
    "beta_vec = [0.3,0.5,0.75, 0.80, 0.85, 0.90,0.93, 0.96]\n",
    "it_vec = np.nan + np.zeros(len(beta_vec))\n",
    "W = 20\n",
    "\n",
    "for i,beta in enumerate(beta_vec):\n",
    "    \n",
    "    _,_,it = solve_VFI(beta,W)\n",
    "    it_vec[i] = it\n"
   ]
  },
  {
   "cell_type": "code",
   "execution_count": null,
   "metadata": {},
   "outputs": [],
   "source": [
    "fig = plt.figure(figsize=(10,5))# figsize is in inches...\n",
    "\n",
    "ax = fig.add_subplot(1,1,1)\n",
    "ax.plot(beta_vec,it_vec)\n",
    "ax.set_xlabel(f\"$\\u03B2$\")\n",
    "ax.set_ylabel(\"Number of iterations\")\n",
    "plt.show()"
   ]
  },
  {
   "cell_type": "markdown",
   "metadata": {},
   "source": [
    "### 6. Simulate $C_1$, $C_2$,...,$C_{10}$ using the policy function found in 2) and W=5"
   ]
  },
  {
   "cell_type": "code",
   "execution_count": null,
   "metadata": {},
   "outputs": [],
   "source": [
    "# define function\n",
    "def simulate(Cstar,T,W):\n",
    "    C_vfi = np.empty(T)\n",
    "    W_now = W\n",
    "    for t in range(T):\n",
    "        W_now = int(W_now)   # change the type to integreger 0,1,2,3 and so on\n",
    "        C_vfi[t] = Cstar[W_now]             # Use the solution \n",
    "         \n",
    "        W_now = W_now-C_vfi[t]\n",
    "    return C_vfi\n",
    "\n",
    "\n",
    "# 4. Simulate\n",
    "W = 5\n",
    "T = 10\n",
    "C_sim = simulate(Cstar,T,W)  # Call function\n",
    "        \n",
    "print('Solution for C with T =',T,'and W =', W , ': C =',C_sim)"
   ]
  }
 ],
 "metadata": {
  "kernelspec": {
   "display_name": "Julia 1.6.4",
   "language": "julia",
   "name": "julia-1.6"
  },
  "language_info": {
   "file_extension": ".jl",
   "mimetype": "application/julia",
   "name": "julia",
   "version": "1.6.4"
  }
 },
 "nbformat": 4,
 "nbformat_minor": 4
}
