{
 "cells": [
  {
   "cell_type": "code",
   "execution_count": 1,
   "metadata": {},
   "outputs": [],
   "source": [
    "# magics: ensures that any changes to the modules loaded below will be re-loaded automatically\n",
    "%load_ext autoreload\n",
    "%autoreload 2\n",
    "\n",
    "# load general packages\n",
    "from scipy import interpolate\n",
    "import numpy as np\n",
    "import matplotlib.pyplot as plt\n",
    "import copy\n",
    "plt.style.use('seaborn-whitegrid')\n",
    "\n",
    "# load modules related to this exercise\n",
    "import Exercise_6 as ex6\n",
    "import tools as tools"
   ]
  },
  {
   "cell_type": "markdown",
   "metadata": {},
   "source": [
    "# Exercise 6: Gaussian Shock\n",
    "\n",
    "Consider the model\n",
    "$$\\begin{eqnarray*}\n",
    "V_{t}(W_{t}) & = & \\max_{C_{t}}\\left\\{ \\frac{C_{t}^{1-\\rho}}{1-\\rho}+\\beta\\mathbb{E}_{t}\\left[V_{t+1}(W_{t+1})\\right]\\right\\} \\\\\n",
    " & \\text{s.t.}\\\\\n",
    "W_{t+1} & = & R(W_{t}-C_{t})+Y_{t+1}\\\\\n",
    "Y_{t+1} & = & \\exp(\\xi_{t+1})\\\\\n",
    "\\xi_{t+1} & = & \\mathcal{N}(0,\\sigma_{\\xi}^{2})\\\\\n",
    "A_{t}=W_{t}-C_{t} & \\geq & 0\n",
    "\\end{eqnarray*}$$\n",
    "\n",
    "for $T=10$, $\\beta=0.98$, $\\rho=0.5$, $R=1.0/\\beta$, $W_1=10$ and $\\sigma_{\\xi}=0.2$."
   ]
  },
  {
   "cell_type": "markdown",
   "metadata": {},
   "source": [
    "### 1. Solve it using Gauss-Hermite quadrature for evaluating the expectation. "
   ]
  },
  {
   "cell_type": "code",
   "execution_count": 2,
   "metadata": {},
   "outputs": [],
   "source": [
    "# Setup specifications in class. \n",
    "class par: pass\n",
    "par.beta = 0.98\n",
    "par.rho = 0.5\n",
    "par.R = 1.0/par.beta\n",
    "par.sigma = 0.2\n",
    "par.mu = 0\n",
    "par.W = 10\n",
    "par.T = 10\n",
    "\n",
    "par.num_shocks = 5\n",
    "x,w = tools.gauss_hermite(par.num_shocks)\n",
    "par.eps = np.exp(par.sigma*np.sqrt(2)*x)\n",
    "par.eps_w = w/np.sqrt(np.pi)\n",
    "\n",
    "\n",
    "# Grid\n",
    "par.num_W = 200\n",
    "par.num_C = 200\n",
    "\n",
    "\n",
    "# Solve the model\n",
    "sol = ex6.solve_consumption_deaton(par)"
   ]
  },
  {
   "cell_type": "markdown",
   "metadata": {},
   "source": [
    "### 2. Plot the consumption function and the value function. See how the optimal consumption and value function varies over time."
   ]
  },
  {
   "cell_type": "code",
   "execution_count": 3,
   "metadata": {},
   "outputs": [
    {
     "data": {
      "image/png": "[encoded data removed]",
      "text/plain": [
       "<Figure size 720x288 with 2 Axes>"
      ]
     },
     "metadata": {},
     "output_type": "display_data"
    }
   ],
   "source": [
    "# Define a function for the solution\n",
    "def plot_solution(sol,par,t):\n",
    "    fig = plt.figure(figsize=(10,4))# figsize is in inches...\n",
    "    \n",
    "    ax = fig.add_subplot(1,2,1)\n",
    "    ax.scatter(sol.grid_W[:,t],sol.V[:,t])\n",
    "    ax.set_xlabel(f\"$W_{t+1}$\")\n",
    "    ax.set_ylabel(f\"$V_{t+1}$\")\n",
    "    ax.set_ylim(0,30)\n",
    "\n",
    "    ax_right = fig.add_subplot(1,2,2)\n",
    "    ax_right.scatter(sol.grid_W[:,t],sol.C[:,t])\n",
    "    ax_right.plot(sol.grid_W[:,t],sol.grid_W[:,t],color='black',linestyle='dashed')\n",
    "    ax_right.set_xlabel(f\"$W_{t+1}$\")\n",
    "    ax_right.set_ylabel(f\"$C_{t+1}$\")\n",
    "\n",
    "    plt.show()\n",
    "\n",
    "plot_solution(sol,par,0)"
   ]
  },
  {
   "cell_type": "markdown",
   "metadata": {},
   "source": [
    "### 3. Simulate a panel of *N* household for *T* periods and plot the mean of $C_t$. Everybody should be initialized with $W_t = 1.5$. Compare a simulation where $\\sigma_{\\xi}=0.2$ and $\\sigma_{\\xi}=0$. What happens to consumption over time in the two simulations?"
   ]
  },
  {
   "cell_type": "code",
   "execution_count": 4,
   "metadata": {},
   "outputs": [
    {
     "data": {
      "image/png": "[encoded data removed]",
      "text/plain": [
       "<Figure size 432x288 with 1 Axes>"
      ]
     },
     "metadata": {},
     "output_type": "display_data"
    }
   ],
   "source": [
    "# set-up\n",
    "par.simN = 10000\n",
    "par.W_ini = 1.5\n",
    "\n",
    "# Create a copy of the class\n",
    "class par_sigma_0(par): pass  \n",
    "par_sigma_0.sigma = 0 \n",
    "par_sigma_0.mu = 0\n",
    "x,w = tools.gauss_hermite(par_sigma_0.num_shocks)\n",
    "par_sigma_0.eps = np.exp(par_sigma_0.sigma*np.sqrt(2)*x)\n",
    "par_sigma_0.eps_w = w/np.sqrt(np.pi)\n",
    "\n",
    "\n",
    "def simulate(sol, par):\n",
    "    # Allocate\n",
    "    class sim: pass\n",
    "    shape = (par.simN, par.T)\n",
    "    sim.W = par.W_ini*np.ones(shape)\n",
    "    sim.C = np.nan +np.zeros(shape)\n",
    "    \n",
    "    # Simulate \n",
    "    np.random.seed(2022) #Seed value, it ensures that the computer draw the same \"random\"-numbers each time\n",
    "    \n",
    "    for t in range(par.T):\n",
    "        if t !=par.T-1:\n",
    "            c_interp = interpolate.interp1d(sol.grid_W[:,t],sol.C[:,t],bounds_error=False,fill_value='extrapolate')\n",
    "            sim.C[:,t] = c_interp(sim.W[:,t])\n",
    "            Y = np.exp(np.random.normal(loc=par.mu ,scale =par.sigma, size=(par.simN,)))\n",
    "            sim.W[:,t+1] = par.R *(sim.W[:,t]-sim.C[:,t]) + Y \n",
    "        else:\n",
    "            # Consume everything in last period\n",
    "            sim.C[:,t] = sim.W[:,t]\n",
    "        \n",
    "\n",
    "    return sim\n",
    "\n",
    "# Simulation for sigma=0\n",
    "sol_sigma_0 = ex6.solve_consumption_deaton(par_sigma_0)\n",
    "sim_sigma_0 = simulate(sol_sigma_0,par_sigma_0)\n",
    "sim_C_sigma_0 = np.mean(sim_sigma_0.C, axis=0) #Mean over individuals\n",
    "\n",
    "\n",
    "# Simulation for sigma=0.2\n",
    "sim = simulate(sol,par)\n",
    "sim_C = np.mean(sim.C, axis=0) #Mean over individuals\n",
    "\n",
    "plt.plot(range(1,par_sigma_0.T+1),sim_C_sigma_0,color='green')\n",
    "plt.plot(range(1,par.T+1),sim_C)\n",
    "plt.ylabel('$C_t$')\n",
    "plt.xlabel('$t$')\n",
    "plt.ylim(bottom=0.5,top=1.5)\n",
    "plt.show()"
   ]
  },
  {
   "cell_type": "code",
   "execution_count": 5,
   "metadata": {},
   "outputs": [
    {
     "data": {
      "image/png": "[encoded data removed]",
      "text/plain": [
       "<Figure size 432x288 with 1 Axes>"
      ]
     },
     "metadata": {},
     "output_type": "display_data"
    }
   ],
   "source": [
    "par_ = copy.copy(par)\n",
    "\n",
    "par_.rho = 0.9\n",
    "\n",
    "sol_ = ex6.solve_consumption_deaton(par_)\n",
    "sim_ = simulate(sol_,par_)\n",
    "\n",
    "\n",
    "#plt.plot(range(1,par_.T+1),sim_.C[1,:])\n",
    "plt.plot(range(1,par_.T+1),np.mean(sim_.C, axis=0),label=f\"rho = {par_.rho}\")\n",
    "\n",
    "plt.plot(range(1,par.T+1),sim_C,label=\"rho=0.5\") \n",
    "\n",
    "plt.ylabel('$C_t$')\n",
    "plt.xlabel('$t$')\n",
    "#plt.ylim(bottom=0.5,top=1.5)\n",
    "plt.legend()\n",
    "plt.show()"
   ]
  },
  {
   "cell_type": "code",
   "execution_count": 6,
   "metadata": {},
   "outputs": [
    {
     "data": {
      "text/plain": [
       "2.718281828459045"
      ]
     },
     "execution_count": 6,
     "metadata": {},
     "output_type": "execute_result"
    }
   ],
   "source": [
    "np.exp(1)"
   ]
  },
  {
   "cell_type": "code",
   "execution_count": 7,
   "metadata": {},
   "outputs": [
    {
     "data": {
      "text/plain": [
       "18.390139087413175"
      ]
     },
     "execution_count": 7,
     "metadata": {},
     "output_type": "execute_result"
    }
   ],
   "source": [
    "np.mean(np.exp(np.random.normal(loc=1,scale=2,size=1000)))"
   ]
  },
  {
   "cell_type": "markdown",
   "metadata": {},
   "source": [
    "### 4. Calculate the Euler-error \n",
    "\n",
    "\n",
    "$$\\begin{eqnarray*}\n",
    " \\frac{1}{\\sum_{i=1}^{N}\\sum_{t=1}^{T}  \\mathbb{1}_{\\{0<C_1<W_{it}\\}}}\\sum_{i=1}^{N}\\sum_{t=1}^{T} \\mathbb{1}_{\\{0<C_1<W_{it}\\}} |\\varepsilon_{it}|\n",
    " \\end{eqnarray*}$$\n",
    " where\n",
    "\n",
    "$$\\begin{eqnarray*}\n",
    "  \\varepsilon_{it} \\approx u'(C_{it})-\\beta R \\sum_{j=1}^{S} \\omega_j \\Big[u'\\big(C_{t+1}^{\\star}(R(W_{it}-C_{it})+Y_j)\\big)\\Big]\n",
    " \\end{eqnarray*}$$\n",
    " \n",
    " and $\\omega_j$ are the Gauss-Hermite weights and $Y_j$ are the associated income nodes."
   ]
  },
  {
   "cell_type": "code",
   "execution_count": 8,
   "metadata": {},
   "outputs": [
    {
     "name": "stdout",
     "output_type": "stream",
     "text": [
      "The Euler error:    0.0056\n"
     ]
    }
   ],
   "source": [
    "# Define the marginal utility\n",
    "def marg_util(C,par):\n",
    "    y = C**(-par.rho);\n",
    "    return y\n",
    "\n",
    "\n",
    "# 1. Solve the model\n",
    "sol = ex6.solve_consumption_deaton(par)\n",
    "\n",
    "# 2. simulate\n",
    "sim = simulate(sol,par)\n",
    "\n",
    "# 3. Calculate the Euler residual\n",
    "Euler_residual = np.nan + np.zeros((par.simN,par.T-1))  # Allocate space\n",
    "A = np.nan + np.zeros((par.simN,par.T-1))               # Allocate space\n",
    "\n",
    "\n",
    "for t in range(par.T-1):   # Sum over t (and the sum over N happens in vector notation)\n",
    "    \n",
    "    # Initialize\n",
    "    w = sim.W[:,t]\n",
    "    c = sim.C[:,t]\n",
    "    w_c = w-c\n",
    "    A[:,t] = w_c \n",
    "    \n",
    "    marg_util_next = 0\n",
    "\n",
    "\n",
    "    c_interp = interpolate.interp1d(sol.grid_W[:,t+1],sol.C[:,t+1],bounds_error=False,fill_value='extrapolate')\n",
    "    for s in range(par.num_shocks):\n",
    "        \n",
    "        mt1 = par.R*w_c + par.eps[s]\n",
    "        c_star = c_interp(mt1)\n",
    "        \n",
    "\n",
    "        marg_util_next += par.eps_w[s]* marg_util(c_star,par)          \n",
    "        \n",
    "            \n",
    "            \n",
    "                    \n",
    "    Euler_residual[:,t] = marg_util(c,par)-par.beta*par.R*marg_util_next\n",
    "\n",
    "# 4. Calculate the average absolute euler residual\n",
    "I = (A>0)   # Only evaluate at the interior solution\n",
    "Euler_error = np.mean(abs(Euler_residual[I]))\n",
    "\n",
    "\n",
    "print(f'The Euler error:    {Euler_error:.4f}')"
   ]
  },
  {
   "cell_type": "markdown",
   "metadata": {},
   "source": [
    "### 7. Likewise calculate the normalized Euler-error\n",
    "\n",
    "\n",
    "$$\\begin{eqnarray*}\n",
    " \\frac{1}{\\sum_{i=1}^{N}\\sum_{t=1}^{T} \\mathbb{1}_{\\{0<C_1<W_{it}\\}}}\\sum_{i=1}^{N}\\sum_{t=1}^{T} log_{10}(|\\varepsilon_{it}| / C_{it}) \\mathbb{1}_{0<C_1<W_{it}} \n",
    " \\end{eqnarray*}$$\n",
    "\n",
    "and discuss what this implies for the accuracy of the solution."
   ]
  },
  {
   "cell_type": "code",
   "execution_count": 9,
   "metadata": {},
   "outputs": [
    {
     "name": "stdout",
     "output_type": "stream",
     "text": [
      "The Normalized Euler error:    -2.6113\n"
     ]
    }
   ],
   "source": [
    "C =(sim.C[:,0:par.T-1])  # The euler error is not defined in last period\n",
    "\n",
    "nom_Euler_error = np.log10(abs(Euler_residual[I])/(C[I]))   \n",
    "nom_Euler_error = np.mean(nom_Euler_error)\n",
    "\n",
    "\n",
    "print(f'The Normalized Euler error:    {nom_Euler_error:.4f}')"
   ]
  },
  {
   "cell_type": "markdown",
   "metadata": {},
   "source": [
    "### 8. Look at how the Euler-errors change when you vary the number of grid points. "
   ]
  },
  {
   "cell_type": "code",
   "execution_count": 10,
   "metadata": {},
   "outputs": [],
   "source": [
    "# Define functions\n",
    "\n",
    "#Function for Setup\n",
    "def setup():\n",
    "    class par: pass\n",
    "    par.beta = 0.98\n",
    "    par.rho = 0.5\n",
    "    par.R = 1.0/par.beta\n",
    "    par.sigma = 0.2\n",
    "    par.mu = 0\n",
    "    par.W = 50\n",
    "    par.T = 10\n",
    "    \n",
    "    par.num_shocks = 5\n",
    "    x,w = tools.gauss_hermite(par.num_shocks)\n",
    "    par.eps = np.exp(par.sigma*np.sqrt(2)*x)\n",
    "    par.eps_w = w/np.sqrt(np.pi)\n",
    "    \n",
    "    # Grid\n",
    "    par.num_W = 200\n",
    "    par.num_C = 200\n",
    "\n",
    "    # Simulation parameters\n",
    "    par.simN = 10000\n",
    "    par.W_ini = 1.5\n",
    "    \n",
    "    return par\n",
    "\n",
    "#Function for Euler Error\n",
    "def Euler_error(par, sol, sim):\n",
    "    Euler_residual = np.nan + np.zeros((par.simN,par.T-1))  # Allocate space\n",
    "    A = np.nan + np.zeros((par.simN,par.T-1))               # Allocate space\n",
    "    \n",
    "    for t in range(par.T-1):   # Sum over t (and the sum over N happens in vector notation)\n",
    "        \n",
    "        # Initialize\n",
    "        w = sim.W[:,t]\n",
    "        c = sim.C[:,t]\n",
    "        w_c = w-c\n",
    "        A[:,t] = w_c \n",
    "        \n",
    "        marg_util_next = 0\n",
    "    \n",
    "        c_interp = interpolate.interp1d(sol.grid_W[:,t+1],sol.C[:,t+1],bounds_error=False,fill_value='extrapolate')\n",
    "        for s in range(par.num_shocks):\n",
    "            \n",
    "            mt1 = par.R*w_c + par.eps[s]\n",
    "            c_star = c_interp(mt1)\n",
    "            \n",
    "\n",
    "            marg_util_next += par.eps_w[s]* marg_util(c_star,par)\n",
    "                      \n",
    "                \n",
    "                        \n",
    "                        \n",
    "        Euler_residual[:,t] = marg_util(c,par)-par.beta*par.R*marg_util_next\n",
    "    \n",
    "    \n",
    "    I = (A>0)   \n",
    "    Euler_error = np.mean(abs(Euler_residual[I]))\n",
    "    \n",
    "    C =(sim.C[:,0:par.T-1])\n",
    "\n",
    "    nom_Euler_error = np.log10(abs(Euler_residual[I])/(C[I]))   \n",
    "    nom_Euler_error = np.mean(nom_Euler_error)\n",
    "    \n",
    "    print(f'Number of grid points:         {pars.num_W} ')\n",
    "    print(f'The Euler error:               {Euler_error:.4f}')\n",
    "    print(f'The Normalized Euler error:    {nom_Euler_error:.4f}', end ='\\n\\n')"
   ]
  },
  {
   "cell_type": "code",
   "execution_count": 11,
   "metadata": {},
   "outputs": [
    {
     "name": "stdout",
     "output_type": "stream",
     "text": [
      "Number of grid points:         10 \n",
      "The Euler error:               1.0334\n",
      "The Normalized Euler error:    -0.2275\n",
      "\n",
      "Number of grid points:         20 \n",
      "The Euler error:               0.5332\n",
      "The Normalized Euler error:    -0.4835\n",
      "\n",
      "Number of grid points:         40 \n",
      "The Euler error:               0.1936\n",
      "The Normalized Euler error:    -0.8848\n",
      "\n",
      "Number of grid points:         50 \n",
      "The Euler error:               0.1222\n",
      "The Normalized Euler error:    -1.0672\n",
      "\n",
      "Number of grid points:         70 \n",
      "The Euler error:               0.0558\n",
      "The Normalized Euler error:    -1.3740\n",
      "\n",
      "Number of grid points:         100 \n",
      "The Euler error:               0.0234\n",
      "The Normalized Euler error:    -1.7437\n",
      "\n",
      "Number of grid points:         1000 \n",
      "The Euler error:               0.0036\n",
      "The Normalized Euler error:    -2.7666\n",
      "\n"
     ]
    }
   ],
   "source": [
    "# Find the Euler Error for different grid points\n",
    "\n",
    "#Array of grid points    \n",
    "grid_points = np.array([10,20,40,50,70,100,1000])\n",
    "\n",
    "for i,grid_point in enumerate(grid_points):\n",
    "    # setup\n",
    "    pars = setup()\n",
    "    pars.num_W = grid_point\n",
    "    \n",
    "    # solve\n",
    "    sols = ex6.solve_consumption_deaton(pars)\n",
    "\n",
    "\n",
    "    # simulate\n",
    "    sims = simulate(sol, pars)\n",
    "\n",
    "    # calculate the errors\n",
    "    Euler_error(pars, sols, sims)"
   ]
  },
  {
   "cell_type": "code",
   "execution_count": null,
   "metadata": {},
   "outputs": [],
   "source": []
  }
 ],
 "metadata": {
  "kernelspec": {
   "display_name": "Python 3",
   "language": "python",
   "name": "python3"
  },
  "language_info": {
   "codemirror_mode": {
    "name": "ipython",
    "version": 3
   },
   "file_extension": ".py",
   "mimetype": "text/x-python",
   "name": "python",
   "nbconvert_exporter": "python",
   "pygments_lexer": "ipython3",
   "version": "3.8.11"
  }
 },
 "nbformat": 4,
 "nbformat_minor": 4
}
