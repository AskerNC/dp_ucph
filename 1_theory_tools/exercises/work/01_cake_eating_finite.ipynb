{
 "cells": [
  {
   "cell_type": "code",
   "execution_count": 1,
   "metadata": {},
   "outputs": [],
   "source": [
    "# Load package \n",
    "import numpy as np"
   ]
  },
  {
   "cell_type": "markdown",
   "metadata": {},
   "source": [
    "<h1> Exercise 1: The Simplest Consumption Model (Cake Eating Problem)"
   ]
  },
  {
   "cell_type": "markdown",
   "metadata": {},
   "source": [
    "Consider the simplest consumption-saving model:\n",
    "\n",
    "$$\\begin{aligned}\n",
    "    V_1^*(W) &= \\max_{c_1,c_2,\\dots,c_T} \\{ \\sqrt{c_1} +\\beta \\sqrt{c_2}+\\beta^2\\sqrt{c_3}+\\cdots+\\beta^T\\sqrt{c_T} \\} \\\\\n",
    "    & \\text{s.t.} \\\\\n",
    "    W &= c_1 + c_2+\\cdots+c_T \\\\\n",
    "    c_t &\\in \\mathbb{N}, \\, \\forall t\n",
    "\\end{aligned}$$\n",
    "for $T=3$, $\\beta =0.9$ and $W=5$."
   ]
  },
  {
   "cell_type": "markdown",
   "metadata": {},
   "source": [
    "### 1. Solve the model using backwards induction: "
   ]
  },
  {
   "cell_type": "code",
   "execution_count": 2,
   "metadata": {},
   "outputs": [
    {
     "name": "stdout",
     "output_type": "stream",
     "text": [
      "[[0. 0. 0.]\n",
      " [1. 1. 1.]\n",
      " [1. 1. 2.]\n",
      " [1. 2. 3.]\n",
      " [2. 2. 4.]\n",
      " [2. 3. 5.]]\n"
     ]
    }
   ],
   "source": [
    "# 1. Setup \n",
    "beta = 0.9\n",
    "W = 5\n",
    "T = 3\n",
    "\n",
    "# 2. Initialize\n",
    "Vstar_bi = np.nan+np.zeros([W+1,T])\n",
    "Cstar_bi = np.nan + np.zeros([W+1,T])\n",
    "Cstar_bi[:,T-1] = np.arange(W+1) \n",
    "Vstar_bi[:,T-1] = np.sqrt(Cstar_bi[:,T-1])\n",
    "# 3. solve\n",
    "\n",
    "# Loop over periods\n",
    "for t in range(T-2, -1, -1):  #from period T-2, until period 0, backwards  \n",
    "    \n",
    "    #loop over states\n",
    "    for w in range(W+1):\n",
    "        c = np.arange(w+1)\n",
    "        \n",
    "        #Fill in\n",
    "        V_next = Vstar_bi[w-c,t+1] \n",
    "        \n",
    "        V_guess = np.sqrt(c)+beta*V_next\n",
    "        Vstar_bi[w,t] = np.amax(V_guess)\n",
    "        Cstar_bi[w,t] = np.argmax(V_guess)\n",
    "        \n",
    "print(Cstar_bi)"
   ]
  },
  {
   "cell_type": "markdown",
   "metadata": {},
   "source": [
    "### 2. Create a function with $\\beta$, $W$ and $T$ as inputs. "
   ]
  },
  {
   "cell_type": "code",
   "execution_count": 3,
   "metadata": {},
   "outputs": [],
   "source": [
    "# Define a function\n",
    "def solve_backwards(beta,W,T):\n",
    "        # 2. Initialize\n",
    "    Vstar_bi = np.nan+np.zeros([W+1,T])\n",
    "    Cstar_bi = np.nan + np.zeros([W+1,T])\n",
    "    Cstar_bi[:,T-1] = np.arange(W+1) \n",
    "    Vstar_bi[:,T-1] = np.sqrt(Cstar_bi[:,T-1])\n",
    "    # 3. solve\n",
    "    \n",
    "    # Loop over periods\n",
    "    for t in range(T-2, -1, -1):  #from period T-2, until period 0, backwards  \n",
    "        \n",
    "        #loop over states\n",
    "        for w in range(W+1):\n",
    "            c = np.arange(w+1)\n",
    "\n",
    "            # Fill in\n",
    "            V_next = Vstar_bi[w-c,t+1] \n",
    "        \n",
    "            V_guess = np.sqrt(c)+beta*V_next\n",
    "            \n",
    "            Vstar_bi[w,t] = np.amax(V_guess)\n",
    "            Cstar_bi[w,t] = np.argmax(V_guess)\n",
    "\n",
    "    return Cstar_bi, Vstar_bi"
   ]
  },
  {
   "cell_type": "markdown",
   "metadata": {},
   "source": [
    "### 3. Check that your function works \n",
    "\n",
    "Notice, C is our policy function. The policy function tells us the optimal way of spending our resources in a given period. "
   ]
  },
  {
   "cell_type": "code",
   "execution_count": 4,
   "metadata": {},
   "outputs": [
    {
     "name": "stdout",
     "output_type": "stream",
     "text": [
      "[[0. 0. 0.]\n",
      " [1. 1. 1.]\n",
      " [1. 1. 2.]\n",
      " [1. 2. 3.]\n",
      " [2. 2. 4.]\n",
      " [2. 3. 5.]]\n"
     ]
    }
   ],
   "source": [
    "beta = 0.9\n",
    "W = 5\n",
    "T = 3\n",
    "C,V = solve_backwards(beta=beta, W=W, T=T)\n",
    "print(C)"
   ]
  },
  {
   "cell_type": "markdown",
   "metadata": {},
   "source": [
    "### 4. Use the policy function to simulate how 5 resources now can be spend optimally over 3 periods.    "
   ]
  },
  {
   "cell_type": "code",
   "execution_count": 5,
   "metadata": {},
   "outputs": [
    {
     "name": "stdout",
     "output_type": "stream",
     "text": [
      "[2. 2. 1.]\n"
     ]
    }
   ],
   "source": [
    "# 4. simulate\n",
    "C_backwards = np.empty(T)\n",
    "W_now = W\n",
    "\n",
    "for t in range(T):\n",
    "    W_now = int(W_now)   # change the type to integreger 0,1,2,3 and so on\n",
    "    # Fill in. Hint, use the solution, C, you find above\n",
    "    C_now = C[W_now,t]\n",
    "    C_backwards[t] = C_now \n",
    "    W_now = W_now-C_now\n",
    "    \n",
    "\n",
    "print(C_backwards)"
   ]
  },
  {
   "cell_type": "markdown",
   "metadata": {},
   "source": [
    "<h3> 5. Solve the model for $T = 10$."
   ]
  },
  {
   "cell_type": "code",
   "execution_count": 6,
   "metadata": {},
   "outputs": [],
   "source": [
    "# 1. Setup \n",
    "beta = 0.9\n",
    "W = 5\n",
    "T = 10\n",
    "\n",
    "# 2. - 3. Solve \n",
    "C10, V10 = solve_backwards(beta,W,T)  # call function"
   ]
  },
  {
   "cell_type": "markdown",
   "metadata": {},
   "source": [
    "<h3> Simulate $C_1$, $C_2$,...,$C_{10}$ using the policy function found in 5) and W=5"
   ]
  },
  {
   "cell_type": "code",
   "execution_count": 7,
   "metadata": {},
   "outputs": [
    {
     "name": "stdout",
     "output_type": "stream",
     "text": [
      "Solution for C with T = 10 and W = 5 : C = [1. 1. 1. 1. 1. 0. 0. 0. 0. 0.]\n"
     ]
    }
   ],
   "source": [
    "# define function\n",
    "def simulate(Cstar,T,W):\n",
    "    C_backwards = np.empty(T)\n",
    "    W_now = W\n",
    "    for t in range(T):\n",
    "        W_now = int(W_now)   # change the type to integreger 0,1,2,3 and so on\n",
    "        C_now = Cstar[W_now,t]\n",
    "        C_backwards[t] = C_now \n",
    "        W_now = W_now-C_now\n",
    "        \n",
    "    return C_backwards\n",
    "\n",
    "\n",
    "# 4. Simulate\n",
    "C_sim = simulate(C10,T,W)  # Call function\n",
    "        \n",
    "print('Solution for C with T =',T,'and W =', W , ': C =',C_sim)"
   ]
  },
  {
   "cell_type": "markdown",
   "metadata": {},
   "source": [
    "<h3> Play around with W, $\\beta$ and see the results. Are the results inline with your intuition?"
   ]
  },
  {
   "cell_type": "code",
   "execution_count": 8,
   "metadata": {},
   "outputs": [
    {
     "name": "stdout",
     "output_type": "stream",
     "text": [
      "\n",
      "Beta =   0.5\n",
      "\n",
      "  W  =   5\n",
      "    V= 2.50\n",
      "    C= [4. 1. 0. 0. 0. 0. 0. 0. 0. 0.]\n",
      "\n",
      "  W  =   8\n",
      "    V= 3.20\n",
      "    C= [6. 1. 1. 0. 0. 0. 0. 0. 0. 0.]\n",
      "\n",
      "  W  =  11\n",
      "    V= 3.79\n",
      "    C= [8. 2. 1. 0. 0. 0. 0. 0. 0. 0.]\n",
      "\n",
      "  W  =  14\n",
      "    V= 4.28\n",
      "    C= [10.  3.  1.  0.  0.  0.  0.  0.  0.  0.]\n",
      "\n",
      "Beta =   0.6\n",
      "\n",
      "  W  =   5\n",
      "    V= 2.74\n",
      "    C= [3. 1. 1. 0. 0. 0. 0. 0. 0. 0.]\n",
      "\n",
      "  W  =   8\n",
      "    V= 3.51\n",
      "    C= [4. 2. 1. 1. 0. 0. 0. 0. 0. 0.]\n",
      "\n",
      "  W  =  11\n",
      "    V= 4.16\n",
      "    C= [6. 3. 1. 1. 0. 0. 0. 0. 0. 0.]\n",
      "\n",
      "  W  =  14\n",
      "    V= 4.71\n",
      "    C= [9. 3. 1. 1. 0. 0. 0. 0. 0. 0.]\n",
      "\n",
      "Beta =   0.7\n",
      "\n",
      "  W  =   5\n",
      "    V= 3.13\n",
      "    C= [2. 1. 1. 1. 0. 0. 0. 0. 0. 0.]\n",
      "\n",
      "  W  =   8\n",
      "    V= 4.06\n",
      "    C= [3. 2. 1. 1. 1. 0. 0. 0. 0. 0.]\n",
      "\n",
      "  W  =  11\n",
      "    V= 4.80\n",
      "    C= [5. 3. 1. 1. 1. 0. 0. 0. 0. 0.]\n",
      "\n",
      "  W  =  14\n",
      "    V= 5.48\n",
      "    C= [6. 3. 2. 1. 1. 1. 0. 0. 0. 0.]\n",
      "\n",
      "Beta =   0.9\n",
      "\n",
      "  W  =   5\n",
      "    V= 3.84\n",
      "    C= [1. 1. 1. 1. 1. 0. 0. 0. 0. 0.]\n",
      "\n",
      "  W  =   8\n",
      "    V= 5.17\n",
      "    C= [2. 1. 1. 1. 1. 1. 1. 0. 0. 0.]\n",
      "\n",
      "  W  =  11\n",
      "    V= 6.22\n",
      "    C= [2. 2. 1. 1. 1. 1. 1. 1. 1. 0.]\n",
      "\n",
      "  W  =  14\n",
      "    V= 7.13\n",
      "    C= [3. 2. 2. 1. 1. 1. 1. 1. 1. 1.]\n",
      "\n",
      "Beta =   1.0\n",
      "\n",
      "  W  =   5\n",
      "    V= 4.90\n",
      "    C= [1. 1. 1. 1. 1. 0. 0. 0. 0. 0.]\n",
      "\n",
      "  W  =   8\n",
      "    V= 7.73\n",
      "    C= [1. 1. 1. 1. 1. 1. 1. 1. 0. 0.]\n",
      "\n",
      "  W  =  11\n",
      "    V= 9.98\n",
      "    C= [2. 1. 1. 1. 1. 1. 1. 1. 1. 1.]\n",
      "\n",
      "  W  =  14\n",
      "    V= 11.19\n",
      "    C= [2. 2. 2. 2. 1. 1. 1. 1. 1. 1.]\n"
     ]
    }
   ],
   "source": [
    "for beta in np.linspace(0.5,0.99,5):\n",
    "    print(f'\\nBeta = {beta:5.1f}')\n",
    "    for W in range(5,15,3):\n",
    "        print(f'\\n  W  = {W:3d}')\n",
    "        C_now, V_now = solve_backwards(beta,W,T)\n",
    "        C_sim = simulate(C_now,T,W)\n",
    "        \n",
    "        print(f'    V= {V_now[W,0]:4.2f}')\n",
    "        print(f'    C= {C_sim}')\n",
    "        \n",
    "        \n",
    "        \n",
    "        \n",
    "        "
   ]
  },
  {
   "cell_type": "code",
   "execution_count": null,
   "metadata": {},
   "outputs": [],
   "source": []
  }
 ],
 "metadata": {
  "kernelspec": {
   "display_name": "Python 3",
   "language": "python",
   "name": "python3"
  },
  "language_info": {
   "codemirror_mode": {
    "name": "ipython",
    "version": 3
   },
   "file_extension": ".py",
   "mimetype": "text/x-python",
   "name": "python",
   "nbconvert_exporter": "python",
   "pygments_lexer": "ipython3",
   "version": "3.8.11"
  }
 },
 "nbformat": 4,
 "nbformat_minor": 4
}
