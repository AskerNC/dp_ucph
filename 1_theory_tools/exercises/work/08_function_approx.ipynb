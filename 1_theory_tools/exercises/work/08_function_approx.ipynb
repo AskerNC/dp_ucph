{
 "cells": [
  {
   "cell_type": "code",
   "execution_count": 77,
   "metadata": {},
   "outputs": [
    {
     "name": "stdout",
     "output_type": "stream",
     "text": [
      "The autoreload extension is already loaded. To reload it, use:\n",
      "  %reload_ext autoreload\n"
     ]
    }
   ],
   "source": [
    "# magics: ensures that any changes to the modules loaded below will be re-loaded automatically\n",
    "%load_ext autoreload\n",
    "%autoreload 2\n",
    "\n",
    "# load packages\n",
    "import numpy as np\n",
    "import matplotlib.pyplot as plt\n",
    "\n",
    "plt.style.use('seaborn-whitegrid')"
   ]
  },
  {
   "cell_type": "markdown",
   "metadata": {},
   "source": [
    "# Exercise 7 [L5]: Function approximation\n",
    "\n",
    "Consider the function\n",
    "$$\n",
    "f(x) = min \\{max\\{-1,4(x-0.2\\},1\\}\n",
    "$$\n"
   ]
  },
  {
   "cell_type": "markdown",
   "metadata": {},
   "source": [
    "### 1. The ex ante code contains an example of how well linear interpolation can approximate this function. Re-do the analysis with: \n",
    "<ol type =\"a\">\n",
    "<li> Cubic spline (use scipy.interpolate.CubicSpline) </li>\n",
    "<li> Regression with regular polynomials of 4th order</li>\n",
    "<li> Regression with Chebyshev polynomials (see Chebyshev.py) </li>\n",
    "</ol>\n"
   ]
  },
  {
   "cell_type": "markdown",
   "metadata": {},
   "source": [
    "Setup\n"
   ]
  },
  {
   "cell_type": "code",
   "execution_count": 78,
   "metadata": {},
   "outputs": [],
   "source": [
    "# Define the function \n",
    "f = lambda x: np.minimum(np.maximum(-1,4*(x-0.2)),1)\n",
    "\n",
    "interval = [-1,1]\n",
    "N_known = 10      # Number of known points\n",
    "N_true = 1000     # Number of true points\n",
    "N = 50            # Number of points for interpolation\n",
    "\n",
    "#Function values\n",
    "x_true  = np.linspace(interval[0],interval[1],N_true)\n",
    "f_true  = f(x_true)\n",
    "\n",
    "# Points you want to interpolate\n",
    "G = np.linspace(interval[0],interval[1],N)\n",
    "\n",
    "#known points\n",
    "x_known = np.linspace(-0.8,0.8,N_known)\n",
    "f_known = f(x_known)\n",
    "\n",
    "# Define the plot \n",
    "def plot(f_interp):\n",
    "    fig = plt.figure(figsize=(10,4)) \n",
    "    ax = fig.add_subplot(1,1,1)\n",
    "    ax.plot(x_true,f_true)\n",
    "    ax.plot(G,f_interp,'red')\n",
    "    ax.scatter(x_known,f_known)\n",
    "\n",
    "    ax.set_xlabel(\"x\")\n",
    "    ax.set_ylabel(\"$f(x)$\")\n",
    "    plt.legend(('True','Interpolation','known nodes'))\n",
    "    plt.axvline(x=0.8, ls='--',color='black')\n",
    "    plt.axvline(x=-0.8,ls='--',color='black')\n",
    "\n",
    "    plt.show()"
   ]
  },
  {
   "cell_type": "markdown",
   "metadata": {},
   "source": [
    "Example. Linear interpolation"
   ]
  },
  {
   "cell_type": "code",
   "execution_count": 79,
   "metadata": {},
   "outputs": [
    {
     "data": {
      "application/vnd.jupyter.widget-view+json": {
       "model_id": "5985e9b207be489982fe145cc9d253f4",
       "version_major": 2,
       "version_minor": 0
      },
      "text/plain": [
       "Canvas(toolbar=Toolbar(toolitems=[('Home', 'Reset original view', 'home', 'home'), ('Back', 'Back to previous …"
      ]
     },
     "metadata": {},
     "output_type": "display_data"
    }
   ],
   "source": [
    "from scipy import interpolate\n",
    "\n",
    "# Interpolate\n",
    "f_linear_func = interpolate.interp1d(x_known,f_known, bounds_error=False, fill_value = \"extrapolate\")\n",
    "f_linear_interp = f_linear_func(G)\n",
    "\n",
    "# Plot\n",
    "plot(f_linear_interp)"
   ]
  },
  {
   "cell_type": "markdown",
   "metadata": {},
   "source": [
    "#### (1) Cubic spline (use scipy.interpolate.CubicSpline)"
   ]
  },
  {
   "cell_type": "code",
   "execution_count": 80,
   "metadata": {},
   "outputs": [
    {
     "data": {
      "application/vnd.jupyter.widget-view+json": {
       "model_id": "957ea4c384f34720bff5310f43f44c35",
       "version_major": 2,
       "version_minor": 0
      },
      "text/plain": [
       "Canvas(toolbar=Toolbar(toolitems=[('Home', 'Reset original view', 'home', 'home'), ('Back', 'Back to previous …"
      ]
     },
     "metadata": {},
     "output_type": "display_data"
    }
   ],
   "source": [
    "from scipy.interpolate import CubicSpline\n",
    "\n",
    "# Interpolate\n",
    "f_cubicSpine_func = CubicSpline(x_known,f_known,extrapolate=True)\n",
    "\n",
    "f_cubicSpine_interp = f_cubicSpine_func(G)\n",
    "\n",
    "# Plot\n",
    "plot(f_cubicSpine_interp)\n"
   ]
  },
  {
   "cell_type": "markdown",
   "metadata": {},
   "source": [
    "#### (2) Regression with regular polynomials of 4th order"
   ]
  },
  {
   "cell_type": "code",
   "execution_count": 81,
   "metadata": {},
   "outputs": [
    {
     "data": {
      "text/plain": [
       "(10,)"
      ]
     },
     "execution_count": 81,
     "metadata": {},
     "output_type": "execute_result"
    }
   ],
   "source": [
    "f_known.shape"
   ]
  },
  {
   "cell_type": "code",
   "execution_count": 82,
   "metadata": {},
   "outputs": [
    {
     "data": {
      "text/plain": [
       "(10, 5)"
      ]
     },
     "execution_count": 82,
     "metadata": {},
     "output_type": "execute_result"
    }
   ],
   "source": [
    "X.shape"
   ]
  },
  {
   "cell_type": "code",
   "execution_count": 83,
   "metadata": {},
   "outputs": [
    {
     "data": {
      "application/vnd.jupyter.widget-view+json": {
       "model_id": "54314814b4474a019e2984dccfda5815",
       "version_major": 2,
       "version_minor": 0
      },
      "text/plain": [
       "Canvas(toolbar=Toolbar(toolitems=[('Home', 'Reset original view', 'home', 'home'), ('Back', 'Back to previous …"
      ]
     },
     "metadata": {},
     "output_type": "display_data"
    }
   ],
   "source": [
    "# 'manual'\n",
    "\n",
    "# Define the variables for the regression\n",
    "X = np.transpose([x_known**(i) for i in range(4+1)])\n",
    "β = np.linalg.inv(X.T@X)@(X.T@f_known)\n",
    "\n",
    "G_poly = np.transpose([G**(i) for i in range(4+1)])\n",
    "\n",
    "f_reg_interp = G_poly@β\n",
    "\n",
    "\n",
    "# Plot\n",
    "plot(f_reg_interp)"
   ]
  },
  {
   "cell_type": "code",
   "execution_count": 84,
   "metadata": {},
   "outputs": [
    {
     "data": {
      "application/vnd.jupyter.widget-view+json": {
       "model_id": "80510706780f463ca8a58842de1ba2ba",
       "version_major": 2,
       "version_minor": 0
      },
      "text/plain": [
       "Canvas(toolbar=Toolbar(toolitems=[('Home', 'Reset original view', 'home', 'home'), ('Back', 'Back to previous …"
      ]
     },
     "metadata": {},
     "output_type": "display_data"
    }
   ],
   "source": [
    "# using  polyfit\n",
    "\n",
    "# Define the variables for the regression\n",
    "#X = np.transpose([x_known**(i) for i in range(4+1)])\n",
    "f_poly  = np.polyfit(x_known,f_known,4)\n",
    "f_poly_fun = np.poly1d(f_poly)\n",
    "\n",
    "f_reg_interp = f_poly_fun(G)\n",
    "\n",
    "\n",
    "# Plot\n",
    "plot(f_reg_interp)"
   ]
  },
  {
   "cell_type": "markdown",
   "metadata": {},
   "source": [
    "#### (3) Regression with Chebyshev polynomials (see Chebyshev.py)"
   ]
  },
  {
   "cell_type": "code",
   "execution_count": 101,
   "metadata": {},
   "outputs": [
    {
     "data": {
      "text/plain": [
       "array([-1.        , -0.95918367, -0.91836735, -0.87755102, -0.83673469,\n",
       "       -0.79591837, -0.75510204, -0.71428571, -0.67346939, -0.63265306,\n",
       "       -0.59183673, -0.55102041, -0.51020408, -0.46938776, -0.42857143,\n",
       "       -0.3877551 , -0.34693878, -0.30612245, -0.26530612, -0.2244898 ,\n",
       "       -0.18367347, -0.14285714, -0.10204082, -0.06122449, -0.02040816,\n",
       "        0.02040816,  0.06122449,  0.10204082,  0.14285714,  0.18367347,\n",
       "        0.2244898 ,  0.26530612,  0.30612245,  0.34693878,  0.3877551 ,\n",
       "        0.42857143,  0.46938776,  0.51020408,  0.55102041,  0.59183673,\n",
       "        0.63265306,  0.67346939,  0.71428571,  0.75510204,  0.79591837,\n",
       "        0.83673469,  0.87755102,  0.91836735,  0.95918367,  1.        ])"
      ]
     },
     "execution_count": 101,
     "metadata": {},
     "output_type": "execute_result"
    }
   ],
   "source": [
    "G"
   ]
  },
  {
   "cell_type": "code",
   "execution_count": 88,
   "metadata": {},
   "outputs": [
    {
     "data": {
      "image/png": "[encoded data removed]",
      "text/plain": [
       "<Figure size 720x288 with 1 Axes>"
      ]
     },
     "metadata": {
      "needs_background": "light"
     },
     "output_type": "display_data"
    }
   ],
   "source": [
    "from Chebyshev import Chebyshev\n",
    "\n",
    "f_chebyshev_9,_,_ = Chebyshev(f,G,N_known,9)\n",
    "f_chebyshev_4,_,_ = Chebyshev(f,G,N_known,4)\n",
    "\n",
    "\n",
    "# Plot\n",
    "fig = plt.figure(figsize=(10,4)) \n",
    "ax = fig.add_subplot(1,1,1)\n",
    "ax.plot(x_true,f_true)\n",
    "ax.plot(G,f_chebyshev_9,'red')\n",
    "ax.plot(G,f_chebyshev_4,'red',ls='--')\n",
    "ax.scatter(x_known,f_known)\n",
    "\n",
    "ax.set_xlabel(\"x\")\n",
    "ax.set_ylabel(\"$f(x)$\")\n",
    "plt.legend(('True','Chebychev (p=9)','Chebychev (p=4)','known nodes'))\n",
    "plt.axvline(x=0.8, ls='--',color='black')\n",
    "plt.axvline(x=-0.8,ls='--',color='black')\n",
    "plt.show()"
   ]
  },
  {
   "cell_type": "markdown",
   "metadata": {},
   "source": [
    "### Next consider the function\n",
    "$$\n",
    "g(x,z) = (x+1)^{0.4} \\cdot (z+1)^{0.4} + \\mathbb{1}_{zx>0.3}\n",
    "$$"
   ]
  },
  {
   "cell_type": "markdown",
   "metadata": {},
   "source": [
    "### 2. Use the ex ante code to investigate how large the error is from using linear interpolation"
   ]
  },
  {
   "cell_type": "code",
   "execution_count": 102,
   "metadata": {},
   "outputs": [],
   "source": [
    "# Define a function\n",
    "g = lambda x,z: ((x+1)**0.4)*((z+1)**0.4)+1*(z*x>0.3)\n",
    "\n",
    "# Values for interpolation\n",
    "N_true = 500\n",
    "x_true = np.linspace(0,1,N_true)\n",
    "z_true = np.linspace(0,1,N_true)\n",
    "x_true_mat, z_true_mat = np.meshgrid(x_true,z_true)\n",
    "g_true = g(x_true_mat,z_true_mat) # Fill in\n",
    "\n",
    "# Known values\n",
    "N_known = 20\n",
    "x_known = np.linspace(0,1,N_known)\n",
    "z_known = np.linspace(0,1,N_known)\n",
    "x_known_mat, z_known_mat = np.meshgrid(x_known,z_known)\n",
    "g_known = g(x_known_mat,z_known_mat) #Fill in\n",
    "\n",
    "# Linear interpolation\n",
    "g_func_interp = interpolate.interp2d(x_known,z_known,g_known)  #Fill in\n",
    "\n",
    "g_linear_interp = g_func_interp(x_true,z_true)"
   ]
  },
  {
   "cell_type": "code",
   "execution_count": 105,
   "metadata": {},
   "outputs": [
    {
     "data": {
      "text/plain": [
       "array([[1.        , 1.00078929, 1.00157858, ..., 1.31844172, 1.31897482,\n",
       "        1.31950791],\n",
       "       [1.00078929, 1.0015792 , 1.00236912, ..., 1.31948235, 1.32001587,\n",
       "        1.32054939],\n",
       "       [1.00157858, 1.00236912, 1.00315965, ..., 1.32052298, 1.32105692,\n",
       "        1.32159086],\n",
       "       ...,\n",
       "       [1.31844172, 1.31948235, 1.32052298, ..., 2.73828857, 2.73899142,\n",
       "        2.73969428],\n",
       "       [1.31897482, 1.32001587, 1.32105692, ..., 2.73899142, 2.73969456,\n",
       "        2.7403977 ],\n",
       "       [1.31950791, 1.32054939, 1.32159086, ..., 2.73969428, 2.7403977 ,\n",
       "        2.74110113]])"
      ]
     },
     "execution_count": 105,
     "metadata": {},
     "output_type": "execute_result"
    }
   ],
   "source": [
    "g_linear_interp"
   ]
  },
  {
   "cell_type": "code",
   "execution_count": 111,
   "metadata": {},
   "outputs": [],
   "source": [
    "%matplotlib inline\n",
    "%matplotlib widget\n"
   ]
  },
  {
   "cell_type": "code",
   "execution_count": 112,
   "metadata": {},
   "outputs": [
    {
     "data": {
      "application/vnd.jupyter.widget-view+json": {
       "model_id": "32d3b5bc017d47b0894c55b70ced3b46",
       "version_major": 2,
       "version_minor": 0
      },
      "text/plain": [
       "Canvas(toolbar=Toolbar(toolitems=[('Home', 'Reset original view', 'home', 'home'), ('Back', 'Back to previous …"
      ]
     },
     "metadata": {},
     "output_type": "display_data"
    }
   ],
   "source": [
    "# Plot the figure\n",
    "from mpl_toolkits.mplot3d import Axes3D\n",
    "from matplotlib import cm\n",
    "from matplotlib.ticker import LinearLocator, FormatStrFormatter\n",
    "\n",
    "fig = plt.figure(figsize=(10,5))\n",
    "ax = fig.add_subplot(1,1,1,projection='3d')\n",
    "\n",
    "# Plot the surface.\n",
    "ax.plot_wireframe(x_true_mat, z_true_mat, g_true, color='black')\n",
    "ax.plot_wireframe(x_true_mat, z_true_mat, g_linear_interp, color='red')\n",
    "ax.set_xlabel(f'X')\n",
    "ax.set_ylabel(f'Z')\n",
    "ax.set_zlabel(f'g(x,z)')\n",
    "plt.legend(('True','Interpolation'))\n",
    "\n",
    "plt.show()  "
   ]
  },
  {
   "cell_type": "code",
   "execution_count": 75,
   "metadata": {},
   "outputs": [
    {
     "data": {
      "application/vnd.jupyter.widget-view+json": {
       "model_id": "790e70985bda4bce86e1bbe053b2891f",
       "version_major": 2,
       "version_minor": 0
      },
      "text/plain": [
       "Canvas(toolbar=Toolbar(toolitems=[('Home', 'Reset original view', 'home', 'home'), ('Back', 'Back to previous …"
      ]
     },
     "metadata": {},
     "output_type": "display_data"
    }
   ],
   "source": [
    "# Plot the interpolation error\n",
    "fig = plt.figure(figsize=(10,5))\n",
    "ax = fig.add_subplot(1,1,1,projection='3d')\n",
    "# Plot the surface.\n",
    "#ax.plot_wireframe(x_true_mat, z_true_mat,g_linear_interp-g_true)\n",
    "surf=ax.plot_surface(x_true_mat, z_true_mat,g_linear_interp-g_true, cmap=cm.coolwarm)\n",
    "# Customize the axis.\n",
    "ax.set_xlabel(f'X')\n",
    "ax.set_ylabel(f'Z')\n",
    "ax.set_zlabel(f'Error')\n",
    "fig.colorbar(surf, shrink=0.5,aspect=5)\n",
    "\n",
    "plt.show()  "
   ]
  },
  {
   "cell_type": "code",
   "execution_count": null,
   "metadata": {},
   "outputs": [],
   "source": [
    "%matplotlib widget\n",
    "%matplotlib inline"
   ]
  }
 ],
 "metadata": {
  "kernelspec": {
   "display_name": "Python 3",
   "language": "python",
   "name": "python3"
  },
  "language_info": {
   "codemirror_mode": {
    "name": "ipython",
    "version": 3
   },
   "file_extension": ".py",
   "mimetype": "text/x-python",
   "name": "python",
   "nbconvert_exporter": "python",
   "pygments_lexer": "ipython3",
   "version": "3.8.11"
  }
 },
 "nbformat": 4,
 "nbformat_minor": 4
}
