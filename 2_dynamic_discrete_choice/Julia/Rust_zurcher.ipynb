{
 "cells": [
  {
   "cell_type": "code",
   "execution_count": 32,
   "metadata": {},
   "outputs": [],
   "source": [
    "\n",
    "using Interpolations, Optim, MAT, SparseArrays\n",
    "using LaTeXStrings\n",
    "using Plots\n",
    "pyplot();"
   ]
  },
  {
   "cell_type": "code",
   "execution_count": 86,
   "metadata": {},
   "outputs": [],
   "source": [
    "# using https://mark-ponder.com/tutorials/discrete-choice-models/dynamic-discrete-choice-nested-fixed-point-algorithm/\n",
    "using Revise\n",
    "includet(\"Rust_Zurcher.jl\")\n",
    "#include(\"Rust_Zurcher.jl\")\n",
    "using .Rust"
   ]
  },
  {
   "cell_type": "code",
   "execution_count": null,
   "metadata": {},
   "outputs": [],
   "source": [
    "\n"
   ]
  },
  {
   "cell_type": "code",
   "execution_count": 259,
   "metadata": {},
   "outputs": [
    {
     "data": {
      "text/plain": [
       "Main.Rust.Model(0.9999, [3.6, 10.0], [0.25, 0.25, 0.25, 0.25], [1.0; 1.0; … ; 1.0; 1.0], 90)"
      ]
     },
     "execution_count": 259,
     "metadata": {},
     "output_type": "execute_result"
    }
   ],
   "source": [
    "n =4\n",
    "m = Rust.Model(pi =[1/n for i in 1:n])"
   ]
  },
  {
   "cell_type": "code",
   "execution_count": 260,
   "metadata": {},
   "outputs": [
    {
     "data": {
      "text/plain": [
       "2×90 Matrix{Float64}:\n",
       "  -0.0036   -0.0072   -0.0108   -0.0144  …   -0.3168   -0.3204   -0.324\n",
       " -10.0     -10.0     -10.0     -10.0        -10.0     -10.0     -10.0"
      ]
     },
     "execution_count": 260,
     "metadata": {},
     "output_type": "execute_result"
    }
   ],
   "source": [
    "Rust.u(m)"
   ]
  },
  {
   "cell_type": "code",
   "execution_count": 331,
   "metadata": {},
   "outputs": [
    {
     "data": {
      "text/plain": [
       "90×90 SparseMatrixCSC{Float64, Int64} with 354 stored entries:\n",
       "⠙⢿⣆⠀⠀⠀⠀⠀⠀⠀⠀⠀⠀⠀⠀⠀⠀⠀⠀⠀⠀⠀⠀⠀⠀⠀⠀⠀⠀⠀⠀⠀⠀⠀⠀⠀⠀⠀⠀⠀\n",
       "⠀⠀⠙⢿⣦⡀⠀⠀⠀⠀⠀⠀⠀⠀⠀⠀⠀⠀⠀⠀⠀⠀⠀⠀⠀⠀⠀⠀⠀⠀⠀⠀⠀⠀⠀⠀⠀⠀⠀⠀\n",
       "⠀⠀⠀⠀⠙⢿⣆⠀⠀⠀⠀⠀⠀⠀⠀⠀⠀⠀⠀⠀⠀⠀⠀⠀⠀⠀⠀⠀⠀⠀⠀⠀⠀⠀⠀⠀⠀⠀⠀⠀\n",
       "⠀⠀⠀⠀⠀⠀⠙⢿⣦⡀⠀⠀⠀⠀⠀⠀⠀⠀⠀⠀⠀⠀⠀⠀⠀⠀⠀⠀⠀⠀⠀⠀⠀⠀⠀⠀⠀⠀⠀⠀\n",
       "⠀⠀⠀⠀⠀⠀⠀⠀⠙⢿⣆⠀⠀⠀⠀⠀⠀⠀⠀⠀⠀⠀⠀⠀⠀⠀⠀⠀⠀⠀⠀⠀⠀⠀⠀⠀⠀⠀⠀⠀\n",
       "⠀⠀⠀⠀⠀⠀⠀⠀⠀⠀⠙⢿⣦⡀⠀⠀⠀⠀⠀⠀⠀⠀⠀⠀⠀⠀⠀⠀⠀⠀⠀⠀⠀⠀⠀⠀⠀⠀⠀⠀\n",
       "⠀⠀⠀⠀⠀⠀⠀⠀⠀⠀⠀⠀⠙⢿⣆⠀⠀⠀⠀⠀⠀⠀⠀⠀⠀⠀⠀⠀⠀⠀⠀⠀⠀⠀⠀⠀⠀⠀⠀⠀\n",
       "⠀⠀⠀⠀⠀⠀⠀⠀⠀⠀⠀⠀⠀⠀⠙⢿⣦⡀⠀⠀⠀⠀⠀⠀⠀⠀⠀⠀⠀⠀⠀⠀⠀⠀⠀⠀⠀⠀⠀⠀\n",
       "⠀⠀⠀⠀⠀⠀⠀⠀⠀⠀⠀⠀⠀⠀⠀⠀⠙⢿⣆⠀⠀⠀⠀⠀⠀⠀⠀⠀⠀⠀⠀⠀⠀⠀⠀⠀⠀⠀⠀⠀\n",
       "⠀⠀⠀⠀⠀⠀⠀⠀⠀⠀⠀⠀⠀⠀⠀⠀⠀⠀⠙⢿⣦⡀⠀⠀⠀⠀⠀⠀⠀⠀⠀⠀⠀⠀⠀⠀⠀⠀⠀⠀\n",
       "⠀⠀⠀⠀⠀⠀⠀⠀⠀⠀⠀⠀⠀⠀⠀⠀⠀⠀⠀⠀⠙⢿⣄⡀⠀⠀⠀⠀⠀⠀⠀⠀⠀⠀⠀⠀⠀⠀⠀⠀\n",
       "⠀⠀⠀⠀⠀⠀⠀⠀⠀⠀⠀⠀⠀⠀⠀⠀⠀⠀⠀⠀⠀⠀⠙⢿⣦⡀⠀⠀⠀⠀⠀⠀⠀⠀⠀⠀⠀⠀⠀⠀\n",
       "⠀⠀⠀⠀⠀⠀⠀⠀⠀⠀⠀⠀⠀⠀⠀⠀⠀⠀⠀⠀⠀⠀⠀⠀⠙⢿⣄⡀⠀⠀⠀⠀⠀⠀⠀⠀⠀⠀⠀⠀\n",
       "⠀⠀⠀⠀⠀⠀⠀⠀⠀⠀⠀⠀⠀⠀⠀⠀⠀⠀⠀⠀⠀⠀⠀⠀⠀⠀⠙⢿⣦⡀⠀⠀⠀⠀⠀⠀⠀⠀⠀⠀\n",
       "⠀⠀⠀⠀⠀⠀⠀⠀⠀⠀⠀⠀⠀⠀⠀⠀⠀⠀⠀⠀⠀⠀⠀⠀⠀⠀⠀⠀⠙⢿⣄⡀⠀⠀⠀⠀⠀⠀⠀⠀\n",
       "⠀⠀⠀⠀⠀⠀⠀⠀⠀⠀⠀⠀⠀⠀⠀⠀⠀⠀⠀⠀⠀⠀⠀⠀⠀⠀⠀⠀⠀⠀⠙⢿⣦⡀⠀⠀⠀⠀⠀⠀\n",
       "⠀⠀⠀⠀⠀⠀⠀⠀⠀⠀⠀⠀⠀⠀⠀⠀⠀⠀⠀⠀⠀⠀⠀⠀⠀⠀⠀⠀⠀⠀⠀⠀⠙⢿⣄⡀⠀⠀⠀⠀\n",
       "⠀⠀⠀⠀⠀⠀⠀⠀⠀⠀⠀⠀⠀⠀⠀⠀⠀⠀⠀⠀⠀⠀⠀⠀⠀⠀⠀⠀⠀⠀⠀⠀⠀⠀⠙⢿⣦⡀⠀⠀\n",
       "⠀⠀⠀⠀⠀⠀⠀⠀⠀⠀⠀⠀⠀⠀⠀⠀⠀⠀⠀⠀⠀⠀⠀⠀⠀⠀⠀⠀⠀⠀⠀⠀⠀⠀⠀⠀⠙⢿⣄⡀\n",
       "⠀⠀⠀⠀⠀⠀⠀⠀⠀⠀⠀⠀⠀⠀⠀⠀⠀⠀⠀⠀⠀⠀⠀⠀⠀⠀⠀⠀⠀⠀⠀⠀⠀⠀⠀⠀⠀⠀⠙⢿"
      ]
     },
     "execution_count": 331,
     "metadata": {},
     "output_type": "execute_result"
    }
   ],
   "source": [
    "Rt  = Rust.transition_probs( m );"
   ]
  },
  {
   "cell_type": "code",
   "execution_count": 334,
   "metadata": {},
   "outputs": [
    {
     "data": {
      "image/png": "[encoded data removed]"
     },
     "execution_count": 334,
     "metadata": {},
     "output_type": "execute_result"
    }
   ],
   "source": [
    "spy(Rt)"
   ]
  },
  {
   "cell_type": "code",
   "execution_count": null,
   "metadata": {},
   "outputs": [],
   "source": [
    "## Data \n",
    "#rust_data = matread(dirname(pwd()) * \"\\\\zurcher_matlab\\\\busdata1234.mat\")\n",
    "# mat data version is too old "
   ]
  },
  {
   "cell_type": "code",
   "execution_count": null,
   "metadata": {},
   "outputs": [],
   "source": [
    "using MAT"
   ]
  },
  {
   "cell_type": "code",
   "execution_count": null,
   "metadata": {},
   "outputs": [
    {
     "data": {
      "text/plain": [
       "Dict{String, Any} with 1 entry:\n",
       "  \"data\" => [4403.0 1.0 … 504.0 504.0; 4403.0 1.0 … 2705.0 2201.0; … ; 5333.0 4…"
      ]
     },
     "execution_count": 14,
     "metadata": {},
     "output_type": "execute_result"
    }
   ],
   "source": [
    "#rust_data = matopen(dirname(pwd()) * \"\\\\zurcher_matlab\\\\busdata1234.mat\")\n",
    "rust_data = matread(pwd() * \"\\\\data\\\\zurcher.mat\")"
   ]
  },
  {
   "cell_type": "code",
   "execution_count": null,
   "metadata": {},
   "outputs": [
    {
     "data": {
      "text/plain": [
       "8260×9 Matrix{Float64}:\n",
       " 4403.0  1.0  83.0   5.0  0.0       0.0     504.0     504.0   504.0\n",
       " 4403.0  1.0  83.0   6.0  0.0     504.0    2705.0    2705.0  2201.0\n",
       " 4403.0  1.0  83.0   7.0  0.0    2705.0    7345.0    7345.0  4640.0\n",
       " 4403.0  1.0  83.0   8.0  0.0    7345.0   11591.0   11591.0  4246.0\n",
       " 4403.0  1.0  83.0   9.0  0.0   11591.0   16057.0   16057.0  4466.0\n",
       " 4403.0  1.0  83.0  10.0  0.0   16057.0   20796.0   20796.0  4739.0\n",
       " 4403.0  1.0  83.0  11.0  0.0   20796.0   25299.0   25299.0  4503.0\n",
       " 4403.0  1.0  83.0  12.0  0.0   25299.0   29311.0   29311.0  4012.0\n",
       " 4403.0  1.0  84.0   1.0  0.0   29311.0   34621.0   34621.0  5310.0\n",
       " 4403.0  1.0  84.0   2.0  0.0   34621.0   39738.0   39738.0  5117.0\n",
       " 4403.0  1.0  84.0   3.0  0.0   39738.0   42477.0   42477.0  2739.0\n",
       " 4403.0  1.0  84.0   4.0  0.0   42477.0   47038.0   47038.0  4561.0\n",
       " 4403.0  1.0  84.0   5.0  0.0   47038.0   52917.0   52917.0  5879.0\n",
       "    ⋮                               ⋮                        \n",
       " 5333.0  4.0  84.0   5.0  0.0  327711.0  329694.0  329694.0  1983.0\n",
       " 5333.0  4.0  84.0   6.0  0.0  329694.0  332002.0  332002.0  2308.0\n",
       " 5333.0  4.0  84.0   7.0  0.0  332002.0  334496.0  334496.0  2494.0\n",
       " 5333.0  4.0  84.0   8.0  0.0  334496.0  336212.0  336212.0  1716.0\n",
       " 5333.0  4.0  84.0   9.0  0.0  336212.0  337879.0  337879.0  1667.0\n",
       " 5333.0  4.0  84.0  10.0  0.0  337879.0  339786.0  339786.0  1907.0\n",
       " 5333.0  4.0  84.0  11.0  0.0  339786.0  341331.0  341331.0  1545.0\n",
       " 5333.0  4.0  84.0  12.0  0.0  341331.0  342004.0  342004.0   673.0\n",
       " 5333.0  4.0  85.0   1.0  0.0  342004.0  343654.0  343654.0  1650.0\n",
       " 5333.0  4.0  85.0   2.0  0.0  343654.0  345631.0  345631.0  1977.0\n",
       " 5333.0  4.0  85.0   3.0  0.0  345631.0  347549.0  347549.0  1918.0\n",
       " 5333.0  4.0  85.0   4.0  0.0  347549.0  347549.0  347549.0     0.0"
      ]
     },
     "execution_count": 15,
     "metadata": {},
     "output_type": "execute_result"
    }
   ],
   "source": [
    "rust_data[\"data\"]"
   ]
  },
  {
   "cell_type": "code",
   "execution_count": null,
   "metadata": {},
   "outputs": [],
   "source": []
  },
  {
   "cell_type": "code",
   "execution_count": null,
   "metadata": {},
   "outputs": [],
   "source": []
  }
 ],
 "metadata": {
  "interpreter": {
   "hash": "e90328b320edd634a3d1842b892822665d06fc9bfbca35b4b1303ad10512bd5c"
  },
  "kernelspec": {
   "display_name": "Julia 1.6.4",
   "language": "julia",
   "name": "julia-1.6"
  },
  "language_info": {
   "file_extension": ".jl",
   "mimetype": "application/julia",
   "name": "julia",
   "version": "1.6.4"
  },
  "orig_nbformat": 4
 },
 "nbformat": 4,
 "nbformat_minor": 2
}
