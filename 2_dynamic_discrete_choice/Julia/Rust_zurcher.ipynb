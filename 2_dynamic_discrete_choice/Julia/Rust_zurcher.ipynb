{
 "cells": [
  {
   "cell_type": "code",
   "execution_count": 1,
   "metadata": {},
   "outputs": [],
   "source": [
    "\n",
    "using Interpolations, Optim, MAT, SparseArrays\n",
    "using LaTeXStrings\n",
    "using Plots\n",
    "pyplot();"
   ]
  },
  {
   "cell_type": "code",
   "execution_count": 2,
   "metadata": {},
   "outputs": [],
   "source": [
    "# using https://mark-ponder.com/tutorials/discrete-choice-models/dynamic-discrete-choice-nested-fixed-point-algorithm/\n",
    "using Revise\n",
    "includet(\"Rust_Zurcher.jl\")\n",
    "#include(\"Rust_Zurcher.jl\")\n",
    "using .Rust"
   ]
  },
  {
   "cell_type": "code",
   "execution_count": null,
   "metadata": {},
   "outputs": [],
   "source": [
    "\n"
   ]
  },
  {
   "cell_type": "code",
   "execution_count": 3,
   "metadata": {},
   "outputs": [
    {
     "data": {
      "text/plain": [
       "Main.Rust.Model(0.9999, [3.6, 10.0], [0.348, 0.639, 0.013], [1.0; 1.0; … ; 1.0; 1.0], 90, 450)"
      ]
     },
     "execution_count": 3,
     "metadata": {},
     "output_type": "execute_result"
    }
   ],
   "source": [
    "#n =4\n",
    "#pi =[1/n for i in 1:n]\n",
    "m = Rust.Model()"
   ]
  },
  {
   "cell_type": "code",
   "execution_count": 4,
   "metadata": {},
   "outputs": [
    {
     "data": {
      "text/plain": [
       "3-element Vector{Float64}:\n",
       " 0.348\n",
       " 0.639\n",
       " 0.013"
      ]
     },
     "execution_count": 4,
     "metadata": {},
     "output_type": "execute_result"
    }
   ],
   "source": [
    "m.π"
   ]
  },
  {
   "cell_type": "code",
   "execution_count": 5,
   "metadata": {},
   "outputs": [
    {
     "data": {
      "text/plain": [
       "2×90 Matrix{Float64}:\n",
       "  -0.0036   -0.0072   -0.0108   -0.0144  …   -0.3168   -0.3204   -0.324\n",
       " -10.0     -10.0     -10.0     -10.0        -10.0     -10.0     -10.0"
      ]
     },
     "execution_count": 5,
     "metadata": {},
     "output_type": "execute_result"
    }
   ],
   "source": [
    "Rust.u(m)"
   ]
  },
  {
   "cell_type": "code",
   "execution_count": 6,
   "metadata": {},
   "outputs": [],
   "source": [
    "Rt  = Rust.transition_probs( m );"
   ]
  },
  {
   "cell_type": "code",
   "execution_count": 7,
   "metadata": {},
   "outputs": [
    {
     "data": {
      "image/png": "[encoded data removed]"
     },
     "execution_count": 7,
     "metadata": {},
     "output_type": "execute_result"
    }
   ],
   "source": [
    "spy(Rt)"
   ]
  },
  {
   "cell_type": "code",
   "execution_count": 8,
   "metadata": {},
   "outputs": [
    {
     "data": {
      "text/plain": [
       "90×90 SparseMatrixCSC{Float64, Int64} with 267 stored entries:\n",
       "⠙⢷⡄⠀⠀⠀⠀⠀⠀⠀⠀⠀⠀⠀⠀⠀⠀⠀⠀⠀⠀⠀⠀⠀⠀⠀⠀⠀⠀⠀⠀⠀⠀⠀⠀⠀⠀⠀⠀⠀\n",
       "⠀⠀⠙⢷⣄⠀⠀⠀⠀⠀⠀⠀⠀⠀⠀⠀⠀⠀⠀⠀⠀⠀⠀⠀⠀⠀⠀⠀⠀⠀⠀⠀⠀⠀⠀⠀⠀⠀⠀⠀\n",
       "⠀⠀⠀⠀⠙⢷⡄⠀⠀⠀⠀⠀⠀⠀⠀⠀⠀⠀⠀⠀⠀⠀⠀⠀⠀⠀⠀⠀⠀⠀⠀⠀⠀⠀⠀⠀⠀⠀⠀⠀\n",
       "⠀⠀⠀⠀⠀⠀⠙⢷⣄⠀⠀⠀⠀⠀⠀⠀⠀⠀⠀⠀⠀⠀⠀⠀⠀⠀⠀⠀⠀⠀⠀⠀⠀⠀⠀⠀⠀⠀⠀⠀\n",
       "⠀⠀⠀⠀⠀⠀⠀⠀⠙⢷⡄⠀⠀⠀⠀⠀⠀⠀⠀⠀⠀⠀⠀⠀⠀⠀⠀⠀⠀⠀⠀⠀⠀⠀⠀⠀⠀⠀⠀⠀\n",
       "⠀⠀⠀⠀⠀⠀⠀⠀⠀⠀⠙⢷⣄⠀⠀⠀⠀⠀⠀⠀⠀⠀⠀⠀⠀⠀⠀⠀⠀⠀⠀⠀⠀⠀⠀⠀⠀⠀⠀⠀\n",
       "⠀⠀⠀⠀⠀⠀⠀⠀⠀⠀⠀⠀⠙⢷⡄⠀⠀⠀⠀⠀⠀⠀⠀⠀⠀⠀⠀⠀⠀⠀⠀⠀⠀⠀⠀⠀⠀⠀⠀⠀\n",
       "⠀⠀⠀⠀⠀⠀⠀⠀⠀⠀⠀⠀⠀⠀⠙⢷⣄⠀⠀⠀⠀⠀⠀⠀⠀⠀⠀⠀⠀⠀⠀⠀⠀⠀⠀⠀⠀⠀⠀⠀\n",
       "⠀⠀⠀⠀⠀⠀⠀⠀⠀⠀⠀⠀⠀⠀⠀⠀⠙⢷⡄⠀⠀⠀⠀⠀⠀⠀⠀⠀⠀⠀⠀⠀⠀⠀⠀⠀⠀⠀⠀⠀\n",
       "⠀⠀⠀⠀⠀⠀⠀⠀⠀⠀⠀⠀⠀⠀⠀⠀⠀⠀⠙⢷⣄⠀⠀⠀⠀⠀⠀⠀⠀⠀⠀⠀⠀⠀⠀⠀⠀⠀⠀⠀\n",
       "⠀⠀⠀⠀⠀⠀⠀⠀⠀⠀⠀⠀⠀⠀⠀⠀⠀⠀⠀⠀⠙⢷⣀⠀⠀⠀⠀⠀⠀⠀⠀⠀⠀⠀⠀⠀⠀⠀⠀⠀\n",
       "⠀⠀⠀⠀⠀⠀⠀⠀⠀⠀⠀⠀⠀⠀⠀⠀⠀⠀⠀⠀⠀⠀⠙⢷⣄⠀⠀⠀⠀⠀⠀⠀⠀⠀⠀⠀⠀⠀⠀⠀\n",
       "⠀⠀⠀⠀⠀⠀⠀⠀⠀⠀⠀⠀⠀⠀⠀⠀⠀⠀⠀⠀⠀⠀⠀⠀⠙⢷⣀⠀⠀⠀⠀⠀⠀⠀⠀⠀⠀⠀⠀⠀\n",
       "⠀⠀⠀⠀⠀⠀⠀⠀⠀⠀⠀⠀⠀⠀⠀⠀⠀⠀⠀⠀⠀⠀⠀⠀⠀⠀⠙⢷⣄⠀⠀⠀⠀⠀⠀⠀⠀⠀⠀⠀\n",
       "⠀⠀⠀⠀⠀⠀⠀⠀⠀⠀⠀⠀⠀⠀⠀⠀⠀⠀⠀⠀⠀⠀⠀⠀⠀⠀⠀⠀⠙⢷⣀⠀⠀⠀⠀⠀⠀⠀⠀⠀\n",
       "⠀⠀⠀⠀⠀⠀⠀⠀⠀⠀⠀⠀⠀⠀⠀⠀⠀⠀⠀⠀⠀⠀⠀⠀⠀⠀⠀⠀⠀⠀⠙⢷⣄⠀⠀⠀⠀⠀⠀⠀\n",
       "⠀⠀⠀⠀⠀⠀⠀⠀⠀⠀⠀⠀⠀⠀⠀⠀⠀⠀⠀⠀⠀⠀⠀⠀⠀⠀⠀⠀⠀⠀⠀⠀⠙⢷⣀⠀⠀⠀⠀⠀\n",
       "⠀⠀⠀⠀⠀⠀⠀⠀⠀⠀⠀⠀⠀⠀⠀⠀⠀⠀⠀⠀⠀⠀⠀⠀⠀⠀⠀⠀⠀⠀⠀⠀⠀⠀⠙⢷⣄⠀⠀⠀\n",
       "⠀⠀⠀⠀⠀⠀⠀⠀⠀⠀⠀⠀⠀⠀⠀⠀⠀⠀⠀⠀⠀⠀⠀⠀⠀⠀⠀⠀⠀⠀⠀⠀⠀⠀⠀⠀⠙⢷⣀⠀\n",
       "⠀⠀⠀⠀⠀⠀⠀⠀⠀⠀⠀⠀⠀⠀⠀⠀⠀⠀⠀⠀⠀⠀⠀⠀⠀⠀⠀⠀⠀⠀⠀⠀⠀⠀⠀⠀⠀⠀⠙⢷"
      ]
     },
     "execution_count": 8,
     "metadata": {},
     "output_type": "execute_result"
    }
   ],
   "source": [
    "Rt"
   ]
  },
  {
   "cell_type": "code",
   "execution_count": 9,
   "metadata": {},
   "outputs": [
    {
     "data": {
      "text/plain": [
       "2×90 Matrix{Float64}:\n",
       "  -0.0036   -0.0072   -0.0108   -0.0144  …   -0.3168   -0.3204   -0.324\n",
       " -10.0     -10.0     -10.0     -10.0        -10.0     -10.0     -10.0"
      ]
     },
     "execution_count": 9,
     "metadata": {},
     "output_type": "execute_result"
    }
   ],
   "source": [
    "Rust.u(m)"
   ]
  },
  {
   "cell_type": "code",
   "execution_count": 10,
   "metadata": {},
   "outputs": [
    {
     "data": {
      "text/plain": [
       "90×1 Matrix{Float64}:\n",
       " 0.9963455626260623\n",
       " 0.9927457269433596\n",
       " 0.9891458918532381\n",
       " 0.9855460573578348\n",
       " 0.9819462234592943\n",
       " 0.9783463901597689\n",
       " 0.9747465574614187\n",
       " 0.9711467253664117\n",
       " 0.9675468938769238\n",
       " 0.9639470629951384\n",
       " 0.9603472327232471\n",
       " 0.956747403063449\n",
       " 0.9531475740179517\n",
       " ⋮\n",
       " 0.7155603330708042\n",
       " 0.7119605506546994\n",
       " 0.7083607690232607\n",
       " 0.7047609881793178\n",
       " 0.7011612081257101\n",
       " 0.6975614288652876\n",
       " 0.6939616504009108\n",
       " 0.6903618727354501\n",
       " 0.6867620958717868\n",
       " 0.6831623198128118\n",
       " 0.6795625445614268\n",
       " 0.6759627701205442"
      ]
     },
     "execution_count": 10,
     "metadata": {},
     "output_type": "execute_result"
    }
   ],
   "source": [
    "Rust.ss(m)"
   ]
  },
  {
   "cell_type": "code",
   "execution_count": 11,
   "metadata": {},
   "outputs": [
    {
     "name": "stdout",
     "output_type": "stream",
     "text": [
      "[-1718.2881323142492; -1718.5377207873223; -1718.781955756104; -1719.0208422225282; -1719.2543864455577; -1719.4825961571676; -1719.705480801724; -1719.923051798156; -1720.1353228234884; -1720.3423101153749; -1720.544032790238; -1720.7405131725777; -1720.931777129933; -1721.1178544069787; -1721.2987789513484; -1721.474589223069; -1721.6453284790239; -1721.811045023688; -1721.9717924175698; -1722.1276296353158; -1722.278621166352; -1722.4248370522023; -1722.5663528561947; -1722.703249563083; -1722.8356134080884; -1722.963535636917; -1723.0871122003139; -1723.2064433885848; -1723.321633413166; -1723.4327899436662; -1723.5400236097998; -1723.6434474782236; -1723.743176514517; -1723.839327040375; -1723.9320161955873; -1724.0213614135926; -1724.1074799183864; -1724.190488249393; -1724.2705018196593; -1724.34763451143; -1724.421998311922; -1724.4937029909088; -1724.5628558206522; -1724.629561337765; -1724.6939211457677; -1724.7560337564664; -1724.8159944677186; -1724.8738952748142; -1724.9298248124137; -1724.983868323839; -1725.0361076544534; -1725.086621265868; -1725.1354842677824; -1725.1827684643533; -1725.2285424121133; -1725.2728714865755; -1725.3158179547775; -1725.3574410511046; -1725.397797053776; -1725.4369393593886; -1725.4749185528203; -1725.511782469649; -1725.5475762479566; -1725.5823423659697; -1725.6161206613906; -1725.6489483274393; -1725.6808598795005; -1725.7118870847667; -1725.7420588452655; -1725.7714010220384; -1725.799936184755; -1725.8276832665208; -1725.8546570976523; -1725.8808677843917; -1725.9063198882902; -1725.931011348609; -1725.9549320726226; -1725.9780620960012; -1726.0003691860525; -1726.0218057228628; -1726.0423046454277; -1726.0617741899773; -1726.080091074685; -1726.0970916993497; -1726.1125608344835; -1726.1262171826213; -1726.1376951290185; -1726.1465220052683; -1726.152090288931; -1726.1536273563568]\n"
     ]
    }
   ],
   "source": [
    "\n",
    "Rust.contraction_mapping(m)\n",
    "\n",
    "println(m.EV)"
   ]
  },
  {
   "cell_type": "code",
   "execution_count": 12,
   "metadata": {},
   "outputs": [
    {
     "data": {
      "text/plain": [
       "1×90 adjoint(::Matrix{Float64}) with eltype Float64:\n",
       " 0.999954  0.999941  0.999925  0.999904  …  0.861236  0.860137  0.859518"
      ]
     },
     "execution_count": 12,
     "metadata": {},
     "output_type": "execute_result"
    }
   ],
   "source": [
    "Rust.choice_p(m)'"
   ]
  },
  {
   "cell_type": "code",
   "execution_count": null,
   "metadata": {},
   "outputs": [],
   "source": []
  },
  {
   "cell_type": "code",
   "execution_count": 13,
   "metadata": {},
   "outputs": [],
   "source": [
    "## Data \n",
    "#rust_data = matread(dirname(pwd()) * \"\\\\zurcher_matlab\\\\busdata1234.mat\")\n",
    "# mat data version is too old "
   ]
  },
  {
   "cell_type": "code",
   "execution_count": 14,
   "metadata": {},
   "outputs": [],
   "source": [
    "using MAT, DataFrames"
   ]
  },
  {
   "cell_type": "code",
   "execution_count": 15,
   "metadata": {},
   "outputs": [
    {
     "data": {
      "text/plain": [
       "Dict{String, Any} with 1 entry:\n",
       "  \"data\" => [4403.0 1.0 … 504.0 504.0; 4403.0 1.0 … 2705.0 2201.0; … ; 5333.0 4…"
      ]
     },
     "execution_count": 15,
     "metadata": {},
     "output_type": "execute_result"
    }
   ],
   "source": [
    "#rust_data = matopen(dirname(pwd()) * \"\\\\zurcher_matlab\\\\busdata1234.mat\")\n",
    "rust_data = matread(pwd() * \"\\\\data\\\\zurcher.mat\")"
   ]
  },
  {
   "cell_type": "code",
   "execution_count": 16,
   "metadata": {},
   "outputs": [
    {
     "data": {
      "text/html": [
       "<div class=\"data-frame\"><p>10 rows × 9 columns</p><table class=\"data-frame\"><thead><tr><th></th><th>id</th><th>bustype</th><th>x3</th><th>x4</th><th>d1</th><th>x6</th><th>x</th><th>x8</th><th>x9</th></tr><tr><th></th><th title=\"Float64\">Float64</th><th title=\"Float64\">Float64</th><th title=\"Float64\">Float64</th><th title=\"Float64\">Float64</th><th title=\"Float64\">Float64</th><th title=\"Float64\">Float64</th><th title=\"Float64\">Float64</th><th title=\"Float64\">Float64</th><th title=\"Float64\">Float64</th></tr></thead><tbody><tr><th>1</th><td>4403.0</td><td>1.0</td><td>83.0</td><td>5.0</td><td>0.0</td><td>0.0</td><td>504.0</td><td>504.0</td><td>504.0</td></tr><tr><th>2</th><td>4403.0</td><td>1.0</td><td>83.0</td><td>6.0</td><td>0.0</td><td>504.0</td><td>2705.0</td><td>2705.0</td><td>2201.0</td></tr><tr><th>3</th><td>4403.0</td><td>1.0</td><td>83.0</td><td>7.0</td><td>0.0</td><td>2705.0</td><td>7345.0</td><td>7345.0</td><td>4640.0</td></tr><tr><th>4</th><td>4403.0</td><td>1.0</td><td>83.0</td><td>8.0</td><td>0.0</td><td>7345.0</td><td>11591.0</td><td>11591.0</td><td>4246.0</td></tr><tr><th>5</th><td>4403.0</td><td>1.0</td><td>83.0</td><td>9.0</td><td>0.0</td><td>11591.0</td><td>16057.0</td><td>16057.0</td><td>4466.0</td></tr><tr><th>6</th><td>4403.0</td><td>1.0</td><td>83.0</td><td>10.0</td><td>0.0</td><td>16057.0</td><td>20796.0</td><td>20796.0</td><td>4739.0</td></tr><tr><th>7</th><td>4403.0</td><td>1.0</td><td>83.0</td><td>11.0</td><td>0.0</td><td>20796.0</td><td>25299.0</td><td>25299.0</td><td>4503.0</td></tr><tr><th>8</th><td>4403.0</td><td>1.0</td><td>83.0</td><td>12.0</td><td>0.0</td><td>25299.0</td><td>29311.0</td><td>29311.0</td><td>4012.0</td></tr><tr><th>9</th><td>4403.0</td><td>1.0</td><td>84.0</td><td>1.0</td><td>0.0</td><td>29311.0</td><td>34621.0</td><td>34621.0</td><td>5310.0</td></tr><tr><th>10</th><td>4403.0</td><td>1.0</td><td>84.0</td><td>2.0</td><td>0.0</td><td>34621.0</td><td>39738.0</td><td>39738.0</td><td>5117.0</td></tr></tbody></table></div>"
      ],
      "text/latex": [
       "\\begin{tabular}{r|ccccccccc}\n",
       "\t& id & bustype & x3 & x4 & d1 & x6 & x & x8 & x9\\\\\n",
       "\t\\hline\n",
       "\t& Float64 & Float64 & Float64 & Float64 & Float64 & Float64 & Float64 & Float64 & Float64\\\\\n",
       "\t\\hline\n",
       "\t1 & 4403.0 & 1.0 & 83.0 & 5.0 & 0.0 & 0.0 & 504.0 & 504.0 & 504.0 \\\\\n",
       "\t2 & 4403.0 & 1.0 & 83.0 & 6.0 & 0.0 & 504.0 & 2705.0 & 2705.0 & 2201.0 \\\\\n",
       "\t3 & 4403.0 & 1.0 & 83.0 & 7.0 & 0.0 & 2705.0 & 7345.0 & 7345.0 & 4640.0 \\\\\n",
       "\t4 & 4403.0 & 1.0 & 83.0 & 8.0 & 0.0 & 7345.0 & 11591.0 & 11591.0 & 4246.0 \\\\\n",
       "\t5 & 4403.0 & 1.0 & 83.0 & 9.0 & 0.0 & 11591.0 & 16057.0 & 16057.0 & 4466.0 \\\\\n",
       "\t6 & 4403.0 & 1.0 & 83.0 & 10.0 & 0.0 & 16057.0 & 20796.0 & 20796.0 & 4739.0 \\\\\n",
       "\t7 & 4403.0 & 1.0 & 83.0 & 11.0 & 0.0 & 20796.0 & 25299.0 & 25299.0 & 4503.0 \\\\\n",
       "\t8 & 4403.0 & 1.0 & 83.0 & 12.0 & 0.0 & 25299.0 & 29311.0 & 29311.0 & 4012.0 \\\\\n",
       "\t9 & 4403.0 & 1.0 & 84.0 & 1.0 & 0.0 & 29311.0 & 34621.0 & 34621.0 & 5310.0 \\\\\n",
       "\t10 & 4403.0 & 1.0 & 84.0 & 2.0 & 0.0 & 34621.0 & 39738.0 & 39738.0 & 5117.0 \\\\\n",
       "\\end{tabular}\n"
      ],
      "text/plain": [
       "\u001b[1m10×9 DataFrame\u001b[0m\n",
       "\u001b[1m Row \u001b[0m│\u001b[1m id      \u001b[0m\u001b[1m bustype \u001b[0m\u001b[1m x3      \u001b[0m\u001b[1m x4      \u001b[0m\u001b[1m d1      \u001b[0m\u001b[1m x6      \u001b[0m\u001b[1m x       \u001b[0m\u001b[1m x8      \u001b[0m\u001b[1m\u001b[0m ⋯\n",
       "\u001b[1m     \u001b[0m│\u001b[90m Float64 \u001b[0m\u001b[90m Float64 \u001b[0m\u001b[90m Float64 \u001b[0m\u001b[90m Float64 \u001b[0m\u001b[90m Float64 \u001b[0m\u001b[90m Float64 \u001b[0m\u001b[90m Float64 \u001b[0m\u001b[90m Float64 \u001b[0m\u001b[90m\u001b[0m ⋯\n",
       "─────┼──────────────────────────────────────────────────────────────────────────\n",
       "   1 │  4403.0      1.0     83.0      5.0      0.0      0.0    504.0    504.0  ⋯\n",
       "   2 │  4403.0      1.0     83.0      6.0      0.0    504.0   2705.0   2705.0\n",
       "   3 │  4403.0      1.0     83.0      7.0      0.0   2705.0   7345.0   7345.0\n",
       "   4 │  4403.0      1.0     83.0      8.0      0.0   7345.0  11591.0  11591.0\n",
       "   5 │  4403.0      1.0     83.0      9.0      0.0  11591.0  16057.0  16057.0  ⋯\n",
       "   6 │  4403.0      1.0     83.0     10.0      0.0  16057.0  20796.0  20796.0\n",
       "   7 │  4403.0      1.0     83.0     11.0      0.0  20796.0  25299.0  25299.0\n",
       "   8 │  4403.0      1.0     83.0     12.0      0.0  25299.0  29311.0  29311.0\n",
       "   9 │  4403.0      1.0     84.0      1.0      0.0  29311.0  34621.0  34621.0  ⋯\n",
       "  10 │  4403.0      1.0     84.0      2.0      0.0  34621.0  39738.0  39738.0\n",
       "\u001b[36m                                                                1 column omitted\u001b[0m"
      ]
     },
     "execution_count": 16,
     "metadata": {},
     "output_type": "execute_result"
    }
   ],
   "source": [
    "df  = DataFrame(rust_data[\"data\"],:auto)\n",
    "#names!(df,[:id,:bustype,:d1,])\n",
    "column_dict = Dict(:x1=>:id, :x2 => :bustype, :x5 => :d1 , :x7=> :x )\n",
    "rename!(df,column_dict)\n",
    "df[1:10,:]"
   ]
  },
  {
   "cell_type": "code",
   "execution_count": 17,
   "metadata": {},
   "outputs": [
    {
     "data": {
      "text/html": [
       "<div class=\"data-frame\"><p>10 rows × 5 columns</p><table class=\"data-frame\"><thead><tr><th></th><th>bustype</th><th>d1</th><th>x</th><th>id</th><th>d</th></tr><tr><th></th><th title=\"Float64\">Float64</th><th title=\"Float64\">Float64</th><th title=\"Float64\">Float64</th><th title=\"Float64\">Float64</th><th title=\"Float64\">Float64</th></tr></thead><tbody><tr><th>1</th><td>1.0</td><td>0.0</td><td>504.0</td><td>4403.0</td><td>0.0</td></tr><tr><th>2</th><td>1.0</td><td>0.0</td><td>2705.0</td><td>4403.0</td><td>0.0</td></tr><tr><th>3</th><td>1.0</td><td>0.0</td><td>7345.0</td><td>4403.0</td><td>0.0</td></tr><tr><th>4</th><td>1.0</td><td>0.0</td><td>11591.0</td><td>4403.0</td><td>0.0</td></tr><tr><th>5</th><td>1.0</td><td>0.0</td><td>16057.0</td><td>4403.0</td><td>0.0</td></tr><tr><th>6</th><td>1.0</td><td>0.0</td><td>20796.0</td><td>4403.0</td><td>0.0</td></tr><tr><th>7</th><td>1.0</td><td>0.0</td><td>25299.0</td><td>4403.0</td><td>0.0</td></tr><tr><th>8</th><td>1.0</td><td>0.0</td><td>29311.0</td><td>4403.0</td><td>0.0</td></tr><tr><th>9</th><td>1.0</td><td>0.0</td><td>34621.0</td><td>4403.0</td><td>0.0</td></tr><tr><th>10</th><td>1.0</td><td>0.0</td><td>39738.0</td><td>4403.0</td><td>0.0</td></tr></tbody></table></div>"
      ],
      "text/latex": [
       "\\begin{tabular}{r|ccccc}\n",
       "\t& bustype & d1 & x & id & d\\\\\n",
       "\t\\hline\n",
       "\t& Float64 & Float64 & Float64 & Float64 & Float64\\\\\n",
       "\t\\hline\n",
       "\t1 & 1.0 & 0.0 & 504.0 & 4403.0 & 0.0 \\\\\n",
       "\t2 & 1.0 & 0.0 & 2705.0 & 4403.0 & 0.0 \\\\\n",
       "\t3 & 1.0 & 0.0 & 7345.0 & 4403.0 & 0.0 \\\\\n",
       "\t4 & 1.0 & 0.0 & 11591.0 & 4403.0 & 0.0 \\\\\n",
       "\t5 & 1.0 & 0.0 & 16057.0 & 4403.0 & 0.0 \\\\\n",
       "\t6 & 1.0 & 0.0 & 20796.0 & 4403.0 & 0.0 \\\\\n",
       "\t7 & 1.0 & 0.0 & 25299.0 & 4403.0 & 0.0 \\\\\n",
       "\t8 & 1.0 & 0.0 & 29311.0 & 4403.0 & 0.0 \\\\\n",
       "\t9 & 1.0 & 0.0 & 34621.0 & 4403.0 & 0.0 \\\\\n",
       "\t10 & 1.0 & 0.0 & 39738.0 & 4403.0 & 0.0 \\\\\n",
       "\\end{tabular}\n"
      ],
      "text/plain": [
       "\u001b[1m10×5 DataFrame\u001b[0m\n",
       "\u001b[1m Row \u001b[0m│\u001b[1m bustype \u001b[0m\u001b[1m d1      \u001b[0m\u001b[1m x       \u001b[0m\u001b[1m id      \u001b[0m\u001b[1m d       \u001b[0m\n",
       "\u001b[1m     \u001b[0m│\u001b[90m Float64 \u001b[0m\u001b[90m Float64 \u001b[0m\u001b[90m Float64 \u001b[0m\u001b[90m Float64 \u001b[0m\u001b[90m Float64 \u001b[0m\n",
       "─────┼─────────────────────────────────────────────\n",
       "   1 │     1.0      0.0    504.0   4403.0      0.0\n",
       "   2 │     1.0      0.0   2705.0   4403.0      0.0\n",
       "   3 │     1.0      0.0   7345.0   4403.0      0.0\n",
       "   4 │     1.0      0.0  11591.0   4403.0      0.0\n",
       "   5 │     1.0      0.0  16057.0   4403.0      0.0\n",
       "   6 │     1.0      0.0  20796.0   4403.0      0.0\n",
       "   7 │     1.0      0.0  25299.0   4403.0      0.0\n",
       "   8 │     1.0      0.0  29311.0   4403.0      0.0\n",
       "   9 │     1.0      0.0  34621.0   4403.0      0.0\n",
       "  10 │     1.0      0.0  39738.0   4403.0      0.0"
      ]
     },
     "execution_count": 17,
     "metadata": {},
     "output_type": "execute_result"
    }
   ],
   "source": [
    "df = df[:,[x for x in values(column_dict)]]\n",
    "# turn lagged replacement dummy into replacement dummy\n",
    "df[:,:d] = [df[2:end,:d1] ; 0 ]; \n",
    "df[1:10,:]"
   ]
  },
  {
   "cell_type": "code",
   "execution_count": 18,
   "metadata": {},
   "outputs": [
    {
     "data": {
      "text/plain": [
       "8259-element Vector{Float64}:\n",
       " 4403.0\n",
       " 4403.0\n",
       " 4403.0\n",
       " 4403.0\n",
       " 4403.0\n",
       " 4403.0\n",
       " 4403.0\n",
       " 4403.0\n",
       " 4403.0\n",
       " 4403.0\n",
       " 4403.0\n",
       " 4403.0\n",
       " 4403.0\n",
       "    ⋮\n",
       " 5333.0\n",
       " 5333.0\n",
       " 5333.0\n",
       " 5333.0\n",
       " 5333.0\n",
       " 5333.0\n",
       " 5333.0\n",
       " 5333.0\n",
       " 5333.0\n",
       " 5333.0\n",
       " 5333.0\n",
       " 5333.0"
      ]
     },
     "execution_count": 18,
     "metadata": {},
     "output_type": "execute_result"
    }
   ],
   "source": [
    "df[1:end-1,:id]"
   ]
  },
  {
   "cell_type": "code",
   "execution_count": 19,
   "metadata": {},
   "outputs": [
    {
     "data": {
      "text/plain": [
       "Main.Rust.Data(Int32[0, 0, 0, 0, 0, 0, 0, 0, 0, 0  …  0, 0, 0, 0, 0, 0, 0, 0, 0, 0], Int32[1, 2, 3, 4, 5, 6, 6, 7, 8, 9  …  67, 68, 68, 68, 69, 69, 69, 70, 70, 70])"
      ]
     },
     "execution_count": 19,
     "metadata": {},
     "output_type": "execute_result"
    }
   ],
   "source": [
    "rd  = Rust.Data(df,m)"
   ]
  },
  {
   "cell_type": "code",
   "execution_count": 20,
   "metadata": {},
   "outputs": [
    {
     "data": {
      "text/plain": [
       "0"
      ]
     },
     "execution_count": 20,
     "metadata": {},
     "output_type": "execute_result"
    }
   ],
   "source": [
    "sum(rd.exog .== 0)"
   ]
  },
  {
   "cell_type": "code",
   "execution_count": 22,
   "metadata": {},
   "outputs": [
    {
     "data": {
      "text/plain": [
       " * Status: success\n",
       "\n",
       " * Candidate solution\n",
       "    Final objective value:     3.002538e+02\n",
       "\n",
       " * Found with\n",
       "    Algorithm:     Nelder-Mead\n",
       "\n",
       " * Convergence measures\n",
       "    √(Σ(yᵢ-ȳ)²)/n ≤ 1.0e-08\n",
       "\n",
       " * Work counters\n",
       "    Seconds run:   77  (vs limit Inf)\n",
       "    Iterations:    34\n",
       "    f(x) calls:    69\n"
      ]
     },
     "execution_count": 22,
     "metadata": {},
     "output_type": "execute_result"
    }
   ],
   "source": [
    "optimum = Rust.ll(m,rd)"
   ]
  },
  {
   "cell_type": "code",
   "execution_count": null,
   "metadata": {},
   "outputs": [],
   "source": []
  },
  {
   "cell_type": "code",
   "execution_count": null,
   "metadata": {},
   "outputs": [],
   "source": []
  }
 ],
 "metadata": {
  "interpreter": {
   "hash": "e90328b320edd634a3d1842b892822665d06fc9bfbca35b4b1303ad10512bd5c"
  },
  "kernelspec": {
   "display_name": "Julia 1.6.4",
   "language": "julia",
   "name": "julia-1.6"
  },
  "language_info": {
   "file_extension": ".jl",
   "mimetype": "application/julia",
   "name": "julia",
   "version": "1.6.4"
  },
  "orig_nbformat": 4
 },
 "nbformat": 4,
 "nbformat_minor": 2
}
