{
 "cells": [
  {
   "cell_type": "code",
   "execution_count": 1,
   "metadata": {},
   "outputs": [],
   "source": [
    "# magics: ensures that any changes to the modules loaded below will be re-loaded automatically\n",
    "%load_ext autoreload\n",
    "%autoreload 2\n",
    "\n",
    "%load_ext line_profiler\n",
    "\n",
    "# load general packages\n",
    "import numpy as np\n",
    "\n",
    "# load modules related to this exercise\n",
    "from  matplotlib.pyplot import spy\n",
    "from model_zucher import zurcher\n",
    "import Estimate_MPEC_exante as estimate_MPEC\n",
    "\n",
    "from Solve_NFXP import solve_NFXP\n",
    "import estimate_NFXP as estimate_NFXP"
   ]
  },
  {
   "cell_type": "markdown",
   "metadata": {},
   "source": [
    "# Exercise set 4\n"
   ]
  },
  {
   "cell_type": "code",
   "execution_count": 2,
   "metadata": {},
   "outputs": [],
   "source": [
    "# setup\n",
    "do_settings = {\n",
    "    'n': 90\n",
    "}\n",
    "model = zurcher(**do_settings)\n",
    "solver = solve_NFXP()\n",
    "\n",
    "\n",
    "#  SIMULATE DATA\n",
    "N = 500\n",
    "T = 120\n",
    "ev, pk = solver.poly(model.bellman, beta=model.beta, output=2)\n",
    "data = zurcher.sim_data(model,N,T,pk) \n",
    "samplesize = data.shape[0]\n"
   ]
  },
  {
   "cell_type": "markdown",
   "metadata": {},
   "source": [
    "#### 1. Run the function mpec.sparsity_pattern.\n",
    "The function mpec.sparsity_pattern creates sparse matrices of indicators for where there are elements in the Jacobian of the constraints and Hessian of the likelihood function\n",
    "\n",
    "(a) Look at the figures, and talk about what the different elements of the Jacobian of the constraint and Hessian of the likelihood represent."
   ]
  },
  {
   "cell_type": "code",
   "execution_count": 3,
   "metadata": {},
   "outputs": [
    {
     "data": {
      "image/png": "[encoded data removed]",
      "text/plain": [
       "<Figure size 1440x360 with 2 Axes>"
      ]
     },
     "metadata": {
      "needs_background": "light"
     },
     "output_type": "display_data"
    }
   ],
   "source": [
    "# Number of parameter to be estimated\n",
    "Nc = 2\n",
    "\n",
    "\n",
    "import matplotlib.pyplot as plt\n",
    "\n",
    "J_pattern, H_pattern = estimate_MPEC.sparsity_pattern(Nc,model.n, len(model.p)+1)\n",
    "\n",
    "# Figure\n",
    "fig = plt.figure(figsize=(20,5))# figsize is in inches...\n",
    "\n",
    "ax = fig.add_subplot(1,2,1)\n",
    "ax.spy(J_pattern,markersize=5)\n",
    "ax.set_title(f'Jacobian of constraints')\n",
    "ax = fig.add_subplot(1,2,2)\n",
    "ax.spy(H_pattern,markersize=5)\n",
    "ax.set_title(f'Hessian of likelihood')\n",
    "plt.show()"
   ]
  },
  {
   "cell_type": "markdown",
   "metadata": {},
   "source": [
    "#### 2. What is the advantages of handle that the Jacobian and Hessian as sparse matrices?"
   ]
  },
  {
   "cell_type": "markdown",
   "metadata": {},
   "source": [
    "#### 3. Estimate the model using MPEC. In order to estimate the model, you should understand:\n",
    "<il type =\"a\">\n",
    "<li> Estimate_MPEC.estimate </li>\n",
    "<li> Estimate_MPEC.ll (don't spend too much time on understanding the gradient)</li>\n",
    "<li> Estimate_MPEC.con_bellman (don't focus too much on computing Jacobian) </li>\n",
    "</il>\n",
    "\n",
    "Note that we in the implemenation don't use the information that the Hessian is sparse."
   ]
  },
  {
   "cell_type": "markdown",
   "metadata": {},
   "source": [
    "#### 4. Fill in the missing stuff in mpec.ll and mpec.con_bellman, and run the code to check that your results are correct"
   ]
  },
  {
   "cell_type": "code",
   "execution_count": 4,
   "metadata": {},
   "outputs": [
    {
     "name": "stdout",
     "output_type": "stream",
     "text": [
      "Structual estimation using busdata from Rust(1987)\n",
      "Beta        = 0.9999\n",
      "n           = 90\n",
      "Sample size = 60000\n",
      " \n",
      "\n",
      "Parameters     Estimates    s.e. \n",
      "RC             11.9833     \n",
      "c              2.5462      \n",
      " \n",
      "Log-likelihood -1896.1880\n",
      "runtime (seconds) 9.2279\n",
      "`gtol` termination condition is satisfied.\n"
     ]
    }
   ],
   "source": [
    "import time\n",
    "\n",
    "theta0 = [11,2]\n",
    "\n",
    "\n",
    "t0 = time.time()\n",
    "res_MPEC, pnames, theta_hat_MPEC = estimate_MPEC.estimate(model,data,theta0=theta0, twostep=1)\n",
    "t1 = time.time()\n",
    "time_MPEC=t1-t0\n",
    "\n",
    "\n",
    "# Print the results\n",
    "print(f'Structual estimation using busdata from Rust(1987)')\n",
    "print(f'Beta        = {model.beta:.4f}')\n",
    "print(f'n           = {model.n}')\n",
    "print(f'Sample size = {data.shape[0]}\\n \\n') \n",
    "\n",
    "print(f'Parameters     Estimates    s.e. ') \n",
    "print(f'{pnames[0]}             {theta_hat_MPEC[0]:.4f}     ')\n",
    "print(f'{pnames[1]}              {theta_hat_MPEC[1]:.4f}      \\n ')\n",
    "\n",
    "\n",
    "print(f'Log-likelihood {-res_MPEC.fun*samplesize:.4f}')  \n",
    "print(f'runtime (seconds) {time_MPEC:.4f}')\n",
    "print(res_MPEC.message)"
   ]
  },
  {
   "cell_type": "code",
   "execution_count": 5,
   "metadata": {},
   "outputs": [
    {
     "name": "stdout",
     "output_type": "stream",
     "text": [
      "Timer unit: 1e-07 s\n",
      "\n",
      "Total time: 9.10989 s\n",
      "File: c:\\Users\\Asker\\OneDrive - Københavns Universitet\\Documents\\Uni\\10. semester\\Dynamic Programming\\dp_ucph\\2_dynamic_discrete_choice\\exercises\\work\\02_MPEC\\Estimate_MPEC_exante.py\n",
      "Function: estimate at line 23\n",
      "\n",
      "Line #      Hits         Time  Per Hit   % Time  Line Contents\n",
      "==============================================================\n",
      "    23                                           def estimate(model, data, theta0 = [0,0],twostep=0):\n",
      "    24         1         50.0     50.0      0.0      assert(twostep == 1),'MPEC only implemented for twostep=1'\n",
      "    25                                           \n",
      "    26                                           \n",
      "    27                                               # Setup\n",
      "    28         1         16.0     16.0      0.0      pnames = ['RC','c']\n",
      "    29                                           \n",
      "    30         1        190.0    190.0      0.0      class data_class: pass\n",
      "    31         1     235783.0 235783.0      0.3      data_class.xd = np.nan+np.zeros((model.n,data.d.size,))\n",
      "    32        91       1668.0     18.3      0.0      for i in range(model.n):\n",
      "    33        90     347938.0   3866.0      0.4          data_class.xd[i,:] = data.x == i+1\n",
      "    34         1     151272.0 151272.0      0.2      data_class.xd = data_class.xd.astype(int)\n",
      "    35                                               \n",
      "    36         1        757.0    757.0      0.0      data_class.x = data.x \n",
      "    37         1       8711.0   8711.0      0.0      data_class.dk = (data.d == 0)\n",
      "    38         1      23941.0  23941.0      0.0      data_class.dr = (data.d == 1)\n",
      "    39                                           \n",
      "    40         1         61.0     61.0      0.0      data = data_class\n",
      "    41                                           \n",
      "    42                                               # Step 2: Estimate structual parameters \n",
      "    43         1         21.0     21.0      0.0      Nc = 2\n",
      "    44         1       4697.0   4697.0      0.0      J_pattern, _ = sparsity_pattern(Nc,model.n, len(model.p)+1)\n",
      "    45                                           \n",
      "    46                                               # bounds\n",
      "    47         1         97.0     97.0      0.0      lb = np.zeros((2+model.n))\n",
      "    48         1         36.0     36.0      0.0      ub = np.zeros((2+model.n))\n",
      "    49                                           \n",
      "    50                                               #bound on c and RC\n",
      "    51         1         28.0     28.0      0.0      lb[0] = 0\n",
      "    52         1         28.0     28.0      0.0      ub[0] = np.inf\n",
      "    53         1         17.0     17.0      0.0      lb[1] = 0\n",
      "    54         1         20.0     20.0      0.0      ub[1] = np.inf\n",
      "    55                                             \n",
      "    56                                           \n",
      "    57                                               # bounds on EV\n",
      "    58         1         45.0     45.0      0.0      lb[-(model.n):] = -5000\n",
      "    59         1         27.0     27.0      0.0      ub[-(model.n):] = 0\n",
      "    60                                           \n",
      "    61                                               # Define the objective functions and constraints\n",
      "    62         1         27.0     27.0      0.0      con_bell = lambda theta: con_bellman(theta,model,data, pnames) # Define constratint\n",
      "    63         1         24.0     24.0      0.0      con_Jac = lambda theta: constraint_jac(theta,model,data, pnames)\n",
      "    64         1        180.0    180.0      0.0      con_p_bellman = optimize.NonlinearConstraint(con_bell,0,0, jac = con_Jac, finite_diff_jac_sparsity = J_pattern) \n",
      "    65                                           \n",
      "    66         1        677.0    677.0      0.0      theta0 = np.append(theta0,-np.ones((model.n)))  \n",
      "    67         1   90322553.0 90322553.0     99.1      res = optimize.minimize(ll,theta0, args=(model,data, pnames), method='trust-constr', jac=True, hess = '2-point', constraints =con_p_bellman, bounds = optimize.Bounds(lb, ub),options={'initial_constr_penalty': 1, 'xtol': 1e-10,'gtol': 1e-10, 'sparse_jacobian': True}) \n",
      "    68                                            \n",
      "    69         1         40.0     40.0      0.0      theta_hat = res.x[0:2]\n",
      "    70                                           \n",
      "    71         1         12.0     12.0      0.0      return res, pnames, theta_hat\n",
      "\n",
      "Total time: 8.22902 s\n",
      "File: c:\\Users\\Asker\\OneDrive - Københavns Universitet\\Documents\\Uni\\10. semester\\Dynamic Programming\\dp_ucph\\2_dynamic_discrete_choice\\exercises\\work\\02_MPEC\\Estimate_MPEC_exante.py\n",
      "Function: ll at line 74\n",
      "\n",
      "Line #      Hits         Time  Per Hit   % Time  Line Contents\n",
      "==============================================================\n",
      "    74                                           def ll(theta,model,data,pnames,out=1):\n",
      "    75                                               \n",
      "    76                                               # Unpack\n",
      "    77       321       5068.0     15.8      0.0      x = data.x\n",
      "    78       321       2582.0      8.0      0.0      xd = data.xd\n",
      "    79       321       2295.0      7.1      0.0      dk = data.dk\n",
      "    80       321       2004.0      6.2      0.0      dr = data.dr\n",
      "    81                                               \n",
      "    82                                               # Update values\n",
      "    83       321       4296.0     13.4      0.0      model.RC = theta[0]\n",
      "    84       321       2187.0      6.8      0.0      model.c = theta[1] \n",
      "    85       321       4042.0     12.6      0.0      ev = theta[-model.n:] \n",
      "    86       321     931500.0   2901.9      1.1      model.create_grid()\n",
      "    87                                           \n",
      "    88                                               # Value of options:\n",
      "    89                                                \n",
      "    90       321      16074.0     50.1      0.0      value_keep = -model.cost + model.beta*ev\n",
      "    91       321       5983.0     18.6      0.0      value_replace = -model.RC - model.cost[0] + model.beta*ev[0]  \n",
      "    92                                           \n",
      "    93                                               # Evaluate the likelihood function \n",
      "    94       321      29501.0     91.9      0.0      pk = 1/(1+np.exp(value_replace-value_keep))\n",
      "    95                                           \n",
      "    96       321     627577.0   1955.1      0.8      lik_pr = pk[x]\n",
      "    97                                               \n",
      "    98       321       3094.0      9.6      0.0      if out == 2:\n",
      "    99                                                   return model, lik_pr\n",
      "   100                                           \n",
      "   101       321    5662094.0  17638.9      6.9      log_lik = np.log(data.dk*lik_pr+(1-lik_pr)*data.dr)\n",
      "   102       321     631482.0   1967.2      0.8      f = -np.mean(log_lik)\n",
      "   103                                           \n",
      "   104                                           \n",
      "   105                                               # GRADIENT    \n",
      "   106       321    1163966.0   3626.1      1.4      res = np.array(lik_pr-data.dk)\n",
      "   107       321      14217.0     44.3      0.0      g = np.zeros((2+model.n))\n",
      "   108       321     207649.0    646.9      0.3      g[0] = - np.mean(res)    # RC\n",
      "   109       321    1270717.0   3958.6      1.5      g[1] =  np.mean(res*(model.dc[data.x]-model.dc[0]))  #c\n",
      "   110       321     490433.0   1527.8      0.6      g[2] = - (model.beta * np.mean(res*(data.xd[0,:]-1)) ) # ev(0) xd[:,0]-1\n",
      "   111       321       3163.0      9.9      0.0      NT = res.size\n",
      "   112       321   71196561.0 221796.1     86.5      g[3:] = -model.beta*np.sum(np.multiply(data.xd[1:,:],res),1)/NT\n",
      "   113                                           \n",
      "   114       321      13698.0     42.7      0.0      return f, -g\n",
      "\n",
      "Total time: 0.012504 s\n",
      "File: c:\\Users\\Asker\\OneDrive - Københavns Universitet\\Documents\\Uni\\10. semester\\Dynamic Programming\\dp_ucph\\2_dynamic_discrete_choice\\exercises\\work\\02_MPEC\\Estimate_MPEC_exante.py\n",
      "Function: con_bellman at line 116\n",
      "\n",
      "Line #      Hits         Time  Per Hit   % Time  Line Contents\n",
      "==============================================================\n",
      "   116                                           def con_bellman(theta, model, data, pnames, out=1):\n",
      "   117                                               \n",
      "   118                                               # Update parameters\n",
      "   119       154       2845.0     18.5      2.3      ev0 = theta[-model.n:]\n",
      "   120                                           \n",
      "   121       154     119831.0    778.1     95.8      ev1, pk, dev = model.bellman(ev0=ev0,output=3)\n",
      "   122                                               \n",
      "   123       154       1157.0      7.5      0.9      if out ==2:\n",
      "   124        77        251.0      3.3      0.2          return pk, dev\n",
      "   125                                           \n",
      "   126        77        956.0     12.4      0.8      return ev1-ev0\n",
      "\n",
      "Total time: 0.0126029 s\n",
      "File: c:\\Users\\Asker\\OneDrive - Københavns Universitet\\Documents\\Uni\\10. semester\\Dynamic Programming\\dp_ucph\\2_dynamic_discrete_choice\\exercises\\work\\02_MPEC\\Estimate_MPEC_exante.py\n",
      "Function: constraint_jac at line 128\n",
      "\n",
      "Line #      Hits         Time  Per Hit   % Time  Line Contents\n",
      "==============================================================\n",
      "   128                                           def constraint_jac(theta, model, data, pnames):\n",
      "   129                                               \n",
      "   130        77      76863.0    998.2     61.0      pk,dev = con_bellman(theta, model, data, pnames, out=2)\n",
      "   131        77       3730.0     48.4      3.0      DCeq = np.zeros((model.n,2+model.n))\n",
      "   132        77       8109.0    105.3      6.4      DCeq[:,0] = - model.P1 @(1-pk) \n",
      "   133        77       8772.0    113.9      7.0      DCeq[:,1] = -model.P1@(pk*(model.dc-model.dc[0]))\n",
      "   134        77      28162.0    365.7     22.3      DCeq[:,-model.n:] = dev-np.identity(model.n)\n",
      "   135                                           \n",
      "   136        77        393.0      5.1      0.3      return DCeq"
     ]
    }
   ],
   "source": [
    "%lprun -f estimate_MPEC.ll  -f estimate_MPEC.estimate -f estimate_MPEC.con_bellman -f estimate_MPEC.constraint_jac estimate_MPEC.estimate(model,data,theta0=theta0, twostep=1)"
   ]
  },
  {
   "cell_type": "markdown",
   "metadata": {},
   "source": [
    "#### 5. Compare NFXP and MPEC:"
   ]
  },
  {
   "cell_type": "code",
   "execution_count": 6,
   "metadata": {},
   "outputs": [
    {
     "name": "stdout",
     "output_type": "stream",
     "text": [
      "Structual estimation using busdata from Rust(1987) \n",
      "\n",
      "MPEC\n",
      "Parameters     Estimates    s.e. \n",
      "RC             11.9833     \n",
      "c              2.5462      \n",
      " \n",
      "Log-likelihood -1896.19\n",
      "runtime (seconds) 9.2279\n",
      " \n",
      "\n",
      "NFXP\n",
      "Parameters     Estimates    s.e. \n",
      "RC             12.0888     0.8966      \n",
      "c              2.5873      0.3075       \n",
      " \n",
      "Log-likelihood -1896.18\n",
      "runtime (seconds) 0.3277\n"
     ]
    }
   ],
   "source": [
    "# Solve by NFXP\n",
    "model = zurcher(**do_settings)\n",
    "solver = solve_NFXP()\n",
    "\n",
    "\n",
    "t0 = time.time()\n",
    "nfxp_model, nfxp_results, pnames, theta_hat_NFXP, Avar_NFXP, converged=estimate_NFXP.estimate(model, solver, data, theta0=theta0, twostep=1)\n",
    "t1 = time.time()\n",
    "time_NFXP=t1-t0\n",
    "\n",
    "\n",
    "#compare the results \n",
    "print(f'Structual estimation using busdata from Rust(1987) \\n')\n",
    "\n",
    "print(f'MPEC')\n",
    "print(f'Parameters     Estimates    s.e. ') \n",
    "print(f'{pnames[0]}             {theta_hat_MPEC[0]:.4f}     ')\n",
    "print(f'{pnames[1]}              {theta_hat_MPEC[1]:.4f}      \\n ')\n",
    "\n",
    "\n",
    "print(f'Log-likelihood {-res_MPEC.fun*samplesize:.2f}')\n",
    "print(f'runtime (seconds) {time_MPEC:.4f}\\n \\n')\n",
    "\n",
    "\n",
    "print(f'NFXP')\n",
    "print(f'Parameters     Estimates    s.e. ') \n",
    "print(f'{pnames[0]}             {theta_hat_NFXP[0]:.4f}     {np.sqrt(Avar_NFXP[0,0]):.4f}      ')\n",
    "print(f'{pnames[1]}              {theta_hat_NFXP[1]:.4f}      {np.sqrt(Avar_NFXP[1,1]):.4f}       \\n ')\n",
    "\n",
    "\n",
    "print(f'Log-likelihood {-nfxp_results.fun*samplesize:.2f}')\n",
    "print(f'runtime (seconds) {time_NFXP:.4f}')"
   ]
  },
  {
   "cell_type": "markdown",
   "metadata": {},
   "source": [
    "(a) Compare the time of NFXP and the time of MPEC, and the time of NFXP and MPEC from the lecture. According to what you saw at the lectures the two methods should be comparable with regards to speed."
   ]
  },
  {
   "cell_type": "code",
   "execution_count": 7,
   "metadata": {},
   "outputs": [
    {
     "name": "stdout",
     "output_type": "stream",
     "text": [
      "Beta        = 0.9999\n",
      "n           = 90\n",
      "357 ms ± 10.8 ms per loop (mean ± std. dev. of 7 runs, 1 loop each)\n"
     ]
    }
   ],
   "source": [
    "print(f'Beta        = {model.beta:.4f}')\n",
    "print(f'n           = {model.n}')\n",
    "\n",
    "\n",
    "%timeit estimate_NFXP.estimate(model, solver, data, theta0=theta0, twostep=1)\n"
   ]
  },
  {
   "cell_type": "code",
   "execution_count": 9,
   "metadata": {},
   "outputs": [
    {
     "name": "stdout",
     "output_type": "stream",
     "text": [
      "7.21 s ± 61.9 ms per loop (mean ± std. dev. of 7 runs, 1 loop each)\n"
     ]
    }
   ],
   "source": [
    "%timeit estimate_MPEC.estimate(model,data,theta0=theta0, twostep=1)"
   ]
  },
  {
   "cell_type": "markdown",
   "metadata": {},
   "source": [
    "(b) Do we use analytical first-order derivatives? \n",
    "\n",
    "Yes\n",
    "\n",
    "(c) What about second-order derivatives? \n",
    "\n",
    "No\n",
    "\n",
    "(d) What do they do in Su and Judd (2012)? \n",
    "\n",
    "They do\n",
    "\n",
    "(e) Why is our implementation inefficient?\n",
    "\n",
    "Laziness\n",
    "\n",
    "Non-optimal solvers\n"
   ]
  },
  {
   "cell_type": "markdown",
   "metadata": {},
   "source": [
    "#### 5. How did we get our standard errors using NFXP? How would you calculate them using MPEC?"
   ]
  },
  {
   "cell_type": "markdown",
   "metadata": {},
   "source": [
    "From slides:\n",
    "\n",
    "MPEC: Standard errors can be computed inverting the bordered Hessian\n",
    "Reich and Judd (2019)"
   ]
  }
 ],
 "metadata": {
  "kernelspec": {
   "display_name": "Python 3",
   "language": "python",
   "name": "python3"
  },
  "language_info": {
   "codemirror_mode": {
    "name": "ipython",
    "version": 3
   },
   "file_extension": ".py",
   "mimetype": "text/x-python",
   "name": "python",
   "nbconvert_exporter": "python",
   "pygments_lexer": "ipython3",
   "version": "3.8.11"
  }
 },
 "nbformat": 4,
 "nbformat_minor": 4
}
