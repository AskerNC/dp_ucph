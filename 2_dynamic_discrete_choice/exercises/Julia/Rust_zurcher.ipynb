{
 "cells": [
  {
   "cell_type": "code",
   "execution_count": 1,
   "metadata": {},
   "outputs": [],
   "source": [
    "\n",
    "using Interpolations, Optim, MAT, SparseArrays, LinearAlgebra\n",
    "using LaTeXStrings\n",
    "#using Plots\n",
    "#pyplot();"
   ]
  },
  {
   "cell_type": "code",
   "execution_count": 18,
   "metadata": {},
   "outputs": [],
   "source": [
    "# using https://mark-ponder.com/tutorials/discrete-choice-models/dynamic-discrete-choice-nested-fixed-point-algorithm/\n",
    "using Revise\n",
    "includet(\"Rust_Zurcher.jl\")\n",
    "#include(\"Rust_Zurcher.jl\")\n",
    "using .Rust"
   ]
  },
  {
   "cell_type": "code",
   "execution_count": 35,
   "metadata": {},
   "outputs": [
    {
     "data": {
      "text/plain": [
       "Main.Rust.Model(0.9999, [2.45569, 0.5], [0.65, 0.2, 0.1, 0.05], [0.0; 0.0; … ; 0.0; 0.0], 12, 450, Main.Rust.Solution(\"\", Any[], Any[]), \n",
       " 0.65  0.2   0.1   0.05   ⋅     ⋅     ⋅     ⋅     ⋅     ⋅     ⋅     ⋅ \n",
       "  ⋅    0.65  0.2   0.1   0.05   ⋅     ⋅     ⋅     ⋅     ⋅     ⋅     ⋅ \n",
       "  ⋅     ⋅    0.65  0.2   0.1   0.05   ⋅     ⋅     ⋅     ⋅     ⋅     ⋅ \n",
       "  ⋅     ⋅     ⋅    0.65  0.2   0.1   0.05   ⋅     ⋅     ⋅     ⋅     ⋅ \n",
       "  ⋅     ⋅     ⋅     ⋅    0.65  0.2   0.1   0.05   ⋅     ⋅     ⋅     ⋅ \n",
       "  ⋅     ⋅     ⋅     ⋅     ⋅    0.65  0.2   0.1   0.05   ⋅     ⋅     ⋅ \n",
       "  ⋅     ⋅     ⋅     ⋅     ⋅     ⋅    0.65  0.2   0.1   0.05   ⋅     ⋅ \n",
       "  ⋅     ⋅     ⋅     ⋅     ⋅     ⋅     ⋅    0.65  0.2   0.1   0.05   ⋅ \n",
       "  ⋅     ⋅     ⋅     ⋅     ⋅     ⋅     ⋅     ⋅    0.65  0.2   0.1   0.05\n",
       "  ⋅     ⋅     ⋅     ⋅     ⋅     ⋅     ⋅     ⋅     ⋅    0.65  0.2   0.15\n",
       "  ⋅     ⋅     ⋅     ⋅     ⋅     ⋅     ⋅     ⋅     ⋅     ⋅    0.65  0.35\n",
       "  ⋅     ⋅     ⋅     ⋅     ⋅     ⋅     ⋅     ⋅     ⋅     ⋅     ⋅    1.0, \n",
       " 0.65  0.2  0.1  0.05   ⋅    ⋅    ⋅    ⋅    ⋅    ⋅    ⋅    ⋅ \n",
       " 0.65  0.2  0.1  0.05   ⋅    ⋅    ⋅    ⋅    ⋅    ⋅    ⋅    ⋅ \n",
       " 0.65  0.2  0.1  0.05   ⋅    ⋅    ⋅    ⋅    ⋅    ⋅    ⋅    ⋅ \n",
       " 0.65  0.2  0.1  0.05   ⋅    ⋅    ⋅    ⋅    ⋅    ⋅    ⋅    ⋅ \n",
       " 0.65  0.2  0.1  0.05   ⋅    ⋅    ⋅    ⋅    ⋅    ⋅    ⋅    ⋅ \n",
       " 0.65  0.2  0.1  0.05   ⋅    ⋅    ⋅    ⋅    ⋅    ⋅    ⋅    ⋅ \n",
       " 0.65  0.2  0.1  0.05   ⋅    ⋅    ⋅    ⋅    ⋅    ⋅    ⋅    ⋅ \n",
       " 0.65  0.2  0.1  0.05   ⋅    ⋅    ⋅    ⋅    ⋅    ⋅    ⋅    ⋅ \n",
       " 0.65  0.2  0.1  0.05   ⋅    ⋅    ⋅    ⋅    ⋅    ⋅    ⋅    ⋅ \n",
       " 0.65  0.2  0.1  0.05   ⋅    ⋅    ⋅    ⋅    ⋅    ⋅    ⋅    ⋅ \n",
       " 0.65  0.2  0.1  0.05   ⋅    ⋅    ⋅    ⋅    ⋅    ⋅    ⋅    ⋅ \n",
       " 0.65  0.2  0.1  0.05   ⋅    ⋅    ⋅    ⋅    ⋅    ⋅    ⋅    ⋅ )"
      ]
     },
     "metadata": {},
     "output_type": "display_data"
    }
   ],
   "source": [
    "#n =4\n",
    "#pi =[1/n for i in 1:n]\n",
    "m = Rust.Model(params= [2.45569, 0.5],π=[0.65,0.2,0.1,0.05],K=12)"
   ]
  },
  {
   "cell_type": "code",
   "execution_count": 36,
   "metadata": {},
   "outputs": [
    {
     "data": {
      "text/plain": [
       "2×12 Matrix{Float64}:\n",
       " -0.0  -0.00245569  -0.00491138  …  -0.0221012  -0.0245569  -0.0270126\n",
       " -0.5  -0.5         -0.5            -0.5        -0.5        -0.5"
      ]
     },
     "metadata": {},
     "output_type": "display_data"
    }
   ],
   "source": [
    "Rust.u(m)"
   ]
  },
  {
   "cell_type": "code",
   "execution_count": 49,
   "metadata": {},
   "outputs": [
    {
     "data": {
      "text/plain": [
       "([0.4732370165918194; 0.4717099382859585; … ; 0.4583325375088578; 0.4573486711604036], [0.6224593312018546; 0.6218820616281858; … ; 0.6166712533772477; 0.616090592102355])"
      ]
     },
     "metadata": {},
     "output_type": "display_data"
    }
   ],
   "source": [
    "B, pk= Rust.bellman(m;output=2)"
   ]
  },
  {
   "cell_type": "code",
   "execution_count": 55,
   "metadata": {},
   "outputs": [
    {
     "data": {
      "text/plain": [
       "1×12 transpose(::Matrix{Float64}) with eltype Float64:\n",
       " 0.622459  0.621882  0.621304  0.620726  …  0.617252  0.616671  0.616091"
      ]
     },
     "metadata": {},
     "output_type": "display_data"
    }
   ],
   "source": [
    "transpose(pk)"
   ]
  },
  {
   "cell_type": "code",
   "execution_count": 59,
   "metadata": {},
   "outputs": [
    {
     "data": {
      "text/plain": [
       "12×12 SparseMatrixCSC{Float64, Int64} with 42 stored entries:\n",
       " 0.404558  0.124364  0.0621242  0.0310332  …   ⋅          ⋅          ⋅ \n",
       "  ⋅        0.404183  0.124248   0.0620664      ⋅          ⋅          ⋅ \n",
       "  ⋅         ⋅        0.403808   0.124133       ⋅          ⋅          ⋅ \n",
       "  ⋅         ⋅         ⋅         0.403432       ⋅          ⋅          ⋅ \n",
       "  ⋅         ⋅         ⋅          ⋅             ⋅          ⋅          ⋅ \n",
       "  ⋅         ⋅         ⋅          ⋅         …   ⋅          ⋅          ⋅ \n",
       "  ⋅         ⋅         ⋅          ⋅            0.0308595   ⋅          ⋅ \n",
       "  ⋅         ⋅         ⋅          ⋅            0.061719   0.0308305   ⋅ \n",
       "  ⋅         ⋅         ⋅          ⋅            0.123438   0.061661   0.0308014\n",
       "  ⋅         ⋅         ⋅          ⋅            0.401173   0.123322   0.0924043\n",
       "  ⋅         ⋅         ⋅          ⋅         …   ⋅         0.400796   0.21561\n",
       "  ⋅         ⋅         ⋅          ⋅             ⋅          ⋅         0.616029"
      ]
     },
     "metadata": {},
     "output_type": "display_data"
    }
   ],
   "source": [
    "m.β .* m.P1 .* transpose(pk)"
   ]
  },
  {
   "cell_type": "code",
   "execution_count": 61,
   "metadata": {},
   "outputs": [
    {
     "data": {
      "text/plain": [
       "12×12 SparseMatrixCSC{Float64, Int64} with 53 stored entries:\n",
       " 0.782379  0.124364  0.0621242  0.0310332  …   ⋅          ⋅          ⋅ \n",
       " 0.378398  0.404183  0.124248   0.0620664      ⋅          ⋅          ⋅ \n",
       " 0.378976   ⋅        0.403808   0.124133       ⋅          ⋅          ⋅ \n",
       " 0.379554   ⋅         ⋅         0.403432       ⋅          ⋅          ⋅ \n",
       " 0.380132   ⋅         ⋅          ⋅             ⋅          ⋅          ⋅ \n",
       " 0.380711   ⋅         ⋅          ⋅         …   ⋅          ⋅          ⋅ \n",
       " 0.38129    ⋅         ⋅          ⋅            0.0308595   ⋅          ⋅ \n",
       " 0.381869   ⋅         ⋅          ⋅            0.061719   0.0308305   ⋅ \n",
       " 0.382449   ⋅         ⋅          ⋅            0.123438   0.061661   0.0308014\n",
       " 0.383      ⋅         ⋅          ⋅            0.401173   0.123322   0.0924043\n",
       " 0.383494   ⋅         ⋅          ⋅         …   ⋅         0.400796   0.21561\n",
       " 0.383871   ⋅         ⋅          ⋅             ⋅          ⋅         0.616029"
      ]
     },
     "metadata": {},
     "output_type": "display_data"
    }
   ],
   "source": [
    "Rust.dbellman(m,pk)"
   ]
  },
  {
   "cell_type": "code",
   "execution_count": null,
   "metadata": {},
   "outputs": [],
   "source": [
    "\n",
    "Rust.contraction_mapping(m)\n",
    "\n",
    "println(m.EV)"
   ]
  },
  {
   "cell_type": "code",
   "execution_count": null,
   "metadata": {},
   "outputs": [],
   "source": [
    "Rust.choice_p(m)'"
   ]
  },
  {
   "cell_type": "code",
   "execution_count": 10,
   "metadata": {},
   "outputs": [
    {
     "data": {
      "text/plain": [
       "12×12 transpose(::SparseMatrixCSC{Float64, Int64}) with eltype Float64:\n",
       " 0.65  0.0   0.0   0.0   0.0   0.0   0.0   0.0   0.0   0.0   0.0   0.0\n",
       " 0.2   0.65  0.0   0.0   0.0   0.0   0.0   0.0   0.0   0.0   0.0   0.0\n",
       " 0.1   0.2   0.65  0.0   0.0   0.0   0.0   0.0   0.0   0.0   0.0   0.0\n",
       " 0.05  0.1   0.2   0.65  0.0   0.0   0.0   0.0   0.0   0.0   0.0   0.0\n",
       " 0.0   0.05  0.1   0.2   0.65  0.0   0.0   0.0   0.0   0.0   0.0   0.0\n",
       " 0.0   0.0   0.05  0.1   0.2   0.65  0.0   0.0   0.0   0.0   0.0   0.0\n",
       " 0.0   0.0   0.0   0.05  0.1   0.2   0.65  0.0   0.0   0.0   0.0   0.0\n",
       " 0.0   0.0   0.0   0.0   0.05  0.1   0.2   0.65  0.0   0.0   0.0   0.0\n",
       " 0.0   0.0   0.0   0.0   0.0   0.05  0.1   0.2   0.65  0.0   0.0   0.0\n",
       " 0.0   0.0   0.0   0.0   0.0   0.0   0.05  0.1   0.2   0.65  0.0   0.0\n",
       " 0.0   0.0   0.0   0.0   0.0   0.0   0.0   0.05  0.1   0.2   0.65  0.0\n",
       " 0.0   0.0   0.0   0.0   0.0   0.0   0.0   0.0   0.05  0.15  0.35  1.0"
      ]
     },
     "metadata": {},
     "output_type": "display_data"
    }
   ],
   "source": [
    "transpose(m.P1)"
   ]
  },
  {
   "cell_type": "code",
   "execution_count": null,
   "metadata": {},
   "outputs": [],
   "source": [
    "## Data \n",
    "#rust_data = matread(dirname(pwd()) * \"\\\\zurcher_matlab\\\\busdata1234.mat\")\n",
    "# mat data version is too old "
   ]
  },
  {
   "cell_type": "code",
   "execution_count": null,
   "metadata": {},
   "outputs": [],
   "source": [
    "using MAT, DataFrames"
   ]
  },
  {
   "cell_type": "code",
   "execution_count": null,
   "metadata": {},
   "outputs": [],
   "source": [
    "#rust_data = matopen(dirname(pwd()) * \"\\\\zurcher_matlab\\\\busdata1234.mat\")\n",
    "rust_data = matread(pwd() * \"\\\\data\\\\zurcher.mat\")"
   ]
  },
  {
   "cell_type": "code",
   "execution_count": null,
   "metadata": {},
   "outputs": [],
   "source": [
    "df  = DataFrame(rust_data[\"data\"],:auto)\n",
    "#names!(df,[:id,:bustype,:d1,])\n",
    "column_dict = Dict(:x1=>:id, :x2 => :bustype, :x5 => :d1 , :x7=> :x )\n",
    "rename!(df,column_dict)\n",
    "df[1:10,:]"
   ]
  },
  {
   "cell_type": "code",
   "execution_count": null,
   "metadata": {},
   "outputs": [],
   "source": [
    "df = df[:,[x for x in values(column_dict)]]\n",
    "# turn lagged replacement dummy into replacement dummy\n",
    "df[:,:d] = [df[2:end,:d1] ; 0 ]; \n",
    "df[1:10,:]"
   ]
  },
  {
   "cell_type": "code",
   "execution_count": null,
   "metadata": {},
   "outputs": [],
   "source": [
    "df[1:end-1,:id]"
   ]
  },
  {
   "cell_type": "code",
   "execution_count": null,
   "metadata": {},
   "outputs": [],
   "source": [
    "rd  = Rust.Data(df,m)"
   ]
  },
  {
   "cell_type": "code",
   "execution_count": null,
   "metadata": {},
   "outputs": [],
   "source": [
    "sum(rd.exog .== 0)"
   ]
  },
  {
   "cell_type": "code",
   "execution_count": null,
   "metadata": {},
   "outputs": [],
   "source": [
    "optimum = Rust.ll(m,rd)"
   ]
  },
  {
   "cell_type": "code",
   "execution_count": null,
   "metadata": {},
   "outputs": [],
   "source": [
    "m.sol.params"
   ]
  },
  {
   "cell_type": "code",
   "execution_count": null,
   "metadata": {},
   "outputs": [],
   "source": [
    "Rust.inference(m,rd)"
   ]
  },
  {
   "cell_type": "code",
   "execution_count": null,
   "metadata": {},
   "outputs": [],
   "source": []
  }
 ],
 "metadata": {
  "interpreter": {
   "hash": "e90328b320edd634a3d1842b892822665d06fc9bfbca35b4b1303ad10512bd5c"
  },
  "kernelspec": {
   "display_name": "Julia 1.6.4",
   "language": "julia",
   "name": "julia-1.6"
  },
  "language_info": {
   "file_extension": ".jl",
   "mimetype": "application/julia",
   "name": "julia",
   "version": "1.6.4"
  },
  "orig_nbformat": 4
 },
 "nbformat": 4,
 "nbformat_minor": 2
}
